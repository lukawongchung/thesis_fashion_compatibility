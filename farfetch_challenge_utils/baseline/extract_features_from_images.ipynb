{
 "cells": [
  {
   "cell_type": "markdown",
   "metadata": {},
   "source": [
    "This script is an example of how you could generate features from the product images. It also shows a simple way to read the images using ImageReader class.\n",
    "\n",
    "Here, we're using the last layer of a convolutional network named Resnet50 as the representatiion of the products.\n",
    "To run this script you need tensorflow instaled on you env, as well as, the numpy, pandas and PIL packages.\n",
    "\n",
    "In order to this script to work, we supose that the dataset images folder was unpacked in ../data/images\n",
    "\n",
    "This code could take some hours to run depending if you are using CPU or GPU."
   ]
  },
  {
   "cell_type": "code",
   "execution_count": 2,
   "metadata": {},
   "outputs": [
    {
     "name": "stdout",
     "output_type": "stream",
     "text": [
      "2022-05-15 11:56:33.319306\n"
     ]
    }
   ],
   "source": [
    "import datetimeprint(list())\n",
    "print(datetime.datetime.now())"
   ]
  },
  {
   "cell_type": "code",
   "execution_count": 3,
   "metadata": {},
   "outputs": [],
   "source": [
    "import os\n",
    "import time\n",
    "from pathlib import Path\n",
    "from typing import Any, Dict, Set, Tuple, Union, List\n",
    "\n",
    "import numpy as np\n",
    "import pandas as pd\n",
    "from PIL import UnidentifiedImageError\n",
    "from tensorflow.keras.preprocessing import image\n",
    "from tensorflow.keras.preprocessing.image import img_to_array\n",
    "\n",
    "IMAGES_ROOT_PATH = \"../data/images\"\n",
    "\n",
    "class ImageReader:\n",
    "    \"\"\"Load product images from the uncompressed dir you downloaded the images file.\"\"\"\n",
    "\n",
    "    def __init__(self, images_root_path=IMAGES_ROOT_PATH, items_metadata=\"../data/products.parquet\"):\n",
    "        self._images_root_path = images_root_path\n",
    "        self.image_size = (224, 224)\n",
    "        if not Path(images_root_path).exists():\n",
    "            raise ValueError(f\"Path {images_root_path} does not exist\")\n",
    "        self.products_image_path = self._load_products_image_path(images_root_path, items_metadata)\n",
    "        \n",
    "    def _load_products_image_path(self, images_root_path: str, items_metadata: str):\n",
    "        items_metadata = pd.read_parquet(items_metadata)\n",
    "        return {\n",
    "            product_id: f\"{images_root_path}/{path}\"\n",
    "            for product_id, path in zip(items_metadata[\"product_id\"], items_metadata[\"product_image_path\"])\n",
    "        }\n",
    "\n",
    "    def exists(self, product_id: int) -> bool:\n",
    "        \"\"\"Verify that the cache has the given product ID.\n",
    "        Args:\n",
    "            product_id: int that represents the product id\n",
    "        Returns: True if the product id is on cache.\n",
    "        \"\"\"\n",
    "        path = self._local_image_path(product_id=product_id)\n",
    "        return os.path.exists(path)\n",
    "\n",
    "    def get(self, product_id: int, target_size: Tuple[int, int]) -> bytearray:\n",
    "        \"\"\"Get the image corresponding to the given product ID.\n",
    "        Args:\n",
    "            product_id: int that represents the product id\n",
    "            target_size: Tuple[int, int] of the returned image\n",
    "        Returns: bytearray representing the image.\n",
    "        \"\"\"\n",
    "        path = self._local_image_path(product_id=product_id)\n",
    "        try:\n",
    "            img = image.load_img(path=path, target_size=target_size)\n",
    "            return img\n",
    "        except UnidentifiedImageError as image_error:\n",
    "            print(f\"error opening {path}\")\n",
    "            raise ValueError(image_error) from image_error\n",
    "        except FileNotFoundError as image_error:\n",
    "            print(f\"FileNotFoundError {path}\")\n",
    "            raise ValueError(image_error) from image_error\n",
    "    \n",
    "    def get_batch(self, product_ids: List[int]):\n",
    "        images = []\n",
    "        products_with_images = []\n",
    "        for product_id in product_ids:\n",
    "            try:\n",
    "                image = self.get(\n",
    "                    product_id=product_id,\n",
    "                    target_size=self.image_size,\n",
    "                )\n",
    "                image = img_to_array(image)\n",
    "                images.append(image)\n",
    "                products_with_images.append(product_id)\n",
    "            except (IOError, ValueError) as ex:\n",
    "                pass\n",
    "        \n",
    "        return np.stack(images), products_with_images\n",
    "\n",
    "    def _local_image_path(\n",
    "        self, product_id: Union[int, np.int64]\n",
    "    ) -> Path:\n",
    "        return self.products_image_path.get(product_id)\n",
    "    \n",
    "    def get_product_ids(self) -> List[int]:\n",
    "        return list(self.products_image_path.keys())"
   ]
  },
  {
   "cell_type": "code",
   "execution_count": 4,
   "metadata": {},
   "outputs": [],
   "source": [
    "from tensorflow.keras import Sequential\n",
    "from tensorflow.keras.applications.resnet50 import ResNet50, preprocess_input\n",
    "from tensorflow.keras.layers import Flatten\n",
    "\n",
    "def get_cnn_model(image_size):\n",
    "    resnet50 = Sequential()\n",
    "    resnet50.add(\n",
    "        ResNet50(\n",
    "            input_shape=image_size,\n",
    "            include_top=False,\n",
    "            weights=\"imagenet\",\n",
    "            pooling=\"avg\",\n",
    "        )\n",
    "    )\n",
    "    resnet50.add(Flatten())\n",
    "    return resnet50\n",
    "\n",
    "def batch_predict(resnet50: Sequential, cache: ImageReader):\n",
    "    product_ids = cache.get_product_ids()\n",
    "    product_ids_with_embeddings = []\n",
    "    product_embeddings = []\n",
    "    for i in range(0, len(product_ids), 128):\n",
    "        batch = product_ids[i: i+128]\n",
    "        try:\n",
    "            batch_images, batch_product_ids = cache.get_batch(batch)\n",
    "            batch_images = preprocess_input(batch_images)\n",
    "            batch_predictions = resnet50.predict(batch_images)\n",
    "            product_embeddings.append(batch_predictions)\n",
    "            product_ids_with_embeddings += batch_product_ids\n",
    "        except ValueError:\n",
    "            pass\n",
    "    return product_ids_with_embeddings, np.vstack(product_embeddings)"
   ]
  },
  {
   "cell_type": "code",
   "execution_count": 5,
   "metadata": {},
   "outputs": [
    {
     "name": "stdout",
     "output_type": "stream",
     "text": [
      "Defaulting to user installation because normal site-packages is not writeable\n",
      "Requirement already satisfied: fastparquet in /home/lukawc/.local/lib/python3.9/site-packages (0.8.1)\n",
      "Requirement already satisfied: numpy>=1.18 in /sara/eb/AVX2/Debian10/EB_production/2021/software/SciPy-bundle/2021.05-foss-2021a/lib/python3.9/site-packages (from fastparquet) (1.20.3)\n",
      "Requirement already satisfied: cramjam>=2.3.0 in /home/lukawc/.local/lib/python3.9/site-packages (from fastparquet) (2.5.0)\n",
      "Requirement already satisfied: fsspec in /sara/eb/AVX2/Debian10/EB_production/2021/software/Python/3.9.5-GCCcore-10.3.0/lib/python3.9/site-packages (from fastparquet) (2021.4.0)\n",
      "Requirement already satisfied: pandas>=1.1.0 in /sara/eb/AVX2/Debian10/EB_production/2021/software/SciPy-bundle/2021.05-foss-2021a/lib/python3.9/site-packages (from fastparquet) (1.2.4)\n",
      "Requirement already satisfied: pytz>=2017.3 in /sara/eb/AVX2/Debian10/EB_production/2021/software/Python/3.9.5-GCCcore-10.3.0/lib/python3.9/site-packages (from pandas>=1.1.0->fastparquet) (2021.1)\n",
      "Requirement already satisfied: python-dateutil>=2.7.3 in /sara/eb/AVX2/Debian10/EB_production/2021/software/Python/3.9.5-GCCcore-10.3.0/lib/python3.9/site-packages (from pandas>=1.1.0->fastparquet) (2.8.1)\n",
      "Requirement already satisfied: six>=1.5 in /sara/eb/AVX2/Debian10/EB_production/2021/software/Python/3.9.5-GCCcore-10.3.0/lib/python3.9/site-packages (from python-dateutil>=2.7.3->pandas>=1.1.0->fastparquet) (1.16.0)\n",
      "\u001b[33mWARNING: You are using pip version 21.1.1; however, version 22.1 is available.\n",
      "You should consider upgrading via the '/sw/arch/Debian10/EB_production/2021/software/Python/3.9.5-GCCcore-10.3.0/bin/python3.9 -m pip install --upgrade pip' command.\u001b[0m\n",
      "Note: you may need to restart the kernel to use updated packages.\n"
     ]
    }
   ],
   "source": [
    "pip install fastparquet"
   ]
  },
  {
   "cell_type": "code",
   "execution_count": 6,
   "metadata": {},
   "outputs": [],
   "source": [
    "cache = ImageReader()"
   ]
  },
  {
   "cell_type": "code",
   "execution_count": 16,
   "metadata": {},
   "outputs": [
    {
     "name": "stdout",
     "output_type": "stream",
     "text": [
      "[17073270, 17674562, 17678603, 17179699, 15907453, 15929596, 16199541, 16267399, 16271822, 16317754]\n"
     ]
    }
   ],
   "source": [
    "print(cache.get_product_ids()[:10])"
   ]
  },
  {
   "cell_type": "code",
   "execution_count": 4,
   "metadata": {},
   "outputs": [
    {
     "name": "stderr",
     "output_type": "stream",
     "text": [
      "2022-05-04 10:09:17.533676: I tensorflow/core/platform/cpu_feature_guard.cc:142] This TensorFlow binary is optimized with oneAPI Deep Neural Network Library (oneDNN) to use the following CPU instructions in performance-critical operations:  AVX512F\n",
      "To enable them in other operations, rebuild TensorFlow with the appropriate compiler flags.\n",
      "2022-05-04 10:09:19.007191: I tensorflow/core/common_runtime/gpu/gpu_device.cc:1510] Created device /job:localhost/replica:0/task:0/device:GPU:0 with 10437 MB memory:  -> device: 0, name: NVIDIA GeForce GTX 1080 Ti, pci bus id: 0000:b1:00.0, compute capability: 6.1\n",
      "2022-05-04 10:09:19.013623: I tensorflow/core/common_runtime/process_util.cc:146] Creating new thread pool with default inter op setting: 2. Tune using inter_op_parallelism_threads for best performance.\n"
     ]
    },
    {
     "name": "stdout",
     "output_type": "stream",
     "text": [
      "Downloading data from https://storage.googleapis.com/tensorflow/keras-applications/resnet/resnet50_weights_tf_dim_ordering_tf_kernels_notop.h5\n",
      "94773248/94765736 [==============================] - 1s 0us/step\n",
      "94781440/94765736 [==============================] - 1s 0us/step\n"
     ]
    },
    {
     "name": "stderr",
     "output_type": "stream",
     "text": [
      "2022-05-04 10:09:23.770219: I tensorflow/compiler/mlir/mlir_graph_optimization_pass.cc:185] None of the MLIR Optimization Passes are enabled (registered 2)\n",
      "2022-05-04 10:09:26.051403: I tensorflow/stream_executor/cuda/cuda_dnn.cc:369] Loaded cuDNN version 8201\n"
     ]
    }
   ],
   "source": [
    "cache = ImageReader()\n",
    "resnet50 = get_cnn_model(image_size=(*cache.image_size, 3))\n",
    "\n",
    "product_ids_with_embeddings, product_embeddings = batch_predict(resnet50, cache)\n",
    "embeddings = pd.DataFrame(\n",
    "    product_embeddings,\n",
    "    columns=[f\"embedding_{x}\" for x in range(product_embeddings.shape[1])],\n",
    ")\n",
    "embeddings[\"product_id\"] = product_ids_with_embeddings"
   ]
  },
  {
   "cell_type": "code",
   "execution_count": 5,
   "metadata": {},
   "outputs": [
    {
     "data": {
      "text/html": [
       "<div>\n",
       "<style scoped>\n",
       "    .dataframe tbody tr th:only-of-type {\n",
       "        vertical-align: middle;\n",
       "    }\n",
       "\n",
       "    .dataframe tbody tr th {\n",
       "        vertical-align: top;\n",
       "    }\n",
       "\n",
       "    .dataframe thead th {\n",
       "        text-align: right;\n",
       "    }\n",
       "</style>\n",
       "<table border=\"1\" class=\"dataframe\">\n",
       "  <thead>\n",
       "    <tr style=\"text-align: right;\">\n",
       "      <th></th>\n",
       "      <th>embedding_0</th>\n",
       "      <th>embedding_1</th>\n",
       "      <th>embedding_2</th>\n",
       "      <th>embedding_3</th>\n",
       "      <th>embedding_4</th>\n",
       "      <th>embedding_5</th>\n",
       "      <th>embedding_6</th>\n",
       "      <th>embedding_7</th>\n",
       "      <th>embedding_8</th>\n",
       "      <th>embedding_9</th>\n",
       "      <th>...</th>\n",
       "      <th>embedding_2039</th>\n",
       "      <th>embedding_2040</th>\n",
       "      <th>embedding_2041</th>\n",
       "      <th>embedding_2042</th>\n",
       "      <th>embedding_2043</th>\n",
       "      <th>embedding_2044</th>\n",
       "      <th>embedding_2045</th>\n",
       "      <th>embedding_2046</th>\n",
       "      <th>embedding_2047</th>\n",
       "      <th>product_id</th>\n",
       "    </tr>\n",
       "  </thead>\n",
       "  <tbody>\n",
       "    <tr>\n",
       "      <th>0</th>\n",
       "      <td>0.433182</td>\n",
       "      <td>1.854443</td>\n",
       "      <td>0.090870</td>\n",
       "      <td>0.148389</td>\n",
       "      <td>0.071914</td>\n",
       "      <td>0.002903</td>\n",
       "      <td>0.257232</td>\n",
       "      <td>0.902542</td>\n",
       "      <td>0.040609</td>\n",
       "      <td>0.000000</td>\n",
       "      <td>...</td>\n",
       "      <td>0.000000</td>\n",
       "      <td>0.501384</td>\n",
       "      <td>0.117638</td>\n",
       "      <td>0.157475</td>\n",
       "      <td>0.614729</td>\n",
       "      <td>2.202477</td>\n",
       "      <td>0.002830</td>\n",
       "      <td>0.691712</td>\n",
       "      <td>0.820622</td>\n",
       "      <td>17073270</td>\n",
       "    </tr>\n",
       "    <tr>\n",
       "      <th>1</th>\n",
       "      <td>0.698827</td>\n",
       "      <td>3.723713</td>\n",
       "      <td>0.000000</td>\n",
       "      <td>0.206025</td>\n",
       "      <td>0.000000</td>\n",
       "      <td>0.262401</td>\n",
       "      <td>0.105127</td>\n",
       "      <td>0.183554</td>\n",
       "      <td>0.000000</td>\n",
       "      <td>0.000000</td>\n",
       "      <td>...</td>\n",
       "      <td>0.028635</td>\n",
       "      <td>0.000000</td>\n",
       "      <td>0.100318</td>\n",
       "      <td>0.022010</td>\n",
       "      <td>0.070894</td>\n",
       "      <td>0.319197</td>\n",
       "      <td>0.047758</td>\n",
       "      <td>0.985728</td>\n",
       "      <td>0.000000</td>\n",
       "      <td>17674562</td>\n",
       "    </tr>\n",
       "    <tr>\n",
       "      <th>2</th>\n",
       "      <td>0.269876</td>\n",
       "      <td>4.523061</td>\n",
       "      <td>0.242475</td>\n",
       "      <td>0.104104</td>\n",
       "      <td>0.000000</td>\n",
       "      <td>0.009380</td>\n",
       "      <td>0.018123</td>\n",
       "      <td>0.204233</td>\n",
       "      <td>0.000000</td>\n",
       "      <td>0.000000</td>\n",
       "      <td>...</td>\n",
       "      <td>0.275482</td>\n",
       "      <td>0.000000</td>\n",
       "      <td>0.126053</td>\n",
       "      <td>0.131009</td>\n",
       "      <td>0.073485</td>\n",
       "      <td>0.174457</td>\n",
       "      <td>0.052749</td>\n",
       "      <td>0.281184</td>\n",
       "      <td>0.341619</td>\n",
       "      <td>17678603</td>\n",
       "    </tr>\n",
       "    <tr>\n",
       "      <th>3</th>\n",
       "      <td>1.229910</td>\n",
       "      <td>2.637686</td>\n",
       "      <td>0.099903</td>\n",
       "      <td>0.062075</td>\n",
       "      <td>0.097474</td>\n",
       "      <td>0.010637</td>\n",
       "      <td>0.004436</td>\n",
       "      <td>1.193659</td>\n",
       "      <td>0.311293</td>\n",
       "      <td>0.000000</td>\n",
       "      <td>...</td>\n",
       "      <td>0.036052</td>\n",
       "      <td>0.019644</td>\n",
       "      <td>0.434100</td>\n",
       "      <td>0.088981</td>\n",
       "      <td>0.000000</td>\n",
       "      <td>0.355796</td>\n",
       "      <td>0.018523</td>\n",
       "      <td>0.671135</td>\n",
       "      <td>1.482252</td>\n",
       "      <td>17179699</td>\n",
       "    </tr>\n",
       "    <tr>\n",
       "      <th>4</th>\n",
       "      <td>1.002953</td>\n",
       "      <td>0.064150</td>\n",
       "      <td>0.000000</td>\n",
       "      <td>0.058865</td>\n",
       "      <td>0.970041</td>\n",
       "      <td>0.016875</td>\n",
       "      <td>0.287381</td>\n",
       "      <td>0.370938</td>\n",
       "      <td>0.000000</td>\n",
       "      <td>0.218199</td>\n",
       "      <td>...</td>\n",
       "      <td>0.000000</td>\n",
       "      <td>0.089278</td>\n",
       "      <td>0.092408</td>\n",
       "      <td>0.000000</td>\n",
       "      <td>1.029852</td>\n",
       "      <td>0.474000</td>\n",
       "      <td>0.002782</td>\n",
       "      <td>0.263994</td>\n",
       "      <td>0.391165</td>\n",
       "      <td>15907453</td>\n",
       "    </tr>\n",
       "  </tbody>\n",
       "</table>\n",
       "<p>5 rows × 2049 columns</p>\n",
       "</div>"
      ],
      "text/plain": [
       "   embedding_0  embedding_1  embedding_2  embedding_3  embedding_4  \\\n",
       "0     0.433182     1.854443     0.090870     0.148389     0.071914   \n",
       "1     0.698827     3.723713     0.000000     0.206025     0.000000   \n",
       "2     0.269876     4.523061     0.242475     0.104104     0.000000   \n",
       "3     1.229910     2.637686     0.099903     0.062075     0.097474   \n",
       "4     1.002953     0.064150     0.000000     0.058865     0.970041   \n",
       "\n",
       "   embedding_5  embedding_6  embedding_7  embedding_8  embedding_9  ...  \\\n",
       "0     0.002903     0.257232     0.902542     0.040609     0.000000  ...   \n",
       "1     0.262401     0.105127     0.183554     0.000000     0.000000  ...   \n",
       "2     0.009380     0.018123     0.204233     0.000000     0.000000  ...   \n",
       "3     0.010637     0.004436     1.193659     0.311293     0.000000  ...   \n",
       "4     0.016875     0.287381     0.370938     0.000000     0.218199  ...   \n",
       "\n",
       "   embedding_2039  embedding_2040  embedding_2041  embedding_2042  \\\n",
       "0        0.000000        0.501384        0.117638        0.157475   \n",
       "1        0.028635        0.000000        0.100318        0.022010   \n",
       "2        0.275482        0.000000        0.126053        0.131009   \n",
       "3        0.036052        0.019644        0.434100        0.088981   \n",
       "4        0.000000        0.089278        0.092408        0.000000   \n",
       "\n",
       "   embedding_2043  embedding_2044  embedding_2045  embedding_2046  \\\n",
       "0        0.614729        2.202477        0.002830        0.691712   \n",
       "1        0.070894        0.319197        0.047758        0.985728   \n",
       "2        0.073485        0.174457        0.052749        0.281184   \n",
       "3        0.000000        0.355796        0.018523        0.671135   \n",
       "4        1.029852        0.474000        0.002782        0.263994   \n",
       "\n",
       "   embedding_2047  product_id  \n",
       "0        0.820622    17073270  \n",
       "1        0.000000    17674562  \n",
       "2        0.341619    17678603  \n",
       "3        1.482252    17179699  \n",
       "4        0.391165    15907453  \n",
       "\n",
       "[5 rows x 2049 columns]"
      ]
     },
     "execution_count": 5,
     "metadata": {},
     "output_type": "execute_result"
    }
   ],
   "source": [
    "embeddings.head()"
   ]
  },
  {
   "cell_type": "code",
   "execution_count": 6,
   "metadata": {},
   "outputs": [
    {
     "ename": "OverflowError",
     "evalue": "value too large to convert to int",
     "output_type": "error",
     "traceback": [
      "\u001b[0;31m---------------------------------------------------------------------------\u001b[0m",
      "\u001b[0;31mOverflowError\u001b[0m                             Traceback (most recent call last)",
      "\u001b[0;31mOverflowError\u001b[0m: value too large to convert to int"
     ]
    },
    {
     "name": "stderr",
     "output_type": "stream",
     "text": [
      "Exception ignored in: 'fastparquet.cencoding.write_thrift'\n",
      "Traceback (most recent call last):\n",
      "  File \"/home/lukawc/.local/lib/python3.9/site-packages/fastparquet/writer.py\", line 894, in write_simple\n",
      "    foot_size = f.write(fmd.to_bytes())\n",
      "OverflowError: value too large to convert to int\n"
     ]
    },
    {
     "ename": "OverflowError",
     "evalue": "value too large to convert to int",
     "output_type": "error",
     "traceback": [
      "\u001b[0;31m---------------------------------------------------------------------------\u001b[0m",
      "\u001b[0;31mOverflowError\u001b[0m                             Traceback (most recent call last)",
      "\u001b[0;31mOverflowError\u001b[0m: value too large to convert to int"
     ]
    },
    {
     "name": "stderr",
     "output_type": "stream",
     "text": [
      "Exception ignored in: 'fastparquet.cencoding.write_thrift'\n",
      "Traceback (most recent call last):\n",
      "  File \"/home/lukawc/.local/lib/python3.9/site-packages/fastparquet/writer.py\", line 894, in write_simple\n",
      "    foot_size = f.write(fmd.to_bytes())\n",
      "OverflowError: value too large to convert to int\n"
     ]
    },
    {
     "ename": "OverflowError",
     "evalue": "value too large to convert to int",
     "output_type": "error",
     "traceback": [
      "\u001b[0;31m---------------------------------------------------------------------------\u001b[0m",
      "\u001b[0;31mOverflowError\u001b[0m                             Traceback (most recent call last)",
      "\u001b[0;31mOverflowError\u001b[0m: value too large to convert to int"
     ]
    },
    {
     "name": "stderr",
     "output_type": "stream",
     "text": [
      "Exception ignored in: 'fastparquet.cencoding.write_thrift'\n",
      "Traceback (most recent call last):\n",
      "  File \"/home/lukawc/.local/lib/python3.9/site-packages/fastparquet/writer.py\", line 894, in write_simple\n",
      "    foot_size = f.write(fmd.to_bytes())\n",
      "OverflowError: value too large to convert to int\n"
     ]
    },
    {
     "ename": "OverflowError",
     "evalue": "value too large to convert to int",
     "output_type": "error",
     "traceback": [
      "\u001b[0;31m---------------------------------------------------------------------------\u001b[0m",
      "\u001b[0;31mOverflowError\u001b[0m                             Traceback (most recent call last)",
      "\u001b[0;31mOverflowError\u001b[0m: value too large to convert to int"
     ]
    },
    {
     "name": "stderr",
     "output_type": "stream",
     "text": [
      "Exception ignored in: 'fastparquet.cencoding.write_thrift'\n",
      "Traceback (most recent call last):\n",
      "  File \"/home/lukawc/.local/lib/python3.9/site-packages/fastparquet/writer.py\", line 894, in write_simple\n",
      "    foot_size = f.write(fmd.to_bytes())\n",
      "OverflowError: value too large to convert to int\n"
     ]
    },
    {
     "ename": "OverflowError",
     "evalue": "value too large to convert to int",
     "output_type": "error",
     "traceback": [
      "\u001b[0;31m---------------------------------------------------------------------------\u001b[0m",
      "\u001b[0;31mOverflowError\u001b[0m                             Traceback (most recent call last)",
      "\u001b[0;31mOverflowError\u001b[0m: value too large to convert to int"
     ]
    },
    {
     "name": "stderr",
     "output_type": "stream",
     "text": [
      "Exception ignored in: 'fastparquet.cencoding.write_thrift'\n",
      "Traceback (most recent call last):\n",
      "  File \"/home/lukawc/.local/lib/python3.9/site-packages/fastparquet/writer.py\", line 894, in write_simple\n",
      "    foot_size = f.write(fmd.to_bytes())\n",
      "OverflowError: value too large to convert to int\n"
     ]
    },
    {
     "ename": "OverflowError",
     "evalue": "value too large to convert to int",
     "output_type": "error",
     "traceback": [
      "\u001b[0;31m---------------------------------------------------------------------------\u001b[0m",
      "\u001b[0;31mOverflowError\u001b[0m                             Traceback (most recent call last)",
      "\u001b[0;31mOverflowError\u001b[0m: value too large to convert to int"
     ]
    },
    {
     "name": "stderr",
     "output_type": "stream",
     "text": [
      "Exception ignored in: 'fastparquet.cencoding.write_thrift'\n",
      "Traceback (most recent call last):\n",
      "  File \"/home/lukawc/.local/lib/python3.9/site-packages/fastparquet/writer.py\", line 894, in write_simple\n",
      "    foot_size = f.write(fmd.to_bytes())\n",
      "OverflowError: value too large to convert to int\n"
     ]
    },
    {
     "ename": "OverflowError",
     "evalue": "value too large to convert to int",
     "output_type": "error",
     "traceback": [
      "\u001b[0;31m---------------------------------------------------------------------------\u001b[0m",
      "\u001b[0;31mOverflowError\u001b[0m                             Traceback (most recent call last)",
      "\u001b[0;31mOverflowError\u001b[0m: value too large to convert to int"
     ]
    },
    {
     "name": "stderr",
     "output_type": "stream",
     "text": [
      "Exception ignored in: 'fastparquet.cencoding.write_thrift'\n",
      "Traceback (most recent call last):\n",
      "  File \"/home/lukawc/.local/lib/python3.9/site-packages/fastparquet/writer.py\", line 894, in write_simple\n",
      "    foot_size = f.write(fmd.to_bytes())\n",
      "OverflowError: value too large to convert to int\n"
     ]
    },
    {
     "ename": "OverflowError",
     "evalue": "value too large to convert to int",
     "output_type": "error",
     "traceback": [
      "\u001b[0;31m---------------------------------------------------------------------------\u001b[0m",
      "\u001b[0;31mOverflowError\u001b[0m                             Traceback (most recent call last)",
      "\u001b[0;31mOverflowError\u001b[0m: value too large to convert to int"
     ]
    },
    {
     "name": "stderr",
     "output_type": "stream",
     "text": [
      "Exception ignored in: 'fastparquet.cencoding.write_thrift'\n",
      "Traceback (most recent call last):\n",
      "  File \"/home/lukawc/.local/lib/python3.9/site-packages/fastparquet/writer.py\", line 894, in write_simple\n",
      "    foot_size = f.write(fmd.to_bytes())\n",
      "OverflowError: value too large to convert to int\n"
     ]
    },
    {
     "ename": "OverflowError",
     "evalue": "value too large to convert to int",
     "output_type": "error",
     "traceback": [
      "\u001b[0;31m---------------------------------------------------------------------------\u001b[0m",
      "\u001b[0;31mOverflowError\u001b[0m                             Traceback (most recent call last)",
      "\u001b[0;31mOverflowError\u001b[0m: value too large to convert to int"
     ]
    },
    {
     "name": "stderr",
     "output_type": "stream",
     "text": [
      "Exception ignored in: 'fastparquet.cencoding.write_thrift'\n",
      "Traceback (most recent call last):\n",
      "  File \"/home/lukawc/.local/lib/python3.9/site-packages/fastparquet/writer.py\", line 894, in write_simple\n",
      "    foot_size = f.write(fmd.to_bytes())\n",
      "OverflowError: value too large to convert to int\n"
     ]
    },
    {
     "ename": "OverflowError",
     "evalue": "value too large to convert to int",
     "output_type": "error",
     "traceback": [
      "\u001b[0;31m---------------------------------------------------------------------------\u001b[0m",
      "\u001b[0;31mOverflowError\u001b[0m                             Traceback (most recent call last)",
      "\u001b[0;31mOverflowError\u001b[0m: value too large to convert to int"
     ]
    },
    {
     "name": "stderr",
     "output_type": "stream",
     "text": [
      "Exception ignored in: 'fastparquet.cencoding.write_thrift'\n",
      "Traceback (most recent call last):\n",
      "  File \"/home/lukawc/.local/lib/python3.9/site-packages/fastparquet/writer.py\", line 894, in write_simple\n",
      "    foot_size = f.write(fmd.to_bytes())\n",
      "OverflowError: value too large to convert to int\n"
     ]
    },
    {
     "ename": "OverflowError",
     "evalue": "value too large to convert to int",
     "output_type": "error",
     "traceback": [
      "\u001b[0;31m---------------------------------------------------------------------------\u001b[0m",
      "\u001b[0;31mOverflowError\u001b[0m                             Traceback (most recent call last)",
      "\u001b[0;31mOverflowError\u001b[0m: value too large to convert to int"
     ]
    },
    {
     "name": "stderr",
     "output_type": "stream",
     "text": [
      "Exception ignored in: 'fastparquet.cencoding.write_thrift'\n",
      "Traceback (most recent call last):\n",
      "  File \"/home/lukawc/.local/lib/python3.9/site-packages/fastparquet/writer.py\", line 894, in write_simple\n",
      "    foot_size = f.write(fmd.to_bytes())\n",
      "OverflowError: value too large to convert to int\n"
     ]
    },
    {
     "ename": "OverflowError",
     "evalue": "value too large to convert to int",
     "output_type": "error",
     "traceback": [
      "\u001b[0;31m---------------------------------------------------------------------------\u001b[0m",
      "\u001b[0;31mOverflowError\u001b[0m                             Traceback (most recent call last)",
      "\u001b[0;31mOverflowError\u001b[0m: value too large to convert to int"
     ]
    },
    {
     "name": "stderr",
     "output_type": "stream",
     "text": [
      "Exception ignored in: 'fastparquet.cencoding.write_thrift'\n",
      "Traceback (most recent call last):\n",
      "  File \"/home/lukawc/.local/lib/python3.9/site-packages/fastparquet/writer.py\", line 894, in write_simple\n",
      "    foot_size = f.write(fmd.to_bytes())\n",
      "OverflowError: value too large to convert to int\n"
     ]
    },
    {
     "ename": "OverflowError",
     "evalue": "value too large to convert to int",
     "output_type": "error",
     "traceback": [
      "\u001b[0;31m---------------------------------------------------------------------------\u001b[0m",
      "\u001b[0;31mOverflowError\u001b[0m                             Traceback (most recent call last)",
      "\u001b[0;31mOverflowError\u001b[0m: value too large to convert to int"
     ]
    },
    {
     "name": "stderr",
     "output_type": "stream",
     "text": [
      "Exception ignored in: 'fastparquet.cencoding.write_thrift'\n",
      "Traceback (most recent call last):\n",
      "  File \"/home/lukawc/.local/lib/python3.9/site-packages/fastparquet/writer.py\", line 894, in write_simple\n",
      "    foot_size = f.write(fmd.to_bytes())\n",
      "OverflowError: value too large to convert to int\n"
     ]
    },
    {
     "ename": "OverflowError",
     "evalue": "value too large to convert to int",
     "output_type": "error",
     "traceback": [
      "\u001b[0;31m---------------------------------------------------------------------------\u001b[0m",
      "\u001b[0;31mOverflowError\u001b[0m                             Traceback (most recent call last)",
      "\u001b[0;31mOverflowError\u001b[0m: value too large to convert to int"
     ]
    },
    {
     "name": "stderr",
     "output_type": "stream",
     "text": [
      "Exception ignored in: 'fastparquet.cencoding.write_thrift'\n",
      "Traceback (most recent call last):\n",
      "  File \"/home/lukawc/.local/lib/python3.9/site-packages/fastparquet/writer.py\", line 894, in write_simple\n",
      "    foot_size = f.write(fmd.to_bytes())\n",
      "OverflowError: value too large to convert to int\n"
     ]
    },
    {
     "ename": "OverflowError",
     "evalue": "value too large to convert to int",
     "output_type": "error",
     "traceback": [
      "\u001b[0;31m---------------------------------------------------------------------------\u001b[0m",
      "\u001b[0;31mOverflowError\u001b[0m                             Traceback (most recent call last)",
      "\u001b[0;31mOverflowError\u001b[0m: value too large to convert to int"
     ]
    },
    {
     "name": "stderr",
     "output_type": "stream",
     "text": [
      "Exception ignored in: 'fastparquet.cencoding.write_thrift'\n",
      "Traceback (most recent call last):\n",
      "  File \"/home/lukawc/.local/lib/python3.9/site-packages/fastparquet/writer.py\", line 894, in write_simple\n",
      "    foot_size = f.write(fmd.to_bytes())\n",
      "OverflowError: value too large to convert to int\n"
     ]
    },
    {
     "ename": "OverflowError",
     "evalue": "value too large to convert to int",
     "output_type": "error",
     "traceback": [
      "\u001b[0;31m---------------------------------------------------------------------------\u001b[0m",
      "\u001b[0;31mOverflowError\u001b[0m                             Traceback (most recent call last)",
      "\u001b[0;31mOverflowError\u001b[0m: value too large to convert to int"
     ]
    },
    {
     "name": "stderr",
     "output_type": "stream",
     "text": [
      "Exception ignored in: 'fastparquet.cencoding.write_thrift'\n",
      "Traceback (most recent call last):\n",
      "  File \"/home/lukawc/.local/lib/python3.9/site-packages/fastparquet/writer.py\", line 894, in write_simple\n",
      "    foot_size = f.write(fmd.to_bytes())\n",
      "OverflowError: value too large to convert to int\n"
     ]
    },
    {
     "ename": "OverflowError",
     "evalue": "value too large to convert to int",
     "output_type": "error",
     "traceback": [
      "\u001b[0;31m---------------------------------------------------------------------------\u001b[0m",
      "\u001b[0;31mOverflowError\u001b[0m                             Traceback (most recent call last)",
      "\u001b[0;31mOverflowError\u001b[0m: value too large to convert to int"
     ]
    },
    {
     "name": "stderr",
     "output_type": "stream",
     "text": [
      "Exception ignored in: 'fastparquet.cencoding.write_thrift'\n",
      "Traceback (most recent call last):\n",
      "  File \"/home/lukawc/.local/lib/python3.9/site-packages/fastparquet/writer.py\", line 894, in write_simple\n",
      "    foot_size = f.write(fmd.to_bytes())\n",
      "OverflowError: value too large to convert to int\n"
     ]
    },
    {
     "ename": "OverflowError",
     "evalue": "value too large to convert to int",
     "output_type": "error",
     "traceback": [
      "\u001b[0;31m---------------------------------------------------------------------------\u001b[0m",
      "\u001b[0;31mOverflowError\u001b[0m                             Traceback (most recent call last)",
      "\u001b[0;31mOverflowError\u001b[0m: value too large to convert to int"
     ]
    },
    {
     "name": "stderr",
     "output_type": "stream",
     "text": [
      "Exception ignored in: 'fastparquet.cencoding.write_thrift'\n",
      "Traceback (most recent call last):\n",
      "  File \"/home/lukawc/.local/lib/python3.9/site-packages/fastparquet/writer.py\", line 894, in write_simple\n",
      "    foot_size = f.write(fmd.to_bytes())\n",
      "OverflowError: value too large to convert to int\n"
     ]
    },
    {
     "ename": "OverflowError",
     "evalue": "value too large to convert to int",
     "output_type": "error",
     "traceback": [
      "\u001b[0;31m---------------------------------------------------------------------------\u001b[0m",
      "\u001b[0;31mOverflowError\u001b[0m                             Traceback (most recent call last)",
      "\u001b[0;31mOverflowError\u001b[0m: value too large to convert to int"
     ]
    },
    {
     "name": "stderr",
     "output_type": "stream",
     "text": [
      "Exception ignored in: 'fastparquet.cencoding.write_thrift'\n",
      "Traceback (most recent call last):\n",
      "  File \"/home/lukawc/.local/lib/python3.9/site-packages/fastparquet/writer.py\", line 894, in write_simple\n",
      "    foot_size = f.write(fmd.to_bytes())\n",
      "OverflowError: value too large to convert to int\n"
     ]
    },
    {
     "ename": "OverflowError",
     "evalue": "value too large to convert to int",
     "output_type": "error",
     "traceback": [
      "\u001b[0;31m---------------------------------------------------------------------------\u001b[0m",
      "\u001b[0;31mOverflowError\u001b[0m                             Traceback (most recent call last)",
      "\u001b[0;31mOverflowError\u001b[0m: value too large to convert to int"
     ]
    },
    {
     "name": "stderr",
     "output_type": "stream",
     "text": [
      "Exception ignored in: 'fastparquet.cencoding.write_thrift'\n",
      "Traceback (most recent call last):\n",
      "  File \"/home/lukawc/.local/lib/python3.9/site-packages/fastparquet/writer.py\", line 894, in write_simple\n",
      "    foot_size = f.write(fmd.to_bytes())\n",
      "OverflowError: value too large to convert to int\n"
     ]
    },
    {
     "ename": "OverflowError",
     "evalue": "value too large to convert to int",
     "output_type": "error",
     "traceback": [
      "\u001b[0;31m---------------------------------------------------------------------------\u001b[0m",
      "\u001b[0;31mOverflowError\u001b[0m                             Traceback (most recent call last)",
      "\u001b[0;31mOverflowError\u001b[0m: value too large to convert to int"
     ]
    },
    {
     "name": "stderr",
     "output_type": "stream",
     "text": [
      "Exception ignored in: 'fastparquet.cencoding.write_thrift'\n",
      "Traceback (most recent call last):\n",
      "  File \"/home/lukawc/.local/lib/python3.9/site-packages/fastparquet/writer.py\", line 894, in write_simple\n",
      "    foot_size = f.write(fmd.to_bytes())\n",
      "OverflowError: value too large to convert to int\n"
     ]
    },
    {
     "ename": "OverflowError",
     "evalue": "value too large to convert to int",
     "output_type": "error",
     "traceback": [
      "\u001b[0;31m---------------------------------------------------------------------------\u001b[0m",
      "\u001b[0;31mOverflowError\u001b[0m                             Traceback (most recent call last)",
      "\u001b[0;31mOverflowError\u001b[0m: value too large to convert to int"
     ]
    },
    {
     "name": "stderr",
     "output_type": "stream",
     "text": [
      "Exception ignored in: 'fastparquet.cencoding.write_thrift'\n",
      "Traceback (most recent call last):\n",
      "  File \"/home/lukawc/.local/lib/python3.9/site-packages/fastparquet/writer.py\", line 894, in write_simple\n",
      "    foot_size = f.write(fmd.to_bytes())\n",
      "OverflowError: value too large to convert to int\n"
     ]
    },
    {
     "ename": "OverflowError",
     "evalue": "value too large to convert to int",
     "output_type": "error",
     "traceback": [
      "\u001b[0;31m---------------------------------------------------------------------------\u001b[0m",
      "\u001b[0;31mOverflowError\u001b[0m                             Traceback (most recent call last)",
      "\u001b[0;31mOverflowError\u001b[0m: value too large to convert to int"
     ]
    },
    {
     "name": "stderr",
     "output_type": "stream",
     "text": [
      "Exception ignored in: 'fastparquet.cencoding.write_thrift'\n",
      "Traceback (most recent call last):\n",
      "  File \"/home/lukawc/.local/lib/python3.9/site-packages/fastparquet/writer.py\", line 894, in write_simple\n",
      "    foot_size = f.write(fmd.to_bytes())\n",
      "OverflowError: value too large to convert to int\n"
     ]
    },
    {
     "ename": "OverflowError",
     "evalue": "value too large to convert to int",
     "output_type": "error",
     "traceback": [
      "\u001b[0;31m---------------------------------------------------------------------------\u001b[0m",
      "\u001b[0;31mOverflowError\u001b[0m                             Traceback (most recent call last)",
      "\u001b[0;31mOverflowError\u001b[0m: value too large to convert to int"
     ]
    },
    {
     "name": "stderr",
     "output_type": "stream",
     "text": [
      "Exception ignored in: 'fastparquet.cencoding.write_thrift'\n",
      "Traceback (most recent call last):\n",
      "  File \"/home/lukawc/.local/lib/python3.9/site-packages/fastparquet/writer.py\", line 894, in write_simple\n",
      "    foot_size = f.write(fmd.to_bytes())\n",
      "OverflowError: value too large to convert to int\n"
     ]
    },
    {
     "ename": "OverflowError",
     "evalue": "value too large to convert to int",
     "output_type": "error",
     "traceback": [
      "\u001b[0;31m---------------------------------------------------------------------------\u001b[0m",
      "\u001b[0;31mOverflowError\u001b[0m                             Traceback (most recent call last)",
      "\u001b[0;31mOverflowError\u001b[0m: value too large to convert to int"
     ]
    },
    {
     "name": "stderr",
     "output_type": "stream",
     "text": [
      "Exception ignored in: 'fastparquet.cencoding.write_thrift'\n",
      "Traceback (most recent call last):\n",
      "  File \"/home/lukawc/.local/lib/python3.9/site-packages/fastparquet/writer.py\", line 894, in write_simple\n",
      "    foot_size = f.write(fmd.to_bytes())\n",
      "OverflowError: value too large to convert to int\n"
     ]
    },
    {
     "ename": "OverflowError",
     "evalue": "value too large to convert to int",
     "output_type": "error",
     "traceback": [
      "\u001b[0;31m---------------------------------------------------------------------------\u001b[0m",
      "\u001b[0;31mOverflowError\u001b[0m                             Traceback (most recent call last)",
      "\u001b[0;31mOverflowError\u001b[0m: value too large to convert to int"
     ]
    },
    {
     "name": "stderr",
     "output_type": "stream",
     "text": [
      "Exception ignored in: 'fastparquet.cencoding.write_thrift'\n",
      "Traceback (most recent call last):\n",
      "  File \"/home/lukawc/.local/lib/python3.9/site-packages/fastparquet/writer.py\", line 894, in write_simple\n",
      "    foot_size = f.write(fmd.to_bytes())\n",
      "OverflowError: value too large to convert to int\n"
     ]
    },
    {
     "ename": "OverflowError",
     "evalue": "value too large to convert to int",
     "output_type": "error",
     "traceback": [
      "\u001b[0;31m---------------------------------------------------------------------------\u001b[0m",
      "\u001b[0;31mOverflowError\u001b[0m                             Traceback (most recent call last)",
      "\u001b[0;31mOverflowError\u001b[0m: value too large to convert to int"
     ]
    },
    {
     "name": "stderr",
     "output_type": "stream",
     "text": [
      "Exception ignored in: 'fastparquet.cencoding.write_thrift'\n",
      "Traceback (most recent call last):\n",
      "  File \"/home/lukawc/.local/lib/python3.9/site-packages/fastparquet/writer.py\", line 894, in write_simple\n",
      "    foot_size = f.write(fmd.to_bytes())\n",
      "OverflowError: value too large to convert to int\n"
     ]
    },
    {
     "ename": "OverflowError",
     "evalue": "value too large to convert to int",
     "output_type": "error",
     "traceback": [
      "\u001b[0;31m---------------------------------------------------------------------------\u001b[0m",
      "\u001b[0;31mOverflowError\u001b[0m                             Traceback (most recent call last)",
      "\u001b[0;31mOverflowError\u001b[0m: value too large to convert to int"
     ]
    },
    {
     "name": "stderr",
     "output_type": "stream",
     "text": [
      "Exception ignored in: 'fastparquet.cencoding.write_thrift'\n",
      "Traceback (most recent call last):\n",
      "  File \"/home/lukawc/.local/lib/python3.9/site-packages/fastparquet/writer.py\", line 894, in write_simple\n",
      "    foot_size = f.write(fmd.to_bytes())\n",
      "OverflowError: value too large to convert to int\n"
     ]
    },
    {
     "ename": "OverflowError",
     "evalue": "value too large to convert to int",
     "output_type": "error",
     "traceback": [
      "\u001b[0;31m---------------------------------------------------------------------------\u001b[0m",
      "\u001b[0;31mOverflowError\u001b[0m                             Traceback (most recent call last)",
      "\u001b[0;31mOverflowError\u001b[0m: value too large to convert to int"
     ]
    },
    {
     "name": "stderr",
     "output_type": "stream",
     "text": [
      "Exception ignored in: 'fastparquet.cencoding.write_thrift'\n",
      "Traceback (most recent call last):\n",
      "  File \"/home/lukawc/.local/lib/python3.9/site-packages/fastparquet/writer.py\", line 894, in write_simple\n",
      "    foot_size = f.write(fmd.to_bytes())\n",
      "OverflowError: value too large to convert to int\n"
     ]
    },
    {
     "ename": "OverflowError",
     "evalue": "value too large to convert to int",
     "output_type": "error",
     "traceback": [
      "\u001b[0;31m---------------------------------------------------------------------------\u001b[0m",
      "\u001b[0;31mOverflowError\u001b[0m                             Traceback (most recent call last)",
      "\u001b[0;31mOverflowError\u001b[0m: value too large to convert to int"
     ]
    },
    {
     "name": "stderr",
     "output_type": "stream",
     "text": [
      "Exception ignored in: 'fastparquet.cencoding.write_thrift'\n",
      "Traceback (most recent call last):\n",
      "  File \"/home/lukawc/.local/lib/python3.9/site-packages/fastparquet/writer.py\", line 894, in write_simple\n",
      "    foot_size = f.write(fmd.to_bytes())\n",
      "OverflowError: value too large to convert to int\n"
     ]
    },
    {
     "ename": "OverflowError",
     "evalue": "value too large to convert to int",
     "output_type": "error",
     "traceback": [
      "\u001b[0;31m---------------------------------------------------------------------------\u001b[0m",
      "\u001b[0;31mOverflowError\u001b[0m                             Traceback (most recent call last)",
      "\u001b[0;31mOverflowError\u001b[0m: value too large to convert to int"
     ]
    },
    {
     "name": "stderr",
     "output_type": "stream",
     "text": [
      "Exception ignored in: 'fastparquet.cencoding.write_thrift'\n",
      "Traceback (most recent call last):\n",
      "  File \"/home/lukawc/.local/lib/python3.9/site-packages/fastparquet/writer.py\", line 894, in write_simple\n",
      "    foot_size = f.write(fmd.to_bytes())\n",
      "OverflowError: value too large to convert to int\n"
     ]
    },
    {
     "ename": "OverflowError",
     "evalue": "value too large to convert to int",
     "output_type": "error",
     "traceback": [
      "\u001b[0;31m---------------------------------------------------------------------------\u001b[0m",
      "\u001b[0;31mOverflowError\u001b[0m                             Traceback (most recent call last)",
      "\u001b[0;31mOverflowError\u001b[0m: value too large to convert to int"
     ]
    },
    {
     "name": "stderr",
     "output_type": "stream",
     "text": [
      "Exception ignored in: 'fastparquet.cencoding.write_thrift'\n",
      "Traceback (most recent call last):\n",
      "  File \"/home/lukawc/.local/lib/python3.9/site-packages/fastparquet/writer.py\", line 894, in write_simple\n",
      "    foot_size = f.write(fmd.to_bytes())\n",
      "OverflowError: value too large to convert to int\n"
     ]
    },
    {
     "ename": "OverflowError",
     "evalue": "value too large to convert to int",
     "output_type": "error",
     "traceback": [
      "\u001b[0;31m---------------------------------------------------------------------------\u001b[0m",
      "\u001b[0;31mOverflowError\u001b[0m                             Traceback (most recent call last)",
      "\u001b[0;31mOverflowError\u001b[0m: value too large to convert to int"
     ]
    },
    {
     "name": "stderr",
     "output_type": "stream",
     "text": [
      "Exception ignored in: 'fastparquet.cencoding.write_thrift'\n",
      "Traceback (most recent call last):\n",
      "  File \"/home/lukawc/.local/lib/python3.9/site-packages/fastparquet/writer.py\", line 894, in write_simple\n",
      "    foot_size = f.write(fmd.to_bytes())\n",
      "OverflowError: value too large to convert to int\n"
     ]
    },
    {
     "ename": "OverflowError",
     "evalue": "value too large to convert to int",
     "output_type": "error",
     "traceback": [
      "\u001b[0;31m---------------------------------------------------------------------------\u001b[0m",
      "\u001b[0;31mOverflowError\u001b[0m                             Traceback (most recent call last)",
      "\u001b[0;31mOverflowError\u001b[0m: value too large to convert to int"
     ]
    },
    {
     "name": "stderr",
     "output_type": "stream",
     "text": [
      "Exception ignored in: 'fastparquet.cencoding.write_thrift'\n",
      "Traceback (most recent call last):\n",
      "  File \"/home/lukawc/.local/lib/python3.9/site-packages/fastparquet/writer.py\", line 894, in write_simple\n",
      "    foot_size = f.write(fmd.to_bytes())\n",
      "OverflowError: value too large to convert to int\n"
     ]
    },
    {
     "ename": "OverflowError",
     "evalue": "value too large to convert to int",
     "output_type": "error",
     "traceback": [
      "\u001b[0;31m---------------------------------------------------------------------------\u001b[0m",
      "\u001b[0;31mOverflowError\u001b[0m                             Traceback (most recent call last)",
      "\u001b[0;31mOverflowError\u001b[0m: value too large to convert to int"
     ]
    },
    {
     "name": "stderr",
     "output_type": "stream",
     "text": [
      "Exception ignored in: 'fastparquet.cencoding.write_thrift'\n",
      "Traceback (most recent call last):\n",
      "  File \"/home/lukawc/.local/lib/python3.9/site-packages/fastparquet/writer.py\", line 894, in write_simple\n",
      "    foot_size = f.write(fmd.to_bytes())\n",
      "OverflowError: value too large to convert to int\n"
     ]
    },
    {
     "ename": "OverflowError",
     "evalue": "value too large to convert to int",
     "output_type": "error",
     "traceback": [
      "\u001b[0;31m---------------------------------------------------------------------------\u001b[0m",
      "\u001b[0;31mOverflowError\u001b[0m                             Traceback (most recent call last)",
      "\u001b[0;31mOverflowError\u001b[0m: value too large to convert to int"
     ]
    },
    {
     "name": "stderr",
     "output_type": "stream",
     "text": [
      "Exception ignored in: 'fastparquet.cencoding.write_thrift'\n",
      "Traceback (most recent call last):\n",
      "  File \"/home/lukawc/.local/lib/python3.9/site-packages/fastparquet/writer.py\", line 894, in write_simple\n",
      "    foot_size = f.write(fmd.to_bytes())\n",
      "OverflowError: value too large to convert to int\n"
     ]
    },
    {
     "ename": "OverflowError",
     "evalue": "value too large to convert to int",
     "output_type": "error",
     "traceback": [
      "\u001b[0;31m---------------------------------------------------------------------------\u001b[0m",
      "\u001b[0;31mOverflowError\u001b[0m                             Traceback (most recent call last)",
      "\u001b[0;31mOverflowError\u001b[0m: value too large to convert to int"
     ]
    },
    {
     "name": "stderr",
     "output_type": "stream",
     "text": [
      "Exception ignored in: 'fastparquet.cencoding.write_thrift'\n",
      "Traceback (most recent call last):\n",
      "  File \"/home/lukawc/.local/lib/python3.9/site-packages/fastparquet/writer.py\", line 894, in write_simple\n",
      "    foot_size = f.write(fmd.to_bytes())\n",
      "OverflowError: value too large to convert to int\n"
     ]
    },
    {
     "ename": "OverflowError",
     "evalue": "value too large to convert to int",
     "output_type": "error",
     "traceback": [
      "\u001b[0;31m---------------------------------------------------------------------------\u001b[0m",
      "\u001b[0;31mOverflowError\u001b[0m                             Traceback (most recent call last)",
      "\u001b[0;31mOverflowError\u001b[0m: value too large to convert to int"
     ]
    },
    {
     "name": "stderr",
     "output_type": "stream",
     "text": [
      "Exception ignored in: 'fastparquet.cencoding.write_thrift'\n",
      "Traceback (most recent call last):\n",
      "  File \"/home/lukawc/.local/lib/python3.9/site-packages/fastparquet/writer.py\", line 894, in write_simple\n",
      "    foot_size = f.write(fmd.to_bytes())\n",
      "OverflowError: value too large to convert to int\n"
     ]
    },
    {
     "ename": "OverflowError",
     "evalue": "value too large to convert to int",
     "output_type": "error",
     "traceback": [
      "\u001b[0;31m---------------------------------------------------------------------------\u001b[0m",
      "\u001b[0;31mOverflowError\u001b[0m                             Traceback (most recent call last)",
      "\u001b[0;31mOverflowError\u001b[0m: value too large to convert to int"
     ]
    },
    {
     "name": "stderr",
     "output_type": "stream",
     "text": [
      "Exception ignored in: 'fastparquet.cencoding.write_thrift'\n",
      "Traceback (most recent call last):\n",
      "  File \"/home/lukawc/.local/lib/python3.9/site-packages/fastparquet/writer.py\", line 894, in write_simple\n",
      "    foot_size = f.write(fmd.to_bytes())\n",
      "OverflowError: value too large to convert to int\n"
     ]
    },
    {
     "ename": "OverflowError",
     "evalue": "value too large to convert to int",
     "output_type": "error",
     "traceback": [
      "\u001b[0;31m---------------------------------------------------------------------------\u001b[0m",
      "\u001b[0;31mOverflowError\u001b[0m                             Traceback (most recent call last)",
      "\u001b[0;31mOverflowError\u001b[0m: value too large to convert to int"
     ]
    },
    {
     "name": "stderr",
     "output_type": "stream",
     "text": [
      "Exception ignored in: 'fastparquet.cencoding.write_thrift'\n",
      "Traceback (most recent call last):\n",
      "  File \"/home/lukawc/.local/lib/python3.9/site-packages/fastparquet/writer.py\", line 894, in write_simple\n",
      "    foot_size = f.write(fmd.to_bytes())\n",
      "OverflowError: value too large to convert to int\n"
     ]
    },
    {
     "ename": "OverflowError",
     "evalue": "value too large to convert to int",
     "output_type": "error",
     "traceback": [
      "\u001b[0;31m---------------------------------------------------------------------------\u001b[0m",
      "\u001b[0;31mOverflowError\u001b[0m                             Traceback (most recent call last)",
      "\u001b[0;31mOverflowError\u001b[0m: value too large to convert to int"
     ]
    },
    {
     "name": "stderr",
     "output_type": "stream",
     "text": [
      "Exception ignored in: 'fastparquet.cencoding.write_thrift'\n",
      "Traceback (most recent call last):\n",
      "  File \"/home/lukawc/.local/lib/python3.9/site-packages/fastparquet/writer.py\", line 894, in write_simple\n",
      "    foot_size = f.write(fmd.to_bytes())\n",
      "OverflowError: value too large to convert to int\n"
     ]
    },
    {
     "ename": "OverflowError",
     "evalue": "value too large to convert to int",
     "output_type": "error",
     "traceback": [
      "\u001b[0;31m---------------------------------------------------------------------------\u001b[0m",
      "\u001b[0;31mOverflowError\u001b[0m                             Traceback (most recent call last)",
      "\u001b[0;31mOverflowError\u001b[0m: value too large to convert to int"
     ]
    },
    {
     "name": "stderr",
     "output_type": "stream",
     "text": [
      "Exception ignored in: 'fastparquet.cencoding.write_thrift'\n",
      "Traceback (most recent call last):\n",
      "  File \"/home/lukawc/.local/lib/python3.9/site-packages/fastparquet/writer.py\", line 894, in write_simple\n",
      "    foot_size = f.write(fmd.to_bytes())\n",
      "OverflowError: value too large to convert to int\n"
     ]
    },
    {
     "ename": "OverflowError",
     "evalue": "value too large to convert to int",
     "output_type": "error",
     "traceback": [
      "\u001b[0;31m---------------------------------------------------------------------------\u001b[0m",
      "\u001b[0;31mOverflowError\u001b[0m                             Traceback (most recent call last)",
      "\u001b[0;31mOverflowError\u001b[0m: value too large to convert to int"
     ]
    },
    {
     "name": "stderr",
     "output_type": "stream",
     "text": [
      "Exception ignored in: 'fastparquet.cencoding.write_thrift'\n",
      "Traceback (most recent call last):\n",
      "  File \"/home/lukawc/.local/lib/python3.9/site-packages/fastparquet/writer.py\", line 894, in write_simple\n",
      "    foot_size = f.write(fmd.to_bytes())\n",
      "OverflowError: value too large to convert to int\n"
     ]
    },
    {
     "ename": "OverflowError",
     "evalue": "value too large to convert to int",
     "output_type": "error",
     "traceback": [
      "\u001b[0;31m---------------------------------------------------------------------------\u001b[0m",
      "\u001b[0;31mOverflowError\u001b[0m                             Traceback (most recent call last)",
      "\u001b[0;31mOverflowError\u001b[0m: value too large to convert to int"
     ]
    },
    {
     "name": "stderr",
     "output_type": "stream",
     "text": [
      "Exception ignored in: 'fastparquet.cencoding.write_thrift'\n",
      "Traceback (most recent call last):\n",
      "  File \"/home/lukawc/.local/lib/python3.9/site-packages/fastparquet/writer.py\", line 894, in write_simple\n",
      "    foot_size = f.write(fmd.to_bytes())\n",
      "OverflowError: value too large to convert to int\n"
     ]
    },
    {
     "ename": "OverflowError",
     "evalue": "value too large to convert to int",
     "output_type": "error",
     "traceback": [
      "\u001b[0;31m---------------------------------------------------------------------------\u001b[0m",
      "\u001b[0;31mOverflowError\u001b[0m                             Traceback (most recent call last)",
      "\u001b[0;31mOverflowError\u001b[0m: value too large to convert to int"
     ]
    },
    {
     "name": "stderr",
     "output_type": "stream",
     "text": [
      "Exception ignored in: 'fastparquet.cencoding.write_thrift'\n",
      "Traceback (most recent call last):\n",
      "  File \"/home/lukawc/.local/lib/python3.9/site-packages/fastparquet/writer.py\", line 894, in write_simple\n",
      "    foot_size = f.write(fmd.to_bytes())\n",
      "OverflowError: value too large to convert to int\n"
     ]
    },
    {
     "ename": "OverflowError",
     "evalue": "value too large to convert to int",
     "output_type": "error",
     "traceback": [
      "\u001b[0;31m---------------------------------------------------------------------------\u001b[0m",
      "\u001b[0;31mOverflowError\u001b[0m                             Traceback (most recent call last)",
      "\u001b[0;31mOverflowError\u001b[0m: value too large to convert to int"
     ]
    },
    {
     "name": "stderr",
     "output_type": "stream",
     "text": [
      "Exception ignored in: 'fastparquet.cencoding.write_thrift'\n",
      "Traceback (most recent call last):\n",
      "  File \"/home/lukawc/.local/lib/python3.9/site-packages/fastparquet/writer.py\", line 894, in write_simple\n",
      "    foot_size = f.write(fmd.to_bytes())\n",
      "OverflowError: value too large to convert to int\n"
     ]
    },
    {
     "ename": "OverflowError",
     "evalue": "value too large to convert to int",
     "output_type": "error",
     "traceback": [
      "\u001b[0;31m---------------------------------------------------------------------------\u001b[0m",
      "\u001b[0;31mOverflowError\u001b[0m                             Traceback (most recent call last)",
      "\u001b[0;31mOverflowError\u001b[0m: value too large to convert to int"
     ]
    },
    {
     "name": "stderr",
     "output_type": "stream",
     "text": [
      "Exception ignored in: 'fastparquet.cencoding.write_thrift'\n",
      "Traceback (most recent call last):\n",
      "  File \"/home/lukawc/.local/lib/python3.9/site-packages/fastparquet/writer.py\", line 894, in write_simple\n",
      "    foot_size = f.write(fmd.to_bytes())\n",
      "OverflowError: value too large to convert to int\n"
     ]
    },
    {
     "ename": "OverflowError",
     "evalue": "value too large to convert to int",
     "output_type": "error",
     "traceback": [
      "\u001b[0;31m---------------------------------------------------------------------------\u001b[0m",
      "\u001b[0;31mOverflowError\u001b[0m                             Traceback (most recent call last)",
      "\u001b[0;31mOverflowError\u001b[0m: value too large to convert to int"
     ]
    },
    {
     "name": "stderr",
     "output_type": "stream",
     "text": [
      "Exception ignored in: 'fastparquet.cencoding.write_thrift'\n",
      "Traceback (most recent call last):\n",
      "  File \"/home/lukawc/.local/lib/python3.9/site-packages/fastparquet/writer.py\", line 894, in write_simple\n",
      "    foot_size = f.write(fmd.to_bytes())\n",
      "OverflowError: value too large to convert to int\n"
     ]
    },
    {
     "ename": "OverflowError",
     "evalue": "value too large to convert to int",
     "output_type": "error",
     "traceback": [
      "\u001b[0;31m---------------------------------------------------------------------------\u001b[0m",
      "\u001b[0;31mOverflowError\u001b[0m                             Traceback (most recent call last)",
      "\u001b[0;31mOverflowError\u001b[0m: value too large to convert to int"
     ]
    },
    {
     "name": "stderr",
     "output_type": "stream",
     "text": [
      "Exception ignored in: 'fastparquet.cencoding.write_thrift'\n",
      "Traceback (most recent call last):\n",
      "  File \"/home/lukawc/.local/lib/python3.9/site-packages/fastparquet/writer.py\", line 894, in write_simple\n",
      "    foot_size = f.write(fmd.to_bytes())\n",
      "OverflowError: value too large to convert to int\n"
     ]
    },
    {
     "ename": "OverflowError",
     "evalue": "value too large to convert to int",
     "output_type": "error",
     "traceback": [
      "\u001b[0;31m---------------------------------------------------------------------------\u001b[0m",
      "\u001b[0;31mOverflowError\u001b[0m                             Traceback (most recent call last)",
      "\u001b[0;31mOverflowError\u001b[0m: value too large to convert to int"
     ]
    },
    {
     "name": "stderr",
     "output_type": "stream",
     "text": [
      "Exception ignored in: 'fastparquet.cencoding.write_thrift'\n",
      "Traceback (most recent call last):\n",
      "  File \"/home/lukawc/.local/lib/python3.9/site-packages/fastparquet/writer.py\", line 894, in write_simple\n",
      "    foot_size = f.write(fmd.to_bytes())\n",
      "OverflowError: value too large to convert to int\n"
     ]
    },
    {
     "ename": "OverflowError",
     "evalue": "value too large to convert to int",
     "output_type": "error",
     "traceback": [
      "\u001b[0;31m---------------------------------------------------------------------------\u001b[0m",
      "\u001b[0;31mOverflowError\u001b[0m                             Traceback (most recent call last)",
      "\u001b[0;31mOverflowError\u001b[0m: value too large to convert to int"
     ]
    },
    {
     "name": "stderr",
     "output_type": "stream",
     "text": [
      "Exception ignored in: 'fastparquet.cencoding.write_thrift'\n",
      "Traceback (most recent call last):\n",
      "  File \"/home/lukawc/.local/lib/python3.9/site-packages/fastparquet/writer.py\", line 894, in write_simple\n",
      "    foot_size = f.write(fmd.to_bytes())\n",
      "OverflowError: value too large to convert to int\n"
     ]
    },
    {
     "ename": "OverflowError",
     "evalue": "value too large to convert to int",
     "output_type": "error",
     "traceback": [
      "\u001b[0;31m---------------------------------------------------------------------------\u001b[0m",
      "\u001b[0;31mOverflowError\u001b[0m                             Traceback (most recent call last)",
      "\u001b[0;31mOverflowError\u001b[0m: value too large to convert to int"
     ]
    },
    {
     "name": "stderr",
     "output_type": "stream",
     "text": [
      "Exception ignored in: 'fastparquet.cencoding.write_thrift'\n",
      "Traceback (most recent call last):\n",
      "  File \"/home/lukawc/.local/lib/python3.9/site-packages/fastparquet/writer.py\", line 894, in write_simple\n",
      "    foot_size = f.write(fmd.to_bytes())\n",
      "OverflowError: value too large to convert to int\n"
     ]
    },
    {
     "ename": "OverflowError",
     "evalue": "value too large to convert to int",
     "output_type": "error",
     "traceback": [
      "\u001b[0;31m---------------------------------------------------------------------------\u001b[0m",
      "\u001b[0;31mOverflowError\u001b[0m                             Traceback (most recent call last)",
      "\u001b[0;31mOverflowError\u001b[0m: value too large to convert to int"
     ]
    },
    {
     "name": "stderr",
     "output_type": "stream",
     "text": [
      "Exception ignored in: 'fastparquet.cencoding.write_thrift'\n",
      "Traceback (most recent call last):\n",
      "  File \"/home/lukawc/.local/lib/python3.9/site-packages/fastparquet/writer.py\", line 894, in write_simple\n",
      "    foot_size = f.write(fmd.to_bytes())\n",
      "OverflowError: value too large to convert to int\n"
     ]
    },
    {
     "ename": "OverflowError",
     "evalue": "value too large to convert to int",
     "output_type": "error",
     "traceback": [
      "\u001b[0;31m---------------------------------------------------------------------------\u001b[0m",
      "\u001b[0;31mOverflowError\u001b[0m                             Traceback (most recent call last)",
      "\u001b[0;31mOverflowError\u001b[0m: value too large to convert to int"
     ]
    },
    {
     "name": "stderr",
     "output_type": "stream",
     "text": [
      "Exception ignored in: 'fastparquet.cencoding.write_thrift'\n",
      "Traceback (most recent call last):\n",
      "  File \"/home/lukawc/.local/lib/python3.9/site-packages/fastparquet/writer.py\", line 894, in write_simple\n",
      "    foot_size = f.write(fmd.to_bytes())\n",
      "OverflowError: value too large to convert to int\n"
     ]
    },
    {
     "ename": "OverflowError",
     "evalue": "value too large to convert to int",
     "output_type": "error",
     "traceback": [
      "\u001b[0;31m---------------------------------------------------------------------------\u001b[0m",
      "\u001b[0;31mOverflowError\u001b[0m                             Traceback (most recent call last)",
      "\u001b[0;31mOverflowError\u001b[0m: value too large to convert to int"
     ]
    },
    {
     "name": "stderr",
     "output_type": "stream",
     "text": [
      "Exception ignored in: 'fastparquet.cencoding.write_thrift'\n",
      "Traceback (most recent call last):\n",
      "  File \"/home/lukawc/.local/lib/python3.9/site-packages/fastparquet/writer.py\", line 894, in write_simple\n",
      "    foot_size = f.write(fmd.to_bytes())\n",
      "OverflowError: value too large to convert to int\n"
     ]
    },
    {
     "ename": "OverflowError",
     "evalue": "value too large to convert to int",
     "output_type": "error",
     "traceback": [
      "\u001b[0;31m---------------------------------------------------------------------------\u001b[0m",
      "\u001b[0;31mOverflowError\u001b[0m                             Traceback (most recent call last)",
      "\u001b[0;31mOverflowError\u001b[0m: value too large to convert to int"
     ]
    },
    {
     "name": "stderr",
     "output_type": "stream",
     "text": [
      "Exception ignored in: 'fastparquet.cencoding.write_thrift'\n",
      "Traceback (most recent call last):\n",
      "  File \"/home/lukawc/.local/lib/python3.9/site-packages/fastparquet/writer.py\", line 894, in write_simple\n",
      "    foot_size = f.write(fmd.to_bytes())\n",
      "OverflowError: value too large to convert to int\n"
     ]
    },
    {
     "ename": "OverflowError",
     "evalue": "value too large to convert to int",
     "output_type": "error",
     "traceback": [
      "\u001b[0;31m---------------------------------------------------------------------------\u001b[0m",
      "\u001b[0;31mOverflowError\u001b[0m                             Traceback (most recent call last)",
      "\u001b[0;31mOverflowError\u001b[0m: value too large to convert to int"
     ]
    },
    {
     "name": "stderr",
     "output_type": "stream",
     "text": [
      "Exception ignored in: 'fastparquet.cencoding.write_thrift'\n",
      "Traceback (most recent call last):\n",
      "  File \"/home/lukawc/.local/lib/python3.9/site-packages/fastparquet/writer.py\", line 894, in write_simple\n",
      "    foot_size = f.write(fmd.to_bytes())\n",
      "OverflowError: value too large to convert to int\n"
     ]
    },
    {
     "ename": "OverflowError",
     "evalue": "value too large to convert to int",
     "output_type": "error",
     "traceback": [
      "\u001b[0;31m---------------------------------------------------------------------------\u001b[0m",
      "\u001b[0;31mOverflowError\u001b[0m                             Traceback (most recent call last)",
      "\u001b[0;31mOverflowError\u001b[0m: value too large to convert to int"
     ]
    },
    {
     "name": "stderr",
     "output_type": "stream",
     "text": [
      "Exception ignored in: 'fastparquet.cencoding.write_thrift'\n",
      "Traceback (most recent call last):\n",
      "  File \"/home/lukawc/.local/lib/python3.9/site-packages/fastparquet/writer.py\", line 894, in write_simple\n",
      "    foot_size = f.write(fmd.to_bytes())\n",
      "OverflowError: value too large to convert to int\n"
     ]
    },
    {
     "ename": "OverflowError",
     "evalue": "value too large to convert to int",
     "output_type": "error",
     "traceback": [
      "\u001b[0;31m---------------------------------------------------------------------------\u001b[0m",
      "\u001b[0;31mOverflowError\u001b[0m                             Traceback (most recent call last)",
      "\u001b[0;31mOverflowError\u001b[0m: value too large to convert to int"
     ]
    },
    {
     "name": "stderr",
     "output_type": "stream",
     "text": [
      "Exception ignored in: 'fastparquet.cencoding.write_thrift'\n",
      "Traceback (most recent call last):\n",
      "  File \"/home/lukawc/.local/lib/python3.9/site-packages/fastparquet/writer.py\", line 894, in write_simple\n",
      "    foot_size = f.write(fmd.to_bytes())\n",
      "OverflowError: value too large to convert to int\n"
     ]
    },
    {
     "ename": "OverflowError",
     "evalue": "value too large to convert to int",
     "output_type": "error",
     "traceback": [
      "\u001b[0;31m---------------------------------------------------------------------------\u001b[0m",
      "\u001b[0;31mOverflowError\u001b[0m                             Traceback (most recent call last)",
      "\u001b[0;31mOverflowError\u001b[0m: value too large to convert to int"
     ]
    },
    {
     "name": "stderr",
     "output_type": "stream",
     "text": [
      "Exception ignored in: 'fastparquet.cencoding.write_thrift'\n",
      "Traceback (most recent call last):\n",
      "  File \"/home/lukawc/.local/lib/python3.9/site-packages/fastparquet/writer.py\", line 894, in write_simple\n",
      "    foot_size = f.write(fmd.to_bytes())\n",
      "OverflowError: value too large to convert to int\n"
     ]
    },
    {
     "ename": "OverflowError",
     "evalue": "value too large to convert to int",
     "output_type": "error",
     "traceback": [
      "\u001b[0;31m---------------------------------------------------------------------------\u001b[0m",
      "\u001b[0;31mOverflowError\u001b[0m                             Traceback (most recent call last)",
      "\u001b[0;31mOverflowError\u001b[0m: value too large to convert to int"
     ]
    },
    {
     "name": "stderr",
     "output_type": "stream",
     "text": [
      "Exception ignored in: 'fastparquet.cencoding.write_thrift'\n",
      "Traceback (most recent call last):\n",
      "  File \"/home/lukawc/.local/lib/python3.9/site-packages/fastparquet/writer.py\", line 894, in write_simple\n",
      "    foot_size = f.write(fmd.to_bytes())\n",
      "OverflowError: value too large to convert to int\n"
     ]
    },
    {
     "ename": "OverflowError",
     "evalue": "value too large to convert to int",
     "output_type": "error",
     "traceback": [
      "\u001b[0;31m---------------------------------------------------------------------------\u001b[0m",
      "\u001b[0;31mOverflowError\u001b[0m                             Traceback (most recent call last)",
      "\u001b[0;31mOverflowError\u001b[0m: value too large to convert to int"
     ]
    },
    {
     "name": "stderr",
     "output_type": "stream",
     "text": [
      "Exception ignored in: 'fastparquet.cencoding.write_thrift'\n",
      "Traceback (most recent call last):\n",
      "  File \"/home/lukawc/.local/lib/python3.9/site-packages/fastparquet/writer.py\", line 894, in write_simple\n",
      "    foot_size = f.write(fmd.to_bytes())\n",
      "OverflowError: value too large to convert to int\n"
     ]
    },
    {
     "ename": "OverflowError",
     "evalue": "value too large to convert to int",
     "output_type": "error",
     "traceback": [
      "\u001b[0;31m---------------------------------------------------------------------------\u001b[0m",
      "\u001b[0;31mOverflowError\u001b[0m                             Traceback (most recent call last)",
      "\u001b[0;31mOverflowError\u001b[0m: value too large to convert to int"
     ]
    },
    {
     "name": "stderr",
     "output_type": "stream",
     "text": [
      "Exception ignored in: 'fastparquet.cencoding.write_thrift'\n",
      "Traceback (most recent call last):\n",
      "  File \"/home/lukawc/.local/lib/python3.9/site-packages/fastparquet/writer.py\", line 894, in write_simple\n",
      "    foot_size = f.write(fmd.to_bytes())\n",
      "OverflowError: value too large to convert to int\n"
     ]
    },
    {
     "ename": "OverflowError",
     "evalue": "value too large to convert to int",
     "output_type": "error",
     "traceback": [
      "\u001b[0;31m---------------------------------------------------------------------------\u001b[0m",
      "\u001b[0;31mOverflowError\u001b[0m                             Traceback (most recent call last)",
      "\u001b[0;31mOverflowError\u001b[0m: value too large to convert to int"
     ]
    },
    {
     "name": "stderr",
     "output_type": "stream",
     "text": [
      "Exception ignored in: 'fastparquet.cencoding.write_thrift'\n",
      "Traceback (most recent call last):\n",
      "  File \"/home/lukawc/.local/lib/python3.9/site-packages/fastparquet/writer.py\", line 894, in write_simple\n",
      "    foot_size = f.write(fmd.to_bytes())\n",
      "OverflowError: value too large to convert to int\n"
     ]
    },
    {
     "ename": "OverflowError",
     "evalue": "value too large to convert to int",
     "output_type": "error",
     "traceback": [
      "\u001b[0;31m---------------------------------------------------------------------------\u001b[0m",
      "\u001b[0;31mOverflowError\u001b[0m                             Traceback (most recent call last)",
      "\u001b[0;31mOverflowError\u001b[0m: value too large to convert to int"
     ]
    },
    {
     "name": "stderr",
     "output_type": "stream",
     "text": [
      "Exception ignored in: 'fastparquet.cencoding.write_thrift'\n",
      "Traceback (most recent call last):\n",
      "  File \"/home/lukawc/.local/lib/python3.9/site-packages/fastparquet/writer.py\", line 894, in write_simple\n",
      "    foot_size = f.write(fmd.to_bytes())\n",
      "OverflowError: value too large to convert to int\n"
     ]
    },
    {
     "ename": "OverflowError",
     "evalue": "value too large to convert to int",
     "output_type": "error",
     "traceback": [
      "\u001b[0;31m---------------------------------------------------------------------------\u001b[0m",
      "\u001b[0;31mOverflowError\u001b[0m                             Traceback (most recent call last)",
      "\u001b[0;31mOverflowError\u001b[0m: value too large to convert to int"
     ]
    },
    {
     "name": "stderr",
     "output_type": "stream",
     "text": [
      "Exception ignored in: 'fastparquet.cencoding.write_thrift'\n",
      "Traceback (most recent call last):\n",
      "  File \"/home/lukawc/.local/lib/python3.9/site-packages/fastparquet/writer.py\", line 894, in write_simple\n",
      "    foot_size = f.write(fmd.to_bytes())\n",
      "OverflowError: value too large to convert to int\n"
     ]
    },
    {
     "ename": "OverflowError",
     "evalue": "value too large to convert to int",
     "output_type": "error",
     "traceback": [
      "\u001b[0;31m---------------------------------------------------------------------------\u001b[0m",
      "\u001b[0;31mOverflowError\u001b[0m                             Traceback (most recent call last)",
      "\u001b[0;31mOverflowError\u001b[0m: value too large to convert to int"
     ]
    },
    {
     "name": "stderr",
     "output_type": "stream",
     "text": [
      "Exception ignored in: 'fastparquet.cencoding.write_thrift'\n",
      "Traceback (most recent call last):\n",
      "  File \"/home/lukawc/.local/lib/python3.9/site-packages/fastparquet/writer.py\", line 894, in write_simple\n",
      "    foot_size = f.write(fmd.to_bytes())\n",
      "OverflowError: value too large to convert to int\n"
     ]
    },
    {
     "ename": "OverflowError",
     "evalue": "value too large to convert to int",
     "output_type": "error",
     "traceback": [
      "\u001b[0;31m---------------------------------------------------------------------------\u001b[0m",
      "\u001b[0;31mOverflowError\u001b[0m                             Traceback (most recent call last)",
      "\u001b[0;31mOverflowError\u001b[0m: value too large to convert to int"
     ]
    },
    {
     "name": "stderr",
     "output_type": "stream",
     "text": [
      "Exception ignored in: 'fastparquet.cencoding.write_thrift'\n",
      "Traceback (most recent call last):\n",
      "  File \"/home/lukawc/.local/lib/python3.9/site-packages/fastparquet/writer.py\", line 894, in write_simple\n",
      "    foot_size = f.write(fmd.to_bytes())\n",
      "OverflowError: value too large to convert to int\n"
     ]
    },
    {
     "ename": "OverflowError",
     "evalue": "value too large to convert to int",
     "output_type": "error",
     "traceback": [
      "\u001b[0;31m---------------------------------------------------------------------------\u001b[0m",
      "\u001b[0;31mOverflowError\u001b[0m                             Traceback (most recent call last)",
      "\u001b[0;31mOverflowError\u001b[0m: value too large to convert to int"
     ]
    },
    {
     "name": "stderr",
     "output_type": "stream",
     "text": [
      "Exception ignored in: 'fastparquet.cencoding.write_thrift'\n",
      "Traceback (most recent call last):\n",
      "  File \"/home/lukawc/.local/lib/python3.9/site-packages/fastparquet/writer.py\", line 894, in write_simple\n",
      "    foot_size = f.write(fmd.to_bytes())\n",
      "OverflowError: value too large to convert to int\n"
     ]
    },
    {
     "ename": "OverflowError",
     "evalue": "value too large to convert to int",
     "output_type": "error",
     "traceback": [
      "\u001b[0;31m---------------------------------------------------------------------------\u001b[0m",
      "\u001b[0;31mOverflowError\u001b[0m                             Traceback (most recent call last)",
      "\u001b[0;31mOverflowError\u001b[0m: value too large to convert to int"
     ]
    },
    {
     "name": "stderr",
     "output_type": "stream",
     "text": [
      "Exception ignored in: 'fastparquet.cencoding.write_thrift'\n",
      "Traceback (most recent call last):\n",
      "  File \"/home/lukawc/.local/lib/python3.9/site-packages/fastparquet/writer.py\", line 894, in write_simple\n",
      "    foot_size = f.write(fmd.to_bytes())\n",
      "OverflowError: value too large to convert to int\n"
     ]
    },
    {
     "ename": "OverflowError",
     "evalue": "value too large to convert to int",
     "output_type": "error",
     "traceback": [
      "\u001b[0;31m---------------------------------------------------------------------------\u001b[0m",
      "\u001b[0;31mOverflowError\u001b[0m                             Traceback (most recent call last)",
      "\u001b[0;31mOverflowError\u001b[0m: value too large to convert to int"
     ]
    },
    {
     "name": "stderr",
     "output_type": "stream",
     "text": [
      "Exception ignored in: 'fastparquet.cencoding.write_thrift'\n",
      "Traceback (most recent call last):\n",
      "  File \"/home/lukawc/.local/lib/python3.9/site-packages/fastparquet/writer.py\", line 894, in write_simple\n",
      "    foot_size = f.write(fmd.to_bytes())\n",
      "OverflowError: value too large to convert to int\n"
     ]
    },
    {
     "ename": "OverflowError",
     "evalue": "value too large to convert to int",
     "output_type": "error",
     "traceback": [
      "\u001b[0;31m---------------------------------------------------------------------------\u001b[0m",
      "\u001b[0;31mOverflowError\u001b[0m                             Traceback (most recent call last)",
      "\u001b[0;31mOverflowError\u001b[0m: value too large to convert to int"
     ]
    },
    {
     "name": "stderr",
     "output_type": "stream",
     "text": [
      "Exception ignored in: 'fastparquet.cencoding.write_thrift'\n",
      "Traceback (most recent call last):\n",
      "  File \"/home/lukawc/.local/lib/python3.9/site-packages/fastparquet/writer.py\", line 894, in write_simple\n",
      "    foot_size = f.write(fmd.to_bytes())\n",
      "OverflowError: value too large to convert to int\n"
     ]
    },
    {
     "ename": "OverflowError",
     "evalue": "value too large to convert to int",
     "output_type": "error",
     "traceback": [
      "\u001b[0;31m---------------------------------------------------------------------------\u001b[0m",
      "\u001b[0;31mOverflowError\u001b[0m                             Traceback (most recent call last)",
      "\u001b[0;31mOverflowError\u001b[0m: value too large to convert to int"
     ]
    },
    {
     "name": "stderr",
     "output_type": "stream",
     "text": [
      "Exception ignored in: 'fastparquet.cencoding.write_thrift'\n",
      "Traceback (most recent call last):\n",
      "  File \"/home/lukawc/.local/lib/python3.9/site-packages/fastparquet/writer.py\", line 894, in write_simple\n",
      "    foot_size = f.write(fmd.to_bytes())\n",
      "OverflowError: value too large to convert to int\n"
     ]
    },
    {
     "ename": "OverflowError",
     "evalue": "value too large to convert to int",
     "output_type": "error",
     "traceback": [
      "\u001b[0;31m---------------------------------------------------------------------------\u001b[0m",
      "\u001b[0;31mOverflowError\u001b[0m                             Traceback (most recent call last)",
      "\u001b[0;31mOverflowError\u001b[0m: value too large to convert to int"
     ]
    },
    {
     "name": "stderr",
     "output_type": "stream",
     "text": [
      "Exception ignored in: 'fastparquet.cencoding.write_thrift'\n",
      "Traceback (most recent call last):\n",
      "  File \"/home/lukawc/.local/lib/python3.9/site-packages/fastparquet/writer.py\", line 894, in write_simple\n",
      "    foot_size = f.write(fmd.to_bytes())\n",
      "OverflowError: value too large to convert to int\n"
     ]
    },
    {
     "ename": "OverflowError",
     "evalue": "value too large to convert to int",
     "output_type": "error",
     "traceback": [
      "\u001b[0;31m---------------------------------------------------------------------------\u001b[0m",
      "\u001b[0;31mOverflowError\u001b[0m                             Traceback (most recent call last)",
      "\u001b[0;31mOverflowError\u001b[0m: value too large to convert to int"
     ]
    },
    {
     "name": "stderr",
     "output_type": "stream",
     "text": [
      "Exception ignored in: 'fastparquet.cencoding.write_thrift'\n",
      "Traceback (most recent call last):\n",
      "  File \"/home/lukawc/.local/lib/python3.9/site-packages/fastparquet/writer.py\", line 894, in write_simple\n",
      "    foot_size = f.write(fmd.to_bytes())\n",
      "OverflowError: value too large to convert to int\n"
     ]
    },
    {
     "ename": "OverflowError",
     "evalue": "value too large to convert to int",
     "output_type": "error",
     "traceback": [
      "\u001b[0;31m---------------------------------------------------------------------------\u001b[0m",
      "\u001b[0;31mOverflowError\u001b[0m                             Traceback (most recent call last)",
      "\u001b[0;31mOverflowError\u001b[0m: value too large to convert to int"
     ]
    },
    {
     "name": "stderr",
     "output_type": "stream",
     "text": [
      "Exception ignored in: 'fastparquet.cencoding.write_thrift'\n",
      "Traceback (most recent call last):\n",
      "  File \"/home/lukawc/.local/lib/python3.9/site-packages/fastparquet/writer.py\", line 894, in write_simple\n",
      "    foot_size = f.write(fmd.to_bytes())\n",
      "OverflowError: value too large to convert to int\n"
     ]
    },
    {
     "ename": "OverflowError",
     "evalue": "value too large to convert to int",
     "output_type": "error",
     "traceback": [
      "\u001b[0;31m---------------------------------------------------------------------------\u001b[0m",
      "\u001b[0;31mOverflowError\u001b[0m                             Traceback (most recent call last)",
      "\u001b[0;31mOverflowError\u001b[0m: value too large to convert to int"
     ]
    },
    {
     "name": "stderr",
     "output_type": "stream",
     "text": [
      "Exception ignored in: 'fastparquet.cencoding.write_thrift'\n",
      "Traceback (most recent call last):\n",
      "  File \"/home/lukawc/.local/lib/python3.9/site-packages/fastparquet/writer.py\", line 894, in write_simple\n",
      "    foot_size = f.write(fmd.to_bytes())\n",
      "OverflowError: value too large to convert to int\n"
     ]
    },
    {
     "ename": "OverflowError",
     "evalue": "value too large to convert to int",
     "output_type": "error",
     "traceback": [
      "\u001b[0;31m---------------------------------------------------------------------------\u001b[0m",
      "\u001b[0;31mOverflowError\u001b[0m                             Traceback (most recent call last)",
      "\u001b[0;31mOverflowError\u001b[0m: value too large to convert to int"
     ]
    },
    {
     "name": "stderr",
     "output_type": "stream",
     "text": [
      "Exception ignored in: 'fastparquet.cencoding.write_thrift'\n",
      "Traceback (most recent call last):\n",
      "  File \"/home/lukawc/.local/lib/python3.9/site-packages/fastparquet/writer.py\", line 894, in write_simple\n",
      "    foot_size = f.write(fmd.to_bytes())\n",
      "OverflowError: value too large to convert to int\n"
     ]
    },
    {
     "ename": "OverflowError",
     "evalue": "value too large to convert to int",
     "output_type": "error",
     "traceback": [
      "\u001b[0;31m---------------------------------------------------------------------------\u001b[0m",
      "\u001b[0;31mOverflowError\u001b[0m                             Traceback (most recent call last)",
      "\u001b[0;31mOverflowError\u001b[0m: value too large to convert to int"
     ]
    },
    {
     "name": "stderr",
     "output_type": "stream",
     "text": [
      "Exception ignored in: 'fastparquet.cencoding.write_thrift'\n",
      "Traceback (most recent call last):\n",
      "  File \"/home/lukawc/.local/lib/python3.9/site-packages/fastparquet/writer.py\", line 894, in write_simple\n",
      "    foot_size = f.write(fmd.to_bytes())\n",
      "OverflowError: value too large to convert to int\n"
     ]
    },
    {
     "ename": "OverflowError",
     "evalue": "value too large to convert to int",
     "output_type": "error",
     "traceback": [
      "\u001b[0;31m---------------------------------------------------------------------------\u001b[0m",
      "\u001b[0;31mOverflowError\u001b[0m                             Traceback (most recent call last)",
      "\u001b[0;31mOverflowError\u001b[0m: value too large to convert to int"
     ]
    },
    {
     "name": "stderr",
     "output_type": "stream",
     "text": [
      "Exception ignored in: 'fastparquet.cencoding.write_thrift'\n",
      "Traceback (most recent call last):\n",
      "  File \"/home/lukawc/.local/lib/python3.9/site-packages/fastparquet/writer.py\", line 894, in write_simple\n",
      "    foot_size = f.write(fmd.to_bytes())\n",
      "OverflowError: value too large to convert to int\n"
     ]
    },
    {
     "ename": "OverflowError",
     "evalue": "value too large to convert to int",
     "output_type": "error",
     "traceback": [
      "\u001b[0;31m---------------------------------------------------------------------------\u001b[0m",
      "\u001b[0;31mOverflowError\u001b[0m                             Traceback (most recent call last)",
      "\u001b[0;31mOverflowError\u001b[0m: value too large to convert to int"
     ]
    },
    {
     "name": "stderr",
     "output_type": "stream",
     "text": [
      "Exception ignored in: 'fastparquet.cencoding.write_thrift'\n",
      "Traceback (most recent call last):\n",
      "  File \"/home/lukawc/.local/lib/python3.9/site-packages/fastparquet/writer.py\", line 894, in write_simple\n",
      "    foot_size = f.write(fmd.to_bytes())\n",
      "OverflowError: value too large to convert to int\n"
     ]
    },
    {
     "ename": "OverflowError",
     "evalue": "value too large to convert to int",
     "output_type": "error",
     "traceback": [
      "\u001b[0;31m---------------------------------------------------------------------------\u001b[0m",
      "\u001b[0;31mOverflowError\u001b[0m                             Traceback (most recent call last)",
      "\u001b[0;31mOverflowError\u001b[0m: value too large to convert to int"
     ]
    },
    {
     "name": "stderr",
     "output_type": "stream",
     "text": [
      "Exception ignored in: 'fastparquet.cencoding.write_thrift'\n",
      "Traceback (most recent call last):\n",
      "  File \"/home/lukawc/.local/lib/python3.9/site-packages/fastparquet/writer.py\", line 894, in write_simple\n",
      "    foot_size = f.write(fmd.to_bytes())\n",
      "OverflowError: value too large to convert to int\n"
     ]
    },
    {
     "ename": "OverflowError",
     "evalue": "value too large to convert to int",
     "output_type": "error",
     "traceback": [
      "\u001b[0;31m---------------------------------------------------------------------------\u001b[0m",
      "\u001b[0;31mOverflowError\u001b[0m                             Traceback (most recent call last)",
      "\u001b[0;31mOverflowError\u001b[0m: value too large to convert to int"
     ]
    },
    {
     "name": "stderr",
     "output_type": "stream",
     "text": [
      "Exception ignored in: 'fastparquet.cencoding.write_thrift'\n",
      "Traceback (most recent call last):\n",
      "  File \"/home/lukawc/.local/lib/python3.9/site-packages/fastparquet/writer.py\", line 894, in write_simple\n",
      "    foot_size = f.write(fmd.to_bytes())\n",
      "OverflowError: value too large to convert to int\n"
     ]
    },
    {
     "ename": "OverflowError",
     "evalue": "value too large to convert to int",
     "output_type": "error",
     "traceback": [
      "\u001b[0;31m---------------------------------------------------------------------------\u001b[0m",
      "\u001b[0;31mOverflowError\u001b[0m                             Traceback (most recent call last)",
      "\u001b[0;31mOverflowError\u001b[0m: value too large to convert to int"
     ]
    },
    {
     "name": "stderr",
     "output_type": "stream",
     "text": [
      "Exception ignored in: 'fastparquet.cencoding.write_thrift'\n",
      "Traceback (most recent call last):\n",
      "  File \"/home/lukawc/.local/lib/python3.9/site-packages/fastparquet/writer.py\", line 894, in write_simple\n",
      "    foot_size = f.write(fmd.to_bytes())\n",
      "OverflowError: value too large to convert to int\n"
     ]
    },
    {
     "ename": "OverflowError",
     "evalue": "value too large to convert to int",
     "output_type": "error",
     "traceback": [
      "\u001b[0;31m---------------------------------------------------------------------------\u001b[0m",
      "\u001b[0;31mOverflowError\u001b[0m                             Traceback (most recent call last)",
      "\u001b[0;31mOverflowError\u001b[0m: value too large to convert to int"
     ]
    },
    {
     "name": "stderr",
     "output_type": "stream",
     "text": [
      "Exception ignored in: 'fastparquet.cencoding.write_thrift'\n",
      "Traceback (most recent call last):\n",
      "  File \"/home/lukawc/.local/lib/python3.9/site-packages/fastparquet/writer.py\", line 894, in write_simple\n",
      "    foot_size = f.write(fmd.to_bytes())\n",
      "OverflowError: value too large to convert to int\n"
     ]
    },
    {
     "ename": "OverflowError",
     "evalue": "value too large to convert to int",
     "output_type": "error",
     "traceback": [
      "\u001b[0;31m---------------------------------------------------------------------------\u001b[0m",
      "\u001b[0;31mOverflowError\u001b[0m                             Traceback (most recent call last)",
      "\u001b[0;31mOverflowError\u001b[0m: value too large to convert to int"
     ]
    },
    {
     "name": "stderr",
     "output_type": "stream",
     "text": [
      "Exception ignored in: 'fastparquet.cencoding.write_thrift'\n",
      "Traceback (most recent call last):\n",
      "  File \"/home/lukawc/.local/lib/python3.9/site-packages/fastparquet/writer.py\", line 894, in write_simple\n",
      "    foot_size = f.write(fmd.to_bytes())\n",
      "OverflowError: value too large to convert to int\n"
     ]
    },
    {
     "ename": "OverflowError",
     "evalue": "value too large to convert to int",
     "output_type": "error",
     "traceback": [
      "\u001b[0;31m---------------------------------------------------------------------------\u001b[0m",
      "\u001b[0;31mOverflowError\u001b[0m                             Traceback (most recent call last)",
      "\u001b[0;31mOverflowError\u001b[0m: value too large to convert to int"
     ]
    },
    {
     "name": "stderr",
     "output_type": "stream",
     "text": [
      "Exception ignored in: 'fastparquet.cencoding.write_thrift'\n",
      "Traceback (most recent call last):\n",
      "  File \"/home/lukawc/.local/lib/python3.9/site-packages/fastparquet/writer.py\", line 894, in write_simple\n",
      "    foot_size = f.write(fmd.to_bytes())\n",
      "OverflowError: value too large to convert to int\n"
     ]
    },
    {
     "ename": "OverflowError",
     "evalue": "value too large to convert to int",
     "output_type": "error",
     "traceback": [
      "\u001b[0;31m---------------------------------------------------------------------------\u001b[0m",
      "\u001b[0;31mOverflowError\u001b[0m                             Traceback (most recent call last)",
      "\u001b[0;31mOverflowError\u001b[0m: value too large to convert to int"
     ]
    },
    {
     "name": "stderr",
     "output_type": "stream",
     "text": [
      "Exception ignored in: 'fastparquet.cencoding.write_thrift'\n",
      "Traceback (most recent call last):\n",
      "  File \"/home/lukawc/.local/lib/python3.9/site-packages/fastparquet/writer.py\", line 894, in write_simple\n",
      "    foot_size = f.write(fmd.to_bytes())\n",
      "OverflowError: value too large to convert to int\n"
     ]
    },
    {
     "ename": "OverflowError",
     "evalue": "value too large to convert to int",
     "output_type": "error",
     "traceback": [
      "\u001b[0;31m---------------------------------------------------------------------------\u001b[0m",
      "\u001b[0;31mOverflowError\u001b[0m                             Traceback (most recent call last)",
      "\u001b[0;31mOverflowError\u001b[0m: value too large to convert to int"
     ]
    },
    {
     "name": "stderr",
     "output_type": "stream",
     "text": [
      "Exception ignored in: 'fastparquet.cencoding.write_thrift'\n",
      "Traceback (most recent call last):\n",
      "  File \"/home/lukawc/.local/lib/python3.9/site-packages/fastparquet/writer.py\", line 894, in write_simple\n",
      "    foot_size = f.write(fmd.to_bytes())\n",
      "OverflowError: value too large to convert to int\n"
     ]
    },
    {
     "ename": "OverflowError",
     "evalue": "value too large to convert to int",
     "output_type": "error",
     "traceback": [
      "\u001b[0;31m---------------------------------------------------------------------------\u001b[0m",
      "\u001b[0;31mOverflowError\u001b[0m                             Traceback (most recent call last)",
      "\u001b[0;31mOverflowError\u001b[0m: value too large to convert to int"
     ]
    },
    {
     "name": "stderr",
     "output_type": "stream",
     "text": [
      "Exception ignored in: 'fastparquet.cencoding.write_thrift'\n",
      "Traceback (most recent call last):\n",
      "  File \"/home/lukawc/.local/lib/python3.9/site-packages/fastparquet/writer.py\", line 894, in write_simple\n",
      "    foot_size = f.write(fmd.to_bytes())\n",
      "OverflowError: value too large to convert to int\n"
     ]
    },
    {
     "ename": "OverflowError",
     "evalue": "value too large to convert to int",
     "output_type": "error",
     "traceback": [
      "\u001b[0;31m---------------------------------------------------------------------------\u001b[0m",
      "\u001b[0;31mOverflowError\u001b[0m                             Traceback (most recent call last)",
      "\u001b[0;31mOverflowError\u001b[0m: value too large to convert to int"
     ]
    },
    {
     "name": "stderr",
     "output_type": "stream",
     "text": [
      "Exception ignored in: 'fastparquet.cencoding.write_thrift'\n",
      "Traceback (most recent call last):\n",
      "  File \"/home/lukawc/.local/lib/python3.9/site-packages/fastparquet/writer.py\", line 894, in write_simple\n",
      "    foot_size = f.write(fmd.to_bytes())\n",
      "OverflowError: value too large to convert to int\n"
     ]
    },
    {
     "ename": "OverflowError",
     "evalue": "value too large to convert to int",
     "output_type": "error",
     "traceback": [
      "\u001b[0;31m---------------------------------------------------------------------------\u001b[0m",
      "\u001b[0;31mOverflowError\u001b[0m                             Traceback (most recent call last)",
      "\u001b[0;31mOverflowError\u001b[0m: value too large to convert to int"
     ]
    },
    {
     "name": "stderr",
     "output_type": "stream",
     "text": [
      "Exception ignored in: 'fastparquet.cencoding.write_thrift'\n",
      "Traceback (most recent call last):\n",
      "  File \"/home/lukawc/.local/lib/python3.9/site-packages/fastparquet/writer.py\", line 894, in write_simple\n",
      "    foot_size = f.write(fmd.to_bytes())\n",
      "OverflowError: value too large to convert to int\n"
     ]
    },
    {
     "ename": "OverflowError",
     "evalue": "value too large to convert to int",
     "output_type": "error",
     "traceback": [
      "\u001b[0;31m---------------------------------------------------------------------------\u001b[0m",
      "\u001b[0;31mOverflowError\u001b[0m                             Traceback (most recent call last)",
      "\u001b[0;31mOverflowError\u001b[0m: value too large to convert to int"
     ]
    },
    {
     "name": "stderr",
     "output_type": "stream",
     "text": [
      "Exception ignored in: 'fastparquet.cencoding.write_thrift'\n",
      "Traceback (most recent call last):\n",
      "  File \"/home/lukawc/.local/lib/python3.9/site-packages/fastparquet/writer.py\", line 894, in write_simple\n",
      "    foot_size = f.write(fmd.to_bytes())\n",
      "OverflowError: value too large to convert to int\n"
     ]
    },
    {
     "ename": "OverflowError",
     "evalue": "value too large to convert to int",
     "output_type": "error",
     "traceback": [
      "\u001b[0;31m---------------------------------------------------------------------------\u001b[0m",
      "\u001b[0;31mOverflowError\u001b[0m                             Traceback (most recent call last)",
      "\u001b[0;31mOverflowError\u001b[0m: value too large to convert to int"
     ]
    },
    {
     "name": "stderr",
     "output_type": "stream",
     "text": [
      "Exception ignored in: 'fastparquet.cencoding.write_thrift'\n",
      "Traceback (most recent call last):\n",
      "  File \"/home/lukawc/.local/lib/python3.9/site-packages/fastparquet/writer.py\", line 894, in write_simple\n",
      "    foot_size = f.write(fmd.to_bytes())\n",
      "OverflowError: value too large to convert to int\n"
     ]
    },
    {
     "ename": "OverflowError",
     "evalue": "value too large to convert to int",
     "output_type": "error",
     "traceback": [
      "\u001b[0;31m---------------------------------------------------------------------------\u001b[0m",
      "\u001b[0;31mOverflowError\u001b[0m                             Traceback (most recent call last)",
      "\u001b[0;31mOverflowError\u001b[0m: value too large to convert to int"
     ]
    },
    {
     "name": "stderr",
     "output_type": "stream",
     "text": [
      "Exception ignored in: 'fastparquet.cencoding.write_thrift'\n",
      "Traceback (most recent call last):\n",
      "  File \"/home/lukawc/.local/lib/python3.9/site-packages/fastparquet/writer.py\", line 894, in write_simple\n",
      "    foot_size = f.write(fmd.to_bytes())\n",
      "OverflowError: value too large to convert to int\n"
     ]
    },
    {
     "ename": "OverflowError",
     "evalue": "value too large to convert to int",
     "output_type": "error",
     "traceback": [
      "\u001b[0;31m---------------------------------------------------------------------------\u001b[0m",
      "\u001b[0;31mOverflowError\u001b[0m                             Traceback (most recent call last)",
      "\u001b[0;31mOverflowError\u001b[0m: value too large to convert to int"
     ]
    },
    {
     "name": "stderr",
     "output_type": "stream",
     "text": [
      "Exception ignored in: 'fastparquet.cencoding.write_thrift'\n",
      "Traceback (most recent call last):\n",
      "  File \"/home/lukawc/.local/lib/python3.9/site-packages/fastparquet/writer.py\", line 894, in write_simple\n",
      "    foot_size = f.write(fmd.to_bytes())\n",
      "OverflowError: value too large to convert to int\n"
     ]
    },
    {
     "ename": "OverflowError",
     "evalue": "value too large to convert to int",
     "output_type": "error",
     "traceback": [
      "\u001b[0;31m---------------------------------------------------------------------------\u001b[0m",
      "\u001b[0;31mOverflowError\u001b[0m                             Traceback (most recent call last)",
      "\u001b[0;31mOverflowError\u001b[0m: value too large to convert to int"
     ]
    },
    {
     "name": "stderr",
     "output_type": "stream",
     "text": [
      "Exception ignored in: 'fastparquet.cencoding.write_thrift'\n",
      "Traceback (most recent call last):\n",
      "  File \"/home/lukawc/.local/lib/python3.9/site-packages/fastparquet/writer.py\", line 894, in write_simple\n",
      "    foot_size = f.write(fmd.to_bytes())\n",
      "OverflowError: value too large to convert to int\n"
     ]
    },
    {
     "ename": "OverflowError",
     "evalue": "value too large to convert to int",
     "output_type": "error",
     "traceback": [
      "\u001b[0;31m---------------------------------------------------------------------------\u001b[0m",
      "\u001b[0;31mOverflowError\u001b[0m                             Traceback (most recent call last)",
      "\u001b[0;31mOverflowError\u001b[0m: value too large to convert to int"
     ]
    },
    {
     "name": "stderr",
     "output_type": "stream",
     "text": [
      "Exception ignored in: 'fastparquet.cencoding.write_thrift'\n",
      "Traceback (most recent call last):\n",
      "  File \"/home/lukawc/.local/lib/python3.9/site-packages/fastparquet/writer.py\", line 894, in write_simple\n",
      "    foot_size = f.write(fmd.to_bytes())\n",
      "OverflowError: value too large to convert to int\n"
     ]
    },
    {
     "ename": "OverflowError",
     "evalue": "value too large to convert to int",
     "output_type": "error",
     "traceback": [
      "\u001b[0;31m---------------------------------------------------------------------------\u001b[0m",
      "\u001b[0;31mOverflowError\u001b[0m                             Traceback (most recent call last)",
      "\u001b[0;31mOverflowError\u001b[0m: value too large to convert to int"
     ]
    },
    {
     "name": "stderr",
     "output_type": "stream",
     "text": [
      "Exception ignored in: 'fastparquet.cencoding.write_thrift'\n",
      "Traceback (most recent call last):\n",
      "  File \"/home/lukawc/.local/lib/python3.9/site-packages/fastparquet/writer.py\", line 894, in write_simple\n",
      "    foot_size = f.write(fmd.to_bytes())\n",
      "OverflowError: value too large to convert to int\n"
     ]
    },
    {
     "ename": "OverflowError",
     "evalue": "value too large to convert to int",
     "output_type": "error",
     "traceback": [
      "\u001b[0;31m---------------------------------------------------------------------------\u001b[0m",
      "\u001b[0;31mOverflowError\u001b[0m                             Traceback (most recent call last)",
      "\u001b[0;31mOverflowError\u001b[0m: value too large to convert to int"
     ]
    },
    {
     "name": "stderr",
     "output_type": "stream",
     "text": [
      "Exception ignored in: 'fastparquet.cencoding.write_thrift'\n",
      "Traceback (most recent call last):\n",
      "  File \"/home/lukawc/.local/lib/python3.9/site-packages/fastparquet/writer.py\", line 894, in write_simple\n",
      "    foot_size = f.write(fmd.to_bytes())\n",
      "OverflowError: value too large to convert to int\n"
     ]
    },
    {
     "ename": "OverflowError",
     "evalue": "value too large to convert to int",
     "output_type": "error",
     "traceback": [
      "\u001b[0;31m---------------------------------------------------------------------------\u001b[0m",
      "\u001b[0;31mOverflowError\u001b[0m                             Traceback (most recent call last)",
      "\u001b[0;31mOverflowError\u001b[0m: value too large to convert to int"
     ]
    },
    {
     "name": "stderr",
     "output_type": "stream",
     "text": [
      "Exception ignored in: 'fastparquet.cencoding.write_thrift'\n",
      "Traceback (most recent call last):\n",
      "  File \"/home/lukawc/.local/lib/python3.9/site-packages/fastparquet/writer.py\", line 894, in write_simple\n",
      "    foot_size = f.write(fmd.to_bytes())\n",
      "OverflowError: value too large to convert to int\n"
     ]
    },
    {
     "ename": "OverflowError",
     "evalue": "value too large to convert to int",
     "output_type": "error",
     "traceback": [
      "\u001b[0;31m---------------------------------------------------------------------------\u001b[0m",
      "\u001b[0;31mOverflowError\u001b[0m                             Traceback (most recent call last)",
      "\u001b[0;31mOverflowError\u001b[0m: value too large to convert to int"
     ]
    },
    {
     "name": "stderr",
     "output_type": "stream",
     "text": [
      "Exception ignored in: 'fastparquet.cencoding.write_thrift'\n",
      "Traceback (most recent call last):\n",
      "  File \"/home/lukawc/.local/lib/python3.9/site-packages/fastparquet/writer.py\", line 894, in write_simple\n",
      "    foot_size = f.write(fmd.to_bytes())\n",
      "OverflowError: value too large to convert to int\n"
     ]
    },
    {
     "ename": "OverflowError",
     "evalue": "value too large to convert to int",
     "output_type": "error",
     "traceback": [
      "\u001b[0;31m---------------------------------------------------------------------------\u001b[0m",
      "\u001b[0;31mOverflowError\u001b[0m                             Traceback (most recent call last)",
      "\u001b[0;31mOverflowError\u001b[0m: value too large to convert to int"
     ]
    },
    {
     "name": "stderr",
     "output_type": "stream",
     "text": [
      "Exception ignored in: 'fastparquet.cencoding.write_thrift'\n",
      "Traceback (most recent call last):\n",
      "  File \"/home/lukawc/.local/lib/python3.9/site-packages/fastparquet/writer.py\", line 894, in write_simple\n",
      "    foot_size = f.write(fmd.to_bytes())\n",
      "OverflowError: value too large to convert to int\n"
     ]
    },
    {
     "ename": "OverflowError",
     "evalue": "value too large to convert to int",
     "output_type": "error",
     "traceback": [
      "\u001b[0;31m---------------------------------------------------------------------------\u001b[0m",
      "\u001b[0;31mOverflowError\u001b[0m                             Traceback (most recent call last)",
      "\u001b[0;31mOverflowError\u001b[0m: value too large to convert to int"
     ]
    },
    {
     "name": "stderr",
     "output_type": "stream",
     "text": [
      "Exception ignored in: 'fastparquet.cencoding.write_thrift'\n",
      "Traceback (most recent call last):\n",
      "  File \"/home/lukawc/.local/lib/python3.9/site-packages/fastparquet/writer.py\", line 894, in write_simple\n",
      "    foot_size = f.write(fmd.to_bytes())\n",
      "OverflowError: value too large to convert to int\n"
     ]
    },
    {
     "ename": "OverflowError",
     "evalue": "value too large to convert to int",
     "output_type": "error",
     "traceback": [
      "\u001b[0;31m---------------------------------------------------------------------------\u001b[0m",
      "\u001b[0;31mOverflowError\u001b[0m                             Traceback (most recent call last)",
      "\u001b[0;31mOverflowError\u001b[0m: value too large to convert to int"
     ]
    },
    {
     "name": "stderr",
     "output_type": "stream",
     "text": [
      "Exception ignored in: 'fastparquet.cencoding.write_thrift'\n",
      "Traceback (most recent call last):\n",
      "  File \"/home/lukawc/.local/lib/python3.9/site-packages/fastparquet/writer.py\", line 894, in write_simple\n",
      "    foot_size = f.write(fmd.to_bytes())\n",
      "OverflowError: value too large to convert to int\n"
     ]
    },
    {
     "ename": "OverflowError",
     "evalue": "value too large to convert to int",
     "output_type": "error",
     "traceback": [
      "\u001b[0;31m---------------------------------------------------------------------------\u001b[0m",
      "\u001b[0;31mOverflowError\u001b[0m                             Traceback (most recent call last)",
      "\u001b[0;31mOverflowError\u001b[0m: value too large to convert to int"
     ]
    },
    {
     "name": "stderr",
     "output_type": "stream",
     "text": [
      "Exception ignored in: 'fastparquet.cencoding.write_thrift'\n",
      "Traceback (most recent call last):\n",
      "  File \"/home/lukawc/.local/lib/python3.9/site-packages/fastparquet/writer.py\", line 894, in write_simple\n",
      "    foot_size = f.write(fmd.to_bytes())\n",
      "OverflowError: value too large to convert to int\n"
     ]
    },
    {
     "ename": "OverflowError",
     "evalue": "value too large to convert to int",
     "output_type": "error",
     "traceback": [
      "\u001b[0;31m---------------------------------------------------------------------------\u001b[0m",
      "\u001b[0;31mOverflowError\u001b[0m                             Traceback (most recent call last)",
      "\u001b[0;31mOverflowError\u001b[0m: value too large to convert to int"
     ]
    },
    {
     "name": "stderr",
     "output_type": "stream",
     "text": [
      "Exception ignored in: 'fastparquet.cencoding.write_thrift'\n",
      "Traceback (most recent call last):\n",
      "  File \"/home/lukawc/.local/lib/python3.9/site-packages/fastparquet/writer.py\", line 894, in write_simple\n",
      "    foot_size = f.write(fmd.to_bytes())\n",
      "OverflowError: value too large to convert to int\n"
     ]
    },
    {
     "ename": "OverflowError",
     "evalue": "value too large to convert to int",
     "output_type": "error",
     "traceback": [
      "\u001b[0;31m---------------------------------------------------------------------------\u001b[0m",
      "\u001b[0;31mOverflowError\u001b[0m                             Traceback (most recent call last)",
      "\u001b[0;31mOverflowError\u001b[0m: value too large to convert to int"
     ]
    },
    {
     "name": "stderr",
     "output_type": "stream",
     "text": [
      "Exception ignored in: 'fastparquet.cencoding.write_thrift'\n",
      "Traceback (most recent call last):\n",
      "  File \"/home/lukawc/.local/lib/python3.9/site-packages/fastparquet/writer.py\", line 894, in write_simple\n",
      "    foot_size = f.write(fmd.to_bytes())\n",
      "OverflowError: value too large to convert to int\n"
     ]
    },
    {
     "ename": "OverflowError",
     "evalue": "value too large to convert to int",
     "output_type": "error",
     "traceback": [
      "\u001b[0;31m---------------------------------------------------------------------------\u001b[0m",
      "\u001b[0;31mOverflowError\u001b[0m                             Traceback (most recent call last)",
      "\u001b[0;31mOverflowError\u001b[0m: value too large to convert to int"
     ]
    },
    {
     "name": "stderr",
     "output_type": "stream",
     "text": [
      "Exception ignored in: 'fastparquet.cencoding.write_thrift'\n",
      "Traceback (most recent call last):\n",
      "  File \"/home/lukawc/.local/lib/python3.9/site-packages/fastparquet/writer.py\", line 894, in write_simple\n",
      "    foot_size = f.write(fmd.to_bytes())\n",
      "OverflowError: value too large to convert to int\n"
     ]
    },
    {
     "ename": "OverflowError",
     "evalue": "value too large to convert to int",
     "output_type": "error",
     "traceback": [
      "\u001b[0;31m---------------------------------------------------------------------------\u001b[0m",
      "\u001b[0;31mOverflowError\u001b[0m                             Traceback (most recent call last)",
      "\u001b[0;31mOverflowError\u001b[0m: value too large to convert to int"
     ]
    },
    {
     "name": "stderr",
     "output_type": "stream",
     "text": [
      "Exception ignored in: 'fastparquet.cencoding.write_thrift'\n",
      "Traceback (most recent call last):\n",
      "  File \"/home/lukawc/.local/lib/python3.9/site-packages/fastparquet/writer.py\", line 894, in write_simple\n",
      "    foot_size = f.write(fmd.to_bytes())\n",
      "OverflowError: value too large to convert to int\n"
     ]
    },
    {
     "ename": "OverflowError",
     "evalue": "value too large to convert to int",
     "output_type": "error",
     "traceback": [
      "\u001b[0;31m---------------------------------------------------------------------------\u001b[0m",
      "\u001b[0;31mOverflowError\u001b[0m                             Traceback (most recent call last)",
      "\u001b[0;31mOverflowError\u001b[0m: value too large to convert to int"
     ]
    },
    {
     "name": "stderr",
     "output_type": "stream",
     "text": [
      "Exception ignored in: 'fastparquet.cencoding.write_thrift'\n",
      "Traceback (most recent call last):\n",
      "  File \"/home/lukawc/.local/lib/python3.9/site-packages/fastparquet/writer.py\", line 894, in write_simple\n",
      "    foot_size = f.write(fmd.to_bytes())\n",
      "OverflowError: value too large to convert to int\n"
     ]
    },
    {
     "ename": "OverflowError",
     "evalue": "value too large to convert to int",
     "output_type": "error",
     "traceback": [
      "\u001b[0;31m---------------------------------------------------------------------------\u001b[0m",
      "\u001b[0;31mOverflowError\u001b[0m                             Traceback (most recent call last)",
      "\u001b[0;31mOverflowError\u001b[0m: value too large to convert to int"
     ]
    },
    {
     "name": "stderr",
     "output_type": "stream",
     "text": [
      "Exception ignored in: 'fastparquet.cencoding.write_thrift'\n",
      "Traceback (most recent call last):\n",
      "  File \"/home/lukawc/.local/lib/python3.9/site-packages/fastparquet/writer.py\", line 894, in write_simple\n",
      "    foot_size = f.write(fmd.to_bytes())\n",
      "OverflowError: value too large to convert to int\n"
     ]
    },
    {
     "ename": "OverflowError",
     "evalue": "value too large to convert to int",
     "output_type": "error",
     "traceback": [
      "\u001b[0;31m---------------------------------------------------------------------------\u001b[0m",
      "\u001b[0;31mOverflowError\u001b[0m                             Traceback (most recent call last)",
      "\u001b[0;31mOverflowError\u001b[0m: value too large to convert to int"
     ]
    },
    {
     "name": "stderr",
     "output_type": "stream",
     "text": [
      "Exception ignored in: 'fastparquet.cencoding.write_thrift'\n",
      "Traceback (most recent call last):\n",
      "  File \"/home/lukawc/.local/lib/python3.9/site-packages/fastparquet/writer.py\", line 894, in write_simple\n",
      "    foot_size = f.write(fmd.to_bytes())\n",
      "OverflowError: value too large to convert to int\n"
     ]
    },
    {
     "ename": "OverflowError",
     "evalue": "value too large to convert to int",
     "output_type": "error",
     "traceback": [
      "\u001b[0;31m---------------------------------------------------------------------------\u001b[0m",
      "\u001b[0;31mOverflowError\u001b[0m                             Traceback (most recent call last)",
      "\u001b[0;31mOverflowError\u001b[0m: value too large to convert to int"
     ]
    },
    {
     "name": "stderr",
     "output_type": "stream",
     "text": [
      "Exception ignored in: 'fastparquet.cencoding.write_thrift'\n",
      "Traceback (most recent call last):\n",
      "  File \"/home/lukawc/.local/lib/python3.9/site-packages/fastparquet/writer.py\", line 894, in write_simple\n",
      "    foot_size = f.write(fmd.to_bytes())\n",
      "OverflowError: value too large to convert to int\n"
     ]
    },
    {
     "ename": "OverflowError",
     "evalue": "value too large to convert to int",
     "output_type": "error",
     "traceback": [
      "\u001b[0;31m---------------------------------------------------------------------------\u001b[0m",
      "\u001b[0;31mOverflowError\u001b[0m                             Traceback (most recent call last)",
      "\u001b[0;31mOverflowError\u001b[0m: value too large to convert to int"
     ]
    },
    {
     "name": "stderr",
     "output_type": "stream",
     "text": [
      "Exception ignored in: 'fastparquet.cencoding.write_thrift'\n",
      "Traceback (most recent call last):\n",
      "  File \"/home/lukawc/.local/lib/python3.9/site-packages/fastparquet/writer.py\", line 894, in write_simple\n",
      "    foot_size = f.write(fmd.to_bytes())\n",
      "OverflowError: value too large to convert to int\n"
     ]
    },
    {
     "ename": "OverflowError",
     "evalue": "value too large to convert to int",
     "output_type": "error",
     "traceback": [
      "\u001b[0;31m---------------------------------------------------------------------------\u001b[0m",
      "\u001b[0;31mOverflowError\u001b[0m                             Traceback (most recent call last)",
      "\u001b[0;31mOverflowError\u001b[0m: value too large to convert to int"
     ]
    },
    {
     "name": "stderr",
     "output_type": "stream",
     "text": [
      "Exception ignored in: 'fastparquet.cencoding.write_thrift'\n",
      "Traceback (most recent call last):\n",
      "  File \"/home/lukawc/.local/lib/python3.9/site-packages/fastparquet/writer.py\", line 894, in write_simple\n",
      "    foot_size = f.write(fmd.to_bytes())\n",
      "OverflowError: value too large to convert to int\n"
     ]
    },
    {
     "ename": "OverflowError",
     "evalue": "value too large to convert to int",
     "output_type": "error",
     "traceback": [
      "\u001b[0;31m---------------------------------------------------------------------------\u001b[0m",
      "\u001b[0;31mOverflowError\u001b[0m                             Traceback (most recent call last)",
      "\u001b[0;31mOverflowError\u001b[0m: value too large to convert to int"
     ]
    },
    {
     "name": "stderr",
     "output_type": "stream",
     "text": [
      "Exception ignored in: 'fastparquet.cencoding.write_thrift'\n",
      "Traceback (most recent call last):\n",
      "  File \"/home/lukawc/.local/lib/python3.9/site-packages/fastparquet/writer.py\", line 894, in write_simple\n",
      "    foot_size = f.write(fmd.to_bytes())\n",
      "OverflowError: value too large to convert to int\n"
     ]
    },
    {
     "ename": "OverflowError",
     "evalue": "value too large to convert to int",
     "output_type": "error",
     "traceback": [
      "\u001b[0;31m---------------------------------------------------------------------------\u001b[0m",
      "\u001b[0;31mOverflowError\u001b[0m                             Traceback (most recent call last)",
      "\u001b[0;31mOverflowError\u001b[0m: value too large to convert to int"
     ]
    },
    {
     "name": "stderr",
     "output_type": "stream",
     "text": [
      "Exception ignored in: 'fastparquet.cencoding.write_thrift'\n",
      "Traceback (most recent call last):\n",
      "  File \"/home/lukawc/.local/lib/python3.9/site-packages/fastparquet/writer.py\", line 894, in write_simple\n",
      "    foot_size = f.write(fmd.to_bytes())\n",
      "OverflowError: value too large to convert to int\n"
     ]
    },
    {
     "ename": "OverflowError",
     "evalue": "value too large to convert to int",
     "output_type": "error",
     "traceback": [
      "\u001b[0;31m---------------------------------------------------------------------------\u001b[0m",
      "\u001b[0;31mOverflowError\u001b[0m                             Traceback (most recent call last)",
      "\u001b[0;31mOverflowError\u001b[0m: value too large to convert to int"
     ]
    },
    {
     "name": "stderr",
     "output_type": "stream",
     "text": [
      "Exception ignored in: 'fastparquet.cencoding.write_thrift'\n",
      "Traceback (most recent call last):\n",
      "  File \"/home/lukawc/.local/lib/python3.9/site-packages/fastparquet/writer.py\", line 894, in write_simple\n",
      "    foot_size = f.write(fmd.to_bytes())\n",
      "OverflowError: value too large to convert to int\n"
     ]
    },
    {
     "ename": "OverflowError",
     "evalue": "value too large to convert to int",
     "output_type": "error",
     "traceback": [
      "\u001b[0;31m---------------------------------------------------------------------------\u001b[0m",
      "\u001b[0;31mOverflowError\u001b[0m                             Traceback (most recent call last)",
      "\u001b[0;31mOverflowError\u001b[0m: value too large to convert to int"
     ]
    },
    {
     "name": "stderr",
     "output_type": "stream",
     "text": [
      "Exception ignored in: 'fastparquet.cencoding.write_thrift'\n",
      "Traceback (most recent call last):\n",
      "  File \"/home/lukawc/.local/lib/python3.9/site-packages/fastparquet/writer.py\", line 894, in write_simple\n",
      "    foot_size = f.write(fmd.to_bytes())\n",
      "OverflowError: value too large to convert to int\n"
     ]
    },
    {
     "ename": "OverflowError",
     "evalue": "value too large to convert to int",
     "output_type": "error",
     "traceback": [
      "\u001b[0;31m---------------------------------------------------------------------------\u001b[0m",
      "\u001b[0;31mOverflowError\u001b[0m                             Traceback (most recent call last)",
      "\u001b[0;31mOverflowError\u001b[0m: value too large to convert to int"
     ]
    },
    {
     "name": "stderr",
     "output_type": "stream",
     "text": [
      "Exception ignored in: 'fastparquet.cencoding.write_thrift'\n",
      "Traceback (most recent call last):\n",
      "  File \"/home/lukawc/.local/lib/python3.9/site-packages/fastparquet/writer.py\", line 894, in write_simple\n",
      "    foot_size = f.write(fmd.to_bytes())\n",
      "OverflowError: value too large to convert to int\n"
     ]
    },
    {
     "ename": "OverflowError",
     "evalue": "value too large to convert to int",
     "output_type": "error",
     "traceback": [
      "\u001b[0;31m---------------------------------------------------------------------------\u001b[0m",
      "\u001b[0;31mOverflowError\u001b[0m                             Traceback (most recent call last)",
      "\u001b[0;31mOverflowError\u001b[0m: value too large to convert to int"
     ]
    },
    {
     "name": "stderr",
     "output_type": "stream",
     "text": [
      "Exception ignored in: 'fastparquet.cencoding.write_thrift'\n",
      "Traceback (most recent call last):\n",
      "  File \"/home/lukawc/.local/lib/python3.9/site-packages/fastparquet/writer.py\", line 894, in write_simple\n",
      "    foot_size = f.write(fmd.to_bytes())\n",
      "OverflowError: value too large to convert to int\n"
     ]
    },
    {
     "ename": "OverflowError",
     "evalue": "value too large to convert to int",
     "output_type": "error",
     "traceback": [
      "\u001b[0;31m---------------------------------------------------------------------------\u001b[0m",
      "\u001b[0;31mOverflowError\u001b[0m                             Traceback (most recent call last)",
      "\u001b[0;31mOverflowError\u001b[0m: value too large to convert to int"
     ]
    },
    {
     "name": "stderr",
     "output_type": "stream",
     "text": [
      "Exception ignored in: 'fastparquet.cencoding.write_thrift'\n",
      "Traceback (most recent call last):\n",
      "  File \"/home/lukawc/.local/lib/python3.9/site-packages/fastparquet/writer.py\", line 894, in write_simple\n",
      "    foot_size = f.write(fmd.to_bytes())\n",
      "OverflowError: value too large to convert to int\n"
     ]
    },
    {
     "ename": "OverflowError",
     "evalue": "value too large to convert to int",
     "output_type": "error",
     "traceback": [
      "\u001b[0;31m---------------------------------------------------------------------------\u001b[0m",
      "\u001b[0;31mOverflowError\u001b[0m                             Traceback (most recent call last)",
      "\u001b[0;31mOverflowError\u001b[0m: value too large to convert to int"
     ]
    },
    {
     "name": "stderr",
     "output_type": "stream",
     "text": [
      "Exception ignored in: 'fastparquet.cencoding.write_thrift'\n",
      "Traceback (most recent call last):\n",
      "  File \"/home/lukawc/.local/lib/python3.9/site-packages/fastparquet/writer.py\", line 894, in write_simple\n",
      "    foot_size = f.write(fmd.to_bytes())\n",
      "OverflowError: value too large to convert to int\n"
     ]
    },
    {
     "ename": "OverflowError",
     "evalue": "value too large to convert to int",
     "output_type": "error",
     "traceback": [
      "\u001b[0;31m---------------------------------------------------------------------------\u001b[0m",
      "\u001b[0;31mOverflowError\u001b[0m                             Traceback (most recent call last)",
      "\u001b[0;31mOverflowError\u001b[0m: value too large to convert to int"
     ]
    },
    {
     "name": "stderr",
     "output_type": "stream",
     "text": [
      "Exception ignored in: 'fastparquet.cencoding.write_thrift'\n",
      "Traceback (most recent call last):\n",
      "  File \"/home/lukawc/.local/lib/python3.9/site-packages/fastparquet/writer.py\", line 894, in write_simple\n",
      "    foot_size = f.write(fmd.to_bytes())\n",
      "OverflowError: value too large to convert to int\n"
     ]
    },
    {
     "ename": "OverflowError",
     "evalue": "value too large to convert to int",
     "output_type": "error",
     "traceback": [
      "\u001b[0;31m---------------------------------------------------------------------------\u001b[0m",
      "\u001b[0;31mOverflowError\u001b[0m                             Traceback (most recent call last)",
      "\u001b[0;31mOverflowError\u001b[0m: value too large to convert to int"
     ]
    },
    {
     "name": "stderr",
     "output_type": "stream",
     "text": [
      "Exception ignored in: 'fastparquet.cencoding.write_thrift'\n",
      "Traceback (most recent call last):\n",
      "  File \"/home/lukawc/.local/lib/python3.9/site-packages/fastparquet/writer.py\", line 894, in write_simple\n",
      "    foot_size = f.write(fmd.to_bytes())\n",
      "OverflowError: value too large to convert to int\n"
     ]
    },
    {
     "ename": "OverflowError",
     "evalue": "value too large to convert to int",
     "output_type": "error",
     "traceback": [
      "\u001b[0;31m---------------------------------------------------------------------------\u001b[0m",
      "\u001b[0;31mOverflowError\u001b[0m                             Traceback (most recent call last)",
      "\u001b[0;31mOverflowError\u001b[0m: value too large to convert to int"
     ]
    },
    {
     "name": "stderr",
     "output_type": "stream",
     "text": [
      "Exception ignored in: 'fastparquet.cencoding.write_thrift'\n",
      "Traceback (most recent call last):\n",
      "  File \"/home/lukawc/.local/lib/python3.9/site-packages/fastparquet/writer.py\", line 894, in write_simple\n",
      "    foot_size = f.write(fmd.to_bytes())\n",
      "OverflowError: value too large to convert to int\n"
     ]
    },
    {
     "ename": "OverflowError",
     "evalue": "value too large to convert to int",
     "output_type": "error",
     "traceback": [
      "\u001b[0;31m---------------------------------------------------------------------------\u001b[0m",
      "\u001b[0;31mOverflowError\u001b[0m                             Traceback (most recent call last)",
      "\u001b[0;31mOverflowError\u001b[0m: value too large to convert to int"
     ]
    },
    {
     "name": "stderr",
     "output_type": "stream",
     "text": [
      "Exception ignored in: 'fastparquet.cencoding.write_thrift'\n",
      "Traceback (most recent call last):\n",
      "  File \"/home/lukawc/.local/lib/python3.9/site-packages/fastparquet/writer.py\", line 894, in write_simple\n",
      "    foot_size = f.write(fmd.to_bytes())\n",
      "OverflowError: value too large to convert to int\n"
     ]
    },
    {
     "ename": "OverflowError",
     "evalue": "value too large to convert to int",
     "output_type": "error",
     "traceback": [
      "\u001b[0;31m---------------------------------------------------------------------------\u001b[0m",
      "\u001b[0;31mOverflowError\u001b[0m                             Traceback (most recent call last)",
      "\u001b[0;31mOverflowError\u001b[0m: value too large to convert to int"
     ]
    },
    {
     "name": "stderr",
     "output_type": "stream",
     "text": [
      "Exception ignored in: 'fastparquet.cencoding.write_thrift'\n",
      "Traceback (most recent call last):\n",
      "  File \"/home/lukawc/.local/lib/python3.9/site-packages/fastparquet/writer.py\", line 894, in write_simple\n",
      "    foot_size = f.write(fmd.to_bytes())\n",
      "OverflowError: value too large to convert to int\n"
     ]
    },
    {
     "ename": "OverflowError",
     "evalue": "value too large to convert to int",
     "output_type": "error",
     "traceback": [
      "\u001b[0;31m---------------------------------------------------------------------------\u001b[0m",
      "\u001b[0;31mOverflowError\u001b[0m                             Traceback (most recent call last)",
      "\u001b[0;31mOverflowError\u001b[0m: value too large to convert to int"
     ]
    },
    {
     "name": "stderr",
     "output_type": "stream",
     "text": [
      "Exception ignored in: 'fastparquet.cencoding.write_thrift'\n",
      "Traceback (most recent call last):\n",
      "  File \"/home/lukawc/.local/lib/python3.9/site-packages/fastparquet/writer.py\", line 894, in write_simple\n",
      "    foot_size = f.write(fmd.to_bytes())\n",
      "OverflowError: value too large to convert to int\n"
     ]
    },
    {
     "ename": "OverflowError",
     "evalue": "value too large to convert to int",
     "output_type": "error",
     "traceback": [
      "\u001b[0;31m---------------------------------------------------------------------------\u001b[0m",
      "\u001b[0;31mOverflowError\u001b[0m                             Traceback (most recent call last)",
      "\u001b[0;31mOverflowError\u001b[0m: value too large to convert to int"
     ]
    },
    {
     "name": "stderr",
     "output_type": "stream",
     "text": [
      "Exception ignored in: 'fastparquet.cencoding.write_thrift'\n",
      "Traceback (most recent call last):\n",
      "  File \"/home/lukawc/.local/lib/python3.9/site-packages/fastparquet/writer.py\", line 894, in write_simple\n",
      "    foot_size = f.write(fmd.to_bytes())\n",
      "OverflowError: value too large to convert to int\n"
     ]
    },
    {
     "ename": "OverflowError",
     "evalue": "value too large to convert to int",
     "output_type": "error",
     "traceback": [
      "\u001b[0;31m---------------------------------------------------------------------------\u001b[0m",
      "\u001b[0;31mOverflowError\u001b[0m                             Traceback (most recent call last)",
      "\u001b[0;31mOverflowError\u001b[0m: value too large to convert to int"
     ]
    },
    {
     "name": "stderr",
     "output_type": "stream",
     "text": [
      "Exception ignored in: 'fastparquet.cencoding.write_thrift'\n",
      "Traceback (most recent call last):\n",
      "  File \"/home/lukawc/.local/lib/python3.9/site-packages/fastparquet/writer.py\", line 894, in write_simple\n",
      "    foot_size = f.write(fmd.to_bytes())\n",
      "OverflowError: value too large to convert to int\n"
     ]
    },
    {
     "ename": "OverflowError",
     "evalue": "value too large to convert to int",
     "output_type": "error",
     "traceback": [
      "\u001b[0;31m---------------------------------------------------------------------------\u001b[0m",
      "\u001b[0;31mOverflowError\u001b[0m                             Traceback (most recent call last)",
      "\u001b[0;31mOverflowError\u001b[0m: value too large to convert to int"
     ]
    },
    {
     "name": "stderr",
     "output_type": "stream",
     "text": [
      "Exception ignored in: 'fastparquet.cencoding.write_thrift'\n",
      "Traceback (most recent call last):\n",
      "  File \"/home/lukawc/.local/lib/python3.9/site-packages/fastparquet/writer.py\", line 894, in write_simple\n",
      "    foot_size = f.write(fmd.to_bytes())\n",
      "OverflowError: value too large to convert to int\n"
     ]
    },
    {
     "ename": "OverflowError",
     "evalue": "value too large to convert to int",
     "output_type": "error",
     "traceback": [
      "\u001b[0;31m---------------------------------------------------------------------------\u001b[0m",
      "\u001b[0;31mOverflowError\u001b[0m                             Traceback (most recent call last)",
      "\u001b[0;31mOverflowError\u001b[0m: value too large to convert to int"
     ]
    },
    {
     "name": "stderr",
     "output_type": "stream",
     "text": [
      "Exception ignored in: 'fastparquet.cencoding.write_thrift'\n",
      "Traceback (most recent call last):\n",
      "  File \"/home/lukawc/.local/lib/python3.9/site-packages/fastparquet/writer.py\", line 894, in write_simple\n",
      "    foot_size = f.write(fmd.to_bytes())\n",
      "OverflowError: value too large to convert to int\n"
     ]
    },
    {
     "ename": "OverflowError",
     "evalue": "value too large to convert to int",
     "output_type": "error",
     "traceback": [
      "\u001b[0;31m---------------------------------------------------------------------------\u001b[0m",
      "\u001b[0;31mOverflowError\u001b[0m                             Traceback (most recent call last)",
      "\u001b[0;31mOverflowError\u001b[0m: value too large to convert to int"
     ]
    },
    {
     "name": "stderr",
     "output_type": "stream",
     "text": [
      "Exception ignored in: 'fastparquet.cencoding.write_thrift'\n",
      "Traceback (most recent call last):\n",
      "  File \"/home/lukawc/.local/lib/python3.9/site-packages/fastparquet/writer.py\", line 894, in write_simple\n",
      "    foot_size = f.write(fmd.to_bytes())\n",
      "OverflowError: value too large to convert to int\n"
     ]
    },
    {
     "ename": "OverflowError",
     "evalue": "value too large to convert to int",
     "output_type": "error",
     "traceback": [
      "\u001b[0;31m---------------------------------------------------------------------------\u001b[0m",
      "\u001b[0;31mOverflowError\u001b[0m                             Traceback (most recent call last)",
      "\u001b[0;31mOverflowError\u001b[0m: value too large to convert to int"
     ]
    },
    {
     "name": "stderr",
     "output_type": "stream",
     "text": [
      "Exception ignored in: 'fastparquet.cencoding.write_thrift'\n",
      "Traceback (most recent call last):\n",
      "  File \"/home/lukawc/.local/lib/python3.9/site-packages/fastparquet/writer.py\", line 894, in write_simple\n",
      "    foot_size = f.write(fmd.to_bytes())\n",
      "OverflowError: value too large to convert to int\n"
     ]
    },
    {
     "ename": "OverflowError",
     "evalue": "value too large to convert to int",
     "output_type": "error",
     "traceback": [
      "\u001b[0;31m---------------------------------------------------------------------------\u001b[0m",
      "\u001b[0;31mOverflowError\u001b[0m                             Traceback (most recent call last)",
      "\u001b[0;31mOverflowError\u001b[0m: value too large to convert to int"
     ]
    },
    {
     "name": "stderr",
     "output_type": "stream",
     "text": [
      "Exception ignored in: 'fastparquet.cencoding.write_thrift'\n",
      "Traceback (most recent call last):\n",
      "  File \"/home/lukawc/.local/lib/python3.9/site-packages/fastparquet/writer.py\", line 894, in write_simple\n",
      "    foot_size = f.write(fmd.to_bytes())\n",
      "OverflowError: value too large to convert to int\n"
     ]
    },
    {
     "ename": "OverflowError",
     "evalue": "value too large to convert to int",
     "output_type": "error",
     "traceback": [
      "\u001b[0;31m---------------------------------------------------------------------------\u001b[0m",
      "\u001b[0;31mOverflowError\u001b[0m                             Traceback (most recent call last)",
      "\u001b[0;31mOverflowError\u001b[0m: value too large to convert to int"
     ]
    },
    {
     "name": "stderr",
     "output_type": "stream",
     "text": [
      "Exception ignored in: 'fastparquet.cencoding.write_thrift'\n",
      "Traceback (most recent call last):\n",
      "  File \"/home/lukawc/.local/lib/python3.9/site-packages/fastparquet/writer.py\", line 894, in write_simple\n",
      "    foot_size = f.write(fmd.to_bytes())\n",
      "OverflowError: value too large to convert to int\n"
     ]
    },
    {
     "ename": "OverflowError",
     "evalue": "value too large to convert to int",
     "output_type": "error",
     "traceback": [
      "\u001b[0;31m---------------------------------------------------------------------------\u001b[0m",
      "\u001b[0;31mOverflowError\u001b[0m                             Traceback (most recent call last)",
      "\u001b[0;31mOverflowError\u001b[0m: value too large to convert to int"
     ]
    },
    {
     "name": "stderr",
     "output_type": "stream",
     "text": [
      "Exception ignored in: 'fastparquet.cencoding.write_thrift'\n",
      "Traceback (most recent call last):\n",
      "  File \"/home/lukawc/.local/lib/python3.9/site-packages/fastparquet/writer.py\", line 894, in write_simple\n",
      "    foot_size = f.write(fmd.to_bytes())\n",
      "OverflowError: value too large to convert to int\n"
     ]
    },
    {
     "ename": "OverflowError",
     "evalue": "value too large to convert to int",
     "output_type": "error",
     "traceback": [
      "\u001b[0;31m---------------------------------------------------------------------------\u001b[0m",
      "\u001b[0;31mOverflowError\u001b[0m                             Traceback (most recent call last)",
      "\u001b[0;31mOverflowError\u001b[0m: value too large to convert to int"
     ]
    },
    {
     "name": "stderr",
     "output_type": "stream",
     "text": [
      "Exception ignored in: 'fastparquet.cencoding.write_thrift'\n",
      "Traceback (most recent call last):\n",
      "  File \"/home/lukawc/.local/lib/python3.9/site-packages/fastparquet/writer.py\", line 894, in write_simple\n",
      "    foot_size = f.write(fmd.to_bytes())\n",
      "OverflowError: value too large to convert to int\n"
     ]
    },
    {
     "ename": "OverflowError",
     "evalue": "value too large to convert to int",
     "output_type": "error",
     "traceback": [
      "\u001b[0;31m---------------------------------------------------------------------------\u001b[0m",
      "\u001b[0;31mOverflowError\u001b[0m                             Traceback (most recent call last)",
      "\u001b[0;31mOverflowError\u001b[0m: value too large to convert to int"
     ]
    },
    {
     "name": "stderr",
     "output_type": "stream",
     "text": [
      "Exception ignored in: 'fastparquet.cencoding.write_thrift'\n",
      "Traceback (most recent call last):\n",
      "  File \"/home/lukawc/.local/lib/python3.9/site-packages/fastparquet/writer.py\", line 894, in write_simple\n",
      "    foot_size = f.write(fmd.to_bytes())\n",
      "OverflowError: value too large to convert to int\n"
     ]
    },
    {
     "ename": "OverflowError",
     "evalue": "value too large to convert to int",
     "output_type": "error",
     "traceback": [
      "\u001b[0;31m---------------------------------------------------------------------------\u001b[0m",
      "\u001b[0;31mOverflowError\u001b[0m                             Traceback (most recent call last)",
      "\u001b[0;31mOverflowError\u001b[0m: value too large to convert to int"
     ]
    },
    {
     "name": "stderr",
     "output_type": "stream",
     "text": [
      "Exception ignored in: 'fastparquet.cencoding.write_thrift'\n",
      "Traceback (most recent call last):\n",
      "  File \"/home/lukawc/.local/lib/python3.9/site-packages/fastparquet/writer.py\", line 894, in write_simple\n",
      "    foot_size = f.write(fmd.to_bytes())\n",
      "OverflowError: value too large to convert to int\n"
     ]
    },
    {
     "ename": "OverflowError",
     "evalue": "value too large to convert to int",
     "output_type": "error",
     "traceback": [
      "\u001b[0;31m---------------------------------------------------------------------------\u001b[0m",
      "\u001b[0;31mOverflowError\u001b[0m                             Traceback (most recent call last)",
      "\u001b[0;31mOverflowError\u001b[0m: value too large to convert to int"
     ]
    },
    {
     "name": "stderr",
     "output_type": "stream",
     "text": [
      "Exception ignored in: 'fastparquet.cencoding.write_thrift'\n",
      "Traceback (most recent call last):\n",
      "  File \"/home/lukawc/.local/lib/python3.9/site-packages/fastparquet/writer.py\", line 894, in write_simple\n",
      "    foot_size = f.write(fmd.to_bytes())\n",
      "OverflowError: value too large to convert to int\n"
     ]
    },
    {
     "ename": "OverflowError",
     "evalue": "value too large to convert to int",
     "output_type": "error",
     "traceback": [
      "\u001b[0;31m---------------------------------------------------------------------------\u001b[0m",
      "\u001b[0;31mOverflowError\u001b[0m                             Traceback (most recent call last)",
      "\u001b[0;31mOverflowError\u001b[0m: value too large to convert to int"
     ]
    },
    {
     "name": "stderr",
     "output_type": "stream",
     "text": [
      "Exception ignored in: 'fastparquet.cencoding.write_thrift'\n",
      "Traceback (most recent call last):\n",
      "  File \"/home/lukawc/.local/lib/python3.9/site-packages/fastparquet/writer.py\", line 894, in write_simple\n",
      "    foot_size = f.write(fmd.to_bytes())\n",
      "OverflowError: value too large to convert to int\n"
     ]
    },
    {
     "ename": "OverflowError",
     "evalue": "value too large to convert to int",
     "output_type": "error",
     "traceback": [
      "\u001b[0;31m---------------------------------------------------------------------------\u001b[0m",
      "\u001b[0;31mOverflowError\u001b[0m                             Traceback (most recent call last)",
      "\u001b[0;31mOverflowError\u001b[0m: value too large to convert to int"
     ]
    },
    {
     "name": "stderr",
     "output_type": "stream",
     "text": [
      "Exception ignored in: 'fastparquet.cencoding.write_thrift'\n",
      "Traceback (most recent call last):\n",
      "  File \"/home/lukawc/.local/lib/python3.9/site-packages/fastparquet/writer.py\", line 894, in write_simple\n",
      "    foot_size = f.write(fmd.to_bytes())\n",
      "OverflowError: value too large to convert to int\n"
     ]
    },
    {
     "ename": "OverflowError",
     "evalue": "value too large to convert to int",
     "output_type": "error",
     "traceback": [
      "\u001b[0;31m---------------------------------------------------------------------------\u001b[0m",
      "\u001b[0;31mOverflowError\u001b[0m                             Traceback (most recent call last)",
      "\u001b[0;31mOverflowError\u001b[0m: value too large to convert to int"
     ]
    },
    {
     "name": "stderr",
     "output_type": "stream",
     "text": [
      "Exception ignored in: 'fastparquet.cencoding.write_thrift'\n",
      "Traceback (most recent call last):\n",
      "  File \"/home/lukawc/.local/lib/python3.9/site-packages/fastparquet/writer.py\", line 894, in write_simple\n",
      "    foot_size = f.write(fmd.to_bytes())\n",
      "OverflowError: value too large to convert to int\n"
     ]
    },
    {
     "ename": "OverflowError",
     "evalue": "value too large to convert to int",
     "output_type": "error",
     "traceback": [
      "\u001b[0;31m---------------------------------------------------------------------------\u001b[0m",
      "\u001b[0;31mOverflowError\u001b[0m                             Traceback (most recent call last)",
      "\u001b[0;31mOverflowError\u001b[0m: value too large to convert to int"
     ]
    },
    {
     "name": "stderr",
     "output_type": "stream",
     "text": [
      "Exception ignored in: 'fastparquet.cencoding.write_thrift'\n",
      "Traceback (most recent call last):\n",
      "  File \"/home/lukawc/.local/lib/python3.9/site-packages/fastparquet/writer.py\", line 894, in write_simple\n",
      "    foot_size = f.write(fmd.to_bytes())\n",
      "OverflowError: value too large to convert to int\n"
     ]
    },
    {
     "ename": "OverflowError",
     "evalue": "value too large to convert to int",
     "output_type": "error",
     "traceback": [
      "\u001b[0;31m---------------------------------------------------------------------------\u001b[0m",
      "\u001b[0;31mOverflowError\u001b[0m                             Traceback (most recent call last)",
      "\u001b[0;31mOverflowError\u001b[0m: value too large to convert to int"
     ]
    },
    {
     "name": "stderr",
     "output_type": "stream",
     "text": [
      "Exception ignored in: 'fastparquet.cencoding.write_thrift'\n",
      "Traceback (most recent call last):\n",
      "  File \"/home/lukawc/.local/lib/python3.9/site-packages/fastparquet/writer.py\", line 894, in write_simple\n",
      "    foot_size = f.write(fmd.to_bytes())\n",
      "OverflowError: value too large to convert to int\n"
     ]
    },
    {
     "ename": "OverflowError",
     "evalue": "value too large to convert to int",
     "output_type": "error",
     "traceback": [
      "\u001b[0;31m---------------------------------------------------------------------------\u001b[0m",
      "\u001b[0;31mOverflowError\u001b[0m                             Traceback (most recent call last)",
      "\u001b[0;31mOverflowError\u001b[0m: value too large to convert to int"
     ]
    },
    {
     "name": "stderr",
     "output_type": "stream",
     "text": [
      "Exception ignored in: 'fastparquet.cencoding.write_thrift'\n",
      "Traceback (most recent call last):\n",
      "  File \"/home/lukawc/.local/lib/python3.9/site-packages/fastparquet/writer.py\", line 894, in write_simple\n",
      "    foot_size = f.write(fmd.to_bytes())\n",
      "OverflowError: value too large to convert to int\n"
     ]
    },
    {
     "ename": "OverflowError",
     "evalue": "value too large to convert to int",
     "output_type": "error",
     "traceback": [
      "\u001b[0;31m---------------------------------------------------------------------------\u001b[0m",
      "\u001b[0;31mOverflowError\u001b[0m                             Traceback (most recent call last)",
      "\u001b[0;31mOverflowError\u001b[0m: value too large to convert to int"
     ]
    },
    {
     "name": "stderr",
     "output_type": "stream",
     "text": [
      "Exception ignored in: 'fastparquet.cencoding.write_thrift'\n",
      "Traceback (most recent call last):\n",
      "  File \"/home/lukawc/.local/lib/python3.9/site-packages/fastparquet/writer.py\", line 894, in write_simple\n",
      "    foot_size = f.write(fmd.to_bytes())\n",
      "OverflowError: value too large to convert to int\n"
     ]
    },
    {
     "ename": "OverflowError",
     "evalue": "value too large to convert to int",
     "output_type": "error",
     "traceback": [
      "\u001b[0;31m---------------------------------------------------------------------------\u001b[0m",
      "\u001b[0;31mOverflowError\u001b[0m                             Traceback (most recent call last)",
      "\u001b[0;31mOverflowError\u001b[0m: value too large to convert to int"
     ]
    },
    {
     "name": "stderr",
     "output_type": "stream",
     "text": [
      "Exception ignored in: 'fastparquet.cencoding.write_thrift'\n",
      "Traceback (most recent call last):\n",
      "  File \"/home/lukawc/.local/lib/python3.9/site-packages/fastparquet/writer.py\", line 894, in write_simple\n",
      "    foot_size = f.write(fmd.to_bytes())\n",
      "OverflowError: value too large to convert to int\n"
     ]
    },
    {
     "ename": "OverflowError",
     "evalue": "value too large to convert to int",
     "output_type": "error",
     "traceback": [
      "\u001b[0;31m---------------------------------------------------------------------------\u001b[0m",
      "\u001b[0;31mOverflowError\u001b[0m                             Traceback (most recent call last)",
      "\u001b[0;31mOverflowError\u001b[0m: value too large to convert to int"
     ]
    },
    {
     "name": "stderr",
     "output_type": "stream",
     "text": [
      "Exception ignored in: 'fastparquet.cencoding.write_thrift'\n",
      "Traceback (most recent call last):\n",
      "  File \"/home/lukawc/.local/lib/python3.9/site-packages/fastparquet/writer.py\", line 894, in write_simple\n",
      "    foot_size = f.write(fmd.to_bytes())\n",
      "OverflowError: value too large to convert to int\n"
     ]
    },
    {
     "ename": "OverflowError",
     "evalue": "value too large to convert to int",
     "output_type": "error",
     "traceback": [
      "\u001b[0;31m---------------------------------------------------------------------------\u001b[0m",
      "\u001b[0;31mOverflowError\u001b[0m                             Traceback (most recent call last)",
      "\u001b[0;31mOverflowError\u001b[0m: value too large to convert to int"
     ]
    },
    {
     "name": "stderr",
     "output_type": "stream",
     "text": [
      "Exception ignored in: 'fastparquet.cencoding.write_thrift'\n",
      "Traceback (most recent call last):\n",
      "  File \"/home/lukawc/.local/lib/python3.9/site-packages/fastparquet/writer.py\", line 894, in write_simple\n",
      "    foot_size = f.write(fmd.to_bytes())\n",
      "OverflowError: value too large to convert to int\n"
     ]
    },
    {
     "ename": "OverflowError",
     "evalue": "value too large to convert to int",
     "output_type": "error",
     "traceback": [
      "\u001b[0;31m---------------------------------------------------------------------------\u001b[0m",
      "\u001b[0;31mOverflowError\u001b[0m                             Traceback (most recent call last)",
      "\u001b[0;31mOverflowError\u001b[0m: value too large to convert to int"
     ]
    },
    {
     "name": "stderr",
     "output_type": "stream",
     "text": [
      "Exception ignored in: 'fastparquet.cencoding.write_thrift'\n",
      "Traceback (most recent call last):\n",
      "  File \"/home/lukawc/.local/lib/python3.9/site-packages/fastparquet/writer.py\", line 894, in write_simple\n",
      "    foot_size = f.write(fmd.to_bytes())\n",
      "OverflowError: value too large to convert to int\n"
     ]
    },
    {
     "ename": "OverflowError",
     "evalue": "value too large to convert to int",
     "output_type": "error",
     "traceback": [
      "\u001b[0;31m---------------------------------------------------------------------------\u001b[0m",
      "\u001b[0;31mOverflowError\u001b[0m                             Traceback (most recent call last)",
      "\u001b[0;31mOverflowError\u001b[0m: value too large to convert to int"
     ]
    },
    {
     "name": "stderr",
     "output_type": "stream",
     "text": [
      "Exception ignored in: 'fastparquet.cencoding.write_thrift'\n",
      "Traceback (most recent call last):\n",
      "  File \"/home/lukawc/.local/lib/python3.9/site-packages/fastparquet/writer.py\", line 894, in write_simple\n",
      "    foot_size = f.write(fmd.to_bytes())\n",
      "OverflowError: value too large to convert to int\n"
     ]
    },
    {
     "ename": "OverflowError",
     "evalue": "value too large to convert to int",
     "output_type": "error",
     "traceback": [
      "\u001b[0;31m---------------------------------------------------------------------------\u001b[0m",
      "\u001b[0;31mOverflowError\u001b[0m                             Traceback (most recent call last)",
      "\u001b[0;31mOverflowError\u001b[0m: value too large to convert to int"
     ]
    },
    {
     "name": "stderr",
     "output_type": "stream",
     "text": [
      "Exception ignored in: 'fastparquet.cencoding.write_thrift'\n",
      "Traceback (most recent call last):\n",
      "  File \"/home/lukawc/.local/lib/python3.9/site-packages/fastparquet/writer.py\", line 894, in write_simple\n",
      "    foot_size = f.write(fmd.to_bytes())\n",
      "OverflowError: value too large to convert to int\n"
     ]
    },
    {
     "ename": "OverflowError",
     "evalue": "value too large to convert to int",
     "output_type": "error",
     "traceback": [
      "\u001b[0;31m---------------------------------------------------------------------------\u001b[0m",
      "\u001b[0;31mOverflowError\u001b[0m                             Traceback (most recent call last)",
      "\u001b[0;31mOverflowError\u001b[0m: value too large to convert to int"
     ]
    },
    {
     "name": "stderr",
     "output_type": "stream",
     "text": [
      "Exception ignored in: 'fastparquet.cencoding.write_thrift'\n",
      "Traceback (most recent call last):\n",
      "  File \"/home/lukawc/.local/lib/python3.9/site-packages/fastparquet/writer.py\", line 894, in write_simple\n",
      "    foot_size = f.write(fmd.to_bytes())\n",
      "OverflowError: value too large to convert to int\n"
     ]
    },
    {
     "ename": "OverflowError",
     "evalue": "value too large to convert to int",
     "output_type": "error",
     "traceback": [
      "\u001b[0;31m---------------------------------------------------------------------------\u001b[0m",
      "\u001b[0;31mOverflowError\u001b[0m                             Traceback (most recent call last)",
      "\u001b[0;31mOverflowError\u001b[0m: value too large to convert to int"
     ]
    },
    {
     "name": "stderr",
     "output_type": "stream",
     "text": [
      "Exception ignored in: 'fastparquet.cencoding.write_thrift'\n",
      "Traceback (most recent call last):\n",
      "  File \"/home/lukawc/.local/lib/python3.9/site-packages/fastparquet/writer.py\", line 894, in write_simple\n",
      "    foot_size = f.write(fmd.to_bytes())\n",
      "OverflowError: value too large to convert to int\n"
     ]
    },
    {
     "ename": "OverflowError",
     "evalue": "value too large to convert to int",
     "output_type": "error",
     "traceback": [
      "\u001b[0;31m---------------------------------------------------------------------------\u001b[0m",
      "\u001b[0;31mOverflowError\u001b[0m                             Traceback (most recent call last)",
      "\u001b[0;31mOverflowError\u001b[0m: value too large to convert to int"
     ]
    },
    {
     "name": "stderr",
     "output_type": "stream",
     "text": [
      "Exception ignored in: 'fastparquet.cencoding.write_thrift'\n",
      "Traceback (most recent call last):\n",
      "  File \"/home/lukawc/.local/lib/python3.9/site-packages/fastparquet/writer.py\", line 894, in write_simple\n",
      "    foot_size = f.write(fmd.to_bytes())\n",
      "OverflowError: value too large to convert to int\n"
     ]
    },
    {
     "ename": "OverflowError",
     "evalue": "value too large to convert to int",
     "output_type": "error",
     "traceback": [
      "\u001b[0;31m---------------------------------------------------------------------------\u001b[0m",
      "\u001b[0;31mOverflowError\u001b[0m                             Traceback (most recent call last)",
      "\u001b[0;31mOverflowError\u001b[0m: value too large to convert to int"
     ]
    },
    {
     "name": "stderr",
     "output_type": "stream",
     "text": [
      "Exception ignored in: 'fastparquet.cencoding.write_thrift'\n",
      "Traceback (most recent call last):\n",
      "  File \"/home/lukawc/.local/lib/python3.9/site-packages/fastparquet/writer.py\", line 894, in write_simple\n",
      "    foot_size = f.write(fmd.to_bytes())\n",
      "OverflowError: value too large to convert to int\n"
     ]
    },
    {
     "ename": "OverflowError",
     "evalue": "value too large to convert to int",
     "output_type": "error",
     "traceback": [
      "\u001b[0;31m---------------------------------------------------------------------------\u001b[0m",
      "\u001b[0;31mOverflowError\u001b[0m                             Traceback (most recent call last)",
      "\u001b[0;31mOverflowError\u001b[0m: value too large to convert to int"
     ]
    },
    {
     "name": "stderr",
     "output_type": "stream",
     "text": [
      "Exception ignored in: 'fastparquet.cencoding.write_thrift'\n",
      "Traceback (most recent call last):\n",
      "  File \"/home/lukawc/.local/lib/python3.9/site-packages/fastparquet/writer.py\", line 894, in write_simple\n",
      "    foot_size = f.write(fmd.to_bytes())\n",
      "OverflowError: value too large to convert to int\n"
     ]
    },
    {
     "ename": "OverflowError",
     "evalue": "value too large to convert to int",
     "output_type": "error",
     "traceback": [
      "\u001b[0;31m---------------------------------------------------------------------------\u001b[0m",
      "\u001b[0;31mOverflowError\u001b[0m                             Traceback (most recent call last)",
      "\u001b[0;31mOverflowError\u001b[0m: value too large to convert to int"
     ]
    },
    {
     "name": "stderr",
     "output_type": "stream",
     "text": [
      "Exception ignored in: 'fastparquet.cencoding.write_thrift'\n",
      "Traceback (most recent call last):\n",
      "  File \"/home/lukawc/.local/lib/python3.9/site-packages/fastparquet/writer.py\", line 894, in write_simple\n",
      "    foot_size = f.write(fmd.to_bytes())\n",
      "OverflowError: value too large to convert to int\n"
     ]
    },
    {
     "ename": "OverflowError",
     "evalue": "value too large to convert to int",
     "output_type": "error",
     "traceback": [
      "\u001b[0;31m---------------------------------------------------------------------------\u001b[0m",
      "\u001b[0;31mOverflowError\u001b[0m                             Traceback (most recent call last)",
      "\u001b[0;31mOverflowError\u001b[0m: value too large to convert to int"
     ]
    },
    {
     "name": "stderr",
     "output_type": "stream",
     "text": [
      "Exception ignored in: 'fastparquet.cencoding.write_thrift'\n",
      "Traceback (most recent call last):\n",
      "  File \"/home/lukawc/.local/lib/python3.9/site-packages/fastparquet/writer.py\", line 894, in write_simple\n",
      "    foot_size = f.write(fmd.to_bytes())\n",
      "OverflowError: value too large to convert to int\n"
     ]
    },
    {
     "ename": "OverflowError",
     "evalue": "value too large to convert to int",
     "output_type": "error",
     "traceback": [
      "\u001b[0;31m---------------------------------------------------------------------------\u001b[0m",
      "\u001b[0;31mOverflowError\u001b[0m                             Traceback (most recent call last)",
      "\u001b[0;31mOverflowError\u001b[0m: value too large to convert to int"
     ]
    },
    {
     "name": "stderr",
     "output_type": "stream",
     "text": [
      "Exception ignored in: 'fastparquet.cencoding.write_thrift'\n",
      "Traceback (most recent call last):\n",
      "  File \"/home/lukawc/.local/lib/python3.9/site-packages/fastparquet/writer.py\", line 894, in write_simple\n",
      "    foot_size = f.write(fmd.to_bytes())\n",
      "OverflowError: value too large to convert to int\n"
     ]
    },
    {
     "ename": "OverflowError",
     "evalue": "value too large to convert to int",
     "output_type": "error",
     "traceback": [
      "\u001b[0;31m---------------------------------------------------------------------------\u001b[0m",
      "\u001b[0;31mOverflowError\u001b[0m                             Traceback (most recent call last)",
      "\u001b[0;31mOverflowError\u001b[0m: value too large to convert to int"
     ]
    },
    {
     "name": "stderr",
     "output_type": "stream",
     "text": [
      "Exception ignored in: 'fastparquet.cencoding.write_thrift'\n",
      "Traceback (most recent call last):\n",
      "  File \"/home/lukawc/.local/lib/python3.9/site-packages/fastparquet/writer.py\", line 894, in write_simple\n",
      "    foot_size = f.write(fmd.to_bytes())\n",
      "OverflowError: value too large to convert to int\n"
     ]
    },
    {
     "ename": "OverflowError",
     "evalue": "value too large to convert to int",
     "output_type": "error",
     "traceback": [
      "\u001b[0;31m---------------------------------------------------------------------------\u001b[0m",
      "\u001b[0;31mOverflowError\u001b[0m                             Traceback (most recent call last)",
      "\u001b[0;31mOverflowError\u001b[0m: value too large to convert to int"
     ]
    },
    {
     "name": "stderr",
     "output_type": "stream",
     "text": [
      "Exception ignored in: 'fastparquet.cencoding.write_thrift'\n",
      "Traceback (most recent call last):\n",
      "  File \"/home/lukawc/.local/lib/python3.9/site-packages/fastparquet/writer.py\", line 894, in write_simple\n",
      "    foot_size = f.write(fmd.to_bytes())\n",
      "OverflowError: value too large to convert to int\n"
     ]
    },
    {
     "ename": "OverflowError",
     "evalue": "value too large to convert to int",
     "output_type": "error",
     "traceback": [
      "\u001b[0;31m---------------------------------------------------------------------------\u001b[0m",
      "\u001b[0;31mOverflowError\u001b[0m                             Traceback (most recent call last)",
      "\u001b[0;31mOverflowError\u001b[0m: value too large to convert to int"
     ]
    },
    {
     "name": "stderr",
     "output_type": "stream",
     "text": [
      "Exception ignored in: 'fastparquet.cencoding.write_thrift'\n",
      "Traceback (most recent call last):\n",
      "  File \"/home/lukawc/.local/lib/python3.9/site-packages/fastparquet/writer.py\", line 894, in write_simple\n",
      "    foot_size = f.write(fmd.to_bytes())\n",
      "OverflowError: value too large to convert to int\n"
     ]
    },
    {
     "ename": "OverflowError",
     "evalue": "value too large to convert to int",
     "output_type": "error",
     "traceback": [
      "\u001b[0;31m---------------------------------------------------------------------------\u001b[0m",
      "\u001b[0;31mOverflowError\u001b[0m                             Traceback (most recent call last)",
      "\u001b[0;31mOverflowError\u001b[0m: value too large to convert to int"
     ]
    },
    {
     "name": "stderr",
     "output_type": "stream",
     "text": [
      "Exception ignored in: 'fastparquet.cencoding.write_thrift'\n",
      "Traceback (most recent call last):\n",
      "  File \"/home/lukawc/.local/lib/python3.9/site-packages/fastparquet/writer.py\", line 894, in write_simple\n",
      "    foot_size = f.write(fmd.to_bytes())\n",
      "OverflowError: value too large to convert to int\n"
     ]
    },
    {
     "ename": "OverflowError",
     "evalue": "value too large to convert to int",
     "output_type": "error",
     "traceback": [
      "\u001b[0;31m---------------------------------------------------------------------------\u001b[0m",
      "\u001b[0;31mOverflowError\u001b[0m                             Traceback (most recent call last)",
      "\u001b[0;31mOverflowError\u001b[0m: value too large to convert to int"
     ]
    },
    {
     "name": "stderr",
     "output_type": "stream",
     "text": [
      "Exception ignored in: 'fastparquet.cencoding.write_thrift'\n",
      "Traceback (most recent call last):\n",
      "  File \"/home/lukawc/.local/lib/python3.9/site-packages/fastparquet/writer.py\", line 894, in write_simple\n",
      "    foot_size = f.write(fmd.to_bytes())\n",
      "OverflowError: value too large to convert to int\n"
     ]
    },
    {
     "ename": "OverflowError",
     "evalue": "value too large to convert to int",
     "output_type": "error",
     "traceback": [
      "\u001b[0;31m---------------------------------------------------------------------------\u001b[0m",
      "\u001b[0;31mOverflowError\u001b[0m                             Traceback (most recent call last)",
      "\u001b[0;31mOverflowError\u001b[0m: value too large to convert to int"
     ]
    },
    {
     "name": "stderr",
     "output_type": "stream",
     "text": [
      "Exception ignored in: 'fastparquet.cencoding.write_thrift'\n",
      "Traceback (most recent call last):\n",
      "  File \"/home/lukawc/.local/lib/python3.9/site-packages/fastparquet/writer.py\", line 894, in write_simple\n",
      "    foot_size = f.write(fmd.to_bytes())\n",
      "OverflowError: value too large to convert to int\n"
     ]
    },
    {
     "ename": "OverflowError",
     "evalue": "value too large to convert to int",
     "output_type": "error",
     "traceback": [
      "\u001b[0;31m---------------------------------------------------------------------------\u001b[0m",
      "\u001b[0;31mOverflowError\u001b[0m                             Traceback (most recent call last)",
      "\u001b[0;31mOverflowError\u001b[0m: value too large to convert to int"
     ]
    },
    {
     "name": "stderr",
     "output_type": "stream",
     "text": [
      "Exception ignored in: 'fastparquet.cencoding.write_thrift'\n",
      "Traceback (most recent call last):\n",
      "  File \"/home/lukawc/.local/lib/python3.9/site-packages/fastparquet/writer.py\", line 894, in write_simple\n",
      "    foot_size = f.write(fmd.to_bytes())\n",
      "OverflowError: value too large to convert to int\n"
     ]
    },
    {
     "ename": "OverflowError",
     "evalue": "value too large to convert to int",
     "output_type": "error",
     "traceback": [
      "\u001b[0;31m---------------------------------------------------------------------------\u001b[0m",
      "\u001b[0;31mOverflowError\u001b[0m                             Traceback (most recent call last)",
      "\u001b[0;31mOverflowError\u001b[0m: value too large to convert to int"
     ]
    },
    {
     "name": "stderr",
     "output_type": "stream",
     "text": [
      "Exception ignored in: 'fastparquet.cencoding.write_thrift'\n",
      "Traceback (most recent call last):\n",
      "  File \"/home/lukawc/.local/lib/python3.9/site-packages/fastparquet/writer.py\", line 894, in write_simple\n",
      "    foot_size = f.write(fmd.to_bytes())\n",
      "OverflowError: value too large to convert to int\n"
     ]
    },
    {
     "ename": "OverflowError",
     "evalue": "value too large to convert to int",
     "output_type": "error",
     "traceback": [
      "\u001b[0;31m---------------------------------------------------------------------------\u001b[0m",
      "\u001b[0;31mOverflowError\u001b[0m                             Traceback (most recent call last)",
      "\u001b[0;31mOverflowError\u001b[0m: value too large to convert to int"
     ]
    },
    {
     "name": "stderr",
     "output_type": "stream",
     "text": [
      "Exception ignored in: 'fastparquet.cencoding.write_thrift'\n",
      "Traceback (most recent call last):\n",
      "  File \"/home/lukawc/.local/lib/python3.9/site-packages/fastparquet/writer.py\", line 894, in write_simple\n",
      "    foot_size = f.write(fmd.to_bytes())\n",
      "OverflowError: value too large to convert to int\n"
     ]
    },
    {
     "ename": "OverflowError",
     "evalue": "value too large to convert to int",
     "output_type": "error",
     "traceback": [
      "\u001b[0;31m---------------------------------------------------------------------------\u001b[0m",
      "\u001b[0;31mOverflowError\u001b[0m                             Traceback (most recent call last)",
      "\u001b[0;31mOverflowError\u001b[0m: value too large to convert to int"
     ]
    },
    {
     "name": "stderr",
     "output_type": "stream",
     "text": [
      "Exception ignored in: 'fastparquet.cencoding.write_thrift'\n",
      "Traceback (most recent call last):\n",
      "  File \"/home/lukawc/.local/lib/python3.9/site-packages/fastparquet/writer.py\", line 894, in write_simple\n",
      "    foot_size = f.write(fmd.to_bytes())\n",
      "OverflowError: value too large to convert to int\n"
     ]
    },
    {
     "ename": "OverflowError",
     "evalue": "value too large to convert to int",
     "output_type": "error",
     "traceback": [
      "\u001b[0;31m---------------------------------------------------------------------------\u001b[0m",
      "\u001b[0;31mOverflowError\u001b[0m                             Traceback (most recent call last)",
      "\u001b[0;31mOverflowError\u001b[0m: value too large to convert to int"
     ]
    },
    {
     "name": "stderr",
     "output_type": "stream",
     "text": [
      "Exception ignored in: 'fastparquet.cencoding.write_thrift'\n",
      "Traceback (most recent call last):\n",
      "  File \"/home/lukawc/.local/lib/python3.9/site-packages/fastparquet/writer.py\", line 894, in write_simple\n",
      "    foot_size = f.write(fmd.to_bytes())\n",
      "OverflowError: value too large to convert to int\n"
     ]
    },
    {
     "ename": "OverflowError",
     "evalue": "value too large to convert to int",
     "output_type": "error",
     "traceback": [
      "\u001b[0;31m---------------------------------------------------------------------------\u001b[0m",
      "\u001b[0;31mOverflowError\u001b[0m                             Traceback (most recent call last)",
      "\u001b[0;31mOverflowError\u001b[0m: value too large to convert to int"
     ]
    },
    {
     "name": "stderr",
     "output_type": "stream",
     "text": [
      "Exception ignored in: 'fastparquet.cencoding.write_thrift'\n",
      "Traceback (most recent call last):\n",
      "  File \"/home/lukawc/.local/lib/python3.9/site-packages/fastparquet/writer.py\", line 894, in write_simple\n",
      "    foot_size = f.write(fmd.to_bytes())\n",
      "OverflowError: value too large to convert to int\n"
     ]
    },
    {
     "ename": "OverflowError",
     "evalue": "value too large to convert to int",
     "output_type": "error",
     "traceback": [
      "\u001b[0;31m---------------------------------------------------------------------------\u001b[0m",
      "\u001b[0;31mOverflowError\u001b[0m                             Traceback (most recent call last)",
      "\u001b[0;31mOverflowError\u001b[0m: value too large to convert to int"
     ]
    },
    {
     "name": "stderr",
     "output_type": "stream",
     "text": [
      "Exception ignored in: 'fastparquet.cencoding.write_thrift'\n",
      "Traceback (most recent call last):\n",
      "  File \"/home/lukawc/.local/lib/python3.9/site-packages/fastparquet/writer.py\", line 894, in write_simple\n",
      "    foot_size = f.write(fmd.to_bytes())\n",
      "OverflowError: value too large to convert to int\n"
     ]
    },
    {
     "ename": "OverflowError",
     "evalue": "value too large to convert to int",
     "output_type": "error",
     "traceback": [
      "\u001b[0;31m---------------------------------------------------------------------------\u001b[0m",
      "\u001b[0;31mOverflowError\u001b[0m                             Traceback (most recent call last)",
      "\u001b[0;31mOverflowError\u001b[0m: value too large to convert to int"
     ]
    },
    {
     "name": "stderr",
     "output_type": "stream",
     "text": [
      "Exception ignored in: 'fastparquet.cencoding.write_thrift'\n",
      "Traceback (most recent call last):\n",
      "  File \"/home/lukawc/.local/lib/python3.9/site-packages/fastparquet/writer.py\", line 894, in write_simple\n",
      "    foot_size = f.write(fmd.to_bytes())\n",
      "OverflowError: value too large to convert to int\n"
     ]
    },
    {
     "ename": "OverflowError",
     "evalue": "value too large to convert to int",
     "output_type": "error",
     "traceback": [
      "\u001b[0;31m---------------------------------------------------------------------------\u001b[0m",
      "\u001b[0;31mOverflowError\u001b[0m                             Traceback (most recent call last)",
      "\u001b[0;31mOverflowError\u001b[0m: value too large to convert to int"
     ]
    },
    {
     "name": "stderr",
     "output_type": "stream",
     "text": [
      "Exception ignored in: 'fastparquet.cencoding.write_thrift'\n",
      "Traceback (most recent call last):\n",
      "  File \"/home/lukawc/.local/lib/python3.9/site-packages/fastparquet/writer.py\", line 894, in write_simple\n",
      "    foot_size = f.write(fmd.to_bytes())\n",
      "OverflowError: value too large to convert to int\n"
     ]
    },
    {
     "ename": "OverflowError",
     "evalue": "value too large to convert to int",
     "output_type": "error",
     "traceback": [
      "\u001b[0;31m---------------------------------------------------------------------------\u001b[0m",
      "\u001b[0;31mOverflowError\u001b[0m                             Traceback (most recent call last)",
      "\u001b[0;31mOverflowError\u001b[0m: value too large to convert to int"
     ]
    },
    {
     "name": "stderr",
     "output_type": "stream",
     "text": [
      "Exception ignored in: 'fastparquet.cencoding.write_thrift'\n",
      "Traceback (most recent call last):\n",
      "  File \"/home/lukawc/.local/lib/python3.9/site-packages/fastparquet/writer.py\", line 894, in write_simple\n",
      "    foot_size = f.write(fmd.to_bytes())\n",
      "OverflowError: value too large to convert to int\n"
     ]
    },
    {
     "ename": "OverflowError",
     "evalue": "value too large to convert to int",
     "output_type": "error",
     "traceback": [
      "\u001b[0;31m---------------------------------------------------------------------------\u001b[0m",
      "\u001b[0;31mOverflowError\u001b[0m                             Traceback (most recent call last)",
      "\u001b[0;31mOverflowError\u001b[0m: value too large to convert to int"
     ]
    },
    {
     "name": "stderr",
     "output_type": "stream",
     "text": [
      "Exception ignored in: 'fastparquet.cencoding.write_thrift'\n",
      "Traceback (most recent call last):\n",
      "  File \"/home/lukawc/.local/lib/python3.9/site-packages/fastparquet/writer.py\", line 894, in write_simple\n",
      "    foot_size = f.write(fmd.to_bytes())\n",
      "OverflowError: value too large to convert to int\n"
     ]
    },
    {
     "ename": "OverflowError",
     "evalue": "value too large to convert to int",
     "output_type": "error",
     "traceback": [
      "\u001b[0;31m---------------------------------------------------------------------------\u001b[0m",
      "\u001b[0;31mOverflowError\u001b[0m                             Traceback (most recent call last)",
      "\u001b[0;31mOverflowError\u001b[0m: value too large to convert to int"
     ]
    },
    {
     "name": "stderr",
     "output_type": "stream",
     "text": [
      "Exception ignored in: 'fastparquet.cencoding.write_thrift'\n",
      "Traceback (most recent call last):\n",
      "  File \"/home/lukawc/.local/lib/python3.9/site-packages/fastparquet/writer.py\", line 894, in write_simple\n",
      "    foot_size = f.write(fmd.to_bytes())\n",
      "OverflowError: value too large to convert to int\n"
     ]
    },
    {
     "ename": "OverflowError",
     "evalue": "value too large to convert to int",
     "output_type": "error",
     "traceback": [
      "\u001b[0;31m---------------------------------------------------------------------------\u001b[0m",
      "\u001b[0;31mOverflowError\u001b[0m                             Traceback (most recent call last)",
      "\u001b[0;31mOverflowError\u001b[0m: value too large to convert to int"
     ]
    },
    {
     "name": "stderr",
     "output_type": "stream",
     "text": [
      "Exception ignored in: 'fastparquet.cencoding.write_thrift'\n",
      "Traceback (most recent call last):\n",
      "  File \"/home/lukawc/.local/lib/python3.9/site-packages/fastparquet/writer.py\", line 894, in write_simple\n",
      "    foot_size = f.write(fmd.to_bytes())\n",
      "OverflowError: value too large to convert to int\n"
     ]
    },
    {
     "ename": "OverflowError",
     "evalue": "value too large to convert to int",
     "output_type": "error",
     "traceback": [
      "\u001b[0;31m---------------------------------------------------------------------------\u001b[0m",
      "\u001b[0;31mOverflowError\u001b[0m                             Traceback (most recent call last)",
      "\u001b[0;31mOverflowError\u001b[0m: value too large to convert to int"
     ]
    },
    {
     "name": "stderr",
     "output_type": "stream",
     "text": [
      "Exception ignored in: 'fastparquet.cencoding.write_thrift'\n",
      "Traceback (most recent call last):\n",
      "  File \"/home/lukawc/.local/lib/python3.9/site-packages/fastparquet/writer.py\", line 894, in write_simple\n",
      "    foot_size = f.write(fmd.to_bytes())\n",
      "OverflowError: value too large to convert to int\n"
     ]
    },
    {
     "ename": "OverflowError",
     "evalue": "value too large to convert to int",
     "output_type": "error",
     "traceback": [
      "\u001b[0;31m---------------------------------------------------------------------------\u001b[0m",
      "\u001b[0;31mOverflowError\u001b[0m                             Traceback (most recent call last)",
      "\u001b[0;31mOverflowError\u001b[0m: value too large to convert to int"
     ]
    },
    {
     "name": "stderr",
     "output_type": "stream",
     "text": [
      "Exception ignored in: 'fastparquet.cencoding.write_thrift'\n",
      "Traceback (most recent call last):\n",
      "  File \"/home/lukawc/.local/lib/python3.9/site-packages/fastparquet/writer.py\", line 894, in write_simple\n",
      "    foot_size = f.write(fmd.to_bytes())\n",
      "OverflowError: value too large to convert to int\n"
     ]
    },
    {
     "ename": "OverflowError",
     "evalue": "value too large to convert to int",
     "output_type": "error",
     "traceback": [
      "\u001b[0;31m---------------------------------------------------------------------------\u001b[0m",
      "\u001b[0;31mOverflowError\u001b[0m                             Traceback (most recent call last)",
      "\u001b[0;31mOverflowError\u001b[0m: value too large to convert to int"
     ]
    },
    {
     "name": "stderr",
     "output_type": "stream",
     "text": [
      "Exception ignored in: 'fastparquet.cencoding.write_thrift'\n",
      "Traceback (most recent call last):\n",
      "  File \"/home/lukawc/.local/lib/python3.9/site-packages/fastparquet/writer.py\", line 894, in write_simple\n",
      "    foot_size = f.write(fmd.to_bytes())\n",
      "OverflowError: value too large to convert to int\n"
     ]
    },
    {
     "ename": "OverflowError",
     "evalue": "value too large to convert to int",
     "output_type": "error",
     "traceback": [
      "\u001b[0;31m---------------------------------------------------------------------------\u001b[0m",
      "\u001b[0;31mOverflowError\u001b[0m                             Traceback (most recent call last)",
      "\u001b[0;31mOverflowError\u001b[0m: value too large to convert to int"
     ]
    },
    {
     "name": "stderr",
     "output_type": "stream",
     "text": [
      "Exception ignored in: 'fastparquet.cencoding.write_thrift'\n",
      "Traceback (most recent call last):\n",
      "  File \"/home/lukawc/.local/lib/python3.9/site-packages/fastparquet/writer.py\", line 894, in write_simple\n",
      "    foot_size = f.write(fmd.to_bytes())\n",
      "OverflowError: value too large to convert to int\n"
     ]
    },
    {
     "ename": "OverflowError",
     "evalue": "value too large to convert to int",
     "output_type": "error",
     "traceback": [
      "\u001b[0;31m---------------------------------------------------------------------------\u001b[0m",
      "\u001b[0;31mOverflowError\u001b[0m                             Traceback (most recent call last)",
      "\u001b[0;31mOverflowError\u001b[0m: value too large to convert to int"
     ]
    },
    {
     "name": "stderr",
     "output_type": "stream",
     "text": [
      "Exception ignored in: 'fastparquet.cencoding.write_thrift'\n",
      "Traceback (most recent call last):\n",
      "  File \"/home/lukawc/.local/lib/python3.9/site-packages/fastparquet/writer.py\", line 894, in write_simple\n",
      "    foot_size = f.write(fmd.to_bytes())\n",
      "OverflowError: value too large to convert to int\n"
     ]
    },
    {
     "ename": "OverflowError",
     "evalue": "value too large to convert to int",
     "output_type": "error",
     "traceback": [
      "\u001b[0;31m---------------------------------------------------------------------------\u001b[0m",
      "\u001b[0;31mOverflowError\u001b[0m                             Traceback (most recent call last)",
      "\u001b[0;31mOverflowError\u001b[0m: value too large to convert to int"
     ]
    },
    {
     "name": "stderr",
     "output_type": "stream",
     "text": [
      "Exception ignored in: 'fastparquet.cencoding.write_thrift'\n",
      "Traceback (most recent call last):\n",
      "  File \"/home/lukawc/.local/lib/python3.9/site-packages/fastparquet/writer.py\", line 894, in write_simple\n",
      "    foot_size = f.write(fmd.to_bytes())\n",
      "OverflowError: value too large to convert to int\n"
     ]
    },
    {
     "ename": "OverflowError",
     "evalue": "value too large to convert to int",
     "output_type": "error",
     "traceback": [
      "\u001b[0;31m---------------------------------------------------------------------------\u001b[0m",
      "\u001b[0;31mOverflowError\u001b[0m                             Traceback (most recent call last)",
      "\u001b[0;31mOverflowError\u001b[0m: value too large to convert to int"
     ]
    },
    {
     "name": "stderr",
     "output_type": "stream",
     "text": [
      "Exception ignored in: 'fastparquet.cencoding.write_thrift'\n",
      "Traceback (most recent call last):\n",
      "  File \"/home/lukawc/.local/lib/python3.9/site-packages/fastparquet/writer.py\", line 894, in write_simple\n",
      "    foot_size = f.write(fmd.to_bytes())\n",
      "OverflowError: value too large to convert to int\n"
     ]
    },
    {
     "ename": "OverflowError",
     "evalue": "value too large to convert to int",
     "output_type": "error",
     "traceback": [
      "\u001b[0;31m---------------------------------------------------------------------------\u001b[0m",
      "\u001b[0;31mOverflowError\u001b[0m                             Traceback (most recent call last)",
      "\u001b[0;31mOverflowError\u001b[0m: value too large to convert to int"
     ]
    },
    {
     "name": "stderr",
     "output_type": "stream",
     "text": [
      "Exception ignored in: 'fastparquet.cencoding.write_thrift'\n",
      "Traceback (most recent call last):\n",
      "  File \"/home/lukawc/.local/lib/python3.9/site-packages/fastparquet/writer.py\", line 894, in write_simple\n",
      "    foot_size = f.write(fmd.to_bytes())\n",
      "OverflowError: value too large to convert to int\n"
     ]
    },
    {
     "ename": "OverflowError",
     "evalue": "value too large to convert to int",
     "output_type": "error",
     "traceback": [
      "\u001b[0;31m---------------------------------------------------------------------------\u001b[0m",
      "\u001b[0;31mOverflowError\u001b[0m                             Traceback (most recent call last)",
      "\u001b[0;31mOverflowError\u001b[0m: value too large to convert to int"
     ]
    },
    {
     "name": "stderr",
     "output_type": "stream",
     "text": [
      "Exception ignored in: 'fastparquet.cencoding.write_thrift'\n",
      "Traceback (most recent call last):\n",
      "  File \"/home/lukawc/.local/lib/python3.9/site-packages/fastparquet/writer.py\", line 894, in write_simple\n",
      "    foot_size = f.write(fmd.to_bytes())\n",
      "OverflowError: value too large to convert to int\n"
     ]
    },
    {
     "ename": "OverflowError",
     "evalue": "value too large to convert to int",
     "output_type": "error",
     "traceback": [
      "\u001b[0;31m---------------------------------------------------------------------------\u001b[0m",
      "\u001b[0;31mOverflowError\u001b[0m                             Traceback (most recent call last)",
      "\u001b[0;31mOverflowError\u001b[0m: value too large to convert to int"
     ]
    },
    {
     "name": "stderr",
     "output_type": "stream",
     "text": [
      "Exception ignored in: 'fastparquet.cencoding.write_thrift'\n",
      "Traceback (most recent call last):\n",
      "  File \"/home/lukawc/.local/lib/python3.9/site-packages/fastparquet/writer.py\", line 894, in write_simple\n",
      "    foot_size = f.write(fmd.to_bytes())\n",
      "OverflowError: value too large to convert to int\n"
     ]
    },
    {
     "ename": "OverflowError",
     "evalue": "value too large to convert to int",
     "output_type": "error",
     "traceback": [
      "\u001b[0;31m---------------------------------------------------------------------------\u001b[0m",
      "\u001b[0;31mOverflowError\u001b[0m                             Traceback (most recent call last)",
      "\u001b[0;31mOverflowError\u001b[0m: value too large to convert to int"
     ]
    },
    {
     "name": "stderr",
     "output_type": "stream",
     "text": [
      "Exception ignored in: 'fastparquet.cencoding.write_thrift'\n",
      "Traceback (most recent call last):\n",
      "  File \"/home/lukawc/.local/lib/python3.9/site-packages/fastparquet/writer.py\", line 894, in write_simple\n",
      "    foot_size = f.write(fmd.to_bytes())\n",
      "OverflowError: value too large to convert to int\n"
     ]
    },
    {
     "ename": "OverflowError",
     "evalue": "value too large to convert to int",
     "output_type": "error",
     "traceback": [
      "\u001b[0;31m---------------------------------------------------------------------------\u001b[0m",
      "\u001b[0;31mOverflowError\u001b[0m                             Traceback (most recent call last)",
      "\u001b[0;31mOverflowError\u001b[0m: value too large to convert to int"
     ]
    },
    {
     "name": "stderr",
     "output_type": "stream",
     "text": [
      "Exception ignored in: 'fastparquet.cencoding.write_thrift'\n",
      "Traceback (most recent call last):\n",
      "  File \"/home/lukawc/.local/lib/python3.9/site-packages/fastparquet/writer.py\", line 894, in write_simple\n",
      "    foot_size = f.write(fmd.to_bytes())\n",
      "OverflowError: value too large to convert to int\n"
     ]
    },
    {
     "ename": "OverflowError",
     "evalue": "value too large to convert to int",
     "output_type": "error",
     "traceback": [
      "\u001b[0;31m---------------------------------------------------------------------------\u001b[0m",
      "\u001b[0;31mOverflowError\u001b[0m                             Traceback (most recent call last)",
      "\u001b[0;31mOverflowError\u001b[0m: value too large to convert to int"
     ]
    },
    {
     "name": "stderr",
     "output_type": "stream",
     "text": [
      "Exception ignored in: 'fastparquet.cencoding.write_thrift'\n",
      "Traceback (most recent call last):\n",
      "  File \"/home/lukawc/.local/lib/python3.9/site-packages/fastparquet/writer.py\", line 894, in write_simple\n",
      "    foot_size = f.write(fmd.to_bytes())\n",
      "OverflowError: value too large to convert to int\n"
     ]
    },
    {
     "ename": "OverflowError",
     "evalue": "value too large to convert to int",
     "output_type": "error",
     "traceback": [
      "\u001b[0;31m---------------------------------------------------------------------------\u001b[0m",
      "\u001b[0;31mOverflowError\u001b[0m                             Traceback (most recent call last)",
      "\u001b[0;31mOverflowError\u001b[0m: value too large to convert to int"
     ]
    },
    {
     "name": "stderr",
     "output_type": "stream",
     "text": [
      "Exception ignored in: 'fastparquet.cencoding.write_thrift'\n",
      "Traceback (most recent call last):\n",
      "  File \"/home/lukawc/.local/lib/python3.9/site-packages/fastparquet/writer.py\", line 894, in write_simple\n",
      "    foot_size = f.write(fmd.to_bytes())\n",
      "OverflowError: value too large to convert to int\n"
     ]
    },
    {
     "ename": "OverflowError",
     "evalue": "value too large to convert to int",
     "output_type": "error",
     "traceback": [
      "\u001b[0;31m---------------------------------------------------------------------------\u001b[0m",
      "\u001b[0;31mOverflowError\u001b[0m                             Traceback (most recent call last)",
      "\u001b[0;31mOverflowError\u001b[0m: value too large to convert to int"
     ]
    },
    {
     "name": "stderr",
     "output_type": "stream",
     "text": [
      "Exception ignored in: 'fastparquet.cencoding.write_thrift'\n",
      "Traceback (most recent call last):\n",
      "  File \"/home/lukawc/.local/lib/python3.9/site-packages/fastparquet/writer.py\", line 894, in write_simple\n",
      "    foot_size = f.write(fmd.to_bytes())\n",
      "OverflowError: value too large to convert to int\n"
     ]
    },
    {
     "ename": "OverflowError",
     "evalue": "value too large to convert to int",
     "output_type": "error",
     "traceback": [
      "\u001b[0;31m---------------------------------------------------------------------------\u001b[0m",
      "\u001b[0;31mOverflowError\u001b[0m                             Traceback (most recent call last)",
      "\u001b[0;31mOverflowError\u001b[0m: value too large to convert to int"
     ]
    },
    {
     "name": "stderr",
     "output_type": "stream",
     "text": [
      "Exception ignored in: 'fastparquet.cencoding.write_thrift'\n",
      "Traceback (most recent call last):\n",
      "  File \"/home/lukawc/.local/lib/python3.9/site-packages/fastparquet/writer.py\", line 894, in write_simple\n",
      "    foot_size = f.write(fmd.to_bytes())\n",
      "OverflowError: value too large to convert to int\n"
     ]
    },
    {
     "ename": "OverflowError",
     "evalue": "value too large to convert to int",
     "output_type": "error",
     "traceback": [
      "\u001b[0;31m---------------------------------------------------------------------------\u001b[0m",
      "\u001b[0;31mOverflowError\u001b[0m                             Traceback (most recent call last)",
      "\u001b[0;31mOverflowError\u001b[0m: value too large to convert to int"
     ]
    },
    {
     "name": "stderr",
     "output_type": "stream",
     "text": [
      "Exception ignored in: 'fastparquet.cencoding.write_thrift'\n",
      "Traceback (most recent call last):\n",
      "  File \"/home/lukawc/.local/lib/python3.9/site-packages/fastparquet/writer.py\", line 894, in write_simple\n",
      "    foot_size = f.write(fmd.to_bytes())\n",
      "OverflowError: value too large to convert to int\n"
     ]
    },
    {
     "ename": "OverflowError",
     "evalue": "value too large to convert to int",
     "output_type": "error",
     "traceback": [
      "\u001b[0;31m---------------------------------------------------------------------------\u001b[0m",
      "\u001b[0;31mOverflowError\u001b[0m                             Traceback (most recent call last)",
      "\u001b[0;31mOverflowError\u001b[0m: value too large to convert to int"
     ]
    },
    {
     "name": "stderr",
     "output_type": "stream",
     "text": [
      "Exception ignored in: 'fastparquet.cencoding.write_thrift'\n",
      "Traceback (most recent call last):\n",
      "  File \"/home/lukawc/.local/lib/python3.9/site-packages/fastparquet/writer.py\", line 894, in write_simple\n",
      "    foot_size = f.write(fmd.to_bytes())\n",
      "OverflowError: value too large to convert to int\n"
     ]
    },
    {
     "ename": "OverflowError",
     "evalue": "value too large to convert to int",
     "output_type": "error",
     "traceback": [
      "\u001b[0;31m---------------------------------------------------------------------------\u001b[0m",
      "\u001b[0;31mOverflowError\u001b[0m                             Traceback (most recent call last)",
      "\u001b[0;31mOverflowError\u001b[0m: value too large to convert to int"
     ]
    },
    {
     "name": "stderr",
     "output_type": "stream",
     "text": [
      "Exception ignored in: 'fastparquet.cencoding.write_thrift'\n",
      "Traceback (most recent call last):\n",
      "  File \"/home/lukawc/.local/lib/python3.9/site-packages/fastparquet/writer.py\", line 894, in write_simple\n",
      "    foot_size = f.write(fmd.to_bytes())\n",
      "OverflowError: value too large to convert to int\n"
     ]
    },
    {
     "ename": "OverflowError",
     "evalue": "value too large to convert to int",
     "output_type": "error",
     "traceback": [
      "\u001b[0;31m---------------------------------------------------------------------------\u001b[0m",
      "\u001b[0;31mOverflowError\u001b[0m                             Traceback (most recent call last)",
      "\u001b[0;31mOverflowError\u001b[0m: value too large to convert to int"
     ]
    },
    {
     "name": "stderr",
     "output_type": "stream",
     "text": [
      "Exception ignored in: 'fastparquet.cencoding.write_thrift'\n",
      "Traceback (most recent call last):\n",
      "  File \"/home/lukawc/.local/lib/python3.9/site-packages/fastparquet/writer.py\", line 894, in write_simple\n",
      "    foot_size = f.write(fmd.to_bytes())\n",
      "OverflowError: value too large to convert to int\n"
     ]
    },
    {
     "ename": "OverflowError",
     "evalue": "value too large to convert to int",
     "output_type": "error",
     "traceback": [
      "\u001b[0;31m---------------------------------------------------------------------------\u001b[0m",
      "\u001b[0;31mOverflowError\u001b[0m                             Traceback (most recent call last)",
      "\u001b[0;31mOverflowError\u001b[0m: value too large to convert to int"
     ]
    },
    {
     "name": "stderr",
     "output_type": "stream",
     "text": [
      "Exception ignored in: 'fastparquet.cencoding.write_thrift'\n",
      "Traceback (most recent call last):\n",
      "  File \"/home/lukawc/.local/lib/python3.9/site-packages/fastparquet/writer.py\", line 894, in write_simple\n",
      "    foot_size = f.write(fmd.to_bytes())\n",
      "OverflowError: value too large to convert to int\n"
     ]
    },
    {
     "ename": "OverflowError",
     "evalue": "value too large to convert to int",
     "output_type": "error",
     "traceback": [
      "\u001b[0;31m---------------------------------------------------------------------------\u001b[0m",
      "\u001b[0;31mOverflowError\u001b[0m                             Traceback (most recent call last)",
      "\u001b[0;31mOverflowError\u001b[0m: value too large to convert to int"
     ]
    },
    {
     "name": "stderr",
     "output_type": "stream",
     "text": [
      "Exception ignored in: 'fastparquet.cencoding.write_thrift'\n",
      "Traceback (most recent call last):\n",
      "  File \"/home/lukawc/.local/lib/python3.9/site-packages/fastparquet/writer.py\", line 894, in write_simple\n",
      "    foot_size = f.write(fmd.to_bytes())\n",
      "OverflowError: value too large to convert to int\n"
     ]
    },
    {
     "ename": "OverflowError",
     "evalue": "value too large to convert to int",
     "output_type": "error",
     "traceback": [
      "\u001b[0;31m---------------------------------------------------------------------------\u001b[0m",
      "\u001b[0;31mOverflowError\u001b[0m                             Traceback (most recent call last)",
      "\u001b[0;31mOverflowError\u001b[0m: value too large to convert to int"
     ]
    },
    {
     "name": "stderr",
     "output_type": "stream",
     "text": [
      "Exception ignored in: 'fastparquet.cencoding.write_thrift'\n",
      "Traceback (most recent call last):\n",
      "  File \"/home/lukawc/.local/lib/python3.9/site-packages/fastparquet/writer.py\", line 894, in write_simple\n",
      "    foot_size = f.write(fmd.to_bytes())\n",
      "OverflowError: value too large to convert to int\n"
     ]
    },
    {
     "ename": "OverflowError",
     "evalue": "value too large to convert to int",
     "output_type": "error",
     "traceback": [
      "\u001b[0;31m---------------------------------------------------------------------------\u001b[0m",
      "\u001b[0;31mOverflowError\u001b[0m                             Traceback (most recent call last)",
      "\u001b[0;31mOverflowError\u001b[0m: value too large to convert to int"
     ]
    },
    {
     "name": "stderr",
     "output_type": "stream",
     "text": [
      "Exception ignored in: 'fastparquet.cencoding.write_thrift'\n",
      "Traceback (most recent call last):\n",
      "  File \"/home/lukawc/.local/lib/python3.9/site-packages/fastparquet/writer.py\", line 894, in write_simple\n",
      "    foot_size = f.write(fmd.to_bytes())\n",
      "OverflowError: value too large to convert to int\n"
     ]
    },
    {
     "ename": "OverflowError",
     "evalue": "value too large to convert to int",
     "output_type": "error",
     "traceback": [
      "\u001b[0;31m---------------------------------------------------------------------------\u001b[0m",
      "\u001b[0;31mOverflowError\u001b[0m                             Traceback (most recent call last)",
      "\u001b[0;31mOverflowError\u001b[0m: value too large to convert to int"
     ]
    },
    {
     "name": "stderr",
     "output_type": "stream",
     "text": [
      "Exception ignored in: 'fastparquet.cencoding.write_thrift'\n",
      "Traceback (most recent call last):\n",
      "  File \"/home/lukawc/.local/lib/python3.9/site-packages/fastparquet/writer.py\", line 894, in write_simple\n",
      "    foot_size = f.write(fmd.to_bytes())\n",
      "OverflowError: value too large to convert to int\n"
     ]
    },
    {
     "ename": "OverflowError",
     "evalue": "value too large to convert to int",
     "output_type": "error",
     "traceback": [
      "\u001b[0;31m---------------------------------------------------------------------------\u001b[0m",
      "\u001b[0;31mOverflowError\u001b[0m                             Traceback (most recent call last)",
      "\u001b[0;31mOverflowError\u001b[0m: value too large to convert to int"
     ]
    },
    {
     "name": "stderr",
     "output_type": "stream",
     "text": [
      "Exception ignored in: 'fastparquet.cencoding.write_thrift'\n",
      "Traceback (most recent call last):\n",
      "  File \"/home/lukawc/.local/lib/python3.9/site-packages/fastparquet/writer.py\", line 894, in write_simple\n",
      "    foot_size = f.write(fmd.to_bytes())\n",
      "OverflowError: value too large to convert to int\n"
     ]
    },
    {
     "ename": "OverflowError",
     "evalue": "value too large to convert to int",
     "output_type": "error",
     "traceback": [
      "\u001b[0;31m---------------------------------------------------------------------------\u001b[0m",
      "\u001b[0;31mOverflowError\u001b[0m                             Traceback (most recent call last)",
      "\u001b[0;31mOverflowError\u001b[0m: value too large to convert to int"
     ]
    },
    {
     "name": "stderr",
     "output_type": "stream",
     "text": [
      "Exception ignored in: 'fastparquet.cencoding.write_thrift'\n",
      "Traceback (most recent call last):\n",
      "  File \"/home/lukawc/.local/lib/python3.9/site-packages/fastparquet/writer.py\", line 894, in write_simple\n",
      "    foot_size = f.write(fmd.to_bytes())\n",
      "OverflowError: value too large to convert to int\n"
     ]
    },
    {
     "ename": "OverflowError",
     "evalue": "value too large to convert to int",
     "output_type": "error",
     "traceback": [
      "\u001b[0;31m---------------------------------------------------------------------------\u001b[0m",
      "\u001b[0;31mOverflowError\u001b[0m                             Traceback (most recent call last)",
      "\u001b[0;31mOverflowError\u001b[0m: value too large to convert to int"
     ]
    },
    {
     "name": "stderr",
     "output_type": "stream",
     "text": [
      "Exception ignored in: 'fastparquet.cencoding.write_thrift'\n",
      "Traceback (most recent call last):\n",
      "  File \"/home/lukawc/.local/lib/python3.9/site-packages/fastparquet/writer.py\", line 894, in write_simple\n",
      "    foot_size = f.write(fmd.to_bytes())\n",
      "OverflowError: value too large to convert to int\n"
     ]
    },
    {
     "ename": "OverflowError",
     "evalue": "value too large to convert to int",
     "output_type": "error",
     "traceback": [
      "\u001b[0;31m---------------------------------------------------------------------------\u001b[0m",
      "\u001b[0;31mOverflowError\u001b[0m                             Traceback (most recent call last)",
      "\u001b[0;31mOverflowError\u001b[0m: value too large to convert to int"
     ]
    },
    {
     "name": "stderr",
     "output_type": "stream",
     "text": [
      "Exception ignored in: 'fastparquet.cencoding.write_thrift'\n",
      "Traceback (most recent call last):\n",
      "  File \"/home/lukawc/.local/lib/python3.9/site-packages/fastparquet/writer.py\", line 894, in write_simple\n",
      "    foot_size = f.write(fmd.to_bytes())\n",
      "OverflowError: value too large to convert to int\n"
     ]
    },
    {
     "ename": "OverflowError",
     "evalue": "value too large to convert to int",
     "output_type": "error",
     "traceback": [
      "\u001b[0;31m---------------------------------------------------------------------------\u001b[0m",
      "\u001b[0;31mOverflowError\u001b[0m                             Traceback (most recent call last)",
      "\u001b[0;31mOverflowError\u001b[0m: value too large to convert to int"
     ]
    },
    {
     "name": "stderr",
     "output_type": "stream",
     "text": [
      "Exception ignored in: 'fastparquet.cencoding.write_thrift'\n",
      "Traceback (most recent call last):\n",
      "  File \"/home/lukawc/.local/lib/python3.9/site-packages/fastparquet/writer.py\", line 894, in write_simple\n",
      "    foot_size = f.write(fmd.to_bytes())\n",
      "OverflowError: value too large to convert to int\n"
     ]
    },
    {
     "ename": "OverflowError",
     "evalue": "value too large to convert to int",
     "output_type": "error",
     "traceback": [
      "\u001b[0;31m---------------------------------------------------------------------------\u001b[0m",
      "\u001b[0;31mOverflowError\u001b[0m                             Traceback (most recent call last)",
      "\u001b[0;31mOverflowError\u001b[0m: value too large to convert to int"
     ]
    },
    {
     "name": "stderr",
     "output_type": "stream",
     "text": [
      "Exception ignored in: 'fastparquet.cencoding.write_thrift'\n",
      "Traceback (most recent call last):\n",
      "  File \"/home/lukawc/.local/lib/python3.9/site-packages/fastparquet/writer.py\", line 894, in write_simple\n",
      "    foot_size = f.write(fmd.to_bytes())\n",
      "OverflowError: value too large to convert to int\n"
     ]
    },
    {
     "ename": "OverflowError",
     "evalue": "value too large to convert to int",
     "output_type": "error",
     "traceback": [
      "\u001b[0;31m---------------------------------------------------------------------------\u001b[0m",
      "\u001b[0;31mOverflowError\u001b[0m                             Traceback (most recent call last)",
      "\u001b[0;31mOverflowError\u001b[0m: value too large to convert to int"
     ]
    },
    {
     "name": "stderr",
     "output_type": "stream",
     "text": [
      "Exception ignored in: 'fastparquet.cencoding.write_thrift'\n",
      "Traceback (most recent call last):\n",
      "  File \"/home/lukawc/.local/lib/python3.9/site-packages/fastparquet/writer.py\", line 894, in write_simple\n",
      "    foot_size = f.write(fmd.to_bytes())\n",
      "OverflowError: value too large to convert to int\n"
     ]
    },
    {
     "ename": "OverflowError",
     "evalue": "value too large to convert to int",
     "output_type": "error",
     "traceback": [
      "\u001b[0;31m---------------------------------------------------------------------------\u001b[0m",
      "\u001b[0;31mOverflowError\u001b[0m                             Traceback (most recent call last)",
      "\u001b[0;31mOverflowError\u001b[0m: value too large to convert to int"
     ]
    },
    {
     "name": "stderr",
     "output_type": "stream",
     "text": [
      "Exception ignored in: 'fastparquet.cencoding.write_thrift'\n",
      "Traceback (most recent call last):\n",
      "  File \"/home/lukawc/.local/lib/python3.9/site-packages/fastparquet/writer.py\", line 894, in write_simple\n",
      "    foot_size = f.write(fmd.to_bytes())\n",
      "OverflowError: value too large to convert to int\n"
     ]
    },
    {
     "ename": "OverflowError",
     "evalue": "value too large to convert to int",
     "output_type": "error",
     "traceback": [
      "\u001b[0;31m---------------------------------------------------------------------------\u001b[0m",
      "\u001b[0;31mOverflowError\u001b[0m                             Traceback (most recent call last)",
      "\u001b[0;31mOverflowError\u001b[0m: value too large to convert to int"
     ]
    },
    {
     "name": "stderr",
     "output_type": "stream",
     "text": [
      "Exception ignored in: 'fastparquet.cencoding.write_thrift'\n",
      "Traceback (most recent call last):\n",
      "  File \"/home/lukawc/.local/lib/python3.9/site-packages/fastparquet/writer.py\", line 894, in write_simple\n",
      "    foot_size = f.write(fmd.to_bytes())\n",
      "OverflowError: value too large to convert to int\n"
     ]
    },
    {
     "ename": "OverflowError",
     "evalue": "value too large to convert to int",
     "output_type": "error",
     "traceback": [
      "\u001b[0;31m---------------------------------------------------------------------------\u001b[0m",
      "\u001b[0;31mOverflowError\u001b[0m                             Traceback (most recent call last)",
      "\u001b[0;31mOverflowError\u001b[0m: value too large to convert to int"
     ]
    },
    {
     "name": "stderr",
     "output_type": "stream",
     "text": [
      "Exception ignored in: 'fastparquet.cencoding.write_thrift'\n",
      "Traceback (most recent call last):\n",
      "  File \"/home/lukawc/.local/lib/python3.9/site-packages/fastparquet/writer.py\", line 894, in write_simple\n",
      "    foot_size = f.write(fmd.to_bytes())\n",
      "OverflowError: value too large to convert to int\n"
     ]
    },
    {
     "ename": "OverflowError",
     "evalue": "value too large to convert to int",
     "output_type": "error",
     "traceback": [
      "\u001b[0;31m---------------------------------------------------------------------------\u001b[0m",
      "\u001b[0;31mOverflowError\u001b[0m                             Traceback (most recent call last)",
      "\u001b[0;31mOverflowError\u001b[0m: value too large to convert to int"
     ]
    },
    {
     "name": "stderr",
     "output_type": "stream",
     "text": [
      "Exception ignored in: 'fastparquet.cencoding.write_thrift'\n",
      "Traceback (most recent call last):\n",
      "  File \"/home/lukawc/.local/lib/python3.9/site-packages/fastparquet/writer.py\", line 894, in write_simple\n",
      "    foot_size = f.write(fmd.to_bytes())\n",
      "OverflowError: value too large to convert to int\n"
     ]
    },
    {
     "ename": "OverflowError",
     "evalue": "value too large to convert to int",
     "output_type": "error",
     "traceback": [
      "\u001b[0;31m---------------------------------------------------------------------------\u001b[0m",
      "\u001b[0;31mOverflowError\u001b[0m                             Traceback (most recent call last)",
      "\u001b[0;31mOverflowError\u001b[0m: value too large to convert to int"
     ]
    },
    {
     "name": "stderr",
     "output_type": "stream",
     "text": [
      "Exception ignored in: 'fastparquet.cencoding.write_thrift'\n",
      "Traceback (most recent call last):\n",
      "  File \"/home/lukawc/.local/lib/python3.9/site-packages/fastparquet/writer.py\", line 894, in write_simple\n",
      "    foot_size = f.write(fmd.to_bytes())\n",
      "OverflowError: value too large to convert to int\n"
     ]
    },
    {
     "ename": "OverflowError",
     "evalue": "value too large to convert to int",
     "output_type": "error",
     "traceback": [
      "\u001b[0;31m---------------------------------------------------------------------------\u001b[0m",
      "\u001b[0;31mOverflowError\u001b[0m                             Traceback (most recent call last)",
      "\u001b[0;31mOverflowError\u001b[0m: value too large to convert to int"
     ]
    },
    {
     "name": "stderr",
     "output_type": "stream",
     "text": [
      "Exception ignored in: 'fastparquet.cencoding.write_thrift'\n",
      "Traceback (most recent call last):\n",
      "  File \"/home/lukawc/.local/lib/python3.9/site-packages/fastparquet/writer.py\", line 894, in write_simple\n",
      "    foot_size = f.write(fmd.to_bytes())\n",
      "OverflowError: value too large to convert to int\n"
     ]
    },
    {
     "ename": "OverflowError",
     "evalue": "value too large to convert to int",
     "output_type": "error",
     "traceback": [
      "\u001b[0;31m---------------------------------------------------------------------------\u001b[0m",
      "\u001b[0;31mOverflowError\u001b[0m                             Traceback (most recent call last)",
      "\u001b[0;31mOverflowError\u001b[0m: value too large to convert to int"
     ]
    },
    {
     "name": "stderr",
     "output_type": "stream",
     "text": [
      "Exception ignored in: 'fastparquet.cencoding.write_thrift'\n",
      "Traceback (most recent call last):\n",
      "  File \"/home/lukawc/.local/lib/python3.9/site-packages/fastparquet/writer.py\", line 894, in write_simple\n",
      "    foot_size = f.write(fmd.to_bytes())\n",
      "OverflowError: value too large to convert to int\n"
     ]
    },
    {
     "ename": "OverflowError",
     "evalue": "value too large to convert to int",
     "output_type": "error",
     "traceback": [
      "\u001b[0;31m---------------------------------------------------------------------------\u001b[0m",
      "\u001b[0;31mOverflowError\u001b[0m                             Traceback (most recent call last)",
      "\u001b[0;31mOverflowError\u001b[0m: value too large to convert to int"
     ]
    },
    {
     "name": "stderr",
     "output_type": "stream",
     "text": [
      "Exception ignored in: 'fastparquet.cencoding.write_thrift'\n",
      "Traceback (most recent call last):\n",
      "  File \"/home/lukawc/.local/lib/python3.9/site-packages/fastparquet/writer.py\", line 894, in write_simple\n",
      "    foot_size = f.write(fmd.to_bytes())\n",
      "OverflowError: value too large to convert to int\n"
     ]
    },
    {
     "ename": "OverflowError",
     "evalue": "value too large to convert to int",
     "output_type": "error",
     "traceback": [
      "\u001b[0;31m---------------------------------------------------------------------------\u001b[0m",
      "\u001b[0;31mOverflowError\u001b[0m                             Traceback (most recent call last)",
      "\u001b[0;31mOverflowError\u001b[0m: value too large to convert to int"
     ]
    },
    {
     "name": "stderr",
     "output_type": "stream",
     "text": [
      "Exception ignored in: 'fastparquet.cencoding.write_thrift'\n",
      "Traceback (most recent call last):\n",
      "  File \"/home/lukawc/.local/lib/python3.9/site-packages/fastparquet/writer.py\", line 894, in write_simple\n",
      "    foot_size = f.write(fmd.to_bytes())\n",
      "OverflowError: value too large to convert to int\n"
     ]
    },
    {
     "ename": "OverflowError",
     "evalue": "value too large to convert to int",
     "output_type": "error",
     "traceback": [
      "\u001b[0;31m---------------------------------------------------------------------------\u001b[0m",
      "\u001b[0;31mOverflowError\u001b[0m                             Traceback (most recent call last)",
      "\u001b[0;31mOverflowError\u001b[0m: value too large to convert to int"
     ]
    },
    {
     "name": "stderr",
     "output_type": "stream",
     "text": [
      "Exception ignored in: 'fastparquet.cencoding.write_thrift'\n",
      "Traceback (most recent call last):\n",
      "  File \"/home/lukawc/.local/lib/python3.9/site-packages/fastparquet/writer.py\", line 894, in write_simple\n",
      "    foot_size = f.write(fmd.to_bytes())\n",
      "OverflowError: value too large to convert to int\n"
     ]
    },
    {
     "ename": "OverflowError",
     "evalue": "value too large to convert to int",
     "output_type": "error",
     "traceback": [
      "\u001b[0;31m---------------------------------------------------------------------------\u001b[0m",
      "\u001b[0;31mOverflowError\u001b[0m                             Traceback (most recent call last)",
      "\u001b[0;31mOverflowError\u001b[0m: value too large to convert to int"
     ]
    },
    {
     "name": "stderr",
     "output_type": "stream",
     "text": [
      "Exception ignored in: 'fastparquet.cencoding.write_thrift'\n",
      "Traceback (most recent call last):\n",
      "  File \"/home/lukawc/.local/lib/python3.9/site-packages/fastparquet/writer.py\", line 894, in write_simple\n",
      "    foot_size = f.write(fmd.to_bytes())\n",
      "OverflowError: value too large to convert to int\n"
     ]
    },
    {
     "ename": "OverflowError",
     "evalue": "value too large to convert to int",
     "output_type": "error",
     "traceback": [
      "\u001b[0;31m---------------------------------------------------------------------------\u001b[0m",
      "\u001b[0;31mOverflowError\u001b[0m                             Traceback (most recent call last)",
      "\u001b[0;31mOverflowError\u001b[0m: value too large to convert to int"
     ]
    },
    {
     "name": "stderr",
     "output_type": "stream",
     "text": [
      "Exception ignored in: 'fastparquet.cencoding.write_thrift'\n",
      "Traceback (most recent call last):\n",
      "  File \"/home/lukawc/.local/lib/python3.9/site-packages/fastparquet/writer.py\", line 894, in write_simple\n",
      "    foot_size = f.write(fmd.to_bytes())\n",
      "OverflowError: value too large to convert to int\n"
     ]
    },
    {
     "ename": "OverflowError",
     "evalue": "value too large to convert to int",
     "output_type": "error",
     "traceback": [
      "\u001b[0;31m---------------------------------------------------------------------------\u001b[0m",
      "\u001b[0;31mOverflowError\u001b[0m                             Traceback (most recent call last)",
      "\u001b[0;31mOverflowError\u001b[0m: value too large to convert to int"
     ]
    },
    {
     "name": "stderr",
     "output_type": "stream",
     "text": [
      "Exception ignored in: 'fastparquet.cencoding.write_thrift'\n",
      "Traceback (most recent call last):\n",
      "  File \"/home/lukawc/.local/lib/python3.9/site-packages/fastparquet/writer.py\", line 894, in write_simple\n",
      "    foot_size = f.write(fmd.to_bytes())\n",
      "OverflowError: value too large to convert to int\n"
     ]
    },
    {
     "ename": "OverflowError",
     "evalue": "value too large to convert to int",
     "output_type": "error",
     "traceback": [
      "\u001b[0;31m---------------------------------------------------------------------------\u001b[0m",
      "\u001b[0;31mOverflowError\u001b[0m                             Traceback (most recent call last)",
      "\u001b[0;31mOverflowError\u001b[0m: value too large to convert to int"
     ]
    },
    {
     "name": "stderr",
     "output_type": "stream",
     "text": [
      "Exception ignored in: 'fastparquet.cencoding.write_thrift'\n",
      "Traceback (most recent call last):\n",
      "  File \"/home/lukawc/.local/lib/python3.9/site-packages/fastparquet/writer.py\", line 894, in write_simple\n",
      "    foot_size = f.write(fmd.to_bytes())\n",
      "OverflowError: value too large to convert to int\n"
     ]
    },
    {
     "ename": "OverflowError",
     "evalue": "value too large to convert to int",
     "output_type": "error",
     "traceback": [
      "\u001b[0;31m---------------------------------------------------------------------------\u001b[0m",
      "\u001b[0;31mOverflowError\u001b[0m                             Traceback (most recent call last)",
      "\u001b[0;31mOverflowError\u001b[0m: value too large to convert to int"
     ]
    },
    {
     "name": "stderr",
     "output_type": "stream",
     "text": [
      "Exception ignored in: 'fastparquet.cencoding.write_thrift'\n",
      "Traceback (most recent call last):\n",
      "  File \"/home/lukawc/.local/lib/python3.9/site-packages/fastparquet/writer.py\", line 894, in write_simple\n",
      "    foot_size = f.write(fmd.to_bytes())\n",
      "OverflowError: value too large to convert to int\n"
     ]
    },
    {
     "ename": "OverflowError",
     "evalue": "value too large to convert to int",
     "output_type": "error",
     "traceback": [
      "\u001b[0;31m---------------------------------------------------------------------------\u001b[0m",
      "\u001b[0;31mOverflowError\u001b[0m                             Traceback (most recent call last)",
      "\u001b[0;31mOverflowError\u001b[0m: value too large to convert to int"
     ]
    },
    {
     "name": "stderr",
     "output_type": "stream",
     "text": [
      "Exception ignored in: 'fastparquet.cencoding.write_thrift'\n",
      "Traceback (most recent call last):\n",
      "  File \"/home/lukawc/.local/lib/python3.9/site-packages/fastparquet/writer.py\", line 894, in write_simple\n",
      "    foot_size = f.write(fmd.to_bytes())\n",
      "OverflowError: value too large to convert to int\n"
     ]
    },
    {
     "ename": "OverflowError",
     "evalue": "value too large to convert to int",
     "output_type": "error",
     "traceback": [
      "\u001b[0;31m---------------------------------------------------------------------------\u001b[0m",
      "\u001b[0;31mOverflowError\u001b[0m                             Traceback (most recent call last)",
      "\u001b[0;31mOverflowError\u001b[0m: value too large to convert to int"
     ]
    },
    {
     "name": "stderr",
     "output_type": "stream",
     "text": [
      "Exception ignored in: 'fastparquet.cencoding.write_thrift'\n",
      "Traceback (most recent call last):\n",
      "  File \"/home/lukawc/.local/lib/python3.9/site-packages/fastparquet/writer.py\", line 894, in write_simple\n",
      "    foot_size = f.write(fmd.to_bytes())\n",
      "OverflowError: value too large to convert to int\n"
     ]
    },
    {
     "ename": "OverflowError",
     "evalue": "value too large to convert to int",
     "output_type": "error",
     "traceback": [
      "\u001b[0;31m---------------------------------------------------------------------------\u001b[0m",
      "\u001b[0;31mOverflowError\u001b[0m                             Traceback (most recent call last)",
      "\u001b[0;31mOverflowError\u001b[0m: value too large to convert to int"
     ]
    },
    {
     "name": "stderr",
     "output_type": "stream",
     "text": [
      "Exception ignored in: 'fastparquet.cencoding.write_thrift'\n",
      "Traceback (most recent call last):\n",
      "  File \"/home/lukawc/.local/lib/python3.9/site-packages/fastparquet/writer.py\", line 894, in write_simple\n",
      "    foot_size = f.write(fmd.to_bytes())\n",
      "OverflowError: value too large to convert to int\n"
     ]
    },
    {
     "ename": "OverflowError",
     "evalue": "value too large to convert to int",
     "output_type": "error",
     "traceback": [
      "\u001b[0;31m---------------------------------------------------------------------------\u001b[0m",
      "\u001b[0;31mOverflowError\u001b[0m                             Traceback (most recent call last)",
      "\u001b[0;31mOverflowError\u001b[0m: value too large to convert to int"
     ]
    },
    {
     "name": "stderr",
     "output_type": "stream",
     "text": [
      "Exception ignored in: 'fastparquet.cencoding.write_thrift'\n",
      "Traceback (most recent call last):\n",
      "  File \"/home/lukawc/.local/lib/python3.9/site-packages/fastparquet/writer.py\", line 894, in write_simple\n",
      "    foot_size = f.write(fmd.to_bytes())\n",
      "OverflowError: value too large to convert to int\n"
     ]
    },
    {
     "ename": "OverflowError",
     "evalue": "value too large to convert to int",
     "output_type": "error",
     "traceback": [
      "\u001b[0;31m---------------------------------------------------------------------------\u001b[0m",
      "\u001b[0;31mOverflowError\u001b[0m                             Traceback (most recent call last)",
      "\u001b[0;31mOverflowError\u001b[0m: value too large to convert to int"
     ]
    },
    {
     "name": "stderr",
     "output_type": "stream",
     "text": [
      "Exception ignored in: 'fastparquet.cencoding.write_thrift'\n",
      "Traceback (most recent call last):\n",
      "  File \"/home/lukawc/.local/lib/python3.9/site-packages/fastparquet/writer.py\", line 894, in write_simple\n",
      "    foot_size = f.write(fmd.to_bytes())\n",
      "OverflowError: value too large to convert to int\n"
     ]
    },
    {
     "ename": "OverflowError",
     "evalue": "value too large to convert to int",
     "output_type": "error",
     "traceback": [
      "\u001b[0;31m---------------------------------------------------------------------------\u001b[0m",
      "\u001b[0;31mOverflowError\u001b[0m                             Traceback (most recent call last)",
      "\u001b[0;31mOverflowError\u001b[0m: value too large to convert to int"
     ]
    },
    {
     "name": "stderr",
     "output_type": "stream",
     "text": [
      "Exception ignored in: 'fastparquet.cencoding.write_thrift'\n",
      "Traceback (most recent call last):\n",
      "  File \"/home/lukawc/.local/lib/python3.9/site-packages/fastparquet/writer.py\", line 894, in write_simple\n",
      "    foot_size = f.write(fmd.to_bytes())\n",
      "OverflowError: value too large to convert to int\n"
     ]
    },
    {
     "ename": "OverflowError",
     "evalue": "value too large to convert to int",
     "output_type": "error",
     "traceback": [
      "\u001b[0;31m---------------------------------------------------------------------------\u001b[0m",
      "\u001b[0;31mOverflowError\u001b[0m                             Traceback (most recent call last)",
      "\u001b[0;31mOverflowError\u001b[0m: value too large to convert to int"
     ]
    },
    {
     "name": "stderr",
     "output_type": "stream",
     "text": [
      "Exception ignored in: 'fastparquet.cencoding.write_thrift'\n",
      "Traceback (most recent call last):\n",
      "  File \"/home/lukawc/.local/lib/python3.9/site-packages/fastparquet/writer.py\", line 894, in write_simple\n",
      "    foot_size = f.write(fmd.to_bytes())\n",
      "OverflowError: value too large to convert to int\n"
     ]
    },
    {
     "ename": "OverflowError",
     "evalue": "value too large to convert to int",
     "output_type": "error",
     "traceback": [
      "\u001b[0;31m---------------------------------------------------------------------------\u001b[0m",
      "\u001b[0;31mOverflowError\u001b[0m                             Traceback (most recent call last)",
      "\u001b[0;31mOverflowError\u001b[0m: value too large to convert to int"
     ]
    },
    {
     "name": "stderr",
     "output_type": "stream",
     "text": [
      "Exception ignored in: 'fastparquet.cencoding.write_thrift'\n",
      "Traceback (most recent call last):\n",
      "  File \"/home/lukawc/.local/lib/python3.9/site-packages/fastparquet/writer.py\", line 894, in write_simple\n",
      "    foot_size = f.write(fmd.to_bytes())\n",
      "OverflowError: value too large to convert to int\n"
     ]
    },
    {
     "ename": "OverflowError",
     "evalue": "value too large to convert to int",
     "output_type": "error",
     "traceback": [
      "\u001b[0;31m---------------------------------------------------------------------------\u001b[0m",
      "\u001b[0;31mOverflowError\u001b[0m                             Traceback (most recent call last)",
      "\u001b[0;31mOverflowError\u001b[0m: value too large to convert to int"
     ]
    },
    {
     "name": "stderr",
     "output_type": "stream",
     "text": [
      "Exception ignored in: 'fastparquet.cencoding.write_thrift'\n",
      "Traceback (most recent call last):\n",
      "  File \"/home/lukawc/.local/lib/python3.9/site-packages/fastparquet/writer.py\", line 894, in write_simple\n",
      "    foot_size = f.write(fmd.to_bytes())\n",
      "OverflowError: value too large to convert to int\n"
     ]
    },
    {
     "ename": "OverflowError",
     "evalue": "value too large to convert to int",
     "output_type": "error",
     "traceback": [
      "\u001b[0;31m---------------------------------------------------------------------------\u001b[0m",
      "\u001b[0;31mOverflowError\u001b[0m                             Traceback (most recent call last)",
      "\u001b[0;31mOverflowError\u001b[0m: value too large to convert to int"
     ]
    },
    {
     "name": "stderr",
     "output_type": "stream",
     "text": [
      "Exception ignored in: 'fastparquet.cencoding.write_thrift'\n",
      "Traceback (most recent call last):\n",
      "  File \"/home/lukawc/.local/lib/python3.9/site-packages/fastparquet/writer.py\", line 894, in write_simple\n",
      "    foot_size = f.write(fmd.to_bytes())\n",
      "OverflowError: value too large to convert to int\n"
     ]
    },
    {
     "ename": "OverflowError",
     "evalue": "value too large to convert to int",
     "output_type": "error",
     "traceback": [
      "\u001b[0;31m---------------------------------------------------------------------------\u001b[0m",
      "\u001b[0;31mOverflowError\u001b[0m                             Traceback (most recent call last)",
      "\u001b[0;31mOverflowError\u001b[0m: value too large to convert to int"
     ]
    },
    {
     "name": "stderr",
     "output_type": "stream",
     "text": [
      "Exception ignored in: 'fastparquet.cencoding.write_thrift'\n",
      "Traceback (most recent call last):\n",
      "  File \"/home/lukawc/.local/lib/python3.9/site-packages/fastparquet/writer.py\", line 894, in write_simple\n",
      "    foot_size = f.write(fmd.to_bytes())\n",
      "OverflowError: value too large to convert to int\n"
     ]
    },
    {
     "ename": "OverflowError",
     "evalue": "value too large to convert to int",
     "output_type": "error",
     "traceback": [
      "\u001b[0;31m---------------------------------------------------------------------------\u001b[0m",
      "\u001b[0;31mOverflowError\u001b[0m                             Traceback (most recent call last)",
      "\u001b[0;31mOverflowError\u001b[0m: value too large to convert to int"
     ]
    },
    {
     "name": "stderr",
     "output_type": "stream",
     "text": [
      "Exception ignored in: 'fastparquet.cencoding.write_thrift'\n",
      "Traceback (most recent call last):\n",
      "  File \"/home/lukawc/.local/lib/python3.9/site-packages/fastparquet/writer.py\", line 894, in write_simple\n",
      "    foot_size = f.write(fmd.to_bytes())\n",
      "OverflowError: value too large to convert to int\n"
     ]
    },
    {
     "ename": "OverflowError",
     "evalue": "value too large to convert to int",
     "output_type": "error",
     "traceback": [
      "\u001b[0;31m---------------------------------------------------------------------------\u001b[0m",
      "\u001b[0;31mOverflowError\u001b[0m                             Traceback (most recent call last)",
      "\u001b[0;31mOverflowError\u001b[0m: value too large to convert to int"
     ]
    },
    {
     "name": "stderr",
     "output_type": "stream",
     "text": [
      "Exception ignored in: 'fastparquet.cencoding.write_thrift'\n",
      "Traceback (most recent call last):\n",
      "  File \"/home/lukawc/.local/lib/python3.9/site-packages/fastparquet/writer.py\", line 894, in write_simple\n",
      "    foot_size = f.write(fmd.to_bytes())\n",
      "OverflowError: value too large to convert to int\n"
     ]
    },
    {
     "ename": "OverflowError",
     "evalue": "value too large to convert to int",
     "output_type": "error",
     "traceback": [
      "\u001b[0;31m---------------------------------------------------------------------------\u001b[0m",
      "\u001b[0;31mOverflowError\u001b[0m                             Traceback (most recent call last)",
      "\u001b[0;31mOverflowError\u001b[0m: value too large to convert to int"
     ]
    },
    {
     "name": "stderr",
     "output_type": "stream",
     "text": [
      "Exception ignored in: 'fastparquet.cencoding.write_thrift'\n",
      "Traceback (most recent call last):\n",
      "  File \"/home/lukawc/.local/lib/python3.9/site-packages/fastparquet/writer.py\", line 894, in write_simple\n",
      "    foot_size = f.write(fmd.to_bytes())\n",
      "OverflowError: value too large to convert to int\n"
     ]
    },
    {
     "ename": "OverflowError",
     "evalue": "value too large to convert to int",
     "output_type": "error",
     "traceback": [
      "\u001b[0;31m---------------------------------------------------------------------------\u001b[0m",
      "\u001b[0;31mOverflowError\u001b[0m                             Traceback (most recent call last)",
      "\u001b[0;31mOverflowError\u001b[0m: value too large to convert to int"
     ]
    },
    {
     "name": "stderr",
     "output_type": "stream",
     "text": [
      "Exception ignored in: 'fastparquet.cencoding.write_thrift'\n",
      "Traceback (most recent call last):\n",
      "  File \"/home/lukawc/.local/lib/python3.9/site-packages/fastparquet/writer.py\", line 894, in write_simple\n",
      "    foot_size = f.write(fmd.to_bytes())\n",
      "OverflowError: value too large to convert to int\n"
     ]
    },
    {
     "ename": "OverflowError",
     "evalue": "value too large to convert to int",
     "output_type": "error",
     "traceback": [
      "\u001b[0;31m---------------------------------------------------------------------------\u001b[0m",
      "\u001b[0;31mOverflowError\u001b[0m                             Traceback (most recent call last)",
      "\u001b[0;31mOverflowError\u001b[0m: value too large to convert to int"
     ]
    },
    {
     "name": "stderr",
     "output_type": "stream",
     "text": [
      "Exception ignored in: 'fastparquet.cencoding.write_thrift'\n",
      "Traceback (most recent call last):\n",
      "  File \"/home/lukawc/.local/lib/python3.9/site-packages/fastparquet/writer.py\", line 894, in write_simple\n",
      "    foot_size = f.write(fmd.to_bytes())\n",
      "OverflowError: value too large to convert to int\n"
     ]
    },
    {
     "ename": "OverflowError",
     "evalue": "value too large to convert to int",
     "output_type": "error",
     "traceback": [
      "\u001b[0;31m---------------------------------------------------------------------------\u001b[0m",
      "\u001b[0;31mOverflowError\u001b[0m                             Traceback (most recent call last)",
      "\u001b[0;31mOverflowError\u001b[0m: value too large to convert to int"
     ]
    },
    {
     "name": "stderr",
     "output_type": "stream",
     "text": [
      "Exception ignored in: 'fastparquet.cencoding.write_thrift'\n",
      "Traceback (most recent call last):\n",
      "  File \"/home/lukawc/.local/lib/python3.9/site-packages/fastparquet/writer.py\", line 894, in write_simple\n",
      "    foot_size = f.write(fmd.to_bytes())\n",
      "OverflowError: value too large to convert to int\n"
     ]
    },
    {
     "ename": "OverflowError",
     "evalue": "value too large to convert to int",
     "output_type": "error",
     "traceback": [
      "\u001b[0;31m---------------------------------------------------------------------------\u001b[0m",
      "\u001b[0;31mOverflowError\u001b[0m                             Traceback (most recent call last)",
      "\u001b[0;31mOverflowError\u001b[0m: value too large to convert to int"
     ]
    },
    {
     "name": "stderr",
     "output_type": "stream",
     "text": [
      "Exception ignored in: 'fastparquet.cencoding.write_thrift'\n",
      "Traceback (most recent call last):\n",
      "  File \"/home/lukawc/.local/lib/python3.9/site-packages/fastparquet/writer.py\", line 894, in write_simple\n",
      "    foot_size = f.write(fmd.to_bytes())\n",
      "OverflowError: value too large to convert to int\n"
     ]
    },
    {
     "ename": "OverflowError",
     "evalue": "value too large to convert to int",
     "output_type": "error",
     "traceback": [
      "\u001b[0;31m---------------------------------------------------------------------------\u001b[0m",
      "\u001b[0;31mOverflowError\u001b[0m                             Traceback (most recent call last)",
      "\u001b[0;31mOverflowError\u001b[0m: value too large to convert to int"
     ]
    },
    {
     "name": "stderr",
     "output_type": "stream",
     "text": [
      "Exception ignored in: 'fastparquet.cencoding.write_thrift'\n",
      "Traceback (most recent call last):\n",
      "  File \"/home/lukawc/.local/lib/python3.9/site-packages/fastparquet/writer.py\", line 894, in write_simple\n",
      "    foot_size = f.write(fmd.to_bytes())\n",
      "OverflowError: value too large to convert to int\n"
     ]
    },
    {
     "ename": "OverflowError",
     "evalue": "value too large to convert to int",
     "output_type": "error",
     "traceback": [
      "\u001b[0;31m---------------------------------------------------------------------------\u001b[0m",
      "\u001b[0;31mOverflowError\u001b[0m                             Traceback (most recent call last)",
      "\u001b[0;31mOverflowError\u001b[0m: value too large to convert to int"
     ]
    },
    {
     "name": "stderr",
     "output_type": "stream",
     "text": [
      "Exception ignored in: 'fastparquet.cencoding.write_thrift'\n",
      "Traceback (most recent call last):\n",
      "  File \"/home/lukawc/.local/lib/python3.9/site-packages/fastparquet/writer.py\", line 894, in write_simple\n",
      "    foot_size = f.write(fmd.to_bytes())\n",
      "OverflowError: value too large to convert to int\n"
     ]
    },
    {
     "ename": "OverflowError",
     "evalue": "value too large to convert to int",
     "output_type": "error",
     "traceback": [
      "\u001b[0;31m---------------------------------------------------------------------------\u001b[0m",
      "\u001b[0;31mOverflowError\u001b[0m                             Traceback (most recent call last)",
      "\u001b[0;31mOverflowError\u001b[0m: value too large to convert to int"
     ]
    },
    {
     "name": "stderr",
     "output_type": "stream",
     "text": [
      "Exception ignored in: 'fastparquet.cencoding.write_thrift'\n",
      "Traceback (most recent call last):\n",
      "  File \"/home/lukawc/.local/lib/python3.9/site-packages/fastparquet/writer.py\", line 894, in write_simple\n",
      "    foot_size = f.write(fmd.to_bytes())\n",
      "OverflowError: value too large to convert to int\n"
     ]
    },
    {
     "ename": "OverflowError",
     "evalue": "value too large to convert to int",
     "output_type": "error",
     "traceback": [
      "\u001b[0;31m---------------------------------------------------------------------------\u001b[0m",
      "\u001b[0;31mOverflowError\u001b[0m                             Traceback (most recent call last)",
      "\u001b[0;31mOverflowError\u001b[0m: value too large to convert to int"
     ]
    },
    {
     "name": "stderr",
     "output_type": "stream",
     "text": [
      "Exception ignored in: 'fastparquet.cencoding.write_thrift'\n",
      "Traceback (most recent call last):\n",
      "  File \"/home/lukawc/.local/lib/python3.9/site-packages/fastparquet/writer.py\", line 894, in write_simple\n",
      "    foot_size = f.write(fmd.to_bytes())\n",
      "OverflowError: value too large to convert to int\n"
     ]
    },
    {
     "ename": "OverflowError",
     "evalue": "value too large to convert to int",
     "output_type": "error",
     "traceback": [
      "\u001b[0;31m---------------------------------------------------------------------------\u001b[0m",
      "\u001b[0;31mOverflowError\u001b[0m                             Traceback (most recent call last)",
      "\u001b[0;31mOverflowError\u001b[0m: value too large to convert to int"
     ]
    },
    {
     "name": "stderr",
     "output_type": "stream",
     "text": [
      "Exception ignored in: 'fastparquet.cencoding.write_thrift'\n",
      "Traceback (most recent call last):\n",
      "  File \"/home/lukawc/.local/lib/python3.9/site-packages/fastparquet/writer.py\", line 894, in write_simple\n",
      "    foot_size = f.write(fmd.to_bytes())\n",
      "OverflowError: value too large to convert to int\n"
     ]
    },
    {
     "ename": "OverflowError",
     "evalue": "value too large to convert to int",
     "output_type": "error",
     "traceback": [
      "\u001b[0;31m---------------------------------------------------------------------------\u001b[0m",
      "\u001b[0;31mOverflowError\u001b[0m                             Traceback (most recent call last)",
      "\u001b[0;31mOverflowError\u001b[0m: value too large to convert to int"
     ]
    },
    {
     "name": "stderr",
     "output_type": "stream",
     "text": [
      "Exception ignored in: 'fastparquet.cencoding.write_thrift'\n",
      "Traceback (most recent call last):\n",
      "  File \"/home/lukawc/.local/lib/python3.9/site-packages/fastparquet/writer.py\", line 894, in write_simple\n",
      "    foot_size = f.write(fmd.to_bytes())\n",
      "OverflowError: value too large to convert to int\n"
     ]
    },
    {
     "ename": "OverflowError",
     "evalue": "value too large to convert to int",
     "output_type": "error",
     "traceback": [
      "\u001b[0;31m---------------------------------------------------------------------------\u001b[0m",
      "\u001b[0;31mOverflowError\u001b[0m                             Traceback (most recent call last)",
      "\u001b[0;31mOverflowError\u001b[0m: value too large to convert to int"
     ]
    },
    {
     "name": "stderr",
     "output_type": "stream",
     "text": [
      "Exception ignored in: 'fastparquet.cencoding.write_thrift'\n",
      "Traceback (most recent call last):\n",
      "  File \"/home/lukawc/.local/lib/python3.9/site-packages/fastparquet/writer.py\", line 894, in write_simple\n",
      "    foot_size = f.write(fmd.to_bytes())\n",
      "OverflowError: value too large to convert to int\n"
     ]
    },
    {
     "ename": "OverflowError",
     "evalue": "value too large to convert to int",
     "output_type": "error",
     "traceback": [
      "\u001b[0;31m---------------------------------------------------------------------------\u001b[0m",
      "\u001b[0;31mOverflowError\u001b[0m                             Traceback (most recent call last)",
      "\u001b[0;31mOverflowError\u001b[0m: value too large to convert to int"
     ]
    },
    {
     "name": "stderr",
     "output_type": "stream",
     "text": [
      "Exception ignored in: 'fastparquet.cencoding.write_thrift'\n",
      "Traceback (most recent call last):\n",
      "  File \"/home/lukawc/.local/lib/python3.9/site-packages/fastparquet/writer.py\", line 894, in write_simple\n",
      "    foot_size = f.write(fmd.to_bytes())\n",
      "OverflowError: value too large to convert to int\n"
     ]
    },
    {
     "ename": "OverflowError",
     "evalue": "value too large to convert to int",
     "output_type": "error",
     "traceback": [
      "\u001b[0;31m---------------------------------------------------------------------------\u001b[0m",
      "\u001b[0;31mOverflowError\u001b[0m                             Traceback (most recent call last)",
      "\u001b[0;31mOverflowError\u001b[0m: value too large to convert to int"
     ]
    },
    {
     "name": "stderr",
     "output_type": "stream",
     "text": [
      "Exception ignored in: 'fastparquet.cencoding.write_thrift'\n",
      "Traceback (most recent call last):\n",
      "  File \"/home/lukawc/.local/lib/python3.9/site-packages/fastparquet/writer.py\", line 894, in write_simple\n",
      "    foot_size = f.write(fmd.to_bytes())\n",
      "OverflowError: value too large to convert to int\n"
     ]
    },
    {
     "ename": "OverflowError",
     "evalue": "value too large to convert to int",
     "output_type": "error",
     "traceback": [
      "\u001b[0;31m---------------------------------------------------------------------------\u001b[0m",
      "\u001b[0;31mOverflowError\u001b[0m                             Traceback (most recent call last)",
      "\u001b[0;31mOverflowError\u001b[0m: value too large to convert to int"
     ]
    },
    {
     "name": "stderr",
     "output_type": "stream",
     "text": [
      "Exception ignored in: 'fastparquet.cencoding.write_thrift'\n",
      "Traceback (most recent call last):\n",
      "  File \"/home/lukawc/.local/lib/python3.9/site-packages/fastparquet/writer.py\", line 894, in write_simple\n",
      "    foot_size = f.write(fmd.to_bytes())\n",
      "OverflowError: value too large to convert to int\n"
     ]
    },
    {
     "ename": "OverflowError",
     "evalue": "value too large to convert to int",
     "output_type": "error",
     "traceback": [
      "\u001b[0;31m---------------------------------------------------------------------------\u001b[0m",
      "\u001b[0;31mOverflowError\u001b[0m                             Traceback (most recent call last)",
      "\u001b[0;31mOverflowError\u001b[0m: value too large to convert to int"
     ]
    },
    {
     "name": "stderr",
     "output_type": "stream",
     "text": [
      "Exception ignored in: 'fastparquet.cencoding.write_thrift'\n",
      "Traceback (most recent call last):\n",
      "  File \"/home/lukawc/.local/lib/python3.9/site-packages/fastparquet/writer.py\", line 894, in write_simple\n",
      "    foot_size = f.write(fmd.to_bytes())\n",
      "OverflowError: value too large to convert to int\n"
     ]
    },
    {
     "ename": "OverflowError",
     "evalue": "value too large to convert to int",
     "output_type": "error",
     "traceback": [
      "\u001b[0;31m---------------------------------------------------------------------------\u001b[0m",
      "\u001b[0;31mOverflowError\u001b[0m                             Traceback (most recent call last)",
      "\u001b[0;31mOverflowError\u001b[0m: value too large to convert to int"
     ]
    },
    {
     "name": "stderr",
     "output_type": "stream",
     "text": [
      "Exception ignored in: 'fastparquet.cencoding.write_thrift'\n",
      "Traceback (most recent call last):\n",
      "  File \"/home/lukawc/.local/lib/python3.9/site-packages/fastparquet/writer.py\", line 894, in write_simple\n",
      "    foot_size = f.write(fmd.to_bytes())\n",
      "OverflowError: value too large to convert to int\n"
     ]
    },
    {
     "ename": "OverflowError",
     "evalue": "value too large to convert to int",
     "output_type": "error",
     "traceback": [
      "\u001b[0;31m---------------------------------------------------------------------------\u001b[0m",
      "\u001b[0;31mOverflowError\u001b[0m                             Traceback (most recent call last)",
      "\u001b[0;31mOverflowError\u001b[0m: value too large to convert to int"
     ]
    },
    {
     "name": "stderr",
     "output_type": "stream",
     "text": [
      "Exception ignored in: 'fastparquet.cencoding.write_thrift'\n",
      "Traceback (most recent call last):\n",
      "  File \"/home/lukawc/.local/lib/python3.9/site-packages/fastparquet/writer.py\", line 894, in write_simple\n",
      "    foot_size = f.write(fmd.to_bytes())\n",
      "OverflowError: value too large to convert to int\n"
     ]
    },
    {
     "ename": "OverflowError",
     "evalue": "value too large to convert to int",
     "output_type": "error",
     "traceback": [
      "\u001b[0;31m---------------------------------------------------------------------------\u001b[0m",
      "\u001b[0;31mOverflowError\u001b[0m                             Traceback (most recent call last)",
      "\u001b[0;31mOverflowError\u001b[0m: value too large to convert to int"
     ]
    },
    {
     "name": "stderr",
     "output_type": "stream",
     "text": [
      "Exception ignored in: 'fastparquet.cencoding.write_thrift'\n",
      "Traceback (most recent call last):\n",
      "  File \"/home/lukawc/.local/lib/python3.9/site-packages/fastparquet/writer.py\", line 894, in write_simple\n",
      "    foot_size = f.write(fmd.to_bytes())\n",
      "OverflowError: value too large to convert to int\n"
     ]
    },
    {
     "ename": "OverflowError",
     "evalue": "value too large to convert to int",
     "output_type": "error",
     "traceback": [
      "\u001b[0;31m---------------------------------------------------------------------------\u001b[0m",
      "\u001b[0;31mOverflowError\u001b[0m                             Traceback (most recent call last)",
      "\u001b[0;31mOverflowError\u001b[0m: value too large to convert to int"
     ]
    },
    {
     "name": "stderr",
     "output_type": "stream",
     "text": [
      "Exception ignored in: 'fastparquet.cencoding.write_thrift'\n",
      "Traceback (most recent call last):\n",
      "  File \"/home/lukawc/.local/lib/python3.9/site-packages/fastparquet/writer.py\", line 894, in write_simple\n",
      "    foot_size = f.write(fmd.to_bytes())\n",
      "OverflowError: value too large to convert to int\n"
     ]
    },
    {
     "ename": "OverflowError",
     "evalue": "value too large to convert to int",
     "output_type": "error",
     "traceback": [
      "\u001b[0;31m---------------------------------------------------------------------------\u001b[0m",
      "\u001b[0;31mOverflowError\u001b[0m                             Traceback (most recent call last)",
      "\u001b[0;31mOverflowError\u001b[0m: value too large to convert to int"
     ]
    },
    {
     "name": "stderr",
     "output_type": "stream",
     "text": [
      "Exception ignored in: 'fastparquet.cencoding.write_thrift'\n",
      "Traceback (most recent call last):\n",
      "  File \"/home/lukawc/.local/lib/python3.9/site-packages/fastparquet/writer.py\", line 894, in write_simple\n",
      "    foot_size = f.write(fmd.to_bytes())\n",
      "OverflowError: value too large to convert to int\n"
     ]
    },
    {
     "ename": "OverflowError",
     "evalue": "value too large to convert to int",
     "output_type": "error",
     "traceback": [
      "\u001b[0;31m---------------------------------------------------------------------------\u001b[0m",
      "\u001b[0;31mOverflowError\u001b[0m                             Traceback (most recent call last)",
      "\u001b[0;31mOverflowError\u001b[0m: value too large to convert to int"
     ]
    },
    {
     "name": "stderr",
     "output_type": "stream",
     "text": [
      "Exception ignored in: 'fastparquet.cencoding.write_thrift'\n",
      "Traceback (most recent call last):\n",
      "  File \"/home/lukawc/.local/lib/python3.9/site-packages/fastparquet/writer.py\", line 894, in write_simple\n",
      "    foot_size = f.write(fmd.to_bytes())\n",
      "OverflowError: value too large to convert to int\n"
     ]
    },
    {
     "ename": "OverflowError",
     "evalue": "value too large to convert to int",
     "output_type": "error",
     "traceback": [
      "\u001b[0;31m---------------------------------------------------------------------------\u001b[0m",
      "\u001b[0;31mOverflowError\u001b[0m                             Traceback (most recent call last)",
      "\u001b[0;31mOverflowError\u001b[0m: value too large to convert to int"
     ]
    },
    {
     "name": "stderr",
     "output_type": "stream",
     "text": [
      "Exception ignored in: 'fastparquet.cencoding.write_thrift'\n",
      "Traceback (most recent call last):\n",
      "  File \"/home/lukawc/.local/lib/python3.9/site-packages/fastparquet/writer.py\", line 894, in write_simple\n",
      "    foot_size = f.write(fmd.to_bytes())\n",
      "OverflowError: value too large to convert to int\n"
     ]
    },
    {
     "ename": "OverflowError",
     "evalue": "value too large to convert to int",
     "output_type": "error",
     "traceback": [
      "\u001b[0;31m---------------------------------------------------------------------------\u001b[0m",
      "\u001b[0;31mOverflowError\u001b[0m                             Traceback (most recent call last)",
      "\u001b[0;31mOverflowError\u001b[0m: value too large to convert to int"
     ]
    },
    {
     "name": "stderr",
     "output_type": "stream",
     "text": [
      "Exception ignored in: 'fastparquet.cencoding.write_thrift'\n",
      "Traceback (most recent call last):\n",
      "  File \"/home/lukawc/.local/lib/python3.9/site-packages/fastparquet/writer.py\", line 894, in write_simple\n",
      "    foot_size = f.write(fmd.to_bytes())\n",
      "OverflowError: value too large to convert to int\n"
     ]
    },
    {
     "ename": "OverflowError",
     "evalue": "value too large to convert to int",
     "output_type": "error",
     "traceback": [
      "\u001b[0;31m---------------------------------------------------------------------------\u001b[0m",
      "\u001b[0;31mOverflowError\u001b[0m                             Traceback (most recent call last)",
      "\u001b[0;31mOverflowError\u001b[0m: value too large to convert to int"
     ]
    },
    {
     "name": "stderr",
     "output_type": "stream",
     "text": [
      "Exception ignored in: 'fastparquet.cencoding.write_thrift'\n",
      "Traceback (most recent call last):\n",
      "  File \"/home/lukawc/.local/lib/python3.9/site-packages/fastparquet/writer.py\", line 894, in write_simple\n",
      "    foot_size = f.write(fmd.to_bytes())\n",
      "OverflowError: value too large to convert to int\n"
     ]
    },
    {
     "ename": "OverflowError",
     "evalue": "value too large to convert to int",
     "output_type": "error",
     "traceback": [
      "\u001b[0;31m---------------------------------------------------------------------------\u001b[0m",
      "\u001b[0;31mOverflowError\u001b[0m                             Traceback (most recent call last)",
      "\u001b[0;31mOverflowError\u001b[0m: value too large to convert to int"
     ]
    },
    {
     "name": "stderr",
     "output_type": "stream",
     "text": [
      "Exception ignored in: 'fastparquet.cencoding.write_thrift'\n",
      "Traceback (most recent call last):\n",
      "  File \"/home/lukawc/.local/lib/python3.9/site-packages/fastparquet/writer.py\", line 894, in write_simple\n",
      "    foot_size = f.write(fmd.to_bytes())\n",
      "OverflowError: value too large to convert to int\n"
     ]
    },
    {
     "ename": "OverflowError",
     "evalue": "value too large to convert to int",
     "output_type": "error",
     "traceback": [
      "\u001b[0;31m---------------------------------------------------------------------------\u001b[0m",
      "\u001b[0;31mOverflowError\u001b[0m                             Traceback (most recent call last)",
      "\u001b[0;31mOverflowError\u001b[0m: value too large to convert to int"
     ]
    },
    {
     "name": "stderr",
     "output_type": "stream",
     "text": [
      "Exception ignored in: 'fastparquet.cencoding.write_thrift'\n",
      "Traceback (most recent call last):\n",
      "  File \"/home/lukawc/.local/lib/python3.9/site-packages/fastparquet/writer.py\", line 894, in write_simple\n",
      "    foot_size = f.write(fmd.to_bytes())\n",
      "OverflowError: value too large to convert to int\n"
     ]
    },
    {
     "ename": "OverflowError",
     "evalue": "value too large to convert to int",
     "output_type": "error",
     "traceback": [
      "\u001b[0;31m---------------------------------------------------------------------------\u001b[0m",
      "\u001b[0;31mOverflowError\u001b[0m                             Traceback (most recent call last)",
      "\u001b[0;31mOverflowError\u001b[0m: value too large to convert to int"
     ]
    },
    {
     "name": "stderr",
     "output_type": "stream",
     "text": [
      "Exception ignored in: 'fastparquet.cencoding.write_thrift'\n",
      "Traceback (most recent call last):\n",
      "  File \"/home/lukawc/.local/lib/python3.9/site-packages/fastparquet/writer.py\", line 894, in write_simple\n",
      "    foot_size = f.write(fmd.to_bytes())\n",
      "OverflowError: value too large to convert to int\n"
     ]
    },
    {
     "ename": "OverflowError",
     "evalue": "value too large to convert to int",
     "output_type": "error",
     "traceback": [
      "\u001b[0;31m---------------------------------------------------------------------------\u001b[0m",
      "\u001b[0;31mOverflowError\u001b[0m                             Traceback (most recent call last)",
      "\u001b[0;31mOverflowError\u001b[0m: value too large to convert to int"
     ]
    },
    {
     "name": "stderr",
     "output_type": "stream",
     "text": [
      "Exception ignored in: 'fastparquet.cencoding.write_thrift'\n",
      "Traceback (most recent call last):\n",
      "  File \"/home/lukawc/.local/lib/python3.9/site-packages/fastparquet/writer.py\", line 894, in write_simple\n",
      "    foot_size = f.write(fmd.to_bytes())\n",
      "OverflowError: value too large to convert to int\n"
     ]
    },
    {
     "ename": "OverflowError",
     "evalue": "value too large to convert to int",
     "output_type": "error",
     "traceback": [
      "\u001b[0;31m---------------------------------------------------------------------------\u001b[0m",
      "\u001b[0;31mOverflowError\u001b[0m                             Traceback (most recent call last)",
      "\u001b[0;31mOverflowError\u001b[0m: value too large to convert to int"
     ]
    },
    {
     "name": "stderr",
     "output_type": "stream",
     "text": [
      "Exception ignored in: 'fastparquet.cencoding.write_thrift'\n",
      "Traceback (most recent call last):\n",
      "  File \"/home/lukawc/.local/lib/python3.9/site-packages/fastparquet/writer.py\", line 894, in write_simple\n",
      "    foot_size = f.write(fmd.to_bytes())\n",
      "OverflowError: value too large to convert to int\n"
     ]
    },
    {
     "ename": "OverflowError",
     "evalue": "value too large to convert to int",
     "output_type": "error",
     "traceback": [
      "\u001b[0;31m---------------------------------------------------------------------------\u001b[0m",
      "\u001b[0;31mOverflowError\u001b[0m                             Traceback (most recent call last)",
      "\u001b[0;31mOverflowError\u001b[0m: value too large to convert to int"
     ]
    },
    {
     "name": "stderr",
     "output_type": "stream",
     "text": [
      "Exception ignored in: 'fastparquet.cencoding.write_thrift'\n",
      "Traceback (most recent call last):\n",
      "  File \"/home/lukawc/.local/lib/python3.9/site-packages/fastparquet/writer.py\", line 894, in write_simple\n",
      "    foot_size = f.write(fmd.to_bytes())\n",
      "OverflowError: value too large to convert to int\n"
     ]
    },
    {
     "ename": "OverflowError",
     "evalue": "value too large to convert to int",
     "output_type": "error",
     "traceback": [
      "\u001b[0;31m---------------------------------------------------------------------------\u001b[0m",
      "\u001b[0;31mOverflowError\u001b[0m                             Traceback (most recent call last)",
      "\u001b[0;31mOverflowError\u001b[0m: value too large to convert to int"
     ]
    },
    {
     "name": "stderr",
     "output_type": "stream",
     "text": [
      "Exception ignored in: 'fastparquet.cencoding.write_thrift'\n",
      "Traceback (most recent call last):\n",
      "  File \"/home/lukawc/.local/lib/python3.9/site-packages/fastparquet/writer.py\", line 894, in write_simple\n",
      "    foot_size = f.write(fmd.to_bytes())\n",
      "OverflowError: value too large to convert to int\n"
     ]
    },
    {
     "ename": "OverflowError",
     "evalue": "value too large to convert to int",
     "output_type": "error",
     "traceback": [
      "\u001b[0;31m---------------------------------------------------------------------------\u001b[0m",
      "\u001b[0;31mOverflowError\u001b[0m                             Traceback (most recent call last)",
      "\u001b[0;31mOverflowError\u001b[0m: value too large to convert to int"
     ]
    },
    {
     "name": "stderr",
     "output_type": "stream",
     "text": [
      "Exception ignored in: 'fastparquet.cencoding.write_thrift'\n",
      "Traceback (most recent call last):\n",
      "  File \"/home/lukawc/.local/lib/python3.9/site-packages/fastparquet/writer.py\", line 894, in write_simple\n",
      "    foot_size = f.write(fmd.to_bytes())\n",
      "OverflowError: value too large to convert to int\n"
     ]
    },
    {
     "ename": "OverflowError",
     "evalue": "value too large to convert to int",
     "output_type": "error",
     "traceback": [
      "\u001b[0;31m---------------------------------------------------------------------------\u001b[0m",
      "\u001b[0;31mOverflowError\u001b[0m                             Traceback (most recent call last)",
      "\u001b[0;31mOverflowError\u001b[0m: value too large to convert to int"
     ]
    },
    {
     "name": "stderr",
     "output_type": "stream",
     "text": [
      "Exception ignored in: 'fastparquet.cencoding.write_thrift'\n",
      "Traceback (most recent call last):\n",
      "  File \"/home/lukawc/.local/lib/python3.9/site-packages/fastparquet/writer.py\", line 894, in write_simple\n",
      "    foot_size = f.write(fmd.to_bytes())\n",
      "OverflowError: value too large to convert to int\n"
     ]
    },
    {
     "ename": "OverflowError",
     "evalue": "value too large to convert to int",
     "output_type": "error",
     "traceback": [
      "\u001b[0;31m---------------------------------------------------------------------------\u001b[0m",
      "\u001b[0;31mOverflowError\u001b[0m                             Traceback (most recent call last)",
      "\u001b[0;31mOverflowError\u001b[0m: value too large to convert to int"
     ]
    },
    {
     "name": "stderr",
     "output_type": "stream",
     "text": [
      "Exception ignored in: 'fastparquet.cencoding.write_thrift'\n",
      "Traceback (most recent call last):\n",
      "  File \"/home/lukawc/.local/lib/python3.9/site-packages/fastparquet/writer.py\", line 894, in write_simple\n",
      "    foot_size = f.write(fmd.to_bytes())\n",
      "OverflowError: value too large to convert to int\n"
     ]
    },
    {
     "ename": "OverflowError",
     "evalue": "value too large to convert to int",
     "output_type": "error",
     "traceback": [
      "\u001b[0;31m---------------------------------------------------------------------------\u001b[0m",
      "\u001b[0;31mOverflowError\u001b[0m                             Traceback (most recent call last)",
      "\u001b[0;31mOverflowError\u001b[0m: value too large to convert to int"
     ]
    },
    {
     "name": "stderr",
     "output_type": "stream",
     "text": [
      "Exception ignored in: 'fastparquet.cencoding.write_thrift'\n",
      "Traceback (most recent call last):\n",
      "  File \"/home/lukawc/.local/lib/python3.9/site-packages/fastparquet/writer.py\", line 894, in write_simple\n",
      "    foot_size = f.write(fmd.to_bytes())\n",
      "OverflowError: value too large to convert to int\n"
     ]
    },
    {
     "ename": "OverflowError",
     "evalue": "value too large to convert to int",
     "output_type": "error",
     "traceback": [
      "\u001b[0;31m---------------------------------------------------------------------------\u001b[0m",
      "\u001b[0;31mOverflowError\u001b[0m                             Traceback (most recent call last)",
      "\u001b[0;31mOverflowError\u001b[0m: value too large to convert to int"
     ]
    },
    {
     "name": "stderr",
     "output_type": "stream",
     "text": [
      "Exception ignored in: 'fastparquet.cencoding.write_thrift'\n",
      "Traceback (most recent call last):\n",
      "  File \"/home/lukawc/.local/lib/python3.9/site-packages/fastparquet/writer.py\", line 894, in write_simple\n",
      "    foot_size = f.write(fmd.to_bytes())\n",
      "OverflowError: value too large to convert to int\n"
     ]
    },
    {
     "ename": "OverflowError",
     "evalue": "value too large to convert to int",
     "output_type": "error",
     "traceback": [
      "\u001b[0;31m---------------------------------------------------------------------------\u001b[0m",
      "\u001b[0;31mOverflowError\u001b[0m                             Traceback (most recent call last)",
      "\u001b[0;31mOverflowError\u001b[0m: value too large to convert to int"
     ]
    },
    {
     "name": "stderr",
     "output_type": "stream",
     "text": [
      "Exception ignored in: 'fastparquet.cencoding.write_thrift'\n",
      "Traceback (most recent call last):\n",
      "  File \"/home/lukawc/.local/lib/python3.9/site-packages/fastparquet/writer.py\", line 894, in write_simple\n",
      "    foot_size = f.write(fmd.to_bytes())\n",
      "OverflowError: value too large to convert to int\n"
     ]
    },
    {
     "ename": "OverflowError",
     "evalue": "value too large to convert to int",
     "output_type": "error",
     "traceback": [
      "\u001b[0;31m---------------------------------------------------------------------------\u001b[0m",
      "\u001b[0;31mOverflowError\u001b[0m                             Traceback (most recent call last)",
      "\u001b[0;31mOverflowError\u001b[0m: value too large to convert to int"
     ]
    },
    {
     "name": "stderr",
     "output_type": "stream",
     "text": [
      "Exception ignored in: 'fastparquet.cencoding.write_thrift'\n",
      "Traceback (most recent call last):\n",
      "  File \"/home/lukawc/.local/lib/python3.9/site-packages/fastparquet/writer.py\", line 894, in write_simple\n",
      "    foot_size = f.write(fmd.to_bytes())\n",
      "OverflowError: value too large to convert to int\n"
     ]
    },
    {
     "ename": "OverflowError",
     "evalue": "value too large to convert to int",
     "output_type": "error",
     "traceback": [
      "\u001b[0;31m---------------------------------------------------------------------------\u001b[0m",
      "\u001b[0;31mOverflowError\u001b[0m                             Traceback (most recent call last)",
      "\u001b[0;31mOverflowError\u001b[0m: value too large to convert to int"
     ]
    },
    {
     "name": "stderr",
     "output_type": "stream",
     "text": [
      "Exception ignored in: 'fastparquet.cencoding.write_thrift'\n",
      "Traceback (most recent call last):\n",
      "  File \"/home/lukawc/.local/lib/python3.9/site-packages/fastparquet/writer.py\", line 894, in write_simple\n",
      "    foot_size = f.write(fmd.to_bytes())\n",
      "OverflowError: value too large to convert to int\n"
     ]
    },
    {
     "ename": "OverflowError",
     "evalue": "value too large to convert to int",
     "output_type": "error",
     "traceback": [
      "\u001b[0;31m---------------------------------------------------------------------------\u001b[0m",
      "\u001b[0;31mOverflowError\u001b[0m                             Traceback (most recent call last)",
      "\u001b[0;31mOverflowError\u001b[0m: value too large to convert to int"
     ]
    },
    {
     "name": "stderr",
     "output_type": "stream",
     "text": [
      "Exception ignored in: 'fastparquet.cencoding.write_thrift'\n",
      "Traceback (most recent call last):\n",
      "  File \"/home/lukawc/.local/lib/python3.9/site-packages/fastparquet/writer.py\", line 894, in write_simple\n",
      "    foot_size = f.write(fmd.to_bytes())\n",
      "OverflowError: value too large to convert to int\n"
     ]
    },
    {
     "ename": "OverflowError",
     "evalue": "value too large to convert to int",
     "output_type": "error",
     "traceback": [
      "\u001b[0;31m---------------------------------------------------------------------------\u001b[0m",
      "\u001b[0;31mOverflowError\u001b[0m                             Traceback (most recent call last)",
      "\u001b[0;31mOverflowError\u001b[0m: value too large to convert to int"
     ]
    },
    {
     "name": "stderr",
     "output_type": "stream",
     "text": [
      "Exception ignored in: 'fastparquet.cencoding.write_thrift'\n",
      "Traceback (most recent call last):\n",
      "  File \"/home/lukawc/.local/lib/python3.9/site-packages/fastparquet/writer.py\", line 894, in write_simple\n",
      "    foot_size = f.write(fmd.to_bytes())\n",
      "OverflowError: value too large to convert to int\n"
     ]
    },
    {
     "ename": "OverflowError",
     "evalue": "value too large to convert to int",
     "output_type": "error",
     "traceback": [
      "\u001b[0;31m---------------------------------------------------------------------------\u001b[0m",
      "\u001b[0;31mOverflowError\u001b[0m                             Traceback (most recent call last)",
      "\u001b[0;31mOverflowError\u001b[0m: value too large to convert to int"
     ]
    },
    {
     "name": "stderr",
     "output_type": "stream",
     "text": [
      "Exception ignored in: 'fastparquet.cencoding.write_thrift'\n",
      "Traceback (most recent call last):\n",
      "  File \"/home/lukawc/.local/lib/python3.9/site-packages/fastparquet/writer.py\", line 894, in write_simple\n",
      "    foot_size = f.write(fmd.to_bytes())\n",
      "OverflowError: value too large to convert to int\n"
     ]
    },
    {
     "ename": "OverflowError",
     "evalue": "value too large to convert to int",
     "output_type": "error",
     "traceback": [
      "\u001b[0;31m---------------------------------------------------------------------------\u001b[0m",
      "\u001b[0;31mOverflowError\u001b[0m                             Traceback (most recent call last)",
      "\u001b[0;31mOverflowError\u001b[0m: value too large to convert to int"
     ]
    },
    {
     "name": "stderr",
     "output_type": "stream",
     "text": [
      "Exception ignored in: 'fastparquet.cencoding.write_thrift'\n",
      "Traceback (most recent call last):\n",
      "  File \"/home/lukawc/.local/lib/python3.9/site-packages/fastparquet/writer.py\", line 894, in write_simple\n",
      "    foot_size = f.write(fmd.to_bytes())\n",
      "OverflowError: value too large to convert to int\n"
     ]
    },
    {
     "ename": "OverflowError",
     "evalue": "value too large to convert to int",
     "output_type": "error",
     "traceback": [
      "\u001b[0;31m---------------------------------------------------------------------------\u001b[0m",
      "\u001b[0;31mOverflowError\u001b[0m                             Traceback (most recent call last)",
      "\u001b[0;31mOverflowError\u001b[0m: value too large to convert to int"
     ]
    },
    {
     "name": "stderr",
     "output_type": "stream",
     "text": [
      "Exception ignored in: 'fastparquet.cencoding.write_thrift'\n",
      "Traceback (most recent call last):\n",
      "  File \"/home/lukawc/.local/lib/python3.9/site-packages/fastparquet/writer.py\", line 894, in write_simple\n",
      "    foot_size = f.write(fmd.to_bytes())\n",
      "OverflowError: value too large to convert to int\n"
     ]
    },
    {
     "ename": "OverflowError",
     "evalue": "value too large to convert to int",
     "output_type": "error",
     "traceback": [
      "\u001b[0;31m---------------------------------------------------------------------------\u001b[0m",
      "\u001b[0;31mOverflowError\u001b[0m                             Traceback (most recent call last)",
      "\u001b[0;31mOverflowError\u001b[0m: value too large to convert to int"
     ]
    },
    {
     "name": "stderr",
     "output_type": "stream",
     "text": [
      "Exception ignored in: 'fastparquet.cencoding.write_thrift'\n",
      "Traceback (most recent call last):\n",
      "  File \"/home/lukawc/.local/lib/python3.9/site-packages/fastparquet/writer.py\", line 894, in write_simple\n",
      "    foot_size = f.write(fmd.to_bytes())\n",
      "OverflowError: value too large to convert to int\n"
     ]
    },
    {
     "ename": "OverflowError",
     "evalue": "value too large to convert to int",
     "output_type": "error",
     "traceback": [
      "\u001b[0;31m---------------------------------------------------------------------------\u001b[0m",
      "\u001b[0;31mOverflowError\u001b[0m                             Traceback (most recent call last)",
      "\u001b[0;31mOverflowError\u001b[0m: value too large to convert to int"
     ]
    },
    {
     "name": "stderr",
     "output_type": "stream",
     "text": [
      "Exception ignored in: 'fastparquet.cencoding.write_thrift'\n",
      "Traceback (most recent call last):\n",
      "  File \"/home/lukawc/.local/lib/python3.9/site-packages/fastparquet/writer.py\", line 894, in write_simple\n",
      "    foot_size = f.write(fmd.to_bytes())\n",
      "OverflowError: value too large to convert to int\n"
     ]
    },
    {
     "ename": "OverflowError",
     "evalue": "value too large to convert to int",
     "output_type": "error",
     "traceback": [
      "\u001b[0;31m---------------------------------------------------------------------------\u001b[0m",
      "\u001b[0;31mOverflowError\u001b[0m                             Traceback (most recent call last)",
      "\u001b[0;31mOverflowError\u001b[0m: value too large to convert to int"
     ]
    },
    {
     "name": "stderr",
     "output_type": "stream",
     "text": [
      "Exception ignored in: 'fastparquet.cencoding.write_thrift'\n",
      "Traceback (most recent call last):\n",
      "  File \"/home/lukawc/.local/lib/python3.9/site-packages/fastparquet/writer.py\", line 894, in write_simple\n",
      "    foot_size = f.write(fmd.to_bytes())\n",
      "OverflowError: value too large to convert to int\n"
     ]
    },
    {
     "ename": "OverflowError",
     "evalue": "value too large to convert to int",
     "output_type": "error",
     "traceback": [
      "\u001b[0;31m---------------------------------------------------------------------------\u001b[0m",
      "\u001b[0;31mOverflowError\u001b[0m                             Traceback (most recent call last)",
      "\u001b[0;31mOverflowError\u001b[0m: value too large to convert to int"
     ]
    },
    {
     "name": "stderr",
     "output_type": "stream",
     "text": [
      "Exception ignored in: 'fastparquet.cencoding.write_thrift'\n",
      "Traceback (most recent call last):\n",
      "  File \"/home/lukawc/.local/lib/python3.9/site-packages/fastparquet/writer.py\", line 894, in write_simple\n",
      "    foot_size = f.write(fmd.to_bytes())\n",
      "OverflowError: value too large to convert to int\n"
     ]
    },
    {
     "ename": "OverflowError",
     "evalue": "value too large to convert to int",
     "output_type": "error",
     "traceback": [
      "\u001b[0;31m---------------------------------------------------------------------------\u001b[0m",
      "\u001b[0;31mOverflowError\u001b[0m                             Traceback (most recent call last)",
      "\u001b[0;31mOverflowError\u001b[0m: value too large to convert to int"
     ]
    },
    {
     "name": "stderr",
     "output_type": "stream",
     "text": [
      "Exception ignored in: 'fastparquet.cencoding.write_thrift'\n",
      "Traceback (most recent call last):\n",
      "  File \"/home/lukawc/.local/lib/python3.9/site-packages/fastparquet/writer.py\", line 894, in write_simple\n",
      "    foot_size = f.write(fmd.to_bytes())\n",
      "OverflowError: value too large to convert to int\n"
     ]
    },
    {
     "ename": "OverflowError",
     "evalue": "value too large to convert to int",
     "output_type": "error",
     "traceback": [
      "\u001b[0;31m---------------------------------------------------------------------------\u001b[0m",
      "\u001b[0;31mOverflowError\u001b[0m                             Traceback (most recent call last)",
      "\u001b[0;31mOverflowError\u001b[0m: value too large to convert to int"
     ]
    },
    {
     "name": "stderr",
     "output_type": "stream",
     "text": [
      "Exception ignored in: 'fastparquet.cencoding.write_thrift'\n",
      "Traceback (most recent call last):\n",
      "  File \"/home/lukawc/.local/lib/python3.9/site-packages/fastparquet/writer.py\", line 894, in write_simple\n",
      "    foot_size = f.write(fmd.to_bytes())\n",
      "OverflowError: value too large to convert to int\n"
     ]
    },
    {
     "ename": "OverflowError",
     "evalue": "value too large to convert to int",
     "output_type": "error",
     "traceback": [
      "\u001b[0;31m---------------------------------------------------------------------------\u001b[0m",
      "\u001b[0;31mOverflowError\u001b[0m                             Traceback (most recent call last)",
      "\u001b[0;31mOverflowError\u001b[0m: value too large to convert to int"
     ]
    },
    {
     "name": "stderr",
     "output_type": "stream",
     "text": [
      "Exception ignored in: 'fastparquet.cencoding.write_thrift'\n",
      "Traceback (most recent call last):\n",
      "  File \"/home/lukawc/.local/lib/python3.9/site-packages/fastparquet/writer.py\", line 894, in write_simple\n",
      "    foot_size = f.write(fmd.to_bytes())\n",
      "OverflowError: value too large to convert to int\n"
     ]
    },
    {
     "ename": "OverflowError",
     "evalue": "value too large to convert to int",
     "output_type": "error",
     "traceback": [
      "\u001b[0;31m---------------------------------------------------------------------------\u001b[0m",
      "\u001b[0;31mOverflowError\u001b[0m                             Traceback (most recent call last)",
      "\u001b[0;31mOverflowError\u001b[0m: value too large to convert to int"
     ]
    },
    {
     "name": "stderr",
     "output_type": "stream",
     "text": [
      "Exception ignored in: 'fastparquet.cencoding.write_thrift'\n",
      "Traceback (most recent call last):\n",
      "  File \"/home/lukawc/.local/lib/python3.9/site-packages/fastparquet/writer.py\", line 894, in write_simple\n",
      "    foot_size = f.write(fmd.to_bytes())\n",
      "OverflowError: value too large to convert to int\n"
     ]
    },
    {
     "ename": "OverflowError",
     "evalue": "value too large to convert to int",
     "output_type": "error",
     "traceback": [
      "\u001b[0;31m---------------------------------------------------------------------------\u001b[0m",
      "\u001b[0;31mOverflowError\u001b[0m                             Traceback (most recent call last)",
      "\u001b[0;31mOverflowError\u001b[0m: value too large to convert to int"
     ]
    },
    {
     "name": "stderr",
     "output_type": "stream",
     "text": [
      "Exception ignored in: 'fastparquet.cencoding.write_thrift'\n",
      "Traceback (most recent call last):\n",
      "  File \"/home/lukawc/.local/lib/python3.9/site-packages/fastparquet/writer.py\", line 894, in write_simple\n",
      "    foot_size = f.write(fmd.to_bytes())\n",
      "OverflowError: value too large to convert to int\n"
     ]
    },
    {
     "ename": "OverflowError",
     "evalue": "value too large to convert to int",
     "output_type": "error",
     "traceback": [
      "\u001b[0;31m---------------------------------------------------------------------------\u001b[0m",
      "\u001b[0;31mOverflowError\u001b[0m                             Traceback (most recent call last)",
      "\u001b[0;31mOverflowError\u001b[0m: value too large to convert to int"
     ]
    },
    {
     "name": "stderr",
     "output_type": "stream",
     "text": [
      "Exception ignored in: 'fastparquet.cencoding.write_thrift'\n",
      "Traceback (most recent call last):\n",
      "  File \"/home/lukawc/.local/lib/python3.9/site-packages/fastparquet/writer.py\", line 894, in write_simple\n",
      "    foot_size = f.write(fmd.to_bytes())\n",
      "OverflowError: value too large to convert to int\n"
     ]
    },
    {
     "ename": "OverflowError",
     "evalue": "value too large to convert to int",
     "output_type": "error",
     "traceback": [
      "\u001b[0;31m---------------------------------------------------------------------------\u001b[0m",
      "\u001b[0;31mOverflowError\u001b[0m                             Traceback (most recent call last)",
      "\u001b[0;31mOverflowError\u001b[0m: value too large to convert to int"
     ]
    },
    {
     "name": "stderr",
     "output_type": "stream",
     "text": [
      "Exception ignored in: 'fastparquet.cencoding.write_thrift'\n",
      "Traceback (most recent call last):\n",
      "  File \"/home/lukawc/.local/lib/python3.9/site-packages/fastparquet/writer.py\", line 894, in write_simple\n",
      "    foot_size = f.write(fmd.to_bytes())\n",
      "OverflowError: value too large to convert to int\n"
     ]
    },
    {
     "ename": "OverflowError",
     "evalue": "value too large to convert to int",
     "output_type": "error",
     "traceback": [
      "\u001b[0;31m---------------------------------------------------------------------------\u001b[0m",
      "\u001b[0;31mOverflowError\u001b[0m                             Traceback (most recent call last)",
      "\u001b[0;31mOverflowError\u001b[0m: value too large to convert to int"
     ]
    },
    {
     "name": "stderr",
     "output_type": "stream",
     "text": [
      "Exception ignored in: 'fastparquet.cencoding.write_thrift'\n",
      "Traceback (most recent call last):\n",
      "  File \"/home/lukawc/.local/lib/python3.9/site-packages/fastparquet/writer.py\", line 894, in write_simple\n",
      "    foot_size = f.write(fmd.to_bytes())\n",
      "OverflowError: value too large to convert to int\n"
     ]
    },
    {
     "ename": "OverflowError",
     "evalue": "value too large to convert to int",
     "output_type": "error",
     "traceback": [
      "\u001b[0;31m---------------------------------------------------------------------------\u001b[0m",
      "\u001b[0;31mOverflowError\u001b[0m                             Traceback (most recent call last)",
      "\u001b[0;31mOverflowError\u001b[0m: value too large to convert to int"
     ]
    },
    {
     "name": "stderr",
     "output_type": "stream",
     "text": [
      "Exception ignored in: 'fastparquet.cencoding.write_thrift'\n",
      "Traceback (most recent call last):\n",
      "  File \"/home/lukawc/.local/lib/python3.9/site-packages/fastparquet/writer.py\", line 894, in write_simple\n",
      "    foot_size = f.write(fmd.to_bytes())\n",
      "OverflowError: value too large to convert to int\n"
     ]
    },
    {
     "ename": "OverflowError",
     "evalue": "value too large to convert to int",
     "output_type": "error",
     "traceback": [
      "\u001b[0;31m---------------------------------------------------------------------------\u001b[0m",
      "\u001b[0;31mOverflowError\u001b[0m                             Traceback (most recent call last)",
      "\u001b[0;31mOverflowError\u001b[0m: value too large to convert to int"
     ]
    },
    {
     "name": "stderr",
     "output_type": "stream",
     "text": [
      "Exception ignored in: 'fastparquet.cencoding.write_thrift'\n",
      "Traceback (most recent call last):\n",
      "  File \"/home/lukawc/.local/lib/python3.9/site-packages/fastparquet/writer.py\", line 894, in write_simple\n",
      "    foot_size = f.write(fmd.to_bytes())\n",
      "OverflowError: value too large to convert to int\n"
     ]
    },
    {
     "ename": "OverflowError",
     "evalue": "value too large to convert to int",
     "output_type": "error",
     "traceback": [
      "\u001b[0;31m---------------------------------------------------------------------------\u001b[0m",
      "\u001b[0;31mOverflowError\u001b[0m                             Traceback (most recent call last)",
      "\u001b[0;31mOverflowError\u001b[0m: value too large to convert to int"
     ]
    },
    {
     "name": "stderr",
     "output_type": "stream",
     "text": [
      "Exception ignored in: 'fastparquet.cencoding.write_thrift'\n",
      "Traceback (most recent call last):\n",
      "  File \"/home/lukawc/.local/lib/python3.9/site-packages/fastparquet/writer.py\", line 894, in write_simple\n",
      "    foot_size = f.write(fmd.to_bytes())\n",
      "OverflowError: value too large to convert to int\n"
     ]
    },
    {
     "ename": "OverflowError",
     "evalue": "value too large to convert to int",
     "output_type": "error",
     "traceback": [
      "\u001b[0;31m---------------------------------------------------------------------------\u001b[0m",
      "\u001b[0;31mOverflowError\u001b[0m                             Traceback (most recent call last)",
      "\u001b[0;31mOverflowError\u001b[0m: value too large to convert to int"
     ]
    },
    {
     "name": "stderr",
     "output_type": "stream",
     "text": [
      "Exception ignored in: 'fastparquet.cencoding.write_thrift'\n",
      "Traceback (most recent call last):\n",
      "  File \"/home/lukawc/.local/lib/python3.9/site-packages/fastparquet/writer.py\", line 894, in write_simple\n",
      "    foot_size = f.write(fmd.to_bytes())\n",
      "OverflowError: value too large to convert to int\n"
     ]
    },
    {
     "ename": "OverflowError",
     "evalue": "value too large to convert to int",
     "output_type": "error",
     "traceback": [
      "\u001b[0;31m---------------------------------------------------------------------------\u001b[0m",
      "\u001b[0;31mOverflowError\u001b[0m                             Traceback (most recent call last)",
      "\u001b[0;31mOverflowError\u001b[0m: value too large to convert to int"
     ]
    },
    {
     "name": "stderr",
     "output_type": "stream",
     "text": [
      "Exception ignored in: 'fastparquet.cencoding.write_thrift'\n",
      "Traceback (most recent call last):\n",
      "  File \"/home/lukawc/.local/lib/python3.9/site-packages/fastparquet/writer.py\", line 894, in write_simple\n",
      "    foot_size = f.write(fmd.to_bytes())\n",
      "OverflowError: value too large to convert to int\n"
     ]
    },
    {
     "ename": "OverflowError",
     "evalue": "value too large to convert to int",
     "output_type": "error",
     "traceback": [
      "\u001b[0;31m---------------------------------------------------------------------------\u001b[0m",
      "\u001b[0;31mOverflowError\u001b[0m                             Traceback (most recent call last)",
      "\u001b[0;31mOverflowError\u001b[0m: value too large to convert to int"
     ]
    },
    {
     "name": "stderr",
     "output_type": "stream",
     "text": [
      "Exception ignored in: 'fastparquet.cencoding.write_thrift'\n",
      "Traceback (most recent call last):\n",
      "  File \"/home/lukawc/.local/lib/python3.9/site-packages/fastparquet/writer.py\", line 894, in write_simple\n",
      "    foot_size = f.write(fmd.to_bytes())\n",
      "OverflowError: value too large to convert to int\n"
     ]
    },
    {
     "ename": "OverflowError",
     "evalue": "value too large to convert to int",
     "output_type": "error",
     "traceback": [
      "\u001b[0;31m---------------------------------------------------------------------------\u001b[0m",
      "\u001b[0;31mOverflowError\u001b[0m                             Traceback (most recent call last)",
      "\u001b[0;31mOverflowError\u001b[0m: value too large to convert to int"
     ]
    },
    {
     "name": "stderr",
     "output_type": "stream",
     "text": [
      "Exception ignored in: 'fastparquet.cencoding.write_thrift'\n",
      "Traceback (most recent call last):\n",
      "  File \"/home/lukawc/.local/lib/python3.9/site-packages/fastparquet/writer.py\", line 894, in write_simple\n",
      "    foot_size = f.write(fmd.to_bytes())\n",
      "OverflowError: value too large to convert to int\n"
     ]
    },
    {
     "ename": "OverflowError",
     "evalue": "value too large to convert to int",
     "output_type": "error",
     "traceback": [
      "\u001b[0;31m---------------------------------------------------------------------------\u001b[0m",
      "\u001b[0;31mOverflowError\u001b[0m                             Traceback (most recent call last)",
      "\u001b[0;31mOverflowError\u001b[0m: value too large to convert to int"
     ]
    },
    {
     "name": "stderr",
     "output_type": "stream",
     "text": [
      "Exception ignored in: 'fastparquet.cencoding.write_thrift'\n",
      "Traceback (most recent call last):\n",
      "  File \"/home/lukawc/.local/lib/python3.9/site-packages/fastparquet/writer.py\", line 894, in write_simple\n",
      "    foot_size = f.write(fmd.to_bytes())\n",
      "OverflowError: value too large to convert to int\n"
     ]
    },
    {
     "ename": "OverflowError",
     "evalue": "value too large to convert to int",
     "output_type": "error",
     "traceback": [
      "\u001b[0;31m---------------------------------------------------------------------------\u001b[0m",
      "\u001b[0;31mOverflowError\u001b[0m                             Traceback (most recent call last)",
      "\u001b[0;31mOverflowError\u001b[0m: value too large to convert to int"
     ]
    },
    {
     "name": "stderr",
     "output_type": "stream",
     "text": [
      "Exception ignored in: 'fastparquet.cencoding.write_thrift'\n",
      "Traceback (most recent call last):\n",
      "  File \"/home/lukawc/.local/lib/python3.9/site-packages/fastparquet/writer.py\", line 894, in write_simple\n",
      "    foot_size = f.write(fmd.to_bytes())\n",
      "OverflowError: value too large to convert to int\n"
     ]
    },
    {
     "ename": "OverflowError",
     "evalue": "value too large to convert to int",
     "output_type": "error",
     "traceback": [
      "\u001b[0;31m---------------------------------------------------------------------------\u001b[0m",
      "\u001b[0;31mOverflowError\u001b[0m                             Traceback (most recent call last)",
      "\u001b[0;31mOverflowError\u001b[0m: value too large to convert to int"
     ]
    },
    {
     "name": "stderr",
     "output_type": "stream",
     "text": [
      "Exception ignored in: 'fastparquet.cencoding.write_thrift'\n",
      "Traceback (most recent call last):\n",
      "  File \"/home/lukawc/.local/lib/python3.9/site-packages/fastparquet/writer.py\", line 894, in write_simple\n",
      "    foot_size = f.write(fmd.to_bytes())\n",
      "OverflowError: value too large to convert to int\n"
     ]
    },
    {
     "ename": "OverflowError",
     "evalue": "value too large to convert to int",
     "output_type": "error",
     "traceback": [
      "\u001b[0;31m---------------------------------------------------------------------------\u001b[0m",
      "\u001b[0;31mOverflowError\u001b[0m                             Traceback (most recent call last)",
      "\u001b[0;31mOverflowError\u001b[0m: value too large to convert to int"
     ]
    },
    {
     "name": "stderr",
     "output_type": "stream",
     "text": [
      "Exception ignored in: 'fastparquet.cencoding.write_thrift'\n",
      "Traceback (most recent call last):\n",
      "  File \"/home/lukawc/.local/lib/python3.9/site-packages/fastparquet/writer.py\", line 894, in write_simple\n",
      "    foot_size = f.write(fmd.to_bytes())\n",
      "OverflowError: value too large to convert to int\n"
     ]
    },
    {
     "ename": "OverflowError",
     "evalue": "value too large to convert to int",
     "output_type": "error",
     "traceback": [
      "\u001b[0;31m---------------------------------------------------------------------------\u001b[0m",
      "\u001b[0;31mOverflowError\u001b[0m                             Traceback (most recent call last)",
      "\u001b[0;31mOverflowError\u001b[0m: value too large to convert to int"
     ]
    },
    {
     "name": "stderr",
     "output_type": "stream",
     "text": [
      "Exception ignored in: 'fastparquet.cencoding.write_thrift'\n",
      "Traceback (most recent call last):\n",
      "  File \"/home/lukawc/.local/lib/python3.9/site-packages/fastparquet/writer.py\", line 894, in write_simple\n",
      "    foot_size = f.write(fmd.to_bytes())\n",
      "OverflowError: value too large to convert to int\n"
     ]
    },
    {
     "ename": "OverflowError",
     "evalue": "value too large to convert to int",
     "output_type": "error",
     "traceback": [
      "\u001b[0;31m---------------------------------------------------------------------------\u001b[0m",
      "\u001b[0;31mOverflowError\u001b[0m                             Traceback (most recent call last)",
      "\u001b[0;31mOverflowError\u001b[0m: value too large to convert to int"
     ]
    },
    {
     "name": "stderr",
     "output_type": "stream",
     "text": [
      "Exception ignored in: 'fastparquet.cencoding.write_thrift'\n",
      "Traceback (most recent call last):\n",
      "  File \"/home/lukawc/.local/lib/python3.9/site-packages/fastparquet/writer.py\", line 894, in write_simple\n",
      "    foot_size = f.write(fmd.to_bytes())\n",
      "OverflowError: value too large to convert to int\n"
     ]
    },
    {
     "ename": "OverflowError",
     "evalue": "value too large to convert to int",
     "output_type": "error",
     "traceback": [
      "\u001b[0;31m---------------------------------------------------------------------------\u001b[0m",
      "\u001b[0;31mOverflowError\u001b[0m                             Traceback (most recent call last)",
      "\u001b[0;31mOverflowError\u001b[0m: value too large to convert to int"
     ]
    },
    {
     "name": "stderr",
     "output_type": "stream",
     "text": [
      "Exception ignored in: 'fastparquet.cencoding.write_thrift'\n",
      "Traceback (most recent call last):\n",
      "  File \"/home/lukawc/.local/lib/python3.9/site-packages/fastparquet/writer.py\", line 894, in write_simple\n",
      "    foot_size = f.write(fmd.to_bytes())\n",
      "OverflowError: value too large to convert to int\n"
     ]
    },
    {
     "ename": "OverflowError",
     "evalue": "value too large to convert to int",
     "output_type": "error",
     "traceback": [
      "\u001b[0;31m---------------------------------------------------------------------------\u001b[0m",
      "\u001b[0;31mOverflowError\u001b[0m                             Traceback (most recent call last)",
      "\u001b[0;31mOverflowError\u001b[0m: value too large to convert to int"
     ]
    },
    {
     "name": "stderr",
     "output_type": "stream",
     "text": [
      "Exception ignored in: 'fastparquet.cencoding.write_thrift'\n",
      "Traceback (most recent call last):\n",
      "  File \"/home/lukawc/.local/lib/python3.9/site-packages/fastparquet/writer.py\", line 894, in write_simple\n",
      "    foot_size = f.write(fmd.to_bytes())\n",
      "OverflowError: value too large to convert to int\n"
     ]
    },
    {
     "ename": "OverflowError",
     "evalue": "value too large to convert to int",
     "output_type": "error",
     "traceback": [
      "\u001b[0;31m---------------------------------------------------------------------------\u001b[0m",
      "\u001b[0;31mOverflowError\u001b[0m                             Traceback (most recent call last)",
      "\u001b[0;31mOverflowError\u001b[0m: value too large to convert to int"
     ]
    },
    {
     "name": "stderr",
     "output_type": "stream",
     "text": [
      "Exception ignored in: 'fastparquet.cencoding.write_thrift'\n",
      "Traceback (most recent call last):\n",
      "  File \"/home/lukawc/.local/lib/python3.9/site-packages/fastparquet/writer.py\", line 894, in write_simple\n",
      "    foot_size = f.write(fmd.to_bytes())\n",
      "OverflowError: value too large to convert to int\n"
     ]
    },
    {
     "ename": "OverflowError",
     "evalue": "value too large to convert to int",
     "output_type": "error",
     "traceback": [
      "\u001b[0;31m---------------------------------------------------------------------------\u001b[0m",
      "\u001b[0;31mOverflowError\u001b[0m                             Traceback (most recent call last)",
      "\u001b[0;31mOverflowError\u001b[0m: value too large to convert to int"
     ]
    },
    {
     "name": "stderr",
     "output_type": "stream",
     "text": [
      "Exception ignored in: 'fastparquet.cencoding.write_thrift'\n",
      "Traceback (most recent call last):\n",
      "  File \"/home/lukawc/.local/lib/python3.9/site-packages/fastparquet/writer.py\", line 894, in write_simple\n",
      "    foot_size = f.write(fmd.to_bytes())\n",
      "OverflowError: value too large to convert to int\n"
     ]
    },
    {
     "ename": "OverflowError",
     "evalue": "value too large to convert to int",
     "output_type": "error",
     "traceback": [
      "\u001b[0;31m---------------------------------------------------------------------------\u001b[0m",
      "\u001b[0;31mOverflowError\u001b[0m                             Traceback (most recent call last)",
      "\u001b[0;31mOverflowError\u001b[0m: value too large to convert to int"
     ]
    },
    {
     "name": "stderr",
     "output_type": "stream",
     "text": [
      "Exception ignored in: 'fastparquet.cencoding.write_thrift'\n",
      "Traceback (most recent call last):\n",
      "  File \"/home/lukawc/.local/lib/python3.9/site-packages/fastparquet/writer.py\", line 894, in write_simple\n",
      "    foot_size = f.write(fmd.to_bytes())\n",
      "OverflowError: value too large to convert to int\n"
     ]
    },
    {
     "ename": "OverflowError",
     "evalue": "value too large to convert to int",
     "output_type": "error",
     "traceback": [
      "\u001b[0;31m---------------------------------------------------------------------------\u001b[0m",
      "\u001b[0;31mOverflowError\u001b[0m                             Traceback (most recent call last)",
      "\u001b[0;31mOverflowError\u001b[0m: value too large to convert to int"
     ]
    },
    {
     "name": "stderr",
     "output_type": "stream",
     "text": [
      "Exception ignored in: 'fastparquet.cencoding.write_thrift'\n",
      "Traceback (most recent call last):\n",
      "  File \"/home/lukawc/.local/lib/python3.9/site-packages/fastparquet/writer.py\", line 894, in write_simple\n",
      "    foot_size = f.write(fmd.to_bytes())\n",
      "OverflowError: value too large to convert to int\n"
     ]
    },
    {
     "ename": "OverflowError",
     "evalue": "value too large to convert to int",
     "output_type": "error",
     "traceback": [
      "\u001b[0;31m---------------------------------------------------------------------------\u001b[0m",
      "\u001b[0;31mOverflowError\u001b[0m                             Traceback (most recent call last)",
      "\u001b[0;31mOverflowError\u001b[0m: value too large to convert to int"
     ]
    },
    {
     "name": "stderr",
     "output_type": "stream",
     "text": [
      "Exception ignored in: 'fastparquet.cencoding.write_thrift'\n",
      "Traceback (most recent call last):\n",
      "  File \"/home/lukawc/.local/lib/python3.9/site-packages/fastparquet/writer.py\", line 894, in write_simple\n",
      "    foot_size = f.write(fmd.to_bytes())\n",
      "OverflowError: value too large to convert to int\n"
     ]
    },
    {
     "ename": "OverflowError",
     "evalue": "value too large to convert to int",
     "output_type": "error",
     "traceback": [
      "\u001b[0;31m---------------------------------------------------------------------------\u001b[0m",
      "\u001b[0;31mOverflowError\u001b[0m                             Traceback (most recent call last)",
      "\u001b[0;31mOverflowError\u001b[0m: value too large to convert to int"
     ]
    },
    {
     "name": "stderr",
     "output_type": "stream",
     "text": [
      "Exception ignored in: 'fastparquet.cencoding.write_thrift'\n",
      "Traceback (most recent call last):\n",
      "  File \"/home/lukawc/.local/lib/python3.9/site-packages/fastparquet/writer.py\", line 894, in write_simple\n",
      "    foot_size = f.write(fmd.to_bytes())\n",
      "OverflowError: value too large to convert to int\n"
     ]
    },
    {
     "ename": "OverflowError",
     "evalue": "value too large to convert to int",
     "output_type": "error",
     "traceback": [
      "\u001b[0;31m---------------------------------------------------------------------------\u001b[0m",
      "\u001b[0;31mOverflowError\u001b[0m                             Traceback (most recent call last)",
      "\u001b[0;31mOverflowError\u001b[0m: value too large to convert to int"
     ]
    },
    {
     "name": "stderr",
     "output_type": "stream",
     "text": [
      "Exception ignored in: 'fastparquet.cencoding.write_thrift'\n",
      "Traceback (most recent call last):\n",
      "  File \"/home/lukawc/.local/lib/python3.9/site-packages/fastparquet/writer.py\", line 894, in write_simple\n",
      "    foot_size = f.write(fmd.to_bytes())\n",
      "OverflowError: value too large to convert to int\n"
     ]
    },
    {
     "ename": "OverflowError",
     "evalue": "value too large to convert to int",
     "output_type": "error",
     "traceback": [
      "\u001b[0;31m---------------------------------------------------------------------------\u001b[0m",
      "\u001b[0;31mOverflowError\u001b[0m                             Traceback (most recent call last)",
      "\u001b[0;31mOverflowError\u001b[0m: value too large to convert to int"
     ]
    },
    {
     "name": "stderr",
     "output_type": "stream",
     "text": [
      "Exception ignored in: 'fastparquet.cencoding.write_thrift'\n",
      "Traceback (most recent call last):\n",
      "  File \"/home/lukawc/.local/lib/python3.9/site-packages/fastparquet/writer.py\", line 894, in write_simple\n",
      "    foot_size = f.write(fmd.to_bytes())\n",
      "OverflowError: value too large to convert to int\n"
     ]
    },
    {
     "ename": "OverflowError",
     "evalue": "value too large to convert to int",
     "output_type": "error",
     "traceback": [
      "\u001b[0;31m---------------------------------------------------------------------------\u001b[0m",
      "\u001b[0;31mOverflowError\u001b[0m                             Traceback (most recent call last)",
      "\u001b[0;31mOverflowError\u001b[0m: value too large to convert to int"
     ]
    },
    {
     "name": "stderr",
     "output_type": "stream",
     "text": [
      "Exception ignored in: 'fastparquet.cencoding.write_thrift'\n",
      "Traceback (most recent call last):\n",
      "  File \"/home/lukawc/.local/lib/python3.9/site-packages/fastparquet/writer.py\", line 894, in write_simple\n",
      "    foot_size = f.write(fmd.to_bytes())\n",
      "OverflowError: value too large to convert to int\n"
     ]
    },
    {
     "ename": "OverflowError",
     "evalue": "value too large to convert to int",
     "output_type": "error",
     "traceback": [
      "\u001b[0;31m---------------------------------------------------------------------------\u001b[0m",
      "\u001b[0;31mOverflowError\u001b[0m                             Traceback (most recent call last)",
      "\u001b[0;31mOverflowError\u001b[0m: value too large to convert to int"
     ]
    },
    {
     "name": "stderr",
     "output_type": "stream",
     "text": [
      "Exception ignored in: 'fastparquet.cencoding.write_thrift'\n",
      "Traceback (most recent call last):\n",
      "  File \"/home/lukawc/.local/lib/python3.9/site-packages/fastparquet/writer.py\", line 894, in write_simple\n",
      "    foot_size = f.write(fmd.to_bytes())\n",
      "OverflowError: value too large to convert to int\n"
     ]
    },
    {
     "ename": "OverflowError",
     "evalue": "value too large to convert to int",
     "output_type": "error",
     "traceback": [
      "\u001b[0;31m---------------------------------------------------------------------------\u001b[0m",
      "\u001b[0;31mOverflowError\u001b[0m                             Traceback (most recent call last)",
      "\u001b[0;31mOverflowError\u001b[0m: value too large to convert to int"
     ]
    },
    {
     "name": "stderr",
     "output_type": "stream",
     "text": [
      "Exception ignored in: 'fastparquet.cencoding.write_thrift'\n",
      "Traceback (most recent call last):\n",
      "  File \"/home/lukawc/.local/lib/python3.9/site-packages/fastparquet/writer.py\", line 894, in write_simple\n",
      "    foot_size = f.write(fmd.to_bytes())\n",
      "OverflowError: value too large to convert to int\n"
     ]
    },
    {
     "ename": "OverflowError",
     "evalue": "value too large to convert to int",
     "output_type": "error",
     "traceback": [
      "\u001b[0;31m---------------------------------------------------------------------------\u001b[0m",
      "\u001b[0;31mOverflowError\u001b[0m                             Traceback (most recent call last)",
      "\u001b[0;31mOverflowError\u001b[0m: value too large to convert to int"
     ]
    },
    {
     "name": "stderr",
     "output_type": "stream",
     "text": [
      "Exception ignored in: 'fastparquet.cencoding.write_thrift'\n",
      "Traceback (most recent call last):\n",
      "  File \"/home/lukawc/.local/lib/python3.9/site-packages/fastparquet/writer.py\", line 894, in write_simple\n",
      "    foot_size = f.write(fmd.to_bytes())\n",
      "OverflowError: value too large to convert to int\n"
     ]
    },
    {
     "ename": "OverflowError",
     "evalue": "value too large to convert to int",
     "output_type": "error",
     "traceback": [
      "\u001b[0;31m---------------------------------------------------------------------------\u001b[0m",
      "\u001b[0;31mOverflowError\u001b[0m                             Traceback (most recent call last)",
      "\u001b[0;31mOverflowError\u001b[0m: value too large to convert to int"
     ]
    },
    {
     "name": "stderr",
     "output_type": "stream",
     "text": [
      "Exception ignored in: 'fastparquet.cencoding.write_thrift'\n",
      "Traceback (most recent call last):\n",
      "  File \"/home/lukawc/.local/lib/python3.9/site-packages/fastparquet/writer.py\", line 894, in write_simple\n",
      "    foot_size = f.write(fmd.to_bytes())\n",
      "OverflowError: value too large to convert to int\n"
     ]
    },
    {
     "ename": "OverflowError",
     "evalue": "value too large to convert to int",
     "output_type": "error",
     "traceback": [
      "\u001b[0;31m---------------------------------------------------------------------------\u001b[0m",
      "\u001b[0;31mOverflowError\u001b[0m                             Traceback (most recent call last)",
      "\u001b[0;31mOverflowError\u001b[0m: value too large to convert to int"
     ]
    },
    {
     "name": "stderr",
     "output_type": "stream",
     "text": [
      "Exception ignored in: 'fastparquet.cencoding.write_thrift'\n",
      "Traceback (most recent call last):\n",
      "  File \"/home/lukawc/.local/lib/python3.9/site-packages/fastparquet/writer.py\", line 894, in write_simple\n",
      "    foot_size = f.write(fmd.to_bytes())\n",
      "OverflowError: value too large to convert to int\n"
     ]
    },
    {
     "ename": "OverflowError",
     "evalue": "value too large to convert to int",
     "output_type": "error",
     "traceback": [
      "\u001b[0;31m---------------------------------------------------------------------------\u001b[0m",
      "\u001b[0;31mOverflowError\u001b[0m                             Traceback (most recent call last)",
      "\u001b[0;31mOverflowError\u001b[0m: value too large to convert to int"
     ]
    },
    {
     "name": "stderr",
     "output_type": "stream",
     "text": [
      "Exception ignored in: 'fastparquet.cencoding.write_thrift'\n",
      "Traceback (most recent call last):\n",
      "  File \"/home/lukawc/.local/lib/python3.9/site-packages/fastparquet/writer.py\", line 894, in write_simple\n",
      "    foot_size = f.write(fmd.to_bytes())\n",
      "OverflowError: value too large to convert to int\n"
     ]
    },
    {
     "ename": "OverflowError",
     "evalue": "value too large to convert to int",
     "output_type": "error",
     "traceback": [
      "\u001b[0;31m---------------------------------------------------------------------------\u001b[0m",
      "\u001b[0;31mOverflowError\u001b[0m                             Traceback (most recent call last)",
      "\u001b[0;31mOverflowError\u001b[0m: value too large to convert to int"
     ]
    },
    {
     "name": "stderr",
     "output_type": "stream",
     "text": [
      "Exception ignored in: 'fastparquet.cencoding.write_thrift'\n",
      "Traceback (most recent call last):\n",
      "  File \"/home/lukawc/.local/lib/python3.9/site-packages/fastparquet/writer.py\", line 894, in write_simple\n",
      "    foot_size = f.write(fmd.to_bytes())\n",
      "OverflowError: value too large to convert to int\n"
     ]
    },
    {
     "ename": "OverflowError",
     "evalue": "value too large to convert to int",
     "output_type": "error",
     "traceback": [
      "\u001b[0;31m---------------------------------------------------------------------------\u001b[0m",
      "\u001b[0;31mOverflowError\u001b[0m                             Traceback (most recent call last)",
      "\u001b[0;31mOverflowError\u001b[0m: value too large to convert to int"
     ]
    },
    {
     "name": "stderr",
     "output_type": "stream",
     "text": [
      "Exception ignored in: 'fastparquet.cencoding.write_thrift'\n",
      "Traceback (most recent call last):\n",
      "  File \"/home/lukawc/.local/lib/python3.9/site-packages/fastparquet/writer.py\", line 894, in write_simple\n",
      "    foot_size = f.write(fmd.to_bytes())\n",
      "OverflowError: value too large to convert to int\n"
     ]
    },
    {
     "ename": "OverflowError",
     "evalue": "value too large to convert to int",
     "output_type": "error",
     "traceback": [
      "\u001b[0;31m---------------------------------------------------------------------------\u001b[0m",
      "\u001b[0;31mOverflowError\u001b[0m                             Traceback (most recent call last)",
      "\u001b[0;31mOverflowError\u001b[0m: value too large to convert to int"
     ]
    },
    {
     "name": "stderr",
     "output_type": "stream",
     "text": [
      "Exception ignored in: 'fastparquet.cencoding.write_thrift'\n",
      "Traceback (most recent call last):\n",
      "  File \"/home/lukawc/.local/lib/python3.9/site-packages/fastparquet/writer.py\", line 894, in write_simple\n",
      "    foot_size = f.write(fmd.to_bytes())\n",
      "OverflowError: value too large to convert to int\n"
     ]
    },
    {
     "ename": "OverflowError",
     "evalue": "value too large to convert to int",
     "output_type": "error",
     "traceback": [
      "\u001b[0;31m---------------------------------------------------------------------------\u001b[0m",
      "\u001b[0;31mOverflowError\u001b[0m                             Traceback (most recent call last)",
      "\u001b[0;31mOverflowError\u001b[0m: value too large to convert to int"
     ]
    },
    {
     "name": "stderr",
     "output_type": "stream",
     "text": [
      "Exception ignored in: 'fastparquet.cencoding.write_thrift'\n",
      "Traceback (most recent call last):\n",
      "  File \"/home/lukawc/.local/lib/python3.9/site-packages/fastparquet/writer.py\", line 894, in write_simple\n",
      "    foot_size = f.write(fmd.to_bytes())\n",
      "OverflowError: value too large to convert to int\n"
     ]
    },
    {
     "ename": "OverflowError",
     "evalue": "value too large to convert to int",
     "output_type": "error",
     "traceback": [
      "\u001b[0;31m---------------------------------------------------------------------------\u001b[0m",
      "\u001b[0;31mOverflowError\u001b[0m                             Traceback (most recent call last)",
      "\u001b[0;31mOverflowError\u001b[0m: value too large to convert to int"
     ]
    },
    {
     "name": "stderr",
     "output_type": "stream",
     "text": [
      "Exception ignored in: 'fastparquet.cencoding.write_thrift'\n",
      "Traceback (most recent call last):\n",
      "  File \"/home/lukawc/.local/lib/python3.9/site-packages/fastparquet/writer.py\", line 894, in write_simple\n",
      "    foot_size = f.write(fmd.to_bytes())\n",
      "OverflowError: value too large to convert to int\n"
     ]
    },
    {
     "ename": "OverflowError",
     "evalue": "value too large to convert to int",
     "output_type": "error",
     "traceback": [
      "\u001b[0;31m---------------------------------------------------------------------------\u001b[0m",
      "\u001b[0;31mOverflowError\u001b[0m                             Traceback (most recent call last)",
      "\u001b[0;31mOverflowError\u001b[0m: value too large to convert to int"
     ]
    },
    {
     "name": "stderr",
     "output_type": "stream",
     "text": [
      "Exception ignored in: 'fastparquet.cencoding.write_thrift'\n",
      "Traceback (most recent call last):\n",
      "  File \"/home/lukawc/.local/lib/python3.9/site-packages/fastparquet/writer.py\", line 894, in write_simple\n",
      "    foot_size = f.write(fmd.to_bytes())\n",
      "OverflowError: value too large to convert to int\n"
     ]
    },
    {
     "ename": "OverflowError",
     "evalue": "value too large to convert to int",
     "output_type": "error",
     "traceback": [
      "\u001b[0;31m---------------------------------------------------------------------------\u001b[0m",
      "\u001b[0;31mOverflowError\u001b[0m                             Traceback (most recent call last)",
      "\u001b[0;31mOverflowError\u001b[0m: value too large to convert to int"
     ]
    },
    {
     "name": "stderr",
     "output_type": "stream",
     "text": [
      "Exception ignored in: 'fastparquet.cencoding.write_thrift'\n",
      "Traceback (most recent call last):\n",
      "  File \"/home/lukawc/.local/lib/python3.9/site-packages/fastparquet/writer.py\", line 894, in write_simple\n",
      "    foot_size = f.write(fmd.to_bytes())\n",
      "OverflowError: value too large to convert to int\n"
     ]
    },
    {
     "ename": "OverflowError",
     "evalue": "value too large to convert to int",
     "output_type": "error",
     "traceback": [
      "\u001b[0;31m---------------------------------------------------------------------------\u001b[0m",
      "\u001b[0;31mOverflowError\u001b[0m                             Traceback (most recent call last)",
      "\u001b[0;31mOverflowError\u001b[0m: value too large to convert to int"
     ]
    },
    {
     "name": "stderr",
     "output_type": "stream",
     "text": [
      "Exception ignored in: 'fastparquet.cencoding.write_thrift'\n",
      "Traceback (most recent call last):\n",
      "  File \"/home/lukawc/.local/lib/python3.9/site-packages/fastparquet/writer.py\", line 894, in write_simple\n",
      "    foot_size = f.write(fmd.to_bytes())\n",
      "OverflowError: value too large to convert to int\n"
     ]
    },
    {
     "ename": "OverflowError",
     "evalue": "value too large to convert to int",
     "output_type": "error",
     "traceback": [
      "\u001b[0;31m---------------------------------------------------------------------------\u001b[0m",
      "\u001b[0;31mOverflowError\u001b[0m                             Traceback (most recent call last)",
      "\u001b[0;31mOverflowError\u001b[0m: value too large to convert to int"
     ]
    },
    {
     "name": "stderr",
     "output_type": "stream",
     "text": [
      "Exception ignored in: 'fastparquet.cencoding.write_thrift'\n",
      "Traceback (most recent call last):\n",
      "  File \"/home/lukawc/.local/lib/python3.9/site-packages/fastparquet/writer.py\", line 894, in write_simple\n",
      "    foot_size = f.write(fmd.to_bytes())\n",
      "OverflowError: value too large to convert to int\n"
     ]
    },
    {
     "ename": "OverflowError",
     "evalue": "value too large to convert to int",
     "output_type": "error",
     "traceback": [
      "\u001b[0;31m---------------------------------------------------------------------------\u001b[0m",
      "\u001b[0;31mOverflowError\u001b[0m                             Traceback (most recent call last)",
      "\u001b[0;31mOverflowError\u001b[0m: value too large to convert to int"
     ]
    },
    {
     "name": "stderr",
     "output_type": "stream",
     "text": [
      "Exception ignored in: 'fastparquet.cencoding.write_thrift'\n",
      "Traceback (most recent call last):\n",
      "  File \"/home/lukawc/.local/lib/python3.9/site-packages/fastparquet/writer.py\", line 894, in write_simple\n",
      "    foot_size = f.write(fmd.to_bytes())\n",
      "OverflowError: value too large to convert to int\n"
     ]
    },
    {
     "ename": "OverflowError",
     "evalue": "value too large to convert to int",
     "output_type": "error",
     "traceback": [
      "\u001b[0;31m---------------------------------------------------------------------------\u001b[0m",
      "\u001b[0;31mOverflowError\u001b[0m                             Traceback (most recent call last)",
      "\u001b[0;31mOverflowError\u001b[0m: value too large to convert to int"
     ]
    },
    {
     "name": "stderr",
     "output_type": "stream",
     "text": [
      "Exception ignored in: 'fastparquet.cencoding.write_thrift'\n",
      "Traceback (most recent call last):\n",
      "  File \"/home/lukawc/.local/lib/python3.9/site-packages/fastparquet/writer.py\", line 894, in write_simple\n",
      "    foot_size = f.write(fmd.to_bytes())\n",
      "OverflowError: value too large to convert to int\n"
     ]
    },
    {
     "ename": "OverflowError",
     "evalue": "value too large to convert to int",
     "output_type": "error",
     "traceback": [
      "\u001b[0;31m---------------------------------------------------------------------------\u001b[0m",
      "\u001b[0;31mOverflowError\u001b[0m                             Traceback (most recent call last)",
      "\u001b[0;31mOverflowError\u001b[0m: value too large to convert to int"
     ]
    },
    {
     "name": "stderr",
     "output_type": "stream",
     "text": [
      "Exception ignored in: 'fastparquet.cencoding.write_thrift'\n",
      "Traceback (most recent call last):\n",
      "  File \"/home/lukawc/.local/lib/python3.9/site-packages/fastparquet/writer.py\", line 894, in write_simple\n",
      "    foot_size = f.write(fmd.to_bytes())\n",
      "OverflowError: value too large to convert to int\n"
     ]
    },
    {
     "ename": "OverflowError",
     "evalue": "value too large to convert to int",
     "output_type": "error",
     "traceback": [
      "\u001b[0;31m---------------------------------------------------------------------------\u001b[0m",
      "\u001b[0;31mOverflowError\u001b[0m                             Traceback (most recent call last)",
      "\u001b[0;31mOverflowError\u001b[0m: value too large to convert to int"
     ]
    },
    {
     "name": "stderr",
     "output_type": "stream",
     "text": [
      "Exception ignored in: 'fastparquet.cencoding.write_thrift'\n",
      "Traceback (most recent call last):\n",
      "  File \"/home/lukawc/.local/lib/python3.9/site-packages/fastparquet/writer.py\", line 894, in write_simple\n",
      "    foot_size = f.write(fmd.to_bytes())\n",
      "OverflowError: value too large to convert to int\n"
     ]
    },
    {
     "ename": "OverflowError",
     "evalue": "value too large to convert to int",
     "output_type": "error",
     "traceback": [
      "\u001b[0;31m---------------------------------------------------------------------------\u001b[0m",
      "\u001b[0;31mOverflowError\u001b[0m                             Traceback (most recent call last)",
      "\u001b[0;31mOverflowError\u001b[0m: value too large to convert to int"
     ]
    },
    {
     "name": "stderr",
     "output_type": "stream",
     "text": [
      "Exception ignored in: 'fastparquet.cencoding.write_thrift'\n",
      "Traceback (most recent call last):\n",
      "  File \"/home/lukawc/.local/lib/python3.9/site-packages/fastparquet/writer.py\", line 894, in write_simple\n",
      "    foot_size = f.write(fmd.to_bytes())\n",
      "OverflowError: value too large to convert to int\n"
     ]
    },
    {
     "ename": "OverflowError",
     "evalue": "value too large to convert to int",
     "output_type": "error",
     "traceback": [
      "\u001b[0;31m---------------------------------------------------------------------------\u001b[0m",
      "\u001b[0;31mOverflowError\u001b[0m                             Traceback (most recent call last)",
      "\u001b[0;31mOverflowError\u001b[0m: value too large to convert to int"
     ]
    },
    {
     "name": "stderr",
     "output_type": "stream",
     "text": [
      "Exception ignored in: 'fastparquet.cencoding.write_thrift'\n",
      "Traceback (most recent call last):\n",
      "  File \"/home/lukawc/.local/lib/python3.9/site-packages/fastparquet/writer.py\", line 894, in write_simple\n",
      "    foot_size = f.write(fmd.to_bytes())\n",
      "OverflowError: value too large to convert to int\n"
     ]
    },
    {
     "ename": "OverflowError",
     "evalue": "value too large to convert to int",
     "output_type": "error",
     "traceback": [
      "\u001b[0;31m---------------------------------------------------------------------------\u001b[0m",
      "\u001b[0;31mOverflowError\u001b[0m                             Traceback (most recent call last)",
      "\u001b[0;31mOverflowError\u001b[0m: value too large to convert to int"
     ]
    },
    {
     "name": "stderr",
     "output_type": "stream",
     "text": [
      "Exception ignored in: 'fastparquet.cencoding.write_thrift'\n",
      "Traceback (most recent call last):\n",
      "  File \"/home/lukawc/.local/lib/python3.9/site-packages/fastparquet/writer.py\", line 894, in write_simple\n",
      "    foot_size = f.write(fmd.to_bytes())\n",
      "OverflowError: value too large to convert to int\n"
     ]
    },
    {
     "ename": "OverflowError",
     "evalue": "value too large to convert to int",
     "output_type": "error",
     "traceback": [
      "\u001b[0;31m---------------------------------------------------------------------------\u001b[0m",
      "\u001b[0;31mOverflowError\u001b[0m                             Traceback (most recent call last)",
      "\u001b[0;31mOverflowError\u001b[0m: value too large to convert to int"
     ]
    },
    {
     "name": "stderr",
     "output_type": "stream",
     "text": [
      "Exception ignored in: 'fastparquet.cencoding.write_thrift'\n",
      "Traceback (most recent call last):\n",
      "  File \"/home/lukawc/.local/lib/python3.9/site-packages/fastparquet/writer.py\", line 894, in write_simple\n",
      "    foot_size = f.write(fmd.to_bytes())\n",
      "OverflowError: value too large to convert to int\n"
     ]
    },
    {
     "ename": "OverflowError",
     "evalue": "value too large to convert to int",
     "output_type": "error",
     "traceback": [
      "\u001b[0;31m---------------------------------------------------------------------------\u001b[0m",
      "\u001b[0;31mOverflowError\u001b[0m                             Traceback (most recent call last)",
      "\u001b[0;31mOverflowError\u001b[0m: value too large to convert to int"
     ]
    },
    {
     "name": "stderr",
     "output_type": "stream",
     "text": [
      "Exception ignored in: 'fastparquet.cencoding.write_thrift'\n",
      "Traceback (most recent call last):\n",
      "  File \"/home/lukawc/.local/lib/python3.9/site-packages/fastparquet/writer.py\", line 894, in write_simple\n",
      "    foot_size = f.write(fmd.to_bytes())\n",
      "OverflowError: value too large to convert to int\n"
     ]
    },
    {
     "ename": "OverflowError",
     "evalue": "value too large to convert to int",
     "output_type": "error",
     "traceback": [
      "\u001b[0;31m---------------------------------------------------------------------------\u001b[0m",
      "\u001b[0;31mOverflowError\u001b[0m                             Traceback (most recent call last)",
      "\u001b[0;31mOverflowError\u001b[0m: value too large to convert to int"
     ]
    },
    {
     "name": "stderr",
     "output_type": "stream",
     "text": [
      "Exception ignored in: 'fastparquet.cencoding.write_thrift'\n",
      "Traceback (most recent call last):\n",
      "  File \"/home/lukawc/.local/lib/python3.9/site-packages/fastparquet/writer.py\", line 894, in write_simple\n",
      "    foot_size = f.write(fmd.to_bytes())\n",
      "OverflowError: value too large to convert to int\n"
     ]
    },
    {
     "ename": "OverflowError",
     "evalue": "value too large to convert to int",
     "output_type": "error",
     "traceback": [
      "\u001b[0;31m---------------------------------------------------------------------------\u001b[0m",
      "\u001b[0;31mOverflowError\u001b[0m                             Traceback (most recent call last)",
      "\u001b[0;31mOverflowError\u001b[0m: value too large to convert to int"
     ]
    },
    {
     "name": "stderr",
     "output_type": "stream",
     "text": [
      "Exception ignored in: 'fastparquet.cencoding.write_thrift'\n",
      "Traceback (most recent call last):\n",
      "  File \"/home/lukawc/.local/lib/python3.9/site-packages/fastparquet/writer.py\", line 894, in write_simple\n",
      "    foot_size = f.write(fmd.to_bytes())\n",
      "OverflowError: value too large to convert to int\n"
     ]
    },
    {
     "ename": "OverflowError",
     "evalue": "value too large to convert to int",
     "output_type": "error",
     "traceback": [
      "\u001b[0;31m---------------------------------------------------------------------------\u001b[0m",
      "\u001b[0;31mOverflowError\u001b[0m                             Traceback (most recent call last)",
      "\u001b[0;31mOverflowError\u001b[0m: value too large to convert to int"
     ]
    },
    {
     "name": "stderr",
     "output_type": "stream",
     "text": [
      "Exception ignored in: 'fastparquet.cencoding.write_thrift'\n",
      "Traceback (most recent call last):\n",
      "  File \"/home/lukawc/.local/lib/python3.9/site-packages/fastparquet/writer.py\", line 894, in write_simple\n",
      "    foot_size = f.write(fmd.to_bytes())\n",
      "OverflowError: value too large to convert to int\n"
     ]
    },
    {
     "ename": "OverflowError",
     "evalue": "value too large to convert to int",
     "output_type": "error",
     "traceback": [
      "\u001b[0;31m---------------------------------------------------------------------------\u001b[0m",
      "\u001b[0;31mOverflowError\u001b[0m                             Traceback (most recent call last)",
      "\u001b[0;31mOverflowError\u001b[0m: value too large to convert to int"
     ]
    },
    {
     "name": "stderr",
     "output_type": "stream",
     "text": [
      "Exception ignored in: 'fastparquet.cencoding.write_thrift'\n",
      "Traceback (most recent call last):\n",
      "  File \"/home/lukawc/.local/lib/python3.9/site-packages/fastparquet/writer.py\", line 894, in write_simple\n",
      "    foot_size = f.write(fmd.to_bytes())\n",
      "OverflowError: value too large to convert to int\n"
     ]
    },
    {
     "ename": "OverflowError",
     "evalue": "value too large to convert to int",
     "output_type": "error",
     "traceback": [
      "\u001b[0;31m---------------------------------------------------------------------------\u001b[0m",
      "\u001b[0;31mOverflowError\u001b[0m                             Traceback (most recent call last)",
      "\u001b[0;31mOverflowError\u001b[0m: value too large to convert to int"
     ]
    },
    {
     "name": "stderr",
     "output_type": "stream",
     "text": [
      "Exception ignored in: 'fastparquet.cencoding.write_thrift'\n",
      "Traceback (most recent call last):\n",
      "  File \"/home/lukawc/.local/lib/python3.9/site-packages/fastparquet/writer.py\", line 894, in write_simple\n",
      "    foot_size = f.write(fmd.to_bytes())\n",
      "OverflowError: value too large to convert to int\n"
     ]
    },
    {
     "ename": "OverflowError",
     "evalue": "value too large to convert to int",
     "output_type": "error",
     "traceback": [
      "\u001b[0;31m---------------------------------------------------------------------------\u001b[0m",
      "\u001b[0;31mOverflowError\u001b[0m                             Traceback (most recent call last)",
      "\u001b[0;31mOverflowError\u001b[0m: value too large to convert to int"
     ]
    },
    {
     "name": "stderr",
     "output_type": "stream",
     "text": [
      "Exception ignored in: 'fastparquet.cencoding.write_thrift'\n",
      "Traceback (most recent call last):\n",
      "  File \"/home/lukawc/.local/lib/python3.9/site-packages/fastparquet/writer.py\", line 894, in write_simple\n",
      "    foot_size = f.write(fmd.to_bytes())\n",
      "OverflowError: value too large to convert to int\n"
     ]
    },
    {
     "ename": "OverflowError",
     "evalue": "value too large to convert to int",
     "output_type": "error",
     "traceback": [
      "\u001b[0;31m---------------------------------------------------------------------------\u001b[0m",
      "\u001b[0;31mOverflowError\u001b[0m                             Traceback (most recent call last)",
      "\u001b[0;31mOverflowError\u001b[0m: value too large to convert to int"
     ]
    },
    {
     "name": "stderr",
     "output_type": "stream",
     "text": [
      "Exception ignored in: 'fastparquet.cencoding.write_thrift'\n",
      "Traceback (most recent call last):\n",
      "  File \"/home/lukawc/.local/lib/python3.9/site-packages/fastparquet/writer.py\", line 894, in write_simple\n",
      "    foot_size = f.write(fmd.to_bytes())\n",
      "OverflowError: value too large to convert to int\n"
     ]
    },
    {
     "ename": "OverflowError",
     "evalue": "value too large to convert to int",
     "output_type": "error",
     "traceback": [
      "\u001b[0;31m---------------------------------------------------------------------------\u001b[0m",
      "\u001b[0;31mOverflowError\u001b[0m                             Traceback (most recent call last)",
      "\u001b[0;31mOverflowError\u001b[0m: value too large to convert to int"
     ]
    },
    {
     "name": "stderr",
     "output_type": "stream",
     "text": [
      "Exception ignored in: 'fastparquet.cencoding.write_thrift'\n",
      "Traceback (most recent call last):\n",
      "  File \"/home/lukawc/.local/lib/python3.9/site-packages/fastparquet/writer.py\", line 894, in write_simple\n",
      "    foot_size = f.write(fmd.to_bytes())\n",
      "OverflowError: value too large to convert to int\n"
     ]
    },
    {
     "ename": "OverflowError",
     "evalue": "value too large to convert to int",
     "output_type": "error",
     "traceback": [
      "\u001b[0;31m---------------------------------------------------------------------------\u001b[0m",
      "\u001b[0;31mOverflowError\u001b[0m                             Traceback (most recent call last)",
      "\u001b[0;31mOverflowError\u001b[0m: value too large to convert to int"
     ]
    },
    {
     "name": "stderr",
     "output_type": "stream",
     "text": [
      "Exception ignored in: 'fastparquet.cencoding.write_thrift'\n",
      "Traceback (most recent call last):\n",
      "  File \"/home/lukawc/.local/lib/python3.9/site-packages/fastparquet/writer.py\", line 894, in write_simple\n",
      "    foot_size = f.write(fmd.to_bytes())\n",
      "OverflowError: value too large to convert to int\n"
     ]
    },
    {
     "ename": "OverflowError",
     "evalue": "value too large to convert to int",
     "output_type": "error",
     "traceback": [
      "\u001b[0;31m---------------------------------------------------------------------------\u001b[0m",
      "\u001b[0;31mOverflowError\u001b[0m                             Traceback (most recent call last)",
      "\u001b[0;31mOverflowError\u001b[0m: value too large to convert to int"
     ]
    },
    {
     "name": "stderr",
     "output_type": "stream",
     "text": [
      "Exception ignored in: 'fastparquet.cencoding.write_thrift'\n",
      "Traceback (most recent call last):\n",
      "  File \"/home/lukawc/.local/lib/python3.9/site-packages/fastparquet/writer.py\", line 894, in write_simple\n",
      "    foot_size = f.write(fmd.to_bytes())\n",
      "OverflowError: value too large to convert to int\n"
     ]
    },
    {
     "ename": "OverflowError",
     "evalue": "value too large to convert to int",
     "output_type": "error",
     "traceback": [
      "\u001b[0;31m---------------------------------------------------------------------------\u001b[0m",
      "\u001b[0;31mOverflowError\u001b[0m                             Traceback (most recent call last)",
      "\u001b[0;31mOverflowError\u001b[0m: value too large to convert to int"
     ]
    },
    {
     "name": "stderr",
     "output_type": "stream",
     "text": [
      "Exception ignored in: 'fastparquet.cencoding.write_thrift'\n",
      "Traceback (most recent call last):\n",
      "  File \"/home/lukawc/.local/lib/python3.9/site-packages/fastparquet/writer.py\", line 894, in write_simple\n",
      "    foot_size = f.write(fmd.to_bytes())\n",
      "OverflowError: value too large to convert to int\n"
     ]
    },
    {
     "ename": "OverflowError",
     "evalue": "value too large to convert to int",
     "output_type": "error",
     "traceback": [
      "\u001b[0;31m---------------------------------------------------------------------------\u001b[0m",
      "\u001b[0;31mOverflowError\u001b[0m                             Traceback (most recent call last)",
      "\u001b[0;31mOverflowError\u001b[0m: value too large to convert to int"
     ]
    },
    {
     "name": "stderr",
     "output_type": "stream",
     "text": [
      "Exception ignored in: 'fastparquet.cencoding.write_thrift'\n",
      "Traceback (most recent call last):\n",
      "  File \"/home/lukawc/.local/lib/python3.9/site-packages/fastparquet/writer.py\", line 894, in write_simple\n",
      "    foot_size = f.write(fmd.to_bytes())\n",
      "OverflowError: value too large to convert to int\n"
     ]
    },
    {
     "ename": "OverflowError",
     "evalue": "value too large to convert to int",
     "output_type": "error",
     "traceback": [
      "\u001b[0;31m---------------------------------------------------------------------------\u001b[0m",
      "\u001b[0;31mOverflowError\u001b[0m                             Traceback (most recent call last)",
      "\u001b[0;31mOverflowError\u001b[0m: value too large to convert to int"
     ]
    },
    {
     "name": "stderr",
     "output_type": "stream",
     "text": [
      "Exception ignored in: 'fastparquet.cencoding.write_thrift'\n",
      "Traceback (most recent call last):\n",
      "  File \"/home/lukawc/.local/lib/python3.9/site-packages/fastparquet/writer.py\", line 894, in write_simple\n",
      "    foot_size = f.write(fmd.to_bytes())\n",
      "OverflowError: value too large to convert to int\n"
     ]
    },
    {
     "ename": "OverflowError",
     "evalue": "value too large to convert to int",
     "output_type": "error",
     "traceback": [
      "\u001b[0;31m---------------------------------------------------------------------------\u001b[0m",
      "\u001b[0;31mOverflowError\u001b[0m                             Traceback (most recent call last)",
      "\u001b[0;31mOverflowError\u001b[0m: value too large to convert to int"
     ]
    },
    {
     "name": "stderr",
     "output_type": "stream",
     "text": [
      "Exception ignored in: 'fastparquet.cencoding.write_thrift'\n",
      "Traceback (most recent call last):\n",
      "  File \"/home/lukawc/.local/lib/python3.9/site-packages/fastparquet/writer.py\", line 894, in write_simple\n",
      "    foot_size = f.write(fmd.to_bytes())\n",
      "OverflowError: value too large to convert to int\n"
     ]
    },
    {
     "ename": "OverflowError",
     "evalue": "value too large to convert to int",
     "output_type": "error",
     "traceback": [
      "\u001b[0;31m---------------------------------------------------------------------------\u001b[0m",
      "\u001b[0;31mOverflowError\u001b[0m                             Traceback (most recent call last)",
      "\u001b[0;31mOverflowError\u001b[0m: value too large to convert to int"
     ]
    },
    {
     "name": "stderr",
     "output_type": "stream",
     "text": [
      "Exception ignored in: 'fastparquet.cencoding.write_thrift'\n",
      "Traceback (most recent call last):\n",
      "  File \"/home/lukawc/.local/lib/python3.9/site-packages/fastparquet/writer.py\", line 894, in write_simple\n",
      "    foot_size = f.write(fmd.to_bytes())\n",
      "OverflowError: value too large to convert to int\n"
     ]
    },
    {
     "ename": "OverflowError",
     "evalue": "value too large to convert to int",
     "output_type": "error",
     "traceback": [
      "\u001b[0;31m---------------------------------------------------------------------------\u001b[0m",
      "\u001b[0;31mOverflowError\u001b[0m                             Traceback (most recent call last)",
      "\u001b[0;31mOverflowError\u001b[0m: value too large to convert to int"
     ]
    },
    {
     "name": "stderr",
     "output_type": "stream",
     "text": [
      "Exception ignored in: 'fastparquet.cencoding.write_thrift'\n",
      "Traceback (most recent call last):\n",
      "  File \"/home/lukawc/.local/lib/python3.9/site-packages/fastparquet/writer.py\", line 894, in write_simple\n",
      "    foot_size = f.write(fmd.to_bytes())\n",
      "OverflowError: value too large to convert to int\n"
     ]
    },
    {
     "ename": "OverflowError",
     "evalue": "value too large to convert to int",
     "output_type": "error",
     "traceback": [
      "\u001b[0;31m---------------------------------------------------------------------------\u001b[0m",
      "\u001b[0;31mOverflowError\u001b[0m                             Traceback (most recent call last)",
      "\u001b[0;31mOverflowError\u001b[0m: value too large to convert to int"
     ]
    },
    {
     "name": "stderr",
     "output_type": "stream",
     "text": [
      "Exception ignored in: 'fastparquet.cencoding.write_thrift'\n",
      "Traceback (most recent call last):\n",
      "  File \"/home/lukawc/.local/lib/python3.9/site-packages/fastparquet/writer.py\", line 894, in write_simple\n",
      "    foot_size = f.write(fmd.to_bytes())\n",
      "OverflowError: value too large to convert to int\n"
     ]
    },
    {
     "ename": "OverflowError",
     "evalue": "value too large to convert to int",
     "output_type": "error",
     "traceback": [
      "\u001b[0;31m---------------------------------------------------------------------------\u001b[0m",
      "\u001b[0;31mOverflowError\u001b[0m                             Traceback (most recent call last)",
      "\u001b[0;31mOverflowError\u001b[0m: value too large to convert to int"
     ]
    },
    {
     "name": "stderr",
     "output_type": "stream",
     "text": [
      "Exception ignored in: 'fastparquet.cencoding.write_thrift'\n",
      "Traceback (most recent call last):\n",
      "  File \"/home/lukawc/.local/lib/python3.9/site-packages/fastparquet/writer.py\", line 894, in write_simple\n",
      "    foot_size = f.write(fmd.to_bytes())\n",
      "OverflowError: value too large to convert to int\n"
     ]
    },
    {
     "ename": "OverflowError",
     "evalue": "value too large to convert to int",
     "output_type": "error",
     "traceback": [
      "\u001b[0;31m---------------------------------------------------------------------------\u001b[0m",
      "\u001b[0;31mOverflowError\u001b[0m                             Traceback (most recent call last)",
      "\u001b[0;31mOverflowError\u001b[0m: value too large to convert to int"
     ]
    },
    {
     "name": "stderr",
     "output_type": "stream",
     "text": [
      "Exception ignored in: 'fastparquet.cencoding.write_thrift'\n",
      "Traceback (most recent call last):\n",
      "  File \"/home/lukawc/.local/lib/python3.9/site-packages/fastparquet/writer.py\", line 894, in write_simple\n",
      "    foot_size = f.write(fmd.to_bytes())\n",
      "OverflowError: value too large to convert to int\n"
     ]
    },
    {
     "ename": "OverflowError",
     "evalue": "value too large to convert to int",
     "output_type": "error",
     "traceback": [
      "\u001b[0;31m---------------------------------------------------------------------------\u001b[0m",
      "\u001b[0;31mOverflowError\u001b[0m                             Traceback (most recent call last)",
      "\u001b[0;31mOverflowError\u001b[0m: value too large to convert to int"
     ]
    },
    {
     "name": "stderr",
     "output_type": "stream",
     "text": [
      "Exception ignored in: 'fastparquet.cencoding.write_thrift'\n",
      "Traceback (most recent call last):\n",
      "  File \"/home/lukawc/.local/lib/python3.9/site-packages/fastparquet/writer.py\", line 894, in write_simple\n",
      "    foot_size = f.write(fmd.to_bytes())\n",
      "OverflowError: value too large to convert to int\n"
     ]
    },
    {
     "ename": "OverflowError",
     "evalue": "value too large to convert to int",
     "output_type": "error",
     "traceback": [
      "\u001b[0;31m---------------------------------------------------------------------------\u001b[0m",
      "\u001b[0;31mOverflowError\u001b[0m                             Traceback (most recent call last)",
      "\u001b[0;31mOverflowError\u001b[0m: value too large to convert to int"
     ]
    },
    {
     "name": "stderr",
     "output_type": "stream",
     "text": [
      "Exception ignored in: 'fastparquet.cencoding.write_thrift'\n",
      "Traceback (most recent call last):\n",
      "  File \"/home/lukawc/.local/lib/python3.9/site-packages/fastparquet/writer.py\", line 894, in write_simple\n",
      "    foot_size = f.write(fmd.to_bytes())\n",
      "OverflowError: value too large to convert to int\n"
     ]
    },
    {
     "ename": "OverflowError",
     "evalue": "value too large to convert to int",
     "output_type": "error",
     "traceback": [
      "\u001b[0;31m---------------------------------------------------------------------------\u001b[0m",
      "\u001b[0;31mOverflowError\u001b[0m                             Traceback (most recent call last)",
      "\u001b[0;31mOverflowError\u001b[0m: value too large to convert to int"
     ]
    },
    {
     "name": "stderr",
     "output_type": "stream",
     "text": [
      "Exception ignored in: 'fastparquet.cencoding.write_thrift'\n",
      "Traceback (most recent call last):\n",
      "  File \"/home/lukawc/.local/lib/python3.9/site-packages/fastparquet/writer.py\", line 894, in write_simple\n",
      "    foot_size = f.write(fmd.to_bytes())\n",
      "OverflowError: value too large to convert to int\n"
     ]
    },
    {
     "ename": "OverflowError",
     "evalue": "value too large to convert to int",
     "output_type": "error",
     "traceback": [
      "\u001b[0;31m---------------------------------------------------------------------------\u001b[0m",
      "\u001b[0;31mOverflowError\u001b[0m                             Traceback (most recent call last)",
      "\u001b[0;31mOverflowError\u001b[0m: value too large to convert to int"
     ]
    },
    {
     "name": "stderr",
     "output_type": "stream",
     "text": [
      "Exception ignored in: 'fastparquet.cencoding.write_thrift'\n",
      "Traceback (most recent call last):\n",
      "  File \"/home/lukawc/.local/lib/python3.9/site-packages/fastparquet/writer.py\", line 894, in write_simple\n",
      "    foot_size = f.write(fmd.to_bytes())\n",
      "OverflowError: value too large to convert to int\n"
     ]
    },
    {
     "ename": "OverflowError",
     "evalue": "value too large to convert to int",
     "output_type": "error",
     "traceback": [
      "\u001b[0;31m---------------------------------------------------------------------------\u001b[0m",
      "\u001b[0;31mOverflowError\u001b[0m                             Traceback (most recent call last)",
      "\u001b[0;31mOverflowError\u001b[0m: value too large to convert to int"
     ]
    },
    {
     "name": "stderr",
     "output_type": "stream",
     "text": [
      "Exception ignored in: 'fastparquet.cencoding.write_thrift'\n",
      "Traceback (most recent call last):\n",
      "  File \"/home/lukawc/.local/lib/python3.9/site-packages/fastparquet/writer.py\", line 894, in write_simple\n",
      "    foot_size = f.write(fmd.to_bytes())\n",
      "OverflowError: value too large to convert to int\n"
     ]
    },
    {
     "ename": "OverflowError",
     "evalue": "value too large to convert to int",
     "output_type": "error",
     "traceback": [
      "\u001b[0;31m---------------------------------------------------------------------------\u001b[0m",
      "\u001b[0;31mOverflowError\u001b[0m                             Traceback (most recent call last)",
      "\u001b[0;31mOverflowError\u001b[0m: value too large to convert to int"
     ]
    },
    {
     "name": "stderr",
     "output_type": "stream",
     "text": [
      "Exception ignored in: 'fastparquet.cencoding.write_thrift'\n",
      "Traceback (most recent call last):\n",
      "  File \"/home/lukawc/.local/lib/python3.9/site-packages/fastparquet/writer.py\", line 894, in write_simple\n",
      "    foot_size = f.write(fmd.to_bytes())\n",
      "OverflowError: value too large to convert to int\n"
     ]
    },
    {
     "ename": "OverflowError",
     "evalue": "value too large to convert to int",
     "output_type": "error",
     "traceback": [
      "\u001b[0;31m---------------------------------------------------------------------------\u001b[0m",
      "\u001b[0;31mOverflowError\u001b[0m                             Traceback (most recent call last)",
      "\u001b[0;31mOverflowError\u001b[0m: value too large to convert to int"
     ]
    },
    {
     "name": "stderr",
     "output_type": "stream",
     "text": [
      "Exception ignored in: 'fastparquet.cencoding.write_thrift'\n",
      "Traceback (most recent call last):\n",
      "  File \"/home/lukawc/.local/lib/python3.9/site-packages/fastparquet/writer.py\", line 894, in write_simple\n",
      "    foot_size = f.write(fmd.to_bytes())\n",
      "OverflowError: value too large to convert to int\n"
     ]
    },
    {
     "ename": "OverflowError",
     "evalue": "value too large to convert to int",
     "output_type": "error",
     "traceback": [
      "\u001b[0;31m---------------------------------------------------------------------------\u001b[0m",
      "\u001b[0;31mOverflowError\u001b[0m                             Traceback (most recent call last)",
      "\u001b[0;31mOverflowError\u001b[0m: value too large to convert to int"
     ]
    },
    {
     "name": "stderr",
     "output_type": "stream",
     "text": [
      "Exception ignored in: 'fastparquet.cencoding.write_thrift'\n",
      "Traceback (most recent call last):\n",
      "  File \"/home/lukawc/.local/lib/python3.9/site-packages/fastparquet/writer.py\", line 894, in write_simple\n",
      "    foot_size = f.write(fmd.to_bytes())\n",
      "OverflowError: value too large to convert to int\n"
     ]
    },
    {
     "ename": "OverflowError",
     "evalue": "value too large to convert to int",
     "output_type": "error",
     "traceback": [
      "\u001b[0;31m---------------------------------------------------------------------------\u001b[0m",
      "\u001b[0;31mOverflowError\u001b[0m                             Traceback (most recent call last)",
      "\u001b[0;31mOverflowError\u001b[0m: value too large to convert to int"
     ]
    },
    {
     "name": "stderr",
     "output_type": "stream",
     "text": [
      "Exception ignored in: 'fastparquet.cencoding.write_thrift'\n",
      "Traceback (most recent call last):\n",
      "  File \"/home/lukawc/.local/lib/python3.9/site-packages/fastparquet/writer.py\", line 894, in write_simple\n",
      "    foot_size = f.write(fmd.to_bytes())\n",
      "OverflowError: value too large to convert to int\n"
     ]
    },
    {
     "ename": "OverflowError",
     "evalue": "value too large to convert to int",
     "output_type": "error",
     "traceback": [
      "\u001b[0;31m---------------------------------------------------------------------------\u001b[0m",
      "\u001b[0;31mOverflowError\u001b[0m                             Traceback (most recent call last)",
      "\u001b[0;31mOverflowError\u001b[0m: value too large to convert to int"
     ]
    },
    {
     "name": "stderr",
     "output_type": "stream",
     "text": [
      "Exception ignored in: 'fastparquet.cencoding.write_thrift'\n",
      "Traceback (most recent call last):\n",
      "  File \"/home/lukawc/.local/lib/python3.9/site-packages/fastparquet/writer.py\", line 894, in write_simple\n",
      "    foot_size = f.write(fmd.to_bytes())\n",
      "OverflowError: value too large to convert to int\n"
     ]
    },
    {
     "ename": "OverflowError",
     "evalue": "value too large to convert to int",
     "output_type": "error",
     "traceback": [
      "\u001b[0;31m---------------------------------------------------------------------------\u001b[0m",
      "\u001b[0;31mOverflowError\u001b[0m                             Traceback (most recent call last)",
      "\u001b[0;31mOverflowError\u001b[0m: value too large to convert to int"
     ]
    },
    {
     "name": "stderr",
     "output_type": "stream",
     "text": [
      "Exception ignored in: 'fastparquet.cencoding.write_thrift'\n",
      "Traceback (most recent call last):\n",
      "  File \"/home/lukawc/.local/lib/python3.9/site-packages/fastparquet/writer.py\", line 894, in write_simple\n",
      "    foot_size = f.write(fmd.to_bytes())\n",
      "OverflowError: value too large to convert to int\n"
     ]
    },
    {
     "ename": "OverflowError",
     "evalue": "value too large to convert to int",
     "output_type": "error",
     "traceback": [
      "\u001b[0;31m---------------------------------------------------------------------------\u001b[0m",
      "\u001b[0;31mOverflowError\u001b[0m                             Traceback (most recent call last)",
      "\u001b[0;31mOverflowError\u001b[0m: value too large to convert to int"
     ]
    },
    {
     "name": "stderr",
     "output_type": "stream",
     "text": [
      "Exception ignored in: 'fastparquet.cencoding.write_thrift'\n",
      "Traceback (most recent call last):\n",
      "  File \"/home/lukawc/.local/lib/python3.9/site-packages/fastparquet/writer.py\", line 894, in write_simple\n",
      "    foot_size = f.write(fmd.to_bytes())\n",
      "OverflowError: value too large to convert to int\n"
     ]
    },
    {
     "ename": "OverflowError",
     "evalue": "value too large to convert to int",
     "output_type": "error",
     "traceback": [
      "\u001b[0;31m---------------------------------------------------------------------------\u001b[0m",
      "\u001b[0;31mOverflowError\u001b[0m                             Traceback (most recent call last)",
      "\u001b[0;31mOverflowError\u001b[0m: value too large to convert to int"
     ]
    },
    {
     "name": "stderr",
     "output_type": "stream",
     "text": [
      "Exception ignored in: 'fastparquet.cencoding.write_thrift'\n",
      "Traceback (most recent call last):\n",
      "  File \"/home/lukawc/.local/lib/python3.9/site-packages/fastparquet/writer.py\", line 894, in write_simple\n",
      "    foot_size = f.write(fmd.to_bytes())\n",
      "OverflowError: value too large to convert to int\n"
     ]
    },
    {
     "ename": "OverflowError",
     "evalue": "value too large to convert to int",
     "output_type": "error",
     "traceback": [
      "\u001b[0;31m---------------------------------------------------------------------------\u001b[0m",
      "\u001b[0;31mOverflowError\u001b[0m                             Traceback (most recent call last)",
      "\u001b[0;31mOverflowError\u001b[0m: value too large to convert to int"
     ]
    },
    {
     "name": "stderr",
     "output_type": "stream",
     "text": [
      "Exception ignored in: 'fastparquet.cencoding.write_thrift'\n",
      "Traceback (most recent call last):\n",
      "  File \"/home/lukawc/.local/lib/python3.9/site-packages/fastparquet/writer.py\", line 894, in write_simple\n",
      "    foot_size = f.write(fmd.to_bytes())\n",
      "OverflowError: value too large to convert to int\n"
     ]
    },
    {
     "ename": "OverflowError",
     "evalue": "value too large to convert to int",
     "output_type": "error",
     "traceback": [
      "\u001b[0;31m---------------------------------------------------------------------------\u001b[0m",
      "\u001b[0;31mOverflowError\u001b[0m                             Traceback (most recent call last)",
      "\u001b[0;31mOverflowError\u001b[0m: value too large to convert to int"
     ]
    },
    {
     "name": "stderr",
     "output_type": "stream",
     "text": [
      "Exception ignored in: 'fastparquet.cencoding.write_thrift'\n",
      "Traceback (most recent call last):\n",
      "  File \"/home/lukawc/.local/lib/python3.9/site-packages/fastparquet/writer.py\", line 894, in write_simple\n",
      "    foot_size = f.write(fmd.to_bytes())\n",
      "OverflowError: value too large to convert to int\n"
     ]
    },
    {
     "ename": "OverflowError",
     "evalue": "value too large to convert to int",
     "output_type": "error",
     "traceback": [
      "\u001b[0;31m---------------------------------------------------------------------------\u001b[0m",
      "\u001b[0;31mOverflowError\u001b[0m                             Traceback (most recent call last)",
      "\u001b[0;31mOverflowError\u001b[0m: value too large to convert to int"
     ]
    },
    {
     "name": "stderr",
     "output_type": "stream",
     "text": [
      "Exception ignored in: 'fastparquet.cencoding.write_thrift'\n",
      "Traceback (most recent call last):\n",
      "  File \"/home/lukawc/.local/lib/python3.9/site-packages/fastparquet/writer.py\", line 894, in write_simple\n",
      "    foot_size = f.write(fmd.to_bytes())\n",
      "OverflowError: value too large to convert to int\n"
     ]
    },
    {
     "ename": "OverflowError",
     "evalue": "value too large to convert to int",
     "output_type": "error",
     "traceback": [
      "\u001b[0;31m---------------------------------------------------------------------------\u001b[0m",
      "\u001b[0;31mOverflowError\u001b[0m                             Traceback (most recent call last)",
      "\u001b[0;31mOverflowError\u001b[0m: value too large to convert to int"
     ]
    },
    {
     "name": "stderr",
     "output_type": "stream",
     "text": [
      "Exception ignored in: 'fastparquet.cencoding.write_thrift'\n",
      "Traceback (most recent call last):\n",
      "  File \"/home/lukawc/.local/lib/python3.9/site-packages/fastparquet/writer.py\", line 894, in write_simple\n",
      "    foot_size = f.write(fmd.to_bytes())\n",
      "OverflowError: value too large to convert to int\n"
     ]
    },
    {
     "ename": "OverflowError",
     "evalue": "value too large to convert to int",
     "output_type": "error",
     "traceback": [
      "\u001b[0;31m---------------------------------------------------------------------------\u001b[0m",
      "\u001b[0;31mOverflowError\u001b[0m                             Traceback (most recent call last)",
      "\u001b[0;31mOverflowError\u001b[0m: value too large to convert to int"
     ]
    },
    {
     "name": "stderr",
     "output_type": "stream",
     "text": [
      "Exception ignored in: 'fastparquet.cencoding.write_thrift'\n",
      "Traceback (most recent call last):\n",
      "  File \"/home/lukawc/.local/lib/python3.9/site-packages/fastparquet/writer.py\", line 894, in write_simple\n",
      "    foot_size = f.write(fmd.to_bytes())\n",
      "OverflowError: value too large to convert to int\n"
     ]
    },
    {
     "ename": "OverflowError",
     "evalue": "value too large to convert to int",
     "output_type": "error",
     "traceback": [
      "\u001b[0;31m---------------------------------------------------------------------------\u001b[0m",
      "\u001b[0;31mOverflowError\u001b[0m                             Traceback (most recent call last)",
      "\u001b[0;31mOverflowError\u001b[0m: value too large to convert to int"
     ]
    },
    {
     "name": "stderr",
     "output_type": "stream",
     "text": [
      "Exception ignored in: 'fastparquet.cencoding.write_thrift'\n",
      "Traceback (most recent call last):\n",
      "  File \"/home/lukawc/.local/lib/python3.9/site-packages/fastparquet/writer.py\", line 894, in write_simple\n",
      "    foot_size = f.write(fmd.to_bytes())\n",
      "OverflowError: value too large to convert to int\n"
     ]
    },
    {
     "ename": "OverflowError",
     "evalue": "value too large to convert to int",
     "output_type": "error",
     "traceback": [
      "\u001b[0;31m---------------------------------------------------------------------------\u001b[0m",
      "\u001b[0;31mOverflowError\u001b[0m                             Traceback (most recent call last)",
      "\u001b[0;31mOverflowError\u001b[0m: value too large to convert to int"
     ]
    },
    {
     "name": "stderr",
     "output_type": "stream",
     "text": [
      "Exception ignored in: 'fastparquet.cencoding.write_thrift'\n",
      "Traceback (most recent call last):\n",
      "  File \"/home/lukawc/.local/lib/python3.9/site-packages/fastparquet/writer.py\", line 894, in write_simple\n",
      "    foot_size = f.write(fmd.to_bytes())\n",
      "OverflowError: value too large to convert to int\n"
     ]
    },
    {
     "ename": "OverflowError",
     "evalue": "value too large to convert to int",
     "output_type": "error",
     "traceback": [
      "\u001b[0;31m---------------------------------------------------------------------------\u001b[0m",
      "\u001b[0;31mOverflowError\u001b[0m                             Traceback (most recent call last)",
      "\u001b[0;31mOverflowError\u001b[0m: value too large to convert to int"
     ]
    },
    {
     "name": "stderr",
     "output_type": "stream",
     "text": [
      "Exception ignored in: 'fastparquet.cencoding.write_thrift'\n",
      "Traceback (most recent call last):\n",
      "  File \"/home/lukawc/.local/lib/python3.9/site-packages/fastparquet/writer.py\", line 894, in write_simple\n",
      "    foot_size = f.write(fmd.to_bytes())\n",
      "OverflowError: value too large to convert to int\n"
     ]
    },
    {
     "ename": "OverflowError",
     "evalue": "value too large to convert to int",
     "output_type": "error",
     "traceback": [
      "\u001b[0;31m---------------------------------------------------------------------------\u001b[0m",
      "\u001b[0;31mOverflowError\u001b[0m                             Traceback (most recent call last)",
      "\u001b[0;31mOverflowError\u001b[0m: value too large to convert to int"
     ]
    },
    {
     "name": "stderr",
     "output_type": "stream",
     "text": [
      "Exception ignored in: 'fastparquet.cencoding.write_thrift'\n",
      "Traceback (most recent call last):\n",
      "  File \"/home/lukawc/.local/lib/python3.9/site-packages/fastparquet/writer.py\", line 894, in write_simple\n",
      "    foot_size = f.write(fmd.to_bytes())\n",
      "OverflowError: value too large to convert to int\n"
     ]
    },
    {
     "ename": "OverflowError",
     "evalue": "value too large to convert to int",
     "output_type": "error",
     "traceback": [
      "\u001b[0;31m---------------------------------------------------------------------------\u001b[0m",
      "\u001b[0;31mOverflowError\u001b[0m                             Traceback (most recent call last)",
      "\u001b[0;31mOverflowError\u001b[0m: value too large to convert to int"
     ]
    },
    {
     "name": "stderr",
     "output_type": "stream",
     "text": [
      "Exception ignored in: 'fastparquet.cencoding.write_thrift'\n",
      "Traceback (most recent call last):\n",
      "  File \"/home/lukawc/.local/lib/python3.9/site-packages/fastparquet/writer.py\", line 894, in write_simple\n",
      "    foot_size = f.write(fmd.to_bytes())\n",
      "OverflowError: value too large to convert to int\n"
     ]
    },
    {
     "ename": "OverflowError",
     "evalue": "value too large to convert to int",
     "output_type": "error",
     "traceback": [
      "\u001b[0;31m---------------------------------------------------------------------------\u001b[0m",
      "\u001b[0;31mOverflowError\u001b[0m                             Traceback (most recent call last)",
      "\u001b[0;31mOverflowError\u001b[0m: value too large to convert to int"
     ]
    },
    {
     "name": "stderr",
     "output_type": "stream",
     "text": [
      "Exception ignored in: 'fastparquet.cencoding.write_thrift'\n",
      "Traceback (most recent call last):\n",
      "  File \"/home/lukawc/.local/lib/python3.9/site-packages/fastparquet/writer.py\", line 894, in write_simple\n",
      "    foot_size = f.write(fmd.to_bytes())\n",
      "OverflowError: value too large to convert to int\n"
     ]
    },
    {
     "ename": "OverflowError",
     "evalue": "value too large to convert to int",
     "output_type": "error",
     "traceback": [
      "\u001b[0;31m---------------------------------------------------------------------------\u001b[0m",
      "\u001b[0;31mOverflowError\u001b[0m                             Traceback (most recent call last)",
      "\u001b[0;31mOverflowError\u001b[0m: value too large to convert to int"
     ]
    },
    {
     "name": "stderr",
     "output_type": "stream",
     "text": [
      "Exception ignored in: 'fastparquet.cencoding.write_thrift'\n",
      "Traceback (most recent call last):\n",
      "  File \"/home/lukawc/.local/lib/python3.9/site-packages/fastparquet/writer.py\", line 894, in write_simple\n",
      "    foot_size = f.write(fmd.to_bytes())\n",
      "OverflowError: value too large to convert to int\n"
     ]
    },
    {
     "ename": "OverflowError",
     "evalue": "value too large to convert to int",
     "output_type": "error",
     "traceback": [
      "\u001b[0;31m---------------------------------------------------------------------------\u001b[0m",
      "\u001b[0;31mOverflowError\u001b[0m                             Traceback (most recent call last)",
      "\u001b[0;31mOverflowError\u001b[0m: value too large to convert to int"
     ]
    },
    {
     "name": "stderr",
     "output_type": "stream",
     "text": [
      "Exception ignored in: 'fastparquet.cencoding.write_thrift'\n",
      "Traceback (most recent call last):\n",
      "  File \"/home/lukawc/.local/lib/python3.9/site-packages/fastparquet/writer.py\", line 894, in write_simple\n",
      "    foot_size = f.write(fmd.to_bytes())\n",
      "OverflowError: value too large to convert to int\n"
     ]
    },
    {
     "ename": "OverflowError",
     "evalue": "value too large to convert to int",
     "output_type": "error",
     "traceback": [
      "\u001b[0;31m---------------------------------------------------------------------------\u001b[0m",
      "\u001b[0;31mOverflowError\u001b[0m                             Traceback (most recent call last)",
      "\u001b[0;31mOverflowError\u001b[0m: value too large to convert to int"
     ]
    },
    {
     "name": "stderr",
     "output_type": "stream",
     "text": [
      "Exception ignored in: 'fastparquet.cencoding.write_thrift'\n",
      "Traceback (most recent call last):\n",
      "  File \"/home/lukawc/.local/lib/python3.9/site-packages/fastparquet/writer.py\", line 894, in write_simple\n",
      "    foot_size = f.write(fmd.to_bytes())\n",
      "OverflowError: value too large to convert to int\n"
     ]
    },
    {
     "ename": "OverflowError",
     "evalue": "value too large to convert to int",
     "output_type": "error",
     "traceback": [
      "\u001b[0;31m---------------------------------------------------------------------------\u001b[0m",
      "\u001b[0;31mOverflowError\u001b[0m                             Traceback (most recent call last)",
      "\u001b[0;31mOverflowError\u001b[0m: value too large to convert to int"
     ]
    },
    {
     "name": "stderr",
     "output_type": "stream",
     "text": [
      "Exception ignored in: 'fastparquet.cencoding.write_thrift'\n",
      "Traceback (most recent call last):\n",
      "  File \"/home/lukawc/.local/lib/python3.9/site-packages/fastparquet/writer.py\", line 894, in write_simple\n",
      "    foot_size = f.write(fmd.to_bytes())\n",
      "OverflowError: value too large to convert to int\n"
     ]
    },
    {
     "ename": "OverflowError",
     "evalue": "value too large to convert to int",
     "output_type": "error",
     "traceback": [
      "\u001b[0;31m---------------------------------------------------------------------------\u001b[0m",
      "\u001b[0;31mOverflowError\u001b[0m                             Traceback (most recent call last)",
      "\u001b[0;31mOverflowError\u001b[0m: value too large to convert to int"
     ]
    },
    {
     "name": "stderr",
     "output_type": "stream",
     "text": [
      "Exception ignored in: 'fastparquet.cencoding.write_thrift'\n",
      "Traceback (most recent call last):\n",
      "  File \"/home/lukawc/.local/lib/python3.9/site-packages/fastparquet/writer.py\", line 894, in write_simple\n",
      "    foot_size = f.write(fmd.to_bytes())\n",
      "OverflowError: value too large to convert to int\n"
     ]
    },
    {
     "ename": "OverflowError",
     "evalue": "value too large to convert to int",
     "output_type": "error",
     "traceback": [
      "\u001b[0;31m---------------------------------------------------------------------------\u001b[0m",
      "\u001b[0;31mOverflowError\u001b[0m                             Traceback (most recent call last)",
      "\u001b[0;31mOverflowError\u001b[0m: value too large to convert to int"
     ]
    },
    {
     "name": "stderr",
     "output_type": "stream",
     "text": [
      "Exception ignored in: 'fastparquet.cencoding.write_thrift'\n",
      "Traceback (most recent call last):\n",
      "  File \"/home/lukawc/.local/lib/python3.9/site-packages/fastparquet/writer.py\", line 894, in write_simple\n",
      "    foot_size = f.write(fmd.to_bytes())\n",
      "OverflowError: value too large to convert to int\n"
     ]
    },
    {
     "ename": "OverflowError",
     "evalue": "value too large to convert to int",
     "output_type": "error",
     "traceback": [
      "\u001b[0;31m---------------------------------------------------------------------------\u001b[0m",
      "\u001b[0;31mOverflowError\u001b[0m                             Traceback (most recent call last)",
      "\u001b[0;31mOverflowError\u001b[0m: value too large to convert to int"
     ]
    },
    {
     "name": "stderr",
     "output_type": "stream",
     "text": [
      "Exception ignored in: 'fastparquet.cencoding.write_thrift'\n",
      "Traceback (most recent call last):\n",
      "  File \"/home/lukawc/.local/lib/python3.9/site-packages/fastparquet/writer.py\", line 894, in write_simple\n",
      "    foot_size = f.write(fmd.to_bytes())\n",
      "OverflowError: value too large to convert to int\n"
     ]
    },
    {
     "ename": "OverflowError",
     "evalue": "value too large to convert to int",
     "output_type": "error",
     "traceback": [
      "\u001b[0;31m---------------------------------------------------------------------------\u001b[0m",
      "\u001b[0;31mOverflowError\u001b[0m                             Traceback (most recent call last)",
      "\u001b[0;31mOverflowError\u001b[0m: value too large to convert to int"
     ]
    },
    {
     "name": "stderr",
     "output_type": "stream",
     "text": [
      "Exception ignored in: 'fastparquet.cencoding.write_thrift'\n",
      "Traceback (most recent call last):\n",
      "  File \"/home/lukawc/.local/lib/python3.9/site-packages/fastparquet/writer.py\", line 894, in write_simple\n",
      "    foot_size = f.write(fmd.to_bytes())\n",
      "OverflowError: value too large to convert to int\n"
     ]
    },
    {
     "ename": "OverflowError",
     "evalue": "value too large to convert to int",
     "output_type": "error",
     "traceback": [
      "\u001b[0;31m---------------------------------------------------------------------------\u001b[0m",
      "\u001b[0;31mOverflowError\u001b[0m                             Traceback (most recent call last)",
      "\u001b[0;31mOverflowError\u001b[0m: value too large to convert to int"
     ]
    },
    {
     "name": "stderr",
     "output_type": "stream",
     "text": [
      "Exception ignored in: 'fastparquet.cencoding.write_thrift'\n",
      "Traceback (most recent call last):\n",
      "  File \"/home/lukawc/.local/lib/python3.9/site-packages/fastparquet/writer.py\", line 894, in write_simple\n",
      "    foot_size = f.write(fmd.to_bytes())\n",
      "OverflowError: value too large to convert to int\n"
     ]
    },
    {
     "ename": "OverflowError",
     "evalue": "value too large to convert to int",
     "output_type": "error",
     "traceback": [
      "\u001b[0;31m---------------------------------------------------------------------------\u001b[0m",
      "\u001b[0;31mOverflowError\u001b[0m                             Traceback (most recent call last)",
      "\u001b[0;31mOverflowError\u001b[0m: value too large to convert to int"
     ]
    },
    {
     "name": "stderr",
     "output_type": "stream",
     "text": [
      "Exception ignored in: 'fastparquet.cencoding.write_thrift'\n",
      "Traceback (most recent call last):\n",
      "  File \"/home/lukawc/.local/lib/python3.9/site-packages/fastparquet/writer.py\", line 894, in write_simple\n",
      "    foot_size = f.write(fmd.to_bytes())\n",
      "OverflowError: value too large to convert to int\n"
     ]
    },
    {
     "ename": "OverflowError",
     "evalue": "value too large to convert to int",
     "output_type": "error",
     "traceback": [
      "\u001b[0;31m---------------------------------------------------------------------------\u001b[0m",
      "\u001b[0;31mOverflowError\u001b[0m                             Traceback (most recent call last)",
      "\u001b[0;31mOverflowError\u001b[0m: value too large to convert to int"
     ]
    },
    {
     "name": "stderr",
     "output_type": "stream",
     "text": [
      "Exception ignored in: 'fastparquet.cencoding.write_thrift'\n",
      "Traceback (most recent call last):\n",
      "  File \"/home/lukawc/.local/lib/python3.9/site-packages/fastparquet/writer.py\", line 894, in write_simple\n",
      "    foot_size = f.write(fmd.to_bytes())\n",
      "OverflowError: value too large to convert to int\n"
     ]
    },
    {
     "ename": "OverflowError",
     "evalue": "value too large to convert to int",
     "output_type": "error",
     "traceback": [
      "\u001b[0;31m---------------------------------------------------------------------------\u001b[0m",
      "\u001b[0;31mOverflowError\u001b[0m                             Traceback (most recent call last)",
      "\u001b[0;31mOverflowError\u001b[0m: value too large to convert to int"
     ]
    },
    {
     "name": "stderr",
     "output_type": "stream",
     "text": [
      "Exception ignored in: 'fastparquet.cencoding.write_thrift'\n",
      "Traceback (most recent call last):\n",
      "  File \"/home/lukawc/.local/lib/python3.9/site-packages/fastparquet/writer.py\", line 894, in write_simple\n",
      "    foot_size = f.write(fmd.to_bytes())\n",
      "OverflowError: value too large to convert to int\n"
     ]
    },
    {
     "ename": "OverflowError",
     "evalue": "value too large to convert to int",
     "output_type": "error",
     "traceback": [
      "\u001b[0;31m---------------------------------------------------------------------------\u001b[0m",
      "\u001b[0;31mOverflowError\u001b[0m                             Traceback (most recent call last)",
      "\u001b[0;31mOverflowError\u001b[0m: value too large to convert to int"
     ]
    },
    {
     "name": "stderr",
     "output_type": "stream",
     "text": [
      "Exception ignored in: 'fastparquet.cencoding.write_thrift'\n",
      "Traceback (most recent call last):\n",
      "  File \"/home/lukawc/.local/lib/python3.9/site-packages/fastparquet/writer.py\", line 894, in write_simple\n",
      "    foot_size = f.write(fmd.to_bytes())\n",
      "OverflowError: value too large to convert to int\n"
     ]
    },
    {
     "ename": "OverflowError",
     "evalue": "value too large to convert to int",
     "output_type": "error",
     "traceback": [
      "\u001b[0;31m---------------------------------------------------------------------------\u001b[0m",
      "\u001b[0;31mOverflowError\u001b[0m                             Traceback (most recent call last)",
      "\u001b[0;31mOverflowError\u001b[0m: value too large to convert to int"
     ]
    },
    {
     "name": "stderr",
     "output_type": "stream",
     "text": [
      "Exception ignored in: 'fastparquet.cencoding.write_thrift'\n",
      "Traceback (most recent call last):\n",
      "  File \"/home/lukawc/.local/lib/python3.9/site-packages/fastparquet/writer.py\", line 894, in write_simple\n",
      "    foot_size = f.write(fmd.to_bytes())\n",
      "OverflowError: value too large to convert to int\n"
     ]
    },
    {
     "ename": "OverflowError",
     "evalue": "value too large to convert to int",
     "output_type": "error",
     "traceback": [
      "\u001b[0;31m---------------------------------------------------------------------------\u001b[0m",
      "\u001b[0;31mOverflowError\u001b[0m                             Traceback (most recent call last)",
      "\u001b[0;31mOverflowError\u001b[0m: value too large to convert to int"
     ]
    },
    {
     "name": "stderr",
     "output_type": "stream",
     "text": [
      "Exception ignored in: 'fastparquet.cencoding.write_thrift'\n",
      "Traceback (most recent call last):\n",
      "  File \"/home/lukawc/.local/lib/python3.9/site-packages/fastparquet/writer.py\", line 894, in write_simple\n",
      "    foot_size = f.write(fmd.to_bytes())\n",
      "OverflowError: value too large to convert to int\n"
     ]
    },
    {
     "ename": "OverflowError",
     "evalue": "value too large to convert to int",
     "output_type": "error",
     "traceback": [
      "\u001b[0;31m---------------------------------------------------------------------------\u001b[0m",
      "\u001b[0;31mOverflowError\u001b[0m                             Traceback (most recent call last)",
      "\u001b[0;31mOverflowError\u001b[0m: value too large to convert to int"
     ]
    },
    {
     "name": "stderr",
     "output_type": "stream",
     "text": [
      "Exception ignored in: 'fastparquet.cencoding.write_thrift'\n",
      "Traceback (most recent call last):\n",
      "  File \"/home/lukawc/.local/lib/python3.9/site-packages/fastparquet/writer.py\", line 894, in write_simple\n",
      "    foot_size = f.write(fmd.to_bytes())\n",
      "OverflowError: value too large to convert to int\n"
     ]
    },
    {
     "ename": "OverflowError",
     "evalue": "value too large to convert to int",
     "output_type": "error",
     "traceback": [
      "\u001b[0;31m---------------------------------------------------------------------------\u001b[0m",
      "\u001b[0;31mOverflowError\u001b[0m                             Traceback (most recent call last)",
      "\u001b[0;31mOverflowError\u001b[0m: value too large to convert to int"
     ]
    },
    {
     "name": "stderr",
     "output_type": "stream",
     "text": [
      "Exception ignored in: 'fastparquet.cencoding.write_thrift'\n",
      "Traceback (most recent call last):\n",
      "  File \"/home/lukawc/.local/lib/python3.9/site-packages/fastparquet/writer.py\", line 894, in write_simple\n",
      "    foot_size = f.write(fmd.to_bytes())\n",
      "OverflowError: value too large to convert to int\n"
     ]
    },
    {
     "ename": "OverflowError",
     "evalue": "value too large to convert to int",
     "output_type": "error",
     "traceback": [
      "\u001b[0;31m---------------------------------------------------------------------------\u001b[0m",
      "\u001b[0;31mOverflowError\u001b[0m                             Traceback (most recent call last)",
      "\u001b[0;31mOverflowError\u001b[0m: value too large to convert to int"
     ]
    },
    {
     "name": "stderr",
     "output_type": "stream",
     "text": [
      "Exception ignored in: 'fastparquet.cencoding.write_thrift'\n",
      "Traceback (most recent call last):\n",
      "  File \"/home/lukawc/.local/lib/python3.9/site-packages/fastparquet/writer.py\", line 894, in write_simple\n",
      "    foot_size = f.write(fmd.to_bytes())\n",
      "OverflowError: value too large to convert to int\n"
     ]
    },
    {
     "ename": "OverflowError",
     "evalue": "value too large to convert to int",
     "output_type": "error",
     "traceback": [
      "\u001b[0;31m---------------------------------------------------------------------------\u001b[0m",
      "\u001b[0;31mOverflowError\u001b[0m                             Traceback (most recent call last)",
      "\u001b[0;31mOverflowError\u001b[0m: value too large to convert to int"
     ]
    },
    {
     "name": "stderr",
     "output_type": "stream",
     "text": [
      "Exception ignored in: 'fastparquet.cencoding.write_thrift'\n",
      "Traceback (most recent call last):\n",
      "  File \"/home/lukawc/.local/lib/python3.9/site-packages/fastparquet/writer.py\", line 894, in write_simple\n",
      "    foot_size = f.write(fmd.to_bytes())\n",
      "OverflowError: value too large to convert to int\n"
     ]
    },
    {
     "ename": "OverflowError",
     "evalue": "value too large to convert to int",
     "output_type": "error",
     "traceback": [
      "\u001b[0;31m---------------------------------------------------------------------------\u001b[0m",
      "\u001b[0;31mOverflowError\u001b[0m                             Traceback (most recent call last)",
      "\u001b[0;31mOverflowError\u001b[0m: value too large to convert to int"
     ]
    },
    {
     "name": "stderr",
     "output_type": "stream",
     "text": [
      "Exception ignored in: 'fastparquet.cencoding.write_thrift'\n",
      "Traceback (most recent call last):\n",
      "  File \"/home/lukawc/.local/lib/python3.9/site-packages/fastparquet/writer.py\", line 894, in write_simple\n",
      "    foot_size = f.write(fmd.to_bytes())\n",
      "OverflowError: value too large to convert to int\n"
     ]
    },
    {
     "ename": "OverflowError",
     "evalue": "value too large to convert to int",
     "output_type": "error",
     "traceback": [
      "\u001b[0;31m---------------------------------------------------------------------------\u001b[0m",
      "\u001b[0;31mOverflowError\u001b[0m                             Traceback (most recent call last)",
      "\u001b[0;31mOverflowError\u001b[0m: value too large to convert to int"
     ]
    },
    {
     "name": "stderr",
     "output_type": "stream",
     "text": [
      "Exception ignored in: 'fastparquet.cencoding.write_thrift'\n",
      "Traceback (most recent call last):\n",
      "  File \"/home/lukawc/.local/lib/python3.9/site-packages/fastparquet/writer.py\", line 894, in write_simple\n",
      "    foot_size = f.write(fmd.to_bytes())\n",
      "OverflowError: value too large to convert to int\n"
     ]
    },
    {
     "ename": "OverflowError",
     "evalue": "value too large to convert to int",
     "output_type": "error",
     "traceback": [
      "\u001b[0;31m---------------------------------------------------------------------------\u001b[0m",
      "\u001b[0;31mOverflowError\u001b[0m                             Traceback (most recent call last)",
      "\u001b[0;31mOverflowError\u001b[0m: value too large to convert to int"
     ]
    },
    {
     "name": "stderr",
     "output_type": "stream",
     "text": [
      "Exception ignored in: 'fastparquet.cencoding.write_thrift'\n",
      "Traceback (most recent call last):\n",
      "  File \"/home/lukawc/.local/lib/python3.9/site-packages/fastparquet/writer.py\", line 894, in write_simple\n",
      "    foot_size = f.write(fmd.to_bytes())\n",
      "OverflowError: value too large to convert to int\n"
     ]
    },
    {
     "ename": "OverflowError",
     "evalue": "value too large to convert to int",
     "output_type": "error",
     "traceback": [
      "\u001b[0;31m---------------------------------------------------------------------------\u001b[0m",
      "\u001b[0;31mOverflowError\u001b[0m                             Traceback (most recent call last)",
      "\u001b[0;31mOverflowError\u001b[0m: value too large to convert to int"
     ]
    },
    {
     "name": "stderr",
     "output_type": "stream",
     "text": [
      "Exception ignored in: 'fastparquet.cencoding.write_thrift'\n",
      "Traceback (most recent call last):\n",
      "  File \"/home/lukawc/.local/lib/python3.9/site-packages/fastparquet/writer.py\", line 894, in write_simple\n",
      "    foot_size = f.write(fmd.to_bytes())\n",
      "OverflowError: value too large to convert to int\n"
     ]
    },
    {
     "ename": "OverflowError",
     "evalue": "value too large to convert to int",
     "output_type": "error",
     "traceback": [
      "\u001b[0;31m---------------------------------------------------------------------------\u001b[0m",
      "\u001b[0;31mOverflowError\u001b[0m                             Traceback (most recent call last)",
      "\u001b[0;31mOverflowError\u001b[0m: value too large to convert to int"
     ]
    },
    {
     "name": "stderr",
     "output_type": "stream",
     "text": [
      "Exception ignored in: 'fastparquet.cencoding.write_thrift'\n",
      "Traceback (most recent call last):\n",
      "  File \"/home/lukawc/.local/lib/python3.9/site-packages/fastparquet/writer.py\", line 894, in write_simple\n",
      "    foot_size = f.write(fmd.to_bytes())\n",
      "OverflowError: value too large to convert to int\n"
     ]
    },
    {
     "ename": "OverflowError",
     "evalue": "value too large to convert to int",
     "output_type": "error",
     "traceback": [
      "\u001b[0;31m---------------------------------------------------------------------------\u001b[0m",
      "\u001b[0;31mOverflowError\u001b[0m                             Traceback (most recent call last)",
      "\u001b[0;31mOverflowError\u001b[0m: value too large to convert to int"
     ]
    },
    {
     "name": "stderr",
     "output_type": "stream",
     "text": [
      "Exception ignored in: 'fastparquet.cencoding.write_thrift'\n",
      "Traceback (most recent call last):\n",
      "  File \"/home/lukawc/.local/lib/python3.9/site-packages/fastparquet/writer.py\", line 894, in write_simple\n",
      "    foot_size = f.write(fmd.to_bytes())\n",
      "OverflowError: value too large to convert to int\n"
     ]
    },
    {
     "ename": "OverflowError",
     "evalue": "value too large to convert to int",
     "output_type": "error",
     "traceback": [
      "\u001b[0;31m---------------------------------------------------------------------------\u001b[0m",
      "\u001b[0;31mOverflowError\u001b[0m                             Traceback (most recent call last)",
      "\u001b[0;31mOverflowError\u001b[0m: value too large to convert to int"
     ]
    },
    {
     "name": "stderr",
     "output_type": "stream",
     "text": [
      "Exception ignored in: 'fastparquet.cencoding.write_thrift'\n",
      "Traceback (most recent call last):\n",
      "  File \"/home/lukawc/.local/lib/python3.9/site-packages/fastparquet/writer.py\", line 894, in write_simple\n",
      "    foot_size = f.write(fmd.to_bytes())\n",
      "OverflowError: value too large to convert to int\n"
     ]
    },
    {
     "ename": "OverflowError",
     "evalue": "value too large to convert to int",
     "output_type": "error",
     "traceback": [
      "\u001b[0;31m---------------------------------------------------------------------------\u001b[0m",
      "\u001b[0;31mOverflowError\u001b[0m                             Traceback (most recent call last)",
      "\u001b[0;31mOverflowError\u001b[0m: value too large to convert to int"
     ]
    },
    {
     "name": "stderr",
     "output_type": "stream",
     "text": [
      "Exception ignored in: 'fastparquet.cencoding.write_thrift'\n",
      "Traceback (most recent call last):\n",
      "  File \"/home/lukawc/.local/lib/python3.9/site-packages/fastparquet/writer.py\", line 894, in write_simple\n",
      "    foot_size = f.write(fmd.to_bytes())\n",
      "OverflowError: value too large to convert to int\n"
     ]
    },
    {
     "ename": "OverflowError",
     "evalue": "value too large to convert to int",
     "output_type": "error",
     "traceback": [
      "\u001b[0;31m---------------------------------------------------------------------------\u001b[0m",
      "\u001b[0;31mOverflowError\u001b[0m                             Traceback (most recent call last)",
      "\u001b[0;31mOverflowError\u001b[0m: value too large to convert to int"
     ]
    },
    {
     "name": "stderr",
     "output_type": "stream",
     "text": [
      "Exception ignored in: 'fastparquet.cencoding.write_thrift'\n",
      "Traceback (most recent call last):\n",
      "  File \"/home/lukawc/.local/lib/python3.9/site-packages/fastparquet/writer.py\", line 894, in write_simple\n",
      "    foot_size = f.write(fmd.to_bytes())\n",
      "OverflowError: value too large to convert to int\n"
     ]
    },
    {
     "ename": "OverflowError",
     "evalue": "value too large to convert to int",
     "output_type": "error",
     "traceback": [
      "\u001b[0;31m---------------------------------------------------------------------------\u001b[0m",
      "\u001b[0;31mOverflowError\u001b[0m                             Traceback (most recent call last)",
      "\u001b[0;31mOverflowError\u001b[0m: value too large to convert to int"
     ]
    },
    {
     "name": "stderr",
     "output_type": "stream",
     "text": [
      "Exception ignored in: 'fastparquet.cencoding.write_thrift'\n",
      "Traceback (most recent call last):\n",
      "  File \"/home/lukawc/.local/lib/python3.9/site-packages/fastparquet/writer.py\", line 894, in write_simple\n",
      "    foot_size = f.write(fmd.to_bytes())\n",
      "OverflowError: value too large to convert to int\n"
     ]
    },
    {
     "ename": "OverflowError",
     "evalue": "value too large to convert to int",
     "output_type": "error",
     "traceback": [
      "\u001b[0;31m---------------------------------------------------------------------------\u001b[0m",
      "\u001b[0;31mOverflowError\u001b[0m                             Traceback (most recent call last)",
      "\u001b[0;31mOverflowError\u001b[0m: value too large to convert to int"
     ]
    },
    {
     "name": "stderr",
     "output_type": "stream",
     "text": [
      "Exception ignored in: 'fastparquet.cencoding.write_thrift'\n",
      "Traceback (most recent call last):\n",
      "  File \"/home/lukawc/.local/lib/python3.9/site-packages/fastparquet/writer.py\", line 894, in write_simple\n",
      "    foot_size = f.write(fmd.to_bytes())\n",
      "OverflowError: value too large to convert to int\n"
     ]
    },
    {
     "ename": "OverflowError",
     "evalue": "value too large to convert to int",
     "output_type": "error",
     "traceback": [
      "\u001b[0;31m---------------------------------------------------------------------------\u001b[0m",
      "\u001b[0;31mOverflowError\u001b[0m                             Traceback (most recent call last)",
      "\u001b[0;31mOverflowError\u001b[0m: value too large to convert to int"
     ]
    },
    {
     "name": "stderr",
     "output_type": "stream",
     "text": [
      "Exception ignored in: 'fastparquet.cencoding.write_thrift'\n",
      "Traceback (most recent call last):\n",
      "  File \"/home/lukawc/.local/lib/python3.9/site-packages/fastparquet/writer.py\", line 894, in write_simple\n",
      "    foot_size = f.write(fmd.to_bytes())\n",
      "OverflowError: value too large to convert to int\n"
     ]
    },
    {
     "ename": "OverflowError",
     "evalue": "value too large to convert to int",
     "output_type": "error",
     "traceback": [
      "\u001b[0;31m---------------------------------------------------------------------------\u001b[0m",
      "\u001b[0;31mOverflowError\u001b[0m                             Traceback (most recent call last)",
      "\u001b[0;31mOverflowError\u001b[0m: value too large to convert to int"
     ]
    },
    {
     "name": "stderr",
     "output_type": "stream",
     "text": [
      "Exception ignored in: 'fastparquet.cencoding.write_thrift'\n",
      "Traceback (most recent call last):\n",
      "  File \"/home/lukawc/.local/lib/python3.9/site-packages/fastparquet/writer.py\", line 894, in write_simple\n",
      "    foot_size = f.write(fmd.to_bytes())\n",
      "OverflowError: value too large to convert to int\n"
     ]
    },
    {
     "ename": "OverflowError",
     "evalue": "value too large to convert to int",
     "output_type": "error",
     "traceback": [
      "\u001b[0;31m---------------------------------------------------------------------------\u001b[0m",
      "\u001b[0;31mOverflowError\u001b[0m                             Traceback (most recent call last)",
      "\u001b[0;31mOverflowError\u001b[0m: value too large to convert to int"
     ]
    },
    {
     "name": "stderr",
     "output_type": "stream",
     "text": [
      "Exception ignored in: 'fastparquet.cencoding.write_thrift'\n",
      "Traceback (most recent call last):\n",
      "  File \"/home/lukawc/.local/lib/python3.9/site-packages/fastparquet/writer.py\", line 894, in write_simple\n",
      "    foot_size = f.write(fmd.to_bytes())\n",
      "OverflowError: value too large to convert to int\n"
     ]
    },
    {
     "ename": "OverflowError",
     "evalue": "value too large to convert to int",
     "output_type": "error",
     "traceback": [
      "\u001b[0;31m---------------------------------------------------------------------------\u001b[0m",
      "\u001b[0;31mOverflowError\u001b[0m                             Traceback (most recent call last)",
      "\u001b[0;31mOverflowError\u001b[0m: value too large to convert to int"
     ]
    },
    {
     "name": "stderr",
     "output_type": "stream",
     "text": [
      "Exception ignored in: 'fastparquet.cencoding.write_thrift'\n",
      "Traceback (most recent call last):\n",
      "  File \"/home/lukawc/.local/lib/python3.9/site-packages/fastparquet/writer.py\", line 894, in write_simple\n",
      "    foot_size = f.write(fmd.to_bytes())\n",
      "OverflowError: value too large to convert to int\n"
     ]
    },
    {
     "ename": "OverflowError",
     "evalue": "value too large to convert to int",
     "output_type": "error",
     "traceback": [
      "\u001b[0;31m---------------------------------------------------------------------------\u001b[0m",
      "\u001b[0;31mOverflowError\u001b[0m                             Traceback (most recent call last)",
      "\u001b[0;31mOverflowError\u001b[0m: value too large to convert to int"
     ]
    },
    {
     "name": "stderr",
     "output_type": "stream",
     "text": [
      "Exception ignored in: 'fastparquet.cencoding.write_thrift'\n",
      "Traceback (most recent call last):\n",
      "  File \"/home/lukawc/.local/lib/python3.9/site-packages/fastparquet/writer.py\", line 894, in write_simple\n",
      "    foot_size = f.write(fmd.to_bytes())\n",
      "OverflowError: value too large to convert to int\n"
     ]
    },
    {
     "ename": "OverflowError",
     "evalue": "value too large to convert to int",
     "output_type": "error",
     "traceback": [
      "\u001b[0;31m---------------------------------------------------------------------------\u001b[0m",
      "\u001b[0;31mOverflowError\u001b[0m                             Traceback (most recent call last)",
      "\u001b[0;31mOverflowError\u001b[0m: value too large to convert to int"
     ]
    },
    {
     "name": "stderr",
     "output_type": "stream",
     "text": [
      "Exception ignored in: 'fastparquet.cencoding.write_thrift'\n",
      "Traceback (most recent call last):\n",
      "  File \"/home/lukawc/.local/lib/python3.9/site-packages/fastparquet/writer.py\", line 894, in write_simple\n",
      "    foot_size = f.write(fmd.to_bytes())\n",
      "OverflowError: value too large to convert to int\n"
     ]
    },
    {
     "ename": "OverflowError",
     "evalue": "value too large to convert to int",
     "output_type": "error",
     "traceback": [
      "\u001b[0;31m---------------------------------------------------------------------------\u001b[0m",
      "\u001b[0;31mOverflowError\u001b[0m                             Traceback (most recent call last)",
      "\u001b[0;31mOverflowError\u001b[0m: value too large to convert to int"
     ]
    },
    {
     "name": "stderr",
     "output_type": "stream",
     "text": [
      "Exception ignored in: 'fastparquet.cencoding.write_thrift'\n",
      "Traceback (most recent call last):\n",
      "  File \"/home/lukawc/.local/lib/python3.9/site-packages/fastparquet/writer.py\", line 894, in write_simple\n",
      "    foot_size = f.write(fmd.to_bytes())\n",
      "OverflowError: value too large to convert to int\n"
     ]
    },
    {
     "ename": "OverflowError",
     "evalue": "value too large to convert to int",
     "output_type": "error",
     "traceback": [
      "\u001b[0;31m---------------------------------------------------------------------------\u001b[0m",
      "\u001b[0;31mOverflowError\u001b[0m                             Traceback (most recent call last)",
      "\u001b[0;31mOverflowError\u001b[0m: value too large to convert to int"
     ]
    },
    {
     "name": "stderr",
     "output_type": "stream",
     "text": [
      "Exception ignored in: 'fastparquet.cencoding.write_thrift'\n",
      "Traceback (most recent call last):\n",
      "  File \"/home/lukawc/.local/lib/python3.9/site-packages/fastparquet/writer.py\", line 894, in write_simple\n",
      "    foot_size = f.write(fmd.to_bytes())\n",
      "OverflowError: value too large to convert to int\n"
     ]
    },
    {
     "ename": "OverflowError",
     "evalue": "value too large to convert to int",
     "output_type": "error",
     "traceback": [
      "\u001b[0;31m---------------------------------------------------------------------------\u001b[0m",
      "\u001b[0;31mOverflowError\u001b[0m                             Traceback (most recent call last)",
      "\u001b[0;31mOverflowError\u001b[0m: value too large to convert to int"
     ]
    },
    {
     "name": "stderr",
     "output_type": "stream",
     "text": [
      "Exception ignored in: 'fastparquet.cencoding.write_thrift'\n",
      "Traceback (most recent call last):\n",
      "  File \"/home/lukawc/.local/lib/python3.9/site-packages/fastparquet/writer.py\", line 894, in write_simple\n",
      "    foot_size = f.write(fmd.to_bytes())\n",
      "OverflowError: value too large to convert to int\n"
     ]
    },
    {
     "ename": "OverflowError",
     "evalue": "value too large to convert to int",
     "output_type": "error",
     "traceback": [
      "\u001b[0;31m---------------------------------------------------------------------------\u001b[0m",
      "\u001b[0;31mOverflowError\u001b[0m                             Traceback (most recent call last)",
      "\u001b[0;31mOverflowError\u001b[0m: value too large to convert to int"
     ]
    },
    {
     "name": "stderr",
     "output_type": "stream",
     "text": [
      "Exception ignored in: 'fastparquet.cencoding.write_thrift'\n",
      "Traceback (most recent call last):\n",
      "  File \"/home/lukawc/.local/lib/python3.9/site-packages/fastparquet/writer.py\", line 894, in write_simple\n",
      "    foot_size = f.write(fmd.to_bytes())\n",
      "OverflowError: value too large to convert to int\n"
     ]
    },
    {
     "ename": "OverflowError",
     "evalue": "value too large to convert to int",
     "output_type": "error",
     "traceback": [
      "\u001b[0;31m---------------------------------------------------------------------------\u001b[0m",
      "\u001b[0;31mOverflowError\u001b[0m                             Traceback (most recent call last)",
      "\u001b[0;31mOverflowError\u001b[0m: value too large to convert to int"
     ]
    },
    {
     "name": "stderr",
     "output_type": "stream",
     "text": [
      "Exception ignored in: 'fastparquet.cencoding.write_thrift'\n",
      "Traceback (most recent call last):\n",
      "  File \"/home/lukawc/.local/lib/python3.9/site-packages/fastparquet/writer.py\", line 894, in write_simple\n",
      "    foot_size = f.write(fmd.to_bytes())\n",
      "OverflowError: value too large to convert to int\n"
     ]
    },
    {
     "ename": "OverflowError",
     "evalue": "value too large to convert to int",
     "output_type": "error",
     "traceback": [
      "\u001b[0;31m---------------------------------------------------------------------------\u001b[0m",
      "\u001b[0;31mOverflowError\u001b[0m                             Traceback (most recent call last)",
      "\u001b[0;31mOverflowError\u001b[0m: value too large to convert to int"
     ]
    },
    {
     "name": "stderr",
     "output_type": "stream",
     "text": [
      "Exception ignored in: 'fastparquet.cencoding.write_thrift'\n",
      "Traceback (most recent call last):\n",
      "  File \"/home/lukawc/.local/lib/python3.9/site-packages/fastparquet/writer.py\", line 894, in write_simple\n",
      "    foot_size = f.write(fmd.to_bytes())\n",
      "OverflowError: value too large to convert to int\n"
     ]
    },
    {
     "ename": "OverflowError",
     "evalue": "value too large to convert to int",
     "output_type": "error",
     "traceback": [
      "\u001b[0;31m---------------------------------------------------------------------------\u001b[0m",
      "\u001b[0;31mOverflowError\u001b[0m                             Traceback (most recent call last)",
      "\u001b[0;31mOverflowError\u001b[0m: value too large to convert to int"
     ]
    },
    {
     "name": "stderr",
     "output_type": "stream",
     "text": [
      "Exception ignored in: 'fastparquet.cencoding.write_thrift'\n",
      "Traceback (most recent call last):\n",
      "  File \"/home/lukawc/.local/lib/python3.9/site-packages/fastparquet/writer.py\", line 894, in write_simple\n",
      "    foot_size = f.write(fmd.to_bytes())\n",
      "OverflowError: value too large to convert to int\n"
     ]
    },
    {
     "ename": "OverflowError",
     "evalue": "value too large to convert to int",
     "output_type": "error",
     "traceback": [
      "\u001b[0;31m---------------------------------------------------------------------------\u001b[0m",
      "\u001b[0;31mOverflowError\u001b[0m                             Traceback (most recent call last)",
      "\u001b[0;31mOverflowError\u001b[0m: value too large to convert to int"
     ]
    },
    {
     "name": "stderr",
     "output_type": "stream",
     "text": [
      "Exception ignored in: 'fastparquet.cencoding.write_thrift'\n",
      "Traceback (most recent call last):\n",
      "  File \"/home/lukawc/.local/lib/python3.9/site-packages/fastparquet/writer.py\", line 894, in write_simple\n",
      "    foot_size = f.write(fmd.to_bytes())\n",
      "OverflowError: value too large to convert to int\n"
     ]
    },
    {
     "ename": "OverflowError",
     "evalue": "value too large to convert to int",
     "output_type": "error",
     "traceback": [
      "\u001b[0;31m---------------------------------------------------------------------------\u001b[0m",
      "\u001b[0;31mOverflowError\u001b[0m                             Traceback (most recent call last)",
      "\u001b[0;31mOverflowError\u001b[0m: value too large to convert to int"
     ]
    },
    {
     "name": "stderr",
     "output_type": "stream",
     "text": [
      "Exception ignored in: 'fastparquet.cencoding.write_thrift'\n",
      "Traceback (most recent call last):\n",
      "  File \"/home/lukawc/.local/lib/python3.9/site-packages/fastparquet/writer.py\", line 894, in write_simple\n",
      "    foot_size = f.write(fmd.to_bytes())\n",
      "OverflowError: value too large to convert to int\n"
     ]
    },
    {
     "ename": "OverflowError",
     "evalue": "value too large to convert to int",
     "output_type": "error",
     "traceback": [
      "\u001b[0;31m---------------------------------------------------------------------------\u001b[0m",
      "\u001b[0;31mOverflowError\u001b[0m                             Traceback (most recent call last)",
      "\u001b[0;31mOverflowError\u001b[0m: value too large to convert to int"
     ]
    },
    {
     "name": "stderr",
     "output_type": "stream",
     "text": [
      "Exception ignored in: 'fastparquet.cencoding.write_thrift'\n",
      "Traceback (most recent call last):\n",
      "  File \"/home/lukawc/.local/lib/python3.9/site-packages/fastparquet/writer.py\", line 894, in write_simple\n",
      "    foot_size = f.write(fmd.to_bytes())\n",
      "OverflowError: value too large to convert to int\n"
     ]
    },
    {
     "ename": "OverflowError",
     "evalue": "value too large to convert to int",
     "output_type": "error",
     "traceback": [
      "\u001b[0;31m---------------------------------------------------------------------------\u001b[0m",
      "\u001b[0;31mOverflowError\u001b[0m                             Traceback (most recent call last)",
      "\u001b[0;31mOverflowError\u001b[0m: value too large to convert to int"
     ]
    },
    {
     "name": "stderr",
     "output_type": "stream",
     "text": [
      "Exception ignored in: 'fastparquet.cencoding.write_thrift'\n",
      "Traceback (most recent call last):\n",
      "  File \"/home/lukawc/.local/lib/python3.9/site-packages/fastparquet/writer.py\", line 894, in write_simple\n",
      "    foot_size = f.write(fmd.to_bytes())\n",
      "OverflowError: value too large to convert to int\n"
     ]
    },
    {
     "ename": "OverflowError",
     "evalue": "value too large to convert to int",
     "output_type": "error",
     "traceback": [
      "\u001b[0;31m---------------------------------------------------------------------------\u001b[0m",
      "\u001b[0;31mOverflowError\u001b[0m                             Traceback (most recent call last)",
      "\u001b[0;31mOverflowError\u001b[0m: value too large to convert to int"
     ]
    },
    {
     "name": "stderr",
     "output_type": "stream",
     "text": [
      "Exception ignored in: 'fastparquet.cencoding.write_thrift'\n",
      "Traceback (most recent call last):\n",
      "  File \"/home/lukawc/.local/lib/python3.9/site-packages/fastparquet/writer.py\", line 894, in write_simple\n",
      "    foot_size = f.write(fmd.to_bytes())\n",
      "OverflowError: value too large to convert to int\n"
     ]
    },
    {
     "ename": "OverflowError",
     "evalue": "value too large to convert to int",
     "output_type": "error",
     "traceback": [
      "\u001b[0;31m---------------------------------------------------------------------------\u001b[0m",
      "\u001b[0;31mOverflowError\u001b[0m                             Traceback (most recent call last)",
      "\u001b[0;31mOverflowError\u001b[0m: value too large to convert to int"
     ]
    },
    {
     "name": "stderr",
     "output_type": "stream",
     "text": [
      "Exception ignored in: 'fastparquet.cencoding.write_thrift'\n",
      "Traceback (most recent call last):\n",
      "  File \"/home/lukawc/.local/lib/python3.9/site-packages/fastparquet/writer.py\", line 894, in write_simple\n",
      "    foot_size = f.write(fmd.to_bytes())\n",
      "OverflowError: value too large to convert to int\n"
     ]
    },
    {
     "ename": "OverflowError",
     "evalue": "value too large to convert to int",
     "output_type": "error",
     "traceback": [
      "\u001b[0;31m---------------------------------------------------------------------------\u001b[0m",
      "\u001b[0;31mOverflowError\u001b[0m                             Traceback (most recent call last)",
      "\u001b[0;31mOverflowError\u001b[0m: value too large to convert to int"
     ]
    },
    {
     "name": "stderr",
     "output_type": "stream",
     "text": [
      "Exception ignored in: 'fastparquet.cencoding.write_thrift'\n",
      "Traceback (most recent call last):\n",
      "  File \"/home/lukawc/.local/lib/python3.9/site-packages/fastparquet/writer.py\", line 894, in write_simple\n",
      "    foot_size = f.write(fmd.to_bytes())\n",
      "OverflowError: value too large to convert to int\n"
     ]
    },
    {
     "ename": "OverflowError",
     "evalue": "value too large to convert to int",
     "output_type": "error",
     "traceback": [
      "\u001b[0;31m---------------------------------------------------------------------------\u001b[0m",
      "\u001b[0;31mOverflowError\u001b[0m                             Traceback (most recent call last)",
      "\u001b[0;31mOverflowError\u001b[0m: value too large to convert to int"
     ]
    },
    {
     "name": "stderr",
     "output_type": "stream",
     "text": [
      "Exception ignored in: 'fastparquet.cencoding.write_thrift'\n",
      "Traceback (most recent call last):\n",
      "  File \"/home/lukawc/.local/lib/python3.9/site-packages/fastparquet/writer.py\", line 894, in write_simple\n",
      "    foot_size = f.write(fmd.to_bytes())\n",
      "OverflowError: value too large to convert to int\n"
     ]
    },
    {
     "ename": "OverflowError",
     "evalue": "value too large to convert to int",
     "output_type": "error",
     "traceback": [
      "\u001b[0;31m---------------------------------------------------------------------------\u001b[0m",
      "\u001b[0;31mOverflowError\u001b[0m                             Traceback (most recent call last)",
      "\u001b[0;31mOverflowError\u001b[0m: value too large to convert to int"
     ]
    },
    {
     "name": "stderr",
     "output_type": "stream",
     "text": [
      "Exception ignored in: 'fastparquet.cencoding.write_thrift'\n",
      "Traceback (most recent call last):\n",
      "  File \"/home/lukawc/.local/lib/python3.9/site-packages/fastparquet/writer.py\", line 894, in write_simple\n",
      "    foot_size = f.write(fmd.to_bytes())\n",
      "OverflowError: value too large to convert to int\n"
     ]
    },
    {
     "ename": "OverflowError",
     "evalue": "value too large to convert to int",
     "output_type": "error",
     "traceback": [
      "\u001b[0;31m---------------------------------------------------------------------------\u001b[0m",
      "\u001b[0;31mOverflowError\u001b[0m                             Traceback (most recent call last)",
      "\u001b[0;31mOverflowError\u001b[0m: value too large to convert to int"
     ]
    },
    {
     "name": "stderr",
     "output_type": "stream",
     "text": [
      "Exception ignored in: 'fastparquet.cencoding.write_thrift'\n",
      "Traceback (most recent call last):\n",
      "  File \"/home/lukawc/.local/lib/python3.9/site-packages/fastparquet/writer.py\", line 894, in write_simple\n",
      "    foot_size = f.write(fmd.to_bytes())\n",
      "OverflowError: value too large to convert to int\n"
     ]
    },
    {
     "ename": "OverflowError",
     "evalue": "value too large to convert to int",
     "output_type": "error",
     "traceback": [
      "\u001b[0;31m---------------------------------------------------------------------------\u001b[0m",
      "\u001b[0;31mOverflowError\u001b[0m                             Traceback (most recent call last)",
      "\u001b[0;31mOverflowError\u001b[0m: value too large to convert to int"
     ]
    },
    {
     "name": "stderr",
     "output_type": "stream",
     "text": [
      "Exception ignored in: 'fastparquet.cencoding.write_thrift'\n",
      "Traceback (most recent call last):\n",
      "  File \"/home/lukawc/.local/lib/python3.9/site-packages/fastparquet/writer.py\", line 894, in write_simple\n",
      "    foot_size = f.write(fmd.to_bytes())\n",
      "OverflowError: value too large to convert to int\n"
     ]
    },
    {
     "ename": "OverflowError",
     "evalue": "value too large to convert to int",
     "output_type": "error",
     "traceback": [
      "\u001b[0;31m---------------------------------------------------------------------------\u001b[0m",
      "\u001b[0;31mOverflowError\u001b[0m                             Traceback (most recent call last)",
      "\u001b[0;31mOverflowError\u001b[0m: value too large to convert to int"
     ]
    },
    {
     "name": "stderr",
     "output_type": "stream",
     "text": [
      "Exception ignored in: 'fastparquet.cencoding.write_thrift'\n",
      "Traceback (most recent call last):\n",
      "  File \"/home/lukawc/.local/lib/python3.9/site-packages/fastparquet/writer.py\", line 894, in write_simple\n",
      "    foot_size = f.write(fmd.to_bytes())\n",
      "OverflowError: value too large to convert to int\n"
     ]
    },
    {
     "ename": "OverflowError",
     "evalue": "value too large to convert to int",
     "output_type": "error",
     "traceback": [
      "\u001b[0;31m---------------------------------------------------------------------------\u001b[0m",
      "\u001b[0;31mOverflowError\u001b[0m                             Traceback (most recent call last)",
      "\u001b[0;31mOverflowError\u001b[0m: value too large to convert to int"
     ]
    },
    {
     "name": "stderr",
     "output_type": "stream",
     "text": [
      "Exception ignored in: 'fastparquet.cencoding.write_thrift'\n",
      "Traceback (most recent call last):\n",
      "  File \"/home/lukawc/.local/lib/python3.9/site-packages/fastparquet/writer.py\", line 894, in write_simple\n",
      "    foot_size = f.write(fmd.to_bytes())\n",
      "OverflowError: value too large to convert to int\n"
     ]
    },
    {
     "ename": "OverflowError",
     "evalue": "value too large to convert to int",
     "output_type": "error",
     "traceback": [
      "\u001b[0;31m---------------------------------------------------------------------------\u001b[0m",
      "\u001b[0;31mOverflowError\u001b[0m                             Traceback (most recent call last)",
      "\u001b[0;31mOverflowError\u001b[0m: value too large to convert to int"
     ]
    },
    {
     "name": "stderr",
     "output_type": "stream",
     "text": [
      "Exception ignored in: 'fastparquet.cencoding.write_thrift'\n",
      "Traceback (most recent call last):\n",
      "  File \"/home/lukawc/.local/lib/python3.9/site-packages/fastparquet/writer.py\", line 894, in write_simple\n",
      "    foot_size = f.write(fmd.to_bytes())\n",
      "OverflowError: value too large to convert to int\n"
     ]
    },
    {
     "ename": "OverflowError",
     "evalue": "value too large to convert to int",
     "output_type": "error",
     "traceback": [
      "\u001b[0;31m---------------------------------------------------------------------------\u001b[0m",
      "\u001b[0;31mOverflowError\u001b[0m                             Traceback (most recent call last)",
      "\u001b[0;31mOverflowError\u001b[0m: value too large to convert to int"
     ]
    },
    {
     "name": "stderr",
     "output_type": "stream",
     "text": [
      "Exception ignored in: 'fastparquet.cencoding.write_thrift'\n",
      "Traceback (most recent call last):\n",
      "  File \"/home/lukawc/.local/lib/python3.9/site-packages/fastparquet/writer.py\", line 894, in write_simple\n",
      "    foot_size = f.write(fmd.to_bytes())\n",
      "OverflowError: value too large to convert to int\n"
     ]
    },
    {
     "ename": "OverflowError",
     "evalue": "value too large to convert to int",
     "output_type": "error",
     "traceback": [
      "\u001b[0;31m---------------------------------------------------------------------------\u001b[0m",
      "\u001b[0;31mOverflowError\u001b[0m                             Traceback (most recent call last)",
      "\u001b[0;31mOverflowError\u001b[0m: value too large to convert to int"
     ]
    },
    {
     "name": "stderr",
     "output_type": "stream",
     "text": [
      "Exception ignored in: 'fastparquet.cencoding.write_thrift'\n",
      "Traceback (most recent call last):\n",
      "  File \"/home/lukawc/.local/lib/python3.9/site-packages/fastparquet/writer.py\", line 894, in write_simple\n",
      "    foot_size = f.write(fmd.to_bytes())\n",
      "OverflowError: value too large to convert to int\n"
     ]
    },
    {
     "ename": "OverflowError",
     "evalue": "value too large to convert to int",
     "output_type": "error",
     "traceback": [
      "\u001b[0;31m---------------------------------------------------------------------------\u001b[0m",
      "\u001b[0;31mOverflowError\u001b[0m                             Traceback (most recent call last)",
      "\u001b[0;31mOverflowError\u001b[0m: value too large to convert to int"
     ]
    },
    {
     "name": "stderr",
     "output_type": "stream",
     "text": [
      "Exception ignored in: 'fastparquet.cencoding.write_thrift'\n",
      "Traceback (most recent call last):\n",
      "  File \"/home/lukawc/.local/lib/python3.9/site-packages/fastparquet/writer.py\", line 894, in write_simple\n",
      "    foot_size = f.write(fmd.to_bytes())\n",
      "OverflowError: value too large to convert to int\n"
     ]
    },
    {
     "ename": "OverflowError",
     "evalue": "value too large to convert to int",
     "output_type": "error",
     "traceback": [
      "\u001b[0;31m---------------------------------------------------------------------------\u001b[0m",
      "\u001b[0;31mOverflowError\u001b[0m                             Traceback (most recent call last)",
      "\u001b[0;31mOverflowError\u001b[0m: value too large to convert to int"
     ]
    },
    {
     "name": "stderr",
     "output_type": "stream",
     "text": [
      "Exception ignored in: 'fastparquet.cencoding.write_thrift'\n",
      "Traceback (most recent call last):\n",
      "  File \"/home/lukawc/.local/lib/python3.9/site-packages/fastparquet/writer.py\", line 894, in write_simple\n",
      "    foot_size = f.write(fmd.to_bytes())\n",
      "OverflowError: value too large to convert to int\n"
     ]
    },
    {
     "ename": "OverflowError",
     "evalue": "value too large to convert to int",
     "output_type": "error",
     "traceback": [
      "\u001b[0;31m---------------------------------------------------------------------------\u001b[0m",
      "\u001b[0;31mOverflowError\u001b[0m                             Traceback (most recent call last)",
      "\u001b[0;31mOverflowError\u001b[0m: value too large to convert to int"
     ]
    },
    {
     "name": "stderr",
     "output_type": "stream",
     "text": [
      "Exception ignored in: 'fastparquet.cencoding.write_thrift'\n",
      "Traceback (most recent call last):\n",
      "  File \"/home/lukawc/.local/lib/python3.9/site-packages/fastparquet/writer.py\", line 894, in write_simple\n",
      "    foot_size = f.write(fmd.to_bytes())\n",
      "OverflowError: value too large to convert to int\n"
     ]
    },
    {
     "ename": "OverflowError",
     "evalue": "value too large to convert to int",
     "output_type": "error",
     "traceback": [
      "\u001b[0;31m---------------------------------------------------------------------------\u001b[0m",
      "\u001b[0;31mOverflowError\u001b[0m                             Traceback (most recent call last)",
      "\u001b[0;31mOverflowError\u001b[0m: value too large to convert to int"
     ]
    },
    {
     "name": "stderr",
     "output_type": "stream",
     "text": [
      "Exception ignored in: 'fastparquet.cencoding.write_thrift'\n",
      "Traceback (most recent call last):\n",
      "  File \"/home/lukawc/.local/lib/python3.9/site-packages/fastparquet/writer.py\", line 894, in write_simple\n",
      "    foot_size = f.write(fmd.to_bytes())\n",
      "OverflowError: value too large to convert to int\n"
     ]
    },
    {
     "ename": "OverflowError",
     "evalue": "value too large to convert to int",
     "output_type": "error",
     "traceback": [
      "\u001b[0;31m---------------------------------------------------------------------------\u001b[0m",
      "\u001b[0;31mOverflowError\u001b[0m                             Traceback (most recent call last)",
      "\u001b[0;31mOverflowError\u001b[0m: value too large to convert to int"
     ]
    },
    {
     "name": "stderr",
     "output_type": "stream",
     "text": [
      "Exception ignored in: 'fastparquet.cencoding.write_thrift'\n",
      "Traceback (most recent call last):\n",
      "  File \"/home/lukawc/.local/lib/python3.9/site-packages/fastparquet/writer.py\", line 894, in write_simple\n",
      "    foot_size = f.write(fmd.to_bytes())\n",
      "OverflowError: value too large to convert to int\n"
     ]
    },
    {
     "ename": "OverflowError",
     "evalue": "value too large to convert to int",
     "output_type": "error",
     "traceback": [
      "\u001b[0;31m---------------------------------------------------------------------------\u001b[0m",
      "\u001b[0;31mOverflowError\u001b[0m                             Traceback (most recent call last)",
      "\u001b[0;31mOverflowError\u001b[0m: value too large to convert to int"
     ]
    },
    {
     "name": "stderr",
     "output_type": "stream",
     "text": [
      "Exception ignored in: 'fastparquet.cencoding.write_thrift'\n",
      "Traceback (most recent call last):\n",
      "  File \"/home/lukawc/.local/lib/python3.9/site-packages/fastparquet/writer.py\", line 894, in write_simple\n",
      "    foot_size = f.write(fmd.to_bytes())\n",
      "OverflowError: value too large to convert to int\n"
     ]
    },
    {
     "ename": "OverflowError",
     "evalue": "value too large to convert to int",
     "output_type": "error",
     "traceback": [
      "\u001b[0;31m---------------------------------------------------------------------------\u001b[0m",
      "\u001b[0;31mOverflowError\u001b[0m                             Traceback (most recent call last)",
      "\u001b[0;31mOverflowError\u001b[0m: value too large to convert to int"
     ]
    },
    {
     "name": "stderr",
     "output_type": "stream",
     "text": [
      "Exception ignored in: 'fastparquet.cencoding.write_thrift'\n",
      "Traceback (most recent call last):\n",
      "  File \"/home/lukawc/.local/lib/python3.9/site-packages/fastparquet/writer.py\", line 894, in write_simple\n",
      "    foot_size = f.write(fmd.to_bytes())\n",
      "OverflowError: value too large to convert to int\n"
     ]
    },
    {
     "ename": "OverflowError",
     "evalue": "value too large to convert to int",
     "output_type": "error",
     "traceback": [
      "\u001b[0;31m---------------------------------------------------------------------------\u001b[0m",
      "\u001b[0;31mOverflowError\u001b[0m                             Traceback (most recent call last)",
      "\u001b[0;31mOverflowError\u001b[0m: value too large to convert to int"
     ]
    },
    {
     "name": "stderr",
     "output_type": "stream",
     "text": [
      "Exception ignored in: 'fastparquet.cencoding.write_thrift'\n",
      "Traceback (most recent call last):\n",
      "  File \"/home/lukawc/.local/lib/python3.9/site-packages/fastparquet/writer.py\", line 894, in write_simple\n",
      "    foot_size = f.write(fmd.to_bytes())\n",
      "OverflowError: value too large to convert to int\n"
     ]
    },
    {
     "ename": "OverflowError",
     "evalue": "value too large to convert to int",
     "output_type": "error",
     "traceback": [
      "\u001b[0;31m---------------------------------------------------------------------------\u001b[0m",
      "\u001b[0;31mOverflowError\u001b[0m                             Traceback (most recent call last)",
      "\u001b[0;31mOverflowError\u001b[0m: value too large to convert to int"
     ]
    },
    {
     "name": "stderr",
     "output_type": "stream",
     "text": [
      "Exception ignored in: 'fastparquet.cencoding.write_thrift'\n",
      "Traceback (most recent call last):\n",
      "  File \"/home/lukawc/.local/lib/python3.9/site-packages/fastparquet/writer.py\", line 894, in write_simple\n",
      "    foot_size = f.write(fmd.to_bytes())\n",
      "OverflowError: value too large to convert to int\n"
     ]
    },
    {
     "ename": "OverflowError",
     "evalue": "value too large to convert to int",
     "output_type": "error",
     "traceback": [
      "\u001b[0;31m---------------------------------------------------------------------------\u001b[0m",
      "\u001b[0;31mOverflowError\u001b[0m                             Traceback (most recent call last)",
      "\u001b[0;31mOverflowError\u001b[0m: value too large to convert to int"
     ]
    },
    {
     "name": "stderr",
     "output_type": "stream",
     "text": [
      "Exception ignored in: 'fastparquet.cencoding.write_thrift'\n",
      "Traceback (most recent call last):\n",
      "  File \"/home/lukawc/.local/lib/python3.9/site-packages/fastparquet/writer.py\", line 894, in write_simple\n",
      "    foot_size = f.write(fmd.to_bytes())\n",
      "OverflowError: value too large to convert to int\n"
     ]
    },
    {
     "ename": "OverflowError",
     "evalue": "value too large to convert to int",
     "output_type": "error",
     "traceback": [
      "\u001b[0;31m---------------------------------------------------------------------------\u001b[0m",
      "\u001b[0;31mOverflowError\u001b[0m                             Traceback (most recent call last)",
      "\u001b[0;31mOverflowError\u001b[0m: value too large to convert to int"
     ]
    },
    {
     "name": "stderr",
     "output_type": "stream",
     "text": [
      "Exception ignored in: 'fastparquet.cencoding.write_thrift'\n",
      "Traceback (most recent call last):\n",
      "  File \"/home/lukawc/.local/lib/python3.9/site-packages/fastparquet/writer.py\", line 894, in write_simple\n",
      "    foot_size = f.write(fmd.to_bytes())\n",
      "OverflowError: value too large to convert to int\n"
     ]
    },
    {
     "ename": "OverflowError",
     "evalue": "value too large to convert to int",
     "output_type": "error",
     "traceback": [
      "\u001b[0;31m---------------------------------------------------------------------------\u001b[0m",
      "\u001b[0;31mOverflowError\u001b[0m                             Traceback (most recent call last)",
      "\u001b[0;31mOverflowError\u001b[0m: value too large to convert to int"
     ]
    },
    {
     "name": "stderr",
     "output_type": "stream",
     "text": [
      "Exception ignored in: 'fastparquet.cencoding.write_thrift'\n",
      "Traceback (most recent call last):\n",
      "  File \"/home/lukawc/.local/lib/python3.9/site-packages/fastparquet/writer.py\", line 894, in write_simple\n",
      "    foot_size = f.write(fmd.to_bytes())\n",
      "OverflowError: value too large to convert to int\n"
     ]
    },
    {
     "ename": "OverflowError",
     "evalue": "value too large to convert to int",
     "output_type": "error",
     "traceback": [
      "\u001b[0;31m---------------------------------------------------------------------------\u001b[0m",
      "\u001b[0;31mOverflowError\u001b[0m                             Traceback (most recent call last)",
      "\u001b[0;31mOverflowError\u001b[0m: value too large to convert to int"
     ]
    },
    {
     "name": "stderr",
     "output_type": "stream",
     "text": [
      "Exception ignored in: 'fastparquet.cencoding.write_thrift'\n",
      "Traceback (most recent call last):\n",
      "  File \"/home/lukawc/.local/lib/python3.9/site-packages/fastparquet/writer.py\", line 894, in write_simple\n",
      "    foot_size = f.write(fmd.to_bytes())\n",
      "OverflowError: value too large to convert to int\n"
     ]
    },
    {
     "ename": "OverflowError",
     "evalue": "value too large to convert to int",
     "output_type": "error",
     "traceback": [
      "\u001b[0;31m---------------------------------------------------------------------------\u001b[0m",
      "\u001b[0;31mOverflowError\u001b[0m                             Traceback (most recent call last)",
      "\u001b[0;31mOverflowError\u001b[0m: value too large to convert to int"
     ]
    },
    {
     "name": "stderr",
     "output_type": "stream",
     "text": [
      "Exception ignored in: 'fastparquet.cencoding.write_thrift'\n",
      "Traceback (most recent call last):\n",
      "  File \"/home/lukawc/.local/lib/python3.9/site-packages/fastparquet/writer.py\", line 894, in write_simple\n",
      "    foot_size = f.write(fmd.to_bytes())\n",
      "OverflowError: value too large to convert to int\n"
     ]
    },
    {
     "ename": "OverflowError",
     "evalue": "value too large to convert to int",
     "output_type": "error",
     "traceback": [
      "\u001b[0;31m---------------------------------------------------------------------------\u001b[0m",
      "\u001b[0;31mOverflowError\u001b[0m                             Traceback (most recent call last)",
      "\u001b[0;31mOverflowError\u001b[0m: value too large to convert to int"
     ]
    },
    {
     "name": "stderr",
     "output_type": "stream",
     "text": [
      "Exception ignored in: 'fastparquet.cencoding.write_thrift'\n",
      "Traceback (most recent call last):\n",
      "  File \"/home/lukawc/.local/lib/python3.9/site-packages/fastparquet/writer.py\", line 894, in write_simple\n",
      "    foot_size = f.write(fmd.to_bytes())\n",
      "OverflowError: value too large to convert to int\n"
     ]
    },
    {
     "ename": "OverflowError",
     "evalue": "value too large to convert to int",
     "output_type": "error",
     "traceback": [
      "\u001b[0;31m---------------------------------------------------------------------------\u001b[0m",
      "\u001b[0;31mOverflowError\u001b[0m                             Traceback (most recent call last)",
      "\u001b[0;31mOverflowError\u001b[0m: value too large to convert to int"
     ]
    },
    {
     "name": "stderr",
     "output_type": "stream",
     "text": [
      "Exception ignored in: 'fastparquet.cencoding.write_thrift'\n",
      "Traceback (most recent call last):\n",
      "  File \"/home/lukawc/.local/lib/python3.9/site-packages/fastparquet/writer.py\", line 894, in write_simple\n",
      "    foot_size = f.write(fmd.to_bytes())\n",
      "OverflowError: value too large to convert to int\n"
     ]
    },
    {
     "ename": "OverflowError",
     "evalue": "value too large to convert to int",
     "output_type": "error",
     "traceback": [
      "\u001b[0;31m---------------------------------------------------------------------------\u001b[0m",
      "\u001b[0;31mOverflowError\u001b[0m                             Traceback (most recent call last)",
      "\u001b[0;31mOverflowError\u001b[0m: value too large to convert to int"
     ]
    },
    {
     "name": "stderr",
     "output_type": "stream",
     "text": [
      "Exception ignored in: 'fastparquet.cencoding.write_thrift'\n",
      "Traceback (most recent call last):\n",
      "  File \"/home/lukawc/.local/lib/python3.9/site-packages/fastparquet/writer.py\", line 894, in write_simple\n",
      "    foot_size = f.write(fmd.to_bytes())\n",
      "OverflowError: value too large to convert to int\n"
     ]
    },
    {
     "ename": "OverflowError",
     "evalue": "value too large to convert to int",
     "output_type": "error",
     "traceback": [
      "\u001b[0;31m---------------------------------------------------------------------------\u001b[0m",
      "\u001b[0;31mOverflowError\u001b[0m                             Traceback (most recent call last)",
      "\u001b[0;31mOverflowError\u001b[0m: value too large to convert to int"
     ]
    },
    {
     "name": "stderr",
     "output_type": "stream",
     "text": [
      "Exception ignored in: 'fastparquet.cencoding.write_thrift'\n",
      "Traceback (most recent call last):\n",
      "  File \"/home/lukawc/.local/lib/python3.9/site-packages/fastparquet/writer.py\", line 894, in write_simple\n",
      "    foot_size = f.write(fmd.to_bytes())\n",
      "OverflowError: value too large to convert to int\n"
     ]
    },
    {
     "ename": "OverflowError",
     "evalue": "value too large to convert to int",
     "output_type": "error",
     "traceback": [
      "\u001b[0;31m---------------------------------------------------------------------------\u001b[0m",
      "\u001b[0;31mOverflowError\u001b[0m                             Traceback (most recent call last)",
      "\u001b[0;31mOverflowError\u001b[0m: value too large to convert to int"
     ]
    },
    {
     "name": "stderr",
     "output_type": "stream",
     "text": [
      "Exception ignored in: 'fastparquet.cencoding.write_thrift'\n",
      "Traceback (most recent call last):\n",
      "  File \"/home/lukawc/.local/lib/python3.9/site-packages/fastparquet/writer.py\", line 894, in write_simple\n",
      "    foot_size = f.write(fmd.to_bytes())\n",
      "OverflowError: value too large to convert to int\n"
     ]
    },
    {
     "ename": "OverflowError",
     "evalue": "value too large to convert to int",
     "output_type": "error",
     "traceback": [
      "\u001b[0;31m---------------------------------------------------------------------------\u001b[0m",
      "\u001b[0;31mOverflowError\u001b[0m                             Traceback (most recent call last)",
      "\u001b[0;31mOverflowError\u001b[0m: value too large to convert to int"
     ]
    },
    {
     "name": "stderr",
     "output_type": "stream",
     "text": [
      "Exception ignored in: 'fastparquet.cencoding.write_thrift'\n",
      "Traceback (most recent call last):\n",
      "  File \"/home/lukawc/.local/lib/python3.9/site-packages/fastparquet/writer.py\", line 894, in write_simple\n",
      "    foot_size = f.write(fmd.to_bytes())\n",
      "OverflowError: value too large to convert to int\n"
     ]
    },
    {
     "ename": "OverflowError",
     "evalue": "value too large to convert to int",
     "output_type": "error",
     "traceback": [
      "\u001b[0;31m---------------------------------------------------------------------------\u001b[0m",
      "\u001b[0;31mOverflowError\u001b[0m                             Traceback (most recent call last)",
      "\u001b[0;31mOverflowError\u001b[0m: value too large to convert to int"
     ]
    },
    {
     "name": "stderr",
     "output_type": "stream",
     "text": [
      "Exception ignored in: 'fastparquet.cencoding.write_thrift'\n",
      "Traceback (most recent call last):\n",
      "  File \"/home/lukawc/.local/lib/python3.9/site-packages/fastparquet/writer.py\", line 894, in write_simple\n",
      "    foot_size = f.write(fmd.to_bytes())\n",
      "OverflowError: value too large to convert to int\n"
     ]
    },
    {
     "ename": "OverflowError",
     "evalue": "value too large to convert to int",
     "output_type": "error",
     "traceback": [
      "\u001b[0;31m---------------------------------------------------------------------------\u001b[0m",
      "\u001b[0;31mOverflowError\u001b[0m                             Traceback (most recent call last)",
      "\u001b[0;31mOverflowError\u001b[0m: value too large to convert to int"
     ]
    },
    {
     "name": "stderr",
     "output_type": "stream",
     "text": [
      "Exception ignored in: 'fastparquet.cencoding.write_thrift'\n",
      "Traceback (most recent call last):\n",
      "  File \"/home/lukawc/.local/lib/python3.9/site-packages/fastparquet/writer.py\", line 894, in write_simple\n",
      "    foot_size = f.write(fmd.to_bytes())\n",
      "OverflowError: value too large to convert to int\n"
     ]
    },
    {
     "ename": "OverflowError",
     "evalue": "value too large to convert to int",
     "output_type": "error",
     "traceback": [
      "\u001b[0;31m---------------------------------------------------------------------------\u001b[0m",
      "\u001b[0;31mOverflowError\u001b[0m                             Traceback (most recent call last)",
      "\u001b[0;31mOverflowError\u001b[0m: value too large to convert to int"
     ]
    },
    {
     "name": "stderr",
     "output_type": "stream",
     "text": [
      "Exception ignored in: 'fastparquet.cencoding.write_thrift'\n",
      "Traceback (most recent call last):\n",
      "  File \"/home/lukawc/.local/lib/python3.9/site-packages/fastparquet/writer.py\", line 894, in write_simple\n",
      "    foot_size = f.write(fmd.to_bytes())\n",
      "OverflowError: value too large to convert to int\n"
     ]
    },
    {
     "ename": "OverflowError",
     "evalue": "value too large to convert to int",
     "output_type": "error",
     "traceback": [
      "\u001b[0;31m---------------------------------------------------------------------------\u001b[0m",
      "\u001b[0;31mOverflowError\u001b[0m                             Traceback (most recent call last)",
      "\u001b[0;31mOverflowError\u001b[0m: value too large to convert to int"
     ]
    },
    {
     "name": "stderr",
     "output_type": "stream",
     "text": [
      "Exception ignored in: 'fastparquet.cencoding.write_thrift'\n",
      "Traceback (most recent call last):\n",
      "  File \"/home/lukawc/.local/lib/python3.9/site-packages/fastparquet/writer.py\", line 894, in write_simple\n",
      "    foot_size = f.write(fmd.to_bytes())\n",
      "OverflowError: value too large to convert to int\n"
     ]
    },
    {
     "ename": "OverflowError",
     "evalue": "value too large to convert to int",
     "output_type": "error",
     "traceback": [
      "\u001b[0;31m---------------------------------------------------------------------------\u001b[0m",
      "\u001b[0;31mOverflowError\u001b[0m                             Traceback (most recent call last)",
      "\u001b[0;31mOverflowError\u001b[0m: value too large to convert to int"
     ]
    },
    {
     "name": "stderr",
     "output_type": "stream",
     "text": [
      "Exception ignored in: 'fastparquet.cencoding.write_thrift'\n",
      "Traceback (most recent call last):\n",
      "  File \"/home/lukawc/.local/lib/python3.9/site-packages/fastparquet/writer.py\", line 894, in write_simple\n",
      "    foot_size = f.write(fmd.to_bytes())\n",
      "OverflowError: value too large to convert to int\n"
     ]
    },
    {
     "ename": "OverflowError",
     "evalue": "value too large to convert to int",
     "output_type": "error",
     "traceback": [
      "\u001b[0;31m---------------------------------------------------------------------------\u001b[0m",
      "\u001b[0;31mOverflowError\u001b[0m                             Traceback (most recent call last)",
      "\u001b[0;31mOverflowError\u001b[0m: value too large to convert to int"
     ]
    },
    {
     "name": "stderr",
     "output_type": "stream",
     "text": [
      "Exception ignored in: 'fastparquet.cencoding.write_thrift'\n",
      "Traceback (most recent call last):\n",
      "  File \"/home/lukawc/.local/lib/python3.9/site-packages/fastparquet/writer.py\", line 894, in write_simple\n",
      "    foot_size = f.write(fmd.to_bytes())\n",
      "OverflowError: value too large to convert to int\n"
     ]
    },
    {
     "ename": "OverflowError",
     "evalue": "value too large to convert to int",
     "output_type": "error",
     "traceback": [
      "\u001b[0;31m---------------------------------------------------------------------------\u001b[0m",
      "\u001b[0;31mOverflowError\u001b[0m                             Traceback (most recent call last)",
      "\u001b[0;31mOverflowError\u001b[0m: value too large to convert to int"
     ]
    },
    {
     "name": "stderr",
     "output_type": "stream",
     "text": [
      "Exception ignored in: 'fastparquet.cencoding.write_thrift'\n",
      "Traceback (most recent call last):\n",
      "  File \"/home/lukawc/.local/lib/python3.9/site-packages/fastparquet/writer.py\", line 894, in write_simple\n",
      "    foot_size = f.write(fmd.to_bytes())\n",
      "OverflowError: value too large to convert to int\n"
     ]
    },
    {
     "ename": "OverflowError",
     "evalue": "value too large to convert to int",
     "output_type": "error",
     "traceback": [
      "\u001b[0;31m---------------------------------------------------------------------------\u001b[0m",
      "\u001b[0;31mOverflowError\u001b[0m                             Traceback (most recent call last)",
      "\u001b[0;31mOverflowError\u001b[0m: value too large to convert to int"
     ]
    },
    {
     "name": "stderr",
     "output_type": "stream",
     "text": [
      "Exception ignored in: 'fastparquet.cencoding.write_thrift'\n",
      "Traceback (most recent call last):\n",
      "  File \"/home/lukawc/.local/lib/python3.9/site-packages/fastparquet/writer.py\", line 894, in write_simple\n",
      "    foot_size = f.write(fmd.to_bytes())\n",
      "OverflowError: value too large to convert to int\n"
     ]
    },
    {
     "ename": "OverflowError",
     "evalue": "value too large to convert to int",
     "output_type": "error",
     "traceback": [
      "\u001b[0;31m---------------------------------------------------------------------------\u001b[0m",
      "\u001b[0;31mOverflowError\u001b[0m                             Traceback (most recent call last)",
      "\u001b[0;31mOverflowError\u001b[0m: value too large to convert to int"
     ]
    },
    {
     "name": "stderr",
     "output_type": "stream",
     "text": [
      "Exception ignored in: 'fastparquet.cencoding.write_thrift'\n",
      "Traceback (most recent call last):\n",
      "  File \"/home/lukawc/.local/lib/python3.9/site-packages/fastparquet/writer.py\", line 894, in write_simple\n",
      "    foot_size = f.write(fmd.to_bytes())\n",
      "OverflowError: value too large to convert to int\n"
     ]
    },
    {
     "ename": "OverflowError",
     "evalue": "value too large to convert to int",
     "output_type": "error",
     "traceback": [
      "\u001b[0;31m---------------------------------------------------------------------------\u001b[0m",
      "\u001b[0;31mOverflowError\u001b[0m                             Traceback (most recent call last)",
      "\u001b[0;31mOverflowError\u001b[0m: value too large to convert to int"
     ]
    },
    {
     "name": "stderr",
     "output_type": "stream",
     "text": [
      "Exception ignored in: 'fastparquet.cencoding.write_thrift'\n",
      "Traceback (most recent call last):\n",
      "  File \"/home/lukawc/.local/lib/python3.9/site-packages/fastparquet/writer.py\", line 894, in write_simple\n",
      "    foot_size = f.write(fmd.to_bytes())\n",
      "OverflowError: value too large to convert to int\n"
     ]
    },
    {
     "ename": "OverflowError",
     "evalue": "value too large to convert to int",
     "output_type": "error",
     "traceback": [
      "\u001b[0;31m---------------------------------------------------------------------------\u001b[0m",
      "\u001b[0;31mOverflowError\u001b[0m                             Traceback (most recent call last)",
      "\u001b[0;31mOverflowError\u001b[0m: value too large to convert to int"
     ]
    },
    {
     "name": "stderr",
     "output_type": "stream",
     "text": [
      "Exception ignored in: 'fastparquet.cencoding.write_thrift'\n",
      "Traceback (most recent call last):\n",
      "  File \"/home/lukawc/.local/lib/python3.9/site-packages/fastparquet/writer.py\", line 894, in write_simple\n",
      "    foot_size = f.write(fmd.to_bytes())\n",
      "OverflowError: value too large to convert to int\n"
     ]
    },
    {
     "ename": "OverflowError",
     "evalue": "value too large to convert to int",
     "output_type": "error",
     "traceback": [
      "\u001b[0;31m---------------------------------------------------------------------------\u001b[0m",
      "\u001b[0;31mOverflowError\u001b[0m                             Traceback (most recent call last)",
      "\u001b[0;31mOverflowError\u001b[0m: value too large to convert to int"
     ]
    },
    {
     "name": "stderr",
     "output_type": "stream",
     "text": [
      "Exception ignored in: 'fastparquet.cencoding.write_thrift'\n",
      "Traceback (most recent call last):\n",
      "  File \"/home/lukawc/.local/lib/python3.9/site-packages/fastparquet/writer.py\", line 894, in write_simple\n",
      "    foot_size = f.write(fmd.to_bytes())\n",
      "OverflowError: value too large to convert to int\n"
     ]
    },
    {
     "ename": "OverflowError",
     "evalue": "value too large to convert to int",
     "output_type": "error",
     "traceback": [
      "\u001b[0;31m---------------------------------------------------------------------------\u001b[0m",
      "\u001b[0;31mOverflowError\u001b[0m                             Traceback (most recent call last)",
      "\u001b[0;31mOverflowError\u001b[0m: value too large to convert to int"
     ]
    },
    {
     "name": "stderr",
     "output_type": "stream",
     "text": [
      "Exception ignored in: 'fastparquet.cencoding.write_thrift'\n",
      "Traceback (most recent call last):\n",
      "  File \"/home/lukawc/.local/lib/python3.9/site-packages/fastparquet/writer.py\", line 894, in write_simple\n",
      "    foot_size = f.write(fmd.to_bytes())\n",
      "OverflowError: value too large to convert to int\n"
     ]
    },
    {
     "ename": "OverflowError",
     "evalue": "value too large to convert to int",
     "output_type": "error",
     "traceback": [
      "\u001b[0;31m---------------------------------------------------------------------------\u001b[0m",
      "\u001b[0;31mOverflowError\u001b[0m                             Traceback (most recent call last)",
      "\u001b[0;31mOverflowError\u001b[0m: value too large to convert to int"
     ]
    },
    {
     "name": "stderr",
     "output_type": "stream",
     "text": [
      "Exception ignored in: 'fastparquet.cencoding.write_thrift'\n",
      "Traceback (most recent call last):\n",
      "  File \"/home/lukawc/.local/lib/python3.9/site-packages/fastparquet/writer.py\", line 894, in write_simple\n",
      "    foot_size = f.write(fmd.to_bytes())\n",
      "OverflowError: value too large to convert to int\n"
     ]
    },
    {
     "ename": "OverflowError",
     "evalue": "value too large to convert to int",
     "output_type": "error",
     "traceback": [
      "\u001b[0;31m---------------------------------------------------------------------------\u001b[0m",
      "\u001b[0;31mOverflowError\u001b[0m                             Traceback (most recent call last)",
      "\u001b[0;31mOverflowError\u001b[0m: value too large to convert to int"
     ]
    },
    {
     "name": "stderr",
     "output_type": "stream",
     "text": [
      "Exception ignored in: 'fastparquet.cencoding.write_thrift'\n",
      "Traceback (most recent call last):\n",
      "  File \"/home/lukawc/.local/lib/python3.9/site-packages/fastparquet/writer.py\", line 894, in write_simple\n",
      "    foot_size = f.write(fmd.to_bytes())\n",
      "OverflowError: value too large to convert to int\n"
     ]
    },
    {
     "ename": "OverflowError",
     "evalue": "value too large to convert to int",
     "output_type": "error",
     "traceback": [
      "\u001b[0;31m---------------------------------------------------------------------------\u001b[0m",
      "\u001b[0;31mOverflowError\u001b[0m                             Traceback (most recent call last)",
      "\u001b[0;31mOverflowError\u001b[0m: value too large to convert to int"
     ]
    },
    {
     "name": "stderr",
     "output_type": "stream",
     "text": [
      "Exception ignored in: 'fastparquet.cencoding.write_thrift'\n",
      "Traceback (most recent call last):\n",
      "  File \"/home/lukawc/.local/lib/python3.9/site-packages/fastparquet/writer.py\", line 894, in write_simple\n",
      "    foot_size = f.write(fmd.to_bytes())\n",
      "OverflowError: value too large to convert to int\n"
     ]
    },
    {
     "ename": "OverflowError",
     "evalue": "value too large to convert to int",
     "output_type": "error",
     "traceback": [
      "\u001b[0;31m---------------------------------------------------------------------------\u001b[0m",
      "\u001b[0;31mOverflowError\u001b[0m                             Traceback (most recent call last)",
      "\u001b[0;31mOverflowError\u001b[0m: value too large to convert to int"
     ]
    },
    {
     "name": "stderr",
     "output_type": "stream",
     "text": [
      "Exception ignored in: 'fastparquet.cencoding.write_thrift'\n",
      "Traceback (most recent call last):\n",
      "  File \"/home/lukawc/.local/lib/python3.9/site-packages/fastparquet/writer.py\", line 894, in write_simple\n",
      "    foot_size = f.write(fmd.to_bytes())\n",
      "OverflowError: value too large to convert to int\n"
     ]
    },
    {
     "ename": "OverflowError",
     "evalue": "value too large to convert to int",
     "output_type": "error",
     "traceback": [
      "\u001b[0;31m---------------------------------------------------------------------------\u001b[0m",
      "\u001b[0;31mOverflowError\u001b[0m                             Traceback (most recent call last)",
      "\u001b[0;31mOverflowError\u001b[0m: value too large to convert to int"
     ]
    },
    {
     "name": "stderr",
     "output_type": "stream",
     "text": [
      "Exception ignored in: 'fastparquet.cencoding.write_thrift'\n",
      "Traceback (most recent call last):\n",
      "  File \"/home/lukawc/.local/lib/python3.9/site-packages/fastparquet/writer.py\", line 894, in write_simple\n",
      "    foot_size = f.write(fmd.to_bytes())\n",
      "OverflowError: value too large to convert to int\n"
     ]
    },
    {
     "ename": "OverflowError",
     "evalue": "value too large to convert to int",
     "output_type": "error",
     "traceback": [
      "\u001b[0;31m---------------------------------------------------------------------------\u001b[0m",
      "\u001b[0;31mOverflowError\u001b[0m                             Traceback (most recent call last)",
      "\u001b[0;31mOverflowError\u001b[0m: value too large to convert to int"
     ]
    },
    {
     "name": "stderr",
     "output_type": "stream",
     "text": [
      "Exception ignored in: 'fastparquet.cencoding.write_thrift'\n",
      "Traceback (most recent call last):\n",
      "  File \"/home/lukawc/.local/lib/python3.9/site-packages/fastparquet/writer.py\", line 894, in write_simple\n",
      "    foot_size = f.write(fmd.to_bytes())\n",
      "OverflowError: value too large to convert to int\n"
     ]
    }
   ],
   "source": [
    "import time\n",
    "\n",
    "unique_name = int(time.time())\n",
    "embeddings.to_parquet(f\"../data/image_embeddings_{unique_name}.parquet\")"
   ]
  },
  {
   "cell_type": "code",
   "execution_count": 7,
   "metadata": {},
   "outputs": [
    {
     "name": "stdout",
     "output_type": "stream",
     "text": [
      "2022-05-04 11:08:27.641212\n"
     ]
    }
   ],
   "source": [
    "print(datetime.datetime.now())"
   ]
  }
 ],
 "metadata": {
  "hide_input": false,
  "kernelspec": {
   "display_name": "Python 3 (ipykernel)",
   "language": "python",
   "name": "python3"
  },
  "language_info": {
   "codemirror_mode": {
    "name": "ipython",
    "version": 3
   },
   "file_extension": ".py",
   "mimetype": "text/x-python",
   "name": "python",
   "nbconvert_exporter": "python",
   "pygments_lexer": "ipython3",
   "version": "3.9.5"
  }
 },
 "nbformat": 4,
 "nbformat_minor": 4
}
